{
 "cells": [
  {
   "metadata": {},
   "cell_type": "markdown",
   "source": "# IMPORT",
   "id": "3aa5ae233927d680"
  },
  {
   "metadata": {
    "ExecuteTime": {
     "end_time": "2025-02-26T07:17:37.067929Z",
     "start_time": "2025-02-26T07:17:33.442968Z"
    }
   },
   "cell_type": "code",
   "source": [
    "from __future__ import annotations\n",
    "from bqskit import Circuit, compile\n",
    "from bqskit.compiler.machine import MachineModel\n",
    "from bqskit.ir.gates import RXXGate, RXGate, RZGate,RYGate,RZZGate,HGate,CNOTGate\n",
    "from Custom_gate_decomposition.BQSkit_custom_gate_definitions import VirtualZGate, GPIGate, GPI2Gate,PartialMSGate,FullMSGate\n",
    "from Custom_gate_decomposition.QASM2_reader import load_qasm\n",
    "from bqskit.ext import bqskit_to_qiskit"
   ],
   "id": "5239e8e15a8ef487",
   "outputs": [
    {
     "name": "stdout",
     "output_type": "stream",
     "text": [
      "     ┌──────────────┐┌──────────────┐┌──────────────┐»\n",
      "q_0: ┤ Gpi(0.19784) ├┤ Gpi2(2.8957) ├┤ Gpi2(0.2048) ├»\n",
      "     ├─────────────┬┘├─────────────┬┘├──────────────┤»\n",
      "q_1: ┤ Gpi(5.4765) ├─┤ Gpi2(4.453) ├─┤ Gpi2(1.4682) ├»\n",
      "     ├─────────────┴┐├─────────────┴┐├──────────────┤»\n",
      "q_2: ┤ Gpi2(3.7082) ├┤ Gpi2(4.1878) ├┤ Gpi2(3.4793) ├»\n",
      "     └──────────────┘└──────────────┘└──────────────┘»\n",
      "«     ┌──────────────────────────────────┐┌───────────────┐┌──────────────┐»\n",
      "«q_0: ┤0                                 ├┤ Gpi(-0.45255) ├┤ Gpi2(6.8901) ├»\n",
      "«     │  Partialms(1.4548,1.2182,4.1592) │└┬──────────────┤├──────────────┤»\n",
      "«q_1: ┤1                                 ├─┤ Gpi2(3.1789) ├┤ Gpi2(3.2469) ├»\n",
      "«     └──────────────────────────────────┘ └──────────────┘└──────────────┘»\n",
      "«q_2: ─────────────────────────────────────────────────────────────────────»\n",
      "«                                                                          »\n",
      "«     ┌────────────────┐                                                     »\n",
      "«q_0: ┤ Gpi2(-0.16902) ├─────────────────────────────────────────────────────»\n",
      "«     └┬─────────────┬─┘┌───────────────────────────────────┐┌─────────────┐ »\n",
      "«q_1: ─┤ Gpi2(5.958) ├──┤0                                  ├┤ Gpi(3.4072) ├─»\n",
      "«      └─────────────┘  │  Partialms(3.4485,3.4845,0.34152) │├─────────────┴┐»\n",
      "«q_2: ──────────────────┤1                                  ├┤ Gpi2(4.4684) ├»\n",
      "«                       └───────────────────────────────────┘└──────────────┘»\n",
      "«                                     ┌────────────────────────────────┐»\n",
      "«q_0: ────────────────────────────────┤0                               ├»\n",
      "«      ┌────────────┐                 │                                │»\n",
      "«q_1: ─┤ Gpi(2.433) ├─────────────────┤  Partialms(4.581,4.4113,3.684) ├»\n",
      "«     ┌┴────────────┴┐┌──────────────┐│                                │»\n",
      "«q_2: ┤ Gpi2(1.3271) ├┤ Gpi2(2.3016) ├┤1                               ├»\n",
      "«     └──────────────┘└──────────────┘└────────────────────────────────┘»\n",
      "«     ┌──────────────┐\n",
      "«q_0: ┤ Gpi(-3.8345) ├\n",
      "«     └──────────────┘\n",
      "«q_1: ────────────────\n",
      "«     ┌──────────────┐\n",
      "«q_2: ┤ Gpi(-1.9194) ├\n",
      "«     └──────────────┘\n"
     ]
    }
   ],
   "execution_count": 1
  },
  {
   "metadata": {
    "jupyter": {
     "is_executing": true
    },
    "ExecuteTime": {
     "start_time": "2025-02-26T07:23:54.058977Z"
    }
   },
   "cell_type": "code",
   "source": [
    "# Step 1: Define the MS-Gate Machine Model\n",
    "IONQ_gate_set={PartialMSGate(),GPIGate(),GPI2Gate()}\n",
    "def transpile_to_ms(circuit: Circuit) -> Circuit:\n",
    "    \"\"\"Transpile the given circuit to use only MS gates.\"\"\"\n",
    "    model = MachineModel(circuit.num_qudits, gate_set=IONQ_gate_set)\n",
    "    compiled_circuit = compile(circuit, model, optimization_level=3)\n",
    "    return compiled_circuit\n",
    "\n",
    "# Step 2: Create a simple quantum circuit\n",
    "qc = Circuit(3)\n",
    "qc.append_gate(HGate(), [0])\n",
    "qc.append_gate(RZZGate(), [0, 1],params=[1])\n",
    "qc.append_gate(RYGate(), [1],params=[3])\n",
    "qc.append_gate(RXXGate(), [1,2],params=[2.14584545])\n",
    "qc.append_gate(RZZGate(), [0,2],params=[1.1561])\n",
    "qc.append_gate(RXGate(), [1],params=[1.1561])\n",
    "qc_qiskit = bqskit_to_qiskit(qc)\n",
    "\n",
    "# Step 3: Transpile the circuit to MS gates\n",
    "ms_circuit = transpile_to_ms(qc)"
   ],
   "id": "9e396da876811bda",
   "outputs": [],
   "execution_count": null
  },
  {
   "metadata": {
    "jupyter": {
     "is_executing": true
    }
   },
   "cell_type": "code",
   "source": [
    "#SAVE QASM\n",
    "ms_circuit.save(\"circuit.qasm\")\n",
    "print(qc_qiskit.draw(output='text'))"
   ],
   "id": "c982255169fce72a",
   "outputs": [],
   "execution_count": null
  },
  {
   "metadata": {
    "jupyter": {
     "is_executing": true
    }
   },
   "cell_type": "code",
   "source": [
    "# Step 4: Transform to qiskit and print\n",
    "qiskit_circuit = load_qasm(\"circuit.qasm\")\n",
    "print(qiskit_circuit.draw(output='text'))"
   ],
   "id": "bfcbc85ccfef032",
   "outputs": [],
   "execution_count": null
  },
  {
   "metadata": {},
   "cell_type": "code",
   "source": "",
   "id": "8e7d81f84538c659",
   "outputs": [],
   "execution_count": null
  },
  {
   "metadata": {
    "ExecuteTime": {
     "end_time": "2025-02-25T10:34:35.755988Z",
     "start_time": "2025-02-25T10:34:35.752821Z"
    }
   },
   "cell_type": "code",
   "source": "",
   "id": "f673b1a67d6c5d99",
   "outputs": [],
   "execution_count": 7
  },
  {
   "metadata": {},
   "cell_type": "code",
   "outputs": [],
   "execution_count": null,
   "source": "",
   "id": "e640b73138e92bf7"
  },
  {
   "metadata": {},
   "cell_type": "code",
   "outputs": [],
   "execution_count": null,
   "source": "",
   "id": "e1a838f127d1e8bc"
  }
 ],
 "metadata": {
  "kernelspec": {
   "display_name": "Python 3",
   "language": "python",
   "name": "python3"
  },
  "language_info": {
   "codemirror_mode": {
    "name": "ipython",
    "version": 2
   },
   "file_extension": ".py",
   "mimetype": "text/x-python",
   "name": "python",
   "nbconvert_exporter": "python",
   "pygments_lexer": "ipython2",
   "version": "2.7.6"
  }
 },
 "nbformat": 4,
 "nbformat_minor": 5
}

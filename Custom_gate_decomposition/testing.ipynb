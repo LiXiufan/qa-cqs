{
 "cells": [
  {
   "metadata": {},
   "cell_type": "markdown",
   "source": "# IMPORT",
   "id": "3aa5ae233927d680"
  },
  {
   "metadata": {
    "ExecuteTime": {
     "end_time": "2025-02-26T09:58:27.754603Z",
     "start_time": "2025-02-26T09:58:21.261457Z"
    }
   },
   "cell_type": "code",
   "source": [
    "from __future__ import annotations\n",
    "from bqskit import Circuit, compile\n",
    "from bqskit.compiler.machine import MachineModel\n",
    "from bqskit.ir.gates import RXXGate, RXGate, RZGate,RYGate,RZZGate,HGate,CNOTGate\n",
    "from Custom_gate_decomposition.BQSkit_custom_gate_definitions import VirtualZGate, GPIGate, GPI2Gate,PartialMSGate,FullMSGate\n",
    "from Custom_gate_decomposition.QASM2_reader import load_qasm\n",
    "from bqskit.ext import bqskit_to_qiskit\n",
    "from qiskit_aer import AerSimulator\n",
    "from qiskit_aer.noise import NoiseModel, depolarizing_error\n",
    "from qiskit import transpile\n",
    "from qiskit.transpiler import Target, InstructionProperties\n",
    "import pennylane as qml"
   ],
   "id": "5239e8e15a8ef487",
   "outputs": [
    {
     "name": "stdout",
     "output_type": "stream",
     "text": [
      "     ┌────────────────────────┐┌─────────┐┌──────────────────────────────────┐»\n",
      "q_0: ┤0                       ├┤ Gpi2(1) ├┤0                                 ├»\n",
      "     │  Partialms(5,6,2.8047) │├─────────┤│  Partialms(3.8334,4.027,0.21048) │»\n",
      "q_1: ┤1                       ├┤ Gpi2(5) ├┤1                                 ├»\n",
      "     └────────────────────────┘└─────────┘└──────────────────────────────────┘»\n",
      "«      ┌──────────────┐ ┌──────────────┐  ┌─────────┐  \n",
      "«q_0: ─┤ Gpi2(3.3237) ├─┤ Gpi2(5.3237) ├──┤ Gpi2(4) ├──\n",
      "«     ┌┴──────────────┤┌┴──────────────┤┌─┴─────────┴─┐\n",
      "«q_1: ┤ Gpi2(0.34723) ├┤ Gpi2(0.15752) ├┤ Gpi2(3.435) ├\n",
      "«     └───────────────┘└───────────────┘└─────────────┘\n"
     ]
    }
   ],
   "execution_count": 1
  },
  {
   "metadata": {
    "ExecuteTime": {
     "end_time": "2025-02-26T09:05:51.193874Z",
     "start_time": "2025-02-26T09:05:04.960774Z"
    }
   },
   "cell_type": "code",
   "source": [
    "# Step 1: Define the MS-Gate Machine Model\n",
    "IONQ_gate_set={PartialMSGate(),GPIGate(),GPI2Gate()}\n",
    "def transpile_to_ms(circuit: Circuit) -> Circuit:\n",
    "    \"\"\"Transpile the given circuit to use only MS gates.\"\"\"\n",
    "    model = MachineModel(circuit.num_qudits, gate_set=IONQ_gate_set)\n",
    "    compiled_circuit = compile(circuit, model, optimization_level=3)\n",
    "    return compiled_circuit\n",
    "\n",
    "# Step 2: Create a simple quantum circuit\n",
    "qc = Circuit(2)\n",
    "qc.append_gate(HGate(), [0])\n",
    "qc.append_gate(RZZGate(), [0, 1],params=[1])\n",
    "qc.append_gate(RYGate(), [1],params=[3])\n",
    "qc.append_gate(RXXGate(), [0,1],params=[2.14584545])\n",
    "qc.append_gate(RZZGate(), [1,0],params=[1.1561])\n",
    "qc.append_gate(RXGate(), [1],params=[1.1561])\n",
    "qc_qiskit = bqskit_to_qiskit(qc)\n",
    "\n",
    "# Step 3: Transpile the circuit to MS gates\n",
    "ms_circuit = transpile_to_ms(qc)"
   ],
   "id": "9e396da876811bda",
   "outputs": [],
   "execution_count": 2
  },
  {
   "metadata": {
    "ExecuteTime": {
     "end_time": "2025-02-26T09:26:38.695610Z",
     "start_time": "2025-02-26T09:26:38.651607Z"
    }
   },
   "cell_type": "code",
   "source": [
    "#SAVE QASM\n",
    "ms_circuit.save(\"circuit.qasm\")\n",
    "print(qc_qiskit.draw(output='text'))"
   ],
   "id": "c982255169fce72a",
   "outputs": [
    {
     "ename": "NameError",
     "evalue": "name 'ms_circuit' is not defined",
     "output_type": "error",
     "traceback": [
      "\u001B[1;31m---------------------------------------------------------------------------\u001B[0m",
      "\u001B[1;31mNameError\u001B[0m                                 Traceback (most recent call last)",
      "Cell \u001B[1;32mIn[9], line 2\u001B[0m\n\u001B[0;32m      1\u001B[0m \u001B[38;5;66;03m#SAVE QASM\u001B[39;00m\n\u001B[1;32m----> 2\u001B[0m \u001B[43mms_circuit\u001B[49m\u001B[38;5;241m.\u001B[39msave(\u001B[38;5;124m\"\u001B[39m\u001B[38;5;124mcircuit.qasm\u001B[39m\u001B[38;5;124m\"\u001B[39m)\n\u001B[0;32m      3\u001B[0m \u001B[38;5;28mprint\u001B[39m(qc_qiskit\u001B[38;5;241m.\u001B[39mdraw(output\u001B[38;5;241m=\u001B[39m\u001B[38;5;124m'\u001B[39m\u001B[38;5;124mtext\u001B[39m\u001B[38;5;124m'\u001B[39m))\n",
      "\u001B[1;31mNameError\u001B[0m: name 'ms_circuit' is not defined"
     ]
    }
   ],
   "execution_count": 9
  },
  {
   "metadata": {
    "ExecuteTime": {
     "end_time": "2025-02-26T09:58:31.486109Z",
     "start_time": "2025-02-26T09:58:31.468529Z"
    }
   },
   "cell_type": "code",
   "source": [
    "# Step 4: Transform to qiskit and print\n",
    "qiskit_circuit = load_qasm(\"circuit.qasm\")\n",
    "print(qiskit_circuit.draw(output='text'))\n"
   ],
   "id": "bfcbc85ccfef032",
   "outputs": [
    {
     "name": "stdout",
     "output_type": "stream",
     "text": [
      "     ┌────────────────────────┐┌─────────┐┌──────────────────────────────────┐»\n",
      "q_0: ┤0                       ├┤ Gpi2(1) ├┤0                                 ├»\n",
      "     │  Partialms(5,6,2.8047) │├─────────┤│  Partialms(3.8334,4.027,0.21048) │»\n",
      "q_1: ┤1                       ├┤ Gpi2(5) ├┤1                                 ├»\n",
      "     └────────────────────────┘└─────────┘└──────────────────────────────────┘»\n",
      "«      ┌──────────────┐ ┌──────────────┐  ┌─────────┐  \n",
      "«q_0: ─┤ Gpi2(3.3237) ├─┤ Gpi2(5.3237) ├──┤ Gpi2(4) ├──\n",
      "«     ┌┴──────────────┤┌┴──────────────┤┌─┴─────────┴─┐\n",
      "«q_1: ┤ Gpi2(0.34723) ├┤ Gpi2(0.15752) ├┤ Gpi2(3.435) ├\n",
      "«     └───────────────┘└───────────────┘└─────────────┘\n"
     ]
    }
   ],
   "execution_count": 2
  },
  {
   "metadata": {},
   "cell_type": "markdown",
   "source": "",
   "id": "1937f539446cabc7"
  },
  {
   "metadata": {},
   "cell_type": "markdown",
   "source": "# NOISE",
   "id": "35594a34321503b"
  },
  {
   "metadata": {
    "ExecuteTime": {
     "end_time": "2025-02-26T09:59:07.458662Z",
     "start_time": "2025-02-26T09:59:07.454889Z"
    }
   },
   "cell_type": "code",
   "source": [
    "# Convert Qiskit circuit to PennyLane\n",
    "qml_circuit = qml.from_qiskit(qiskit_circuit)"
   ],
   "id": "3a199d60fcd966bd",
   "outputs": [],
   "execution_count": 4
  },
  {
   "metadata": {
    "ExecuteTime": {
     "end_time": "2025-02-26T10:01:14.635020Z",
     "start_time": "2025-02-26T10:01:14.623173Z"
    }
   },
   "cell_type": "code",
   "source": "qml.draw(qml_circuit)()",
   "id": "ec026fb11c967378",
   "outputs": [
    {
     "data": {
      "text/plain": [
       "'0: ─╭U(M0)──U(M1)─╭U(M2)──U(M3)──U(M3)──U(M1)─┤  \\n1: ─╰U(M0)──U(M1)─╰U(M2)──U(M4)──U(M5)──U(M6)─┤  \\nM0 = \\n[[-8.17616727e-01+0.j          0.00000000e+00+0.j\\n   0.00000000e+00+0.j          8.86203872e-08-0.57576287j]\\n [ 0.00000000e+00+0.j         -8.17616727e-01+0.j\\n  -2.26748015e-08-0.57576287j  0.00000000e+00+0.j        ]\\n [ 0.00000000e+00+0.j          2.26748015e-08-0.57576287j\\n  -8.17616727e-01+0.j          0.00000000e+00+0.j        ]\\n [-8.86203872e-08-0.57576287j  0.00000000e+00+0.j\\n   0.00000000e+00+0.j         -8.17616727e-01+0.j        ]]\\nM1 = \\n[[ 7.07106781e-01+0.j          2.88388704e-07-0.70710678j]\\n [-2.88388704e-07-0.70710678j  7.07106781e-01+0.j        ]]\\nM2 = \\n[[ 0.78923352+0.j          0.        +0.j          0.        +0.j\\n   0.47214881-0.39266519j]\\n [ 0.        +0.j          0.78923352+0.j          0.57587337-0.21326111j\\n   0.        +0.j        ]\\n [ 0.        +0.j         -0.57587337-0.21326111j  0.78923352+0.j\\n   0.        +0.j        ]\\n [-0.47214881-0.39266519j  0.        +0.j          0.        +0.j\\n   0.78923352+0.j        ]]\\nM3 = \\n[[ 0.70710678+0.j         -0.6326339 +0.31587077j]\\n [ 0.6326339 +0.31587077j  0.70710678+0.j        ]]\\nM4 = \\n[[ 0.70710678+0.j         -0.57921628+0.40559647j]\\n [ 0.57921628+0.40559647j  0.70710678+0.j        ]]\\nM5 = \\n[[ 0.70710678+0.j        -0.59104732-0.3881534j]\\n [ 0.59104732-0.3881534j  0.70710678+0.j       ]]\\nM6 = \\n[[ 0.70710678+0.j         -0.28063629+0.64903257j]\\n [ 0.28063629+0.64903257j  0.70710678+0.j        ]]'"
      ]
     },
     "execution_count": 13,
     "metadata": {},
     "output_type": "execute_result"
    }
   ],
   "execution_count": 13
  },
  {
   "metadata": {},
   "cell_type": "code",
   "outputs": [],
   "execution_count": null,
   "source": "",
   "id": "e631e0d5ea48d07b"
  },
  {
   "metadata": {},
   "cell_type": "code",
   "outputs": [],
   "execution_count": null,
   "source": "",
   "id": "c4c353e83d4196c8"
  },
  {
   "metadata": {},
   "cell_type": "code",
   "outputs": [],
   "execution_count": null,
   "source": "",
   "id": "79605dcd13ccad3a"
  },
  {
   "metadata": {},
   "cell_type": "code",
   "outputs": [],
   "execution_count": null,
   "source": "",
   "id": "4557ab59a9f6f3d3"
  },
  {
   "metadata": {
    "ExecuteTime": {
     "end_time": "2025-02-26T09:48:21.813633Z",
     "start_time": "2025-02-26T09:48:21.731194Z"
    }
   },
   "cell_type": "code",
   "source": [
    "\n",
    "\n",
    "# Создаем шумовую модель\n",
    "noise_model = NoiseModel()\n",
    "\n",
    "# 3% деполяризационная ошибка для PartialMS\n",
    "partialMS_noise = depolarizing_error(1, 2)\n",
    "\n",
    "# Добавляем базовые гейты (ВАЖНО: unitary fallback)\n",
    "noise_model.add_basis_gates([\"unitary\"])\n",
    "noise_model.add_all_qubit_quantum_error(partialMS_noise, [\"partialMS\"])\n",
    "\n",
    "# Создаем Target с явным указанием кубитов\n",
    "target = Target(num_qubits=2)\n",
    "\n",
    "# Добавляем 1-кубитные гейты\n",
    "target.add_instruction(GPIGate(0), {(0,): InstructionProperties(duration=1.0), (1,): InstructionProperties(duration=1.0)})\n",
    "target.add_instruction(GPI2Gate(0), {(0,): InstructionProperties(duration=1.0), (1,): InstructionProperties(duration=1.0)})\n",
    "target.add_instruction(VirtualZGate(0), {(0,): InstructionProperties(duration=0.5), (1,): InstructionProperties(duration=0.5)})\n",
    "\n",
    "# Добавляем 2-кубитные гейты\n",
    "target.add_instruction(PartialMSGate(0, 0, 0), {(0, 1): InstructionProperties(duration=2.0)})\n",
    "target.add_instruction(FullMSGate(0, 0), {(0, 1): InstructionProperties(duration=2.0)})\n",
    "\n",
    "# Создаем симулятор с кастомными гейтами и unitary fallback\n",
    "simulator = AerSimulator(\n",
    "    noise_model=noise_model,\n",
    "    target=target,\n",
    "    basis_gates=[\"unitary\", \"partialMS\", \"gpi\", \"gpi2\"],  # Добавляем unitary\n",
    "    custom_unitary={PartialMSGate()}  # Включаем поддержку произвольных унитарных операций\n",
    ")\n",
    "\n",
    "# Транспиляция схемы\n",
    "tqc = transpile(qiskit_circuit, simulator, basis_gates=[\"unitary\", \"partialMS\", \"gpi\", \"gpi2\"])\n",
    "\n",
    "print(tqc.draw(output='text'))\n",
    "\n",
    "# Запуск симуляции\n",
    "result = simulator.run(tqc).result()\n",
    "\n",
    "# Вывод результатов\n",
    "print(result.get_counts())\n"
   ],
   "id": "6de1542251ac50bb",
   "outputs": [
    {
     "ename": "AerError",
     "evalue": "'Invalid option custom_unitary'",
     "output_type": "error",
     "traceback": [
      "\u001B[1;31m---------------------------------------------------------------------------\u001B[0m",
      "\u001B[1;31mAerError\u001B[0m                                  Traceback (most recent call last)",
      "Cell \u001B[1;32mIn[37], line 24\u001B[0m\n\u001B[0;32m     21\u001B[0m target\u001B[38;5;241m.\u001B[39madd_instruction(FullMSGate(\u001B[38;5;241m0\u001B[39m, \u001B[38;5;241m0\u001B[39m), {(\u001B[38;5;241m0\u001B[39m, \u001B[38;5;241m1\u001B[39m): InstructionProperties(duration\u001B[38;5;241m=\u001B[39m\u001B[38;5;241m2.0\u001B[39m)})\n\u001B[0;32m     23\u001B[0m \u001B[38;5;66;03m# Создаем симулятор с кастомными гейтами и unitary fallback\u001B[39;00m\n\u001B[1;32m---> 24\u001B[0m simulator \u001B[38;5;241m=\u001B[39m \u001B[43mAerSimulator\u001B[49m\u001B[43m(\u001B[49m\n\u001B[0;32m     25\u001B[0m \u001B[43m    \u001B[49m\u001B[43mnoise_model\u001B[49m\u001B[38;5;241;43m=\u001B[39;49m\u001B[43mnoise_model\u001B[49m\u001B[43m,\u001B[49m\n\u001B[0;32m     26\u001B[0m \u001B[43m    \u001B[49m\u001B[43mtarget\u001B[49m\u001B[38;5;241;43m=\u001B[39;49m\u001B[43mtarget\u001B[49m\u001B[43m,\u001B[49m\n\u001B[0;32m     27\u001B[0m \u001B[43m    \u001B[49m\u001B[43mbasis_gates\u001B[49m\u001B[38;5;241;43m=\u001B[39;49m\u001B[43m[\u001B[49m\u001B[38;5;124;43m\"\u001B[39;49m\u001B[38;5;124;43munitary\u001B[39;49m\u001B[38;5;124;43m\"\u001B[39;49m\u001B[43m,\u001B[49m\u001B[43m \u001B[49m\u001B[38;5;124;43m\"\u001B[39;49m\u001B[38;5;124;43mpartialMS\u001B[39;49m\u001B[38;5;124;43m\"\u001B[39;49m\u001B[43m,\u001B[49m\u001B[43m \u001B[49m\u001B[38;5;124;43m\"\u001B[39;49m\u001B[38;5;124;43mgpi\u001B[39;49m\u001B[38;5;124;43m\"\u001B[39;49m\u001B[43m,\u001B[49m\u001B[43m \u001B[49m\u001B[38;5;124;43m\"\u001B[39;49m\u001B[38;5;124;43mgpi2\u001B[39;49m\u001B[38;5;124;43m\"\u001B[39;49m\u001B[43m]\u001B[49m\u001B[43m,\u001B[49m\u001B[43m  \u001B[49m\u001B[38;5;66;43;03m# Добавляем unitary\u001B[39;49;00m\n\u001B[0;32m     28\u001B[0m \u001B[43m    \u001B[49m\u001B[43mcustom_unitary\u001B[49m\u001B[38;5;241;43m=\u001B[39;49m\u001B[43m{\u001B[49m\u001B[43mPartialMSGate\u001B[49m\u001B[43m(\u001B[49m\u001B[43m)\u001B[49m\u001B[43m}\u001B[49m\u001B[43m  \u001B[49m\u001B[38;5;66;43;03m# Включаем поддержку произвольных унитарных операций\u001B[39;49;00m\n\u001B[0;32m     29\u001B[0m \u001B[43m)\u001B[49m\n\u001B[0;32m     31\u001B[0m \u001B[38;5;66;03m# Транспиляция схемы\u001B[39;00m\n\u001B[0;32m     32\u001B[0m tqc \u001B[38;5;241m=\u001B[39m transpile(qiskit_circuit, simulator, basis_gates\u001B[38;5;241m=\u001B[39m[\u001B[38;5;124m\"\u001B[39m\u001B[38;5;124munitary\u001B[39m\u001B[38;5;124m\"\u001B[39m, \u001B[38;5;124m\"\u001B[39m\u001B[38;5;124mpartialMS\u001B[39m\u001B[38;5;124m\"\u001B[39m, \u001B[38;5;124m\"\u001B[39m\u001B[38;5;124mgpi\u001B[39m\u001B[38;5;124m\"\u001B[39m, \u001B[38;5;124m\"\u001B[39m\u001B[38;5;124mgpi2\u001B[39m\u001B[38;5;124m\"\u001B[39m])\n",
      "File \u001B[1;32m~\\AppData\\Local\\pypoetry\\Cache\\virtualenvs\\CQS_singapore\\Lib\\site-packages\\qiskit_aer\\backends\\aer_simulator.py:750\u001B[0m, in \u001B[0;36mAerSimulator.__init__\u001B[1;34m(self, configuration, properties, provider, target, **backend_options)\u001B[0m\n\u001B[0;32m    746\u001B[0m \u001B[38;5;66;03m# Cache basis gates since computing the intersection\u001B[39;00m\n\u001B[0;32m    747\u001B[0m \u001B[38;5;66;03m# of noise model, method, and config gates is expensive.\u001B[39;00m\n\u001B[0;32m    748\u001B[0m \u001B[38;5;28mself\u001B[39m\u001B[38;5;241m.\u001B[39m_cached_basis_gates \u001B[38;5;241m=\u001B[39m \u001B[38;5;28mself\u001B[39m\u001B[38;5;241m.\u001B[39m_BASIS_GATES[\u001B[38;5;124m\"\u001B[39m\u001B[38;5;124mautomatic\u001B[39m\u001B[38;5;124m\"\u001B[39m]\n\u001B[1;32m--> 750\u001B[0m \u001B[38;5;28;43msuper\u001B[39;49m\u001B[43m(\u001B[49m\u001B[43m)\u001B[49m\u001B[38;5;241;43m.\u001B[39;49m\u001B[38;5;21;43m__init__\u001B[39;49m\u001B[43m(\u001B[49m\n\u001B[0;32m    751\u001B[0m \u001B[43m    \u001B[49m\u001B[43mconfiguration\u001B[49m\u001B[43m,\u001B[49m\n\u001B[0;32m    752\u001B[0m \u001B[43m    \u001B[49m\u001B[43mproperties\u001B[49m\u001B[38;5;241;43m=\u001B[39;49m\u001B[43mproperties\u001B[49m\u001B[43m,\u001B[49m\n\u001B[0;32m    753\u001B[0m \u001B[43m    \u001B[49m\u001B[43mprovider\u001B[49m\u001B[38;5;241;43m=\u001B[39;49m\u001B[43mprovider\u001B[49m\u001B[43m,\u001B[49m\n\u001B[0;32m    754\u001B[0m \u001B[43m    \u001B[49m\u001B[43mtarget\u001B[49m\u001B[38;5;241;43m=\u001B[39;49m\u001B[43mtarget\u001B[49m\u001B[43m,\u001B[49m\n\u001B[0;32m    755\u001B[0m \u001B[43m    \u001B[49m\u001B[43mbackend_options\u001B[49m\u001B[38;5;241;43m=\u001B[39;49m\u001B[43mbackend_options\u001B[49m\u001B[43m,\u001B[49m\n\u001B[0;32m    756\u001B[0m \u001B[43m\u001B[49m\u001B[43m)\u001B[49m\n\u001B[0;32m    758\u001B[0m \u001B[38;5;28;01mif\u001B[39;00m \u001B[38;5;124m\"\u001B[39m\u001B[38;5;124mbasis_gates\u001B[39m\u001B[38;5;124m\"\u001B[39m \u001B[38;5;129;01min\u001B[39;00m backend_options\u001B[38;5;241m.\u001B[39mitems():\n\u001B[0;32m    759\u001B[0m     \u001B[38;5;28mself\u001B[39m\u001B[38;5;241m.\u001B[39m_check_basis_gates(backend_options[\u001B[38;5;124m\"\u001B[39m\u001B[38;5;124mbasis_gates\u001B[39m\u001B[38;5;124m\"\u001B[39m])\n",
      "File \u001B[1;32m~\\AppData\\Local\\pypoetry\\Cache\\virtualenvs\\CQS_singapore\\Lib\\site-packages\\qiskit_aer\\backends\\aerbackend.py:92\u001B[0m, in \u001B[0;36mAerBackend.__init__\u001B[1;34m(self, configuration, properties, provider, target, backend_options)\u001B[0m\n\u001B[0;32m     90\u001B[0m \u001B[38;5;66;03m# Set options from backend_options dictionary\u001B[39;00m\n\u001B[0;32m     91\u001B[0m \u001B[38;5;28;01mif\u001B[39;00m backend_options \u001B[38;5;129;01mis\u001B[39;00m \u001B[38;5;129;01mnot\u001B[39;00m \u001B[38;5;28;01mNone\u001B[39;00m:\n\u001B[1;32m---> 92\u001B[0m     \u001B[38;5;28;43mself\u001B[39;49m\u001B[38;5;241;43m.\u001B[39;49m\u001B[43mset_options\u001B[49m\u001B[43m(\u001B[49m\u001B[38;5;241;43m*\u001B[39;49m\u001B[38;5;241;43m*\u001B[39;49m\u001B[43mbackend_options\u001B[49m\u001B[43m)\u001B[49m\n\u001B[0;32m     94\u001B[0m \u001B[38;5;66;03m# build coupling map\u001B[39;00m\n\u001B[0;32m     95\u001B[0m \u001B[38;5;28;01mif\u001B[39;00m \u001B[38;5;28mself\u001B[39m\u001B[38;5;241m.\u001B[39mconfiguration()\u001B[38;5;241m.\u001B[39mcoupling_map \u001B[38;5;129;01mis\u001B[39;00m \u001B[38;5;129;01mnot\u001B[39;00m \u001B[38;5;28;01mNone\u001B[39;00m:\n",
      "File \u001B[1;32m~\\AppData\\Local\\pypoetry\\Cache\\virtualenvs\\CQS_singapore\\Lib\\site-packages\\qiskit_aer\\backends\\aerbackend.py:677\u001B[0m, in \u001B[0;36mAerBackend.set_options\u001B[1;34m(self, **fields)\u001B[0m\n\u001B[0;32m    675\u001B[0m \u001B[38;5;250m\u001B[39m\u001B[38;5;124;03m\"\"\"Set the simulator options\"\"\"\u001B[39;00m\n\u001B[0;32m    676\u001B[0m \u001B[38;5;28;01mfor\u001B[39;00m key, value \u001B[38;5;129;01min\u001B[39;00m fields\u001B[38;5;241m.\u001B[39mitems():\n\u001B[1;32m--> 677\u001B[0m     \u001B[38;5;28;43mself\u001B[39;49m\u001B[38;5;241;43m.\u001B[39;49m\u001B[43mset_option\u001B[49m\u001B[43m(\u001B[49m\u001B[43mkey\u001B[49m\u001B[43m,\u001B[49m\u001B[43m \u001B[49m\u001B[43mvalue\u001B[49m\u001B[43m)\u001B[49m\n",
      "File \u001B[1;32m~\\AppData\\Local\\pypoetry\\Cache\\virtualenvs\\CQS_singapore\\Lib\\site-packages\\qiskit_aer\\backends\\aer_simulator.py:945\u001B[0m, in \u001B[0;36mAerSimulator.set_option\u001B[1;34m(self, key, value)\u001B[0m\n\u001B[0;32m    942\u001B[0m \u001B[38;5;28;01mif\u001B[39;00m key \u001B[38;5;241m==\u001B[39m \u001B[38;5;124m\"\u001B[39m\u001B[38;5;124mbasis_gates\u001B[39m\u001B[38;5;124m\"\u001B[39m:\n\u001B[0;32m    943\u001B[0m     \u001B[38;5;28mself\u001B[39m\u001B[38;5;241m.\u001B[39m_check_basis_gates(value)\n\u001B[1;32m--> 945\u001B[0m \u001B[38;5;28;43msuper\u001B[39;49m\u001B[43m(\u001B[49m\u001B[43m)\u001B[49m\u001B[38;5;241;43m.\u001B[39;49m\u001B[43mset_option\u001B[49m\u001B[43m(\u001B[49m\u001B[43mkey\u001B[49m\u001B[43m,\u001B[49m\u001B[43m \u001B[49m\u001B[43mvalue\u001B[49m\u001B[43m)\u001B[49m\n\u001B[0;32m    946\u001B[0m \u001B[38;5;28;01mif\u001B[39;00m key \u001B[38;5;129;01min\u001B[39;00m [\u001B[38;5;124m\"\u001B[39m\u001B[38;5;124mmethod\u001B[39m\u001B[38;5;124m\"\u001B[39m, \u001B[38;5;124m\"\u001B[39m\u001B[38;5;124mnoise_model\u001B[39m\u001B[38;5;124m\"\u001B[39m, \u001B[38;5;124m\"\u001B[39m\u001B[38;5;124mbasis_gates\u001B[39m\u001B[38;5;124m\"\u001B[39m]:\n\u001B[0;32m    947\u001B[0m     \u001B[38;5;28mself\u001B[39m\u001B[38;5;241m.\u001B[39m_cached_basis_gates \u001B[38;5;241m=\u001B[39m \u001B[38;5;28mself\u001B[39m\u001B[38;5;241m.\u001B[39m_basis_gates()\n",
      "File \u001B[1;32m~\\AppData\\Local\\pypoetry\\Cache\\virtualenvs\\CQS_singapore\\Lib\\site-packages\\qiskit_aer\\backends\\aerbackend.py:664\u001B[0m, in \u001B[0;36mAerBackend.set_option\u001B[1;34m(self, key, value)\u001B[0m\n\u001B[0;32m    662\u001B[0m \u001B[38;5;28;01melse\u001B[39;00m:\n\u001B[0;32m    663\u001B[0m     \u001B[38;5;28;01mif\u001B[39;00m \u001B[38;5;129;01mnot\u001B[39;00m \u001B[38;5;28mhasattr\u001B[39m(\u001B[38;5;28mself\u001B[39m\u001B[38;5;241m.\u001B[39m_options, key):\n\u001B[1;32m--> 664\u001B[0m         \u001B[38;5;28;01mraise\u001B[39;00m AerError(\u001B[38;5;124mf\u001B[39m\u001B[38;5;124m\"\u001B[39m\u001B[38;5;124mInvalid option \u001B[39m\u001B[38;5;132;01m{\u001B[39;00mkey\u001B[38;5;132;01m}\u001B[39;00m\u001B[38;5;124m\"\u001B[39m)\n\u001B[0;32m    665\u001B[0m     \u001B[38;5;28;01mif\u001B[39;00m value \u001B[38;5;129;01mis\u001B[39;00m \u001B[38;5;129;01mnot\u001B[39;00m \u001B[38;5;28;01mNone\u001B[39;00m:\n\u001B[0;32m    666\u001B[0m         \u001B[38;5;66;03m# Only add an option if its value is not None\u001B[39;00m\n\u001B[0;32m    667\u001B[0m         \u001B[38;5;28msetattr\u001B[39m(\u001B[38;5;28mself\u001B[39m\u001B[38;5;241m.\u001B[39m_options, key, value)\n",
      "\u001B[1;31mAerError\u001B[0m: 'Invalid option custom_unitary'"
     ]
    }
   ],
   "execution_count": 37
  },
  {
   "metadata": {
    "ExecuteTime": {
     "end_time": "2025-02-26T09:58:50.131920Z",
     "start_time": "2025-02-26T09:58:50.126413Z"
    }
   },
   "cell_type": "code",
   "source": "",
   "id": "ddb338aa0b8db9f8",
   "outputs": [],
   "execution_count": 2
  },
  {
   "metadata": {
    "ExecuteTime": {
     "end_time": "2025-02-26T09:42:45.069251Z",
     "start_time": "2025-02-26T09:42:45.062783Z"
    }
   },
   "cell_type": "code",
   "source": [
    "\n",
    "\n",
    "\n",
    "\n",
    "# Проверяем, какие гейты зарегистрированы\n",
    "print(\"Registered instructions in target:\", list(target.keys()))\n"
   ],
   "id": "dfa8217d616a1750",
   "outputs": [
    {
     "name": "stdout",
     "output_type": "stream",
     "text": [
      "Registered instructions in target: ['GPIGate', 'GPI2Gate', 'VirtualZGate', 'PartialMSGate', 'FullMSGate']\n"
     ]
    }
   ],
   "execution_count": 29
  },
  {
   "metadata": {
    "ExecuteTime": {
     "end_time": "2025-02-26T09:58:56.980310Z",
     "start_time": "2025-02-26T09:58:53.608810Z"
    }
   },
   "cell_type": "code",
   "source": "",
   "id": "f3f8fa563cb64696",
   "outputs": [],
   "execution_count": 3
  },
  {
   "metadata": {},
   "cell_type": "code",
   "outputs": [],
   "execution_count": null,
   "source": "",
   "id": "cf0b6a19f75413e8"
  }
 ],
 "metadata": {
  "kernelspec": {
   "display_name": "Python 3",
   "language": "python",
   "name": "python3"
  },
  "language_info": {
   "codemirror_mode": {
    "name": "ipython",
    "version": 2
   },
   "file_extension": ".py",
   "mimetype": "text/x-python",
   "name": "python",
   "nbconvert_exporter": "python",
   "pygments_lexer": "ipython2",
   "version": "2.7.6"
  }
 },
 "nbformat": 4,
 "nbformat_minor": 5
}

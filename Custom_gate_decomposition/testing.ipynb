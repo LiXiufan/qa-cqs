{
 "cells": [
  {
   "metadata": {},
   "cell_type": "markdown",
   "source": "# IMPORT",
   "id": "3aa5ae233927d680"
  },
  {
   "metadata": {
    "ExecuteTime": {
     "end_time": "2025-02-25T10:33:30.940381Z",
     "start_time": "2025-02-25T10:33:26.856906Z"
    }
   },
   "cell_type": "code",
   "source": [
    "from __future__ import annotations\n",
    "from bqskit import Circuit, compile\n",
    "from bqskit.compiler.machine import MachineModel\n",
    "from bqskit.ir.gates import RXXGate, RXGate, RZGate,RYGate,RYYGate,HGate,CNOTGate\n",
    "from Custom_gate_decomposition.BQSkit_custom_gate_definitions import VirtualZGate, GPIGate, GPI2Gate\n",
    "from Custom_gate_decomposition.QASM2_reader import load_qasm\n"
   ],
   "id": "5239e8e15a8ef487",
   "outputs": [],
   "execution_count": 1
  },
  {
   "metadata": {
    "ExecuteTime": {
     "end_time": "2025-02-25T10:34:35.715864Z",
     "start_time": "2025-02-25T10:34:10.548841Z"
    }
   },
   "cell_type": "code",
   "source": [
    "# Step 1: Define the MS-Gate Machine Model\n",
    "IONQ_gate_set={CNOTGate(),GPIGate(),GPI2Gate()}\n",
    "def transpile_to_ms(circuit: Circuit) -> Circuit:\n",
    "    \"\"\"Transpile the given circuit to use only MS gates.\"\"\"\n",
    "    model = MachineModel(circuit.num_qudits, gate_set=IONQ_gate_set)\n",
    "    compiled_circuit = compile(circuit, model, optimization_level=1)\n",
    "    return compiled_circuit\n",
    "\n",
    "# Step 2: Create a simple quantum circuit\n",
    "qc = Circuit(2)\n",
    "qc.append_gate(HGate(), [0])\n",
    "qc.append_gate(RYYGate(), [0, 1],params=[1])\n",
    "qc.append_gate(RYGate(), [1],params=[3])\n",
    "# Step 3: Transpile the circuit to MS gates\n",
    "ms_circuit = transpile_to_ms(qc)"
   ],
   "id": "9e396da876811bda",
   "outputs": [],
   "execution_count": 5
  },
  {
   "metadata": {
    "ExecuteTime": {
     "end_time": "2025-02-25T10:34:35.722459Z",
     "start_time": "2025-02-25T10:34:35.717868Z"
    }
   },
   "cell_type": "code",
   "source": [
    "#SAVE QASM\n",
    "ms_circuit.save(\"circuit.qasm\")"
   ],
   "id": "c982255169fce72a",
   "outputs": [],
   "execution_count": 6
  },
  {
   "metadata": {
    "ExecuteTime": {
     "end_time": "2025-02-25T10:34:35.727654Z",
     "start_time": "2025-02-25T10:34:35.724786Z"
    }
   },
   "cell_type": "code",
   "source": "",
   "id": "bfcbc85ccfef032",
   "outputs": [],
   "execution_count": 6
  },
  {
   "metadata": {
    "ExecuteTime": {
     "end_time": "2025-02-25T10:34:35.751567Z",
     "start_time": "2025-02-25T10:34:35.729658Z"
    }
   },
   "cell_type": "code",
   "source": [
    "# Step 4: Transform to qiskit and print\n",
    "qiskit_circuit = load_qasm(\"circuit.qasm\")\n",
    "print(qiskit_circuit.draw(output='text'))"
   ],
   "id": "8e7d81f84538c659",
   "outputs": [
    {
     "name": "stdout",
     "output_type": "stream",
     "text": [
      "       ┌─────────┐   ┌─────────────┐                      ┌─────────────┐ »\n",
      "q_0: ──┤ Gpi2(6) ├───┤ Gpi(5.5231) ├───────────────────■──┤ Gpi(0.7456) ├─»\n",
      "     ┌─┴─────────┴──┐├─────────────┴┐┌──────────────┐┌─┴─┐├─────────────┴┐»\n",
      "q_1: ┤ Gpi2(3.4626) ├┤ Gpi2(1.3232) ├┤ Gpi2(4.3432) ├┤ X ├┤ Gpi2(3.8359) ├»\n",
      "     └──────────────┘└──────────────┘└──────────────┘└───┘└──────────────┘»\n",
      "«                                          ┌─────────────┐  ┌───────────┐  »\n",
      "«q_0: ──────────────────────────────────■──┤ Gpi(2.8475) ├──┤ Gpi2(4.5) ├──»\n",
      "«     ┌──────────────┐┌──────────────┐┌─┴─┐├─────────────┴┐┌┴───────────┴─┐»\n",
      "«q_1: ┤ Gpi2(3.1382) ├┤ Gpi2(1.1534) ├┤ X ├┤ Gpi2(5.2378) ├┤ Gpi2(3.5462) ├»\n",
      "«     └──────────────┘└──────────────┘└───┘└──────────────┘└──────────────┘»\n",
      "«                     \n",
      "«q_0: ────────────────\n",
      "«     ┌──────────────┐\n",
      "«q_1: ┤ Gpi2(3.0735) ├\n",
      "«     └──────────────┘\n"
     ]
    }
   ],
   "execution_count": 7
  },
  {
   "metadata": {
    "ExecuteTime": {
     "end_time": "2025-02-25T10:34:35.755988Z",
     "start_time": "2025-02-25T10:34:35.752821Z"
    }
   },
   "cell_type": "code",
   "source": "",
   "id": "f673b1a67d6c5d99",
   "outputs": [],
   "execution_count": 7
  },
  {
   "metadata": {},
   "cell_type": "code",
   "outputs": [],
   "execution_count": null,
   "source": "",
   "id": "e640b73138e92bf7"
  },
  {
   "metadata": {},
   "cell_type": "code",
   "outputs": [],
   "execution_count": null,
   "source": "",
   "id": "e1a838f127d1e8bc"
  }
 ],
 "metadata": {
  "kernelspec": {
   "display_name": "Python 3",
   "language": "python",
   "name": "python3"
  },
  "language_info": {
   "codemirror_mode": {
    "name": "ipython",
    "version": 2
   },
   "file_extension": ".py",
   "mimetype": "text/x-python",
   "name": "python",
   "nbconvert_exporter": "python",
   "pygments_lexer": "ipython2",
   "version": "2.7.6"
  }
 },
 "nbformat": 4,
 "nbformat_minor": 5
}

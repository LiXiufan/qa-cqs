{
 "cells": [
  {
   "cell_type": "code",
   "id": "initial_id",
   "metadata": {
    "collapsed": true,
    "ExecuteTime": {
     "end_time": "2025-03-06T05:53:53.125851Z",
     "start_time": "2025-03-06T05:53:53.106830Z"
    }
   },
   "source": [
    "import pandas as pd\n",
    "from qiskit.quantum_info import Operator\n",
    "from qiskit.circuit.random import random_circuit\n",
    "import qiskit.qasm3 as qasm3\n",
    "from tqdm import tqdm"
   ],
   "outputs": [],
   "execution_count": 4
  },
  {
   "metadata": {
    "ExecuteTime": {
     "end_time": "2025-03-06T06:13:00.621805Z",
     "start_time": "2025-03-06T06:08:49.036522Z"
    }
   },
   "cell_type": "code",
   "source": [
    "for n in range(8,12):\n",
    "    # Number of lines required: 10 * (n:2-3) * 99\n",
    "    num_lines = 10 * (2*n - 3) * 99\n",
    "    \n",
    "    # Generate data\n",
    "    data = []\n",
    "    for _ in tqdm(range(num_lines)):\n",
    "        qc = random_circuit(num_qubits=n, max_operands=2, depth=3, measure=False)\n",
    "        unitary = Operator(qc).data\n",
    "        first_column = unitary[:, 0]\n",
    "        qasm_str = qasm3.dumps(qc)\n",
    "        data.append([n, first_column.tolist(), qasm_str])\n",
    "    \n",
    "    # Create DataFrame\n",
    "    df = pd.DataFrame(data, columns=[\"n\", \"b\", \"qasm\"])\n",
    "    \n",
    "    # Save to CSV\n",
    "    csv_filename = str(n)+\"_b_random_circuits.csv\"\n",
    "    df.to_csv(csv_filename, index=False)\n",
    "\n"
   ],
   "id": "d4170ecdf9257bc3",
   "outputs": [
    {
     "name": "stderr",
     "output_type": "stream",
     "text": [
      "100%|██████████| 10890/10890 [03:33<00:00, 50.97it/s]\n",
      "  4%|▎         | 455/12870 [00:34<15:33, 13.30it/s]\n"
     ]
    },
    {
     "ename": "KeyboardInterrupt",
     "evalue": "",
     "output_type": "error",
     "traceback": [
      "\u001B[1;31m---------------------------------------------------------------------------\u001B[0m",
      "\u001B[1;31mKeyboardInterrupt\u001B[0m                         Traceback (most recent call last)",
      "Cell \u001B[1;32mIn[27], line 9\u001B[0m\n\u001B[0;32m      7\u001B[0m \u001B[38;5;28;01mfor\u001B[39;00m _ \u001B[38;5;129;01min\u001B[39;00m tqdm(\u001B[38;5;28mrange\u001B[39m(num_lines)):\n\u001B[0;32m      8\u001B[0m     qc \u001B[38;5;241m=\u001B[39m random_circuit(num_qubits\u001B[38;5;241m=\u001B[39mn, max_operands\u001B[38;5;241m=\u001B[39m\u001B[38;5;241m2\u001B[39m, depth\u001B[38;5;241m=\u001B[39m\u001B[38;5;241m3\u001B[39m, measure\u001B[38;5;241m=\u001B[39m\u001B[38;5;28;01mFalse\u001B[39;00m)\n\u001B[1;32m----> 9\u001B[0m     unitary \u001B[38;5;241m=\u001B[39m \u001B[43mOperator\u001B[49m\u001B[43m(\u001B[49m\u001B[43mqc\u001B[49m\u001B[43m)\u001B[49m\u001B[38;5;241m.\u001B[39mdata\n\u001B[0;32m     10\u001B[0m     first_column \u001B[38;5;241m=\u001B[39m unitary[:, \u001B[38;5;241m0\u001B[39m]\n\u001B[0;32m     11\u001B[0m     qasm_str \u001B[38;5;241m=\u001B[39m qasm3\u001B[38;5;241m.\u001B[39mdumps(qc)\n",
      "File \u001B[1;32m~\\AppData\\Local\\pypoetry\\Cache\\virtualenvs\\CQS_singapore\\Lib\\site-packages\\qiskit\\quantum_info\\operators\\operator.py:125\u001B[0m, in \u001B[0;36mOperator.__init__\u001B[1;34m(self, data, input_dims, output_dims)\u001B[0m\n\u001B[0;32m    116\u001B[0m     \u001B[38;5;28mself\u001B[39m\u001B[38;5;241m.\u001B[39m_data \u001B[38;5;241m=\u001B[39m np\u001B[38;5;241m.\u001B[39masarray(data, dtype\u001B[38;5;241m=\u001B[39m\u001B[38;5;28mcomplex\u001B[39m)\n\u001B[0;32m    117\u001B[0m \u001B[38;5;28;01melif\u001B[39;00m \u001B[38;5;28misinstance\u001B[39m(data, (QuantumCircuit, Operation)):\n\u001B[0;32m    118\u001B[0m     \u001B[38;5;66;03m# If the input is a Terra QuantumCircuit or Operation we\u001B[39;00m\n\u001B[0;32m    119\u001B[0m     \u001B[38;5;66;03m# perform a simulation to construct the unitary operator.\u001B[39;00m\n\u001B[1;32m   (...)\u001B[0m\n\u001B[0;32m    123\u001B[0m     \u001B[38;5;66;03m# conditional gates, measure, or reset will cause an\u001B[39;00m\n\u001B[0;32m    124\u001B[0m     \u001B[38;5;66;03m# exception to be raised.\u001B[39;00m\n\u001B[1;32m--> 125\u001B[0m     \u001B[38;5;28mself\u001B[39m\u001B[38;5;241m.\u001B[39m_data \u001B[38;5;241m=\u001B[39m \u001B[38;5;28;43mself\u001B[39;49m\u001B[38;5;241;43m.\u001B[39;49m\u001B[43m_init_instruction\u001B[49m\u001B[43m(\u001B[49m\u001B[43mdata\u001B[49m\u001B[43m)\u001B[49m\u001B[38;5;241m.\u001B[39mdata\n\u001B[0;32m    126\u001B[0m \u001B[38;5;28;01melif\u001B[39;00m \u001B[38;5;28mhasattr\u001B[39m(data, \u001B[38;5;124m\"\u001B[39m\u001B[38;5;124mto_operator\u001B[39m\u001B[38;5;124m\"\u001B[39m):\n\u001B[0;32m    127\u001B[0m     \u001B[38;5;66;03m# If the data object has a 'to_operator' attribute this is given\u001B[39;00m\n\u001B[0;32m    128\u001B[0m     \u001B[38;5;66;03m# higher preference than the 'to_matrix' method for initializing\u001B[39;00m\n\u001B[0;32m    129\u001B[0m     \u001B[38;5;66;03m# an Operator object.\u001B[39;00m\n\u001B[0;32m    130\u001B[0m     data \u001B[38;5;241m=\u001B[39m data\u001B[38;5;241m.\u001B[39mto_operator()\n",
      "File \u001B[1;32m~\\AppData\\Local\\pypoetry\\Cache\\virtualenvs\\CQS_singapore\\Lib\\site-packages\\qiskit\\quantum_info\\operators\\operator.py:739\u001B[0m, in \u001B[0;36mOperator._init_instruction\u001B[1;34m(cls, instruction)\u001B[0m\n\u001B[0;32m    737\u001B[0m \u001B[38;5;28;01mif\u001B[39;00m \u001B[38;5;28misinstance\u001B[39m(instruction, QuantumCircuit):\n\u001B[0;32m    738\u001B[0m     instruction \u001B[38;5;241m=\u001B[39m instruction\u001B[38;5;241m.\u001B[39mto_instruction()\n\u001B[1;32m--> 739\u001B[0m \u001B[43mop\u001B[49m\u001B[38;5;241;43m.\u001B[39;49m\u001B[43m_append_instruction\u001B[49m\u001B[43m(\u001B[49m\u001B[43minstruction\u001B[49m\u001B[43m)\u001B[49m\n\u001B[0;32m    740\u001B[0m \u001B[38;5;28;01mreturn\u001B[39;00m op\n",
      "File \u001B[1;32m~\\AppData\\Local\\pypoetry\\Cache\\virtualenvs\\CQS_singapore\\Lib\\site-packages\\qiskit\\quantum_info\\operators\\operator.py:815\u001B[0m, in \u001B[0;36mOperator._append_instruction\u001B[1;34m(self, obj, qargs)\u001B[0m\n\u001B[0;32m    813\u001B[0m \u001B[38;5;28;01melse\u001B[39;00m:\n\u001B[0;32m    814\u001B[0m     new_qargs \u001B[38;5;241m=\u001B[39m [qargs[bit_indices[tup]] \u001B[38;5;28;01mfor\u001B[39;00m tup \u001B[38;5;129;01min\u001B[39;00m instruction\u001B[38;5;241m.\u001B[39mqubits]\n\u001B[1;32m--> 815\u001B[0m \u001B[38;5;28;43mself\u001B[39;49m\u001B[38;5;241;43m.\u001B[39;49m\u001B[43m_append_instruction\u001B[49m\u001B[43m(\u001B[49m\u001B[43minstruction\u001B[49m\u001B[38;5;241;43m.\u001B[39;49m\u001B[43moperation\u001B[49m\u001B[43m,\u001B[49m\u001B[43m \u001B[49m\u001B[43mqargs\u001B[49m\u001B[38;5;241;43m=\u001B[39;49m\u001B[43mnew_qargs\u001B[49m\u001B[43m)\u001B[49m\n",
      "File \u001B[1;32m~\\AppData\\Local\\pypoetry\\Cache\\virtualenvs\\CQS_singapore\\Lib\\site-packages\\qiskit\\quantum_info\\operators\\operator.py:775\u001B[0m, in \u001B[0;36mOperator._append_instruction\u001B[1;34m(self, obj, qargs)\u001B[0m\n\u001B[0;32m    771\u001B[0m mat \u001B[38;5;241m=\u001B[39m \u001B[38;5;28mself\u001B[39m\u001B[38;5;241m.\u001B[39m_instruction_to_matrix(obj)\n\u001B[0;32m    772\u001B[0m \u001B[38;5;28;01mif\u001B[39;00m mat \u001B[38;5;129;01mis\u001B[39;00m \u001B[38;5;129;01mnot\u001B[39;00m \u001B[38;5;28;01mNone\u001B[39;00m:\n\u001B[0;32m    773\u001B[0m     \u001B[38;5;66;03m# Perform the composition and inplace update the current state\u001B[39;00m\n\u001B[0;32m    774\u001B[0m     \u001B[38;5;66;03m# of the operator\u001B[39;00m\n\u001B[1;32m--> 775\u001B[0m     op \u001B[38;5;241m=\u001B[39m \u001B[38;5;28;43mself\u001B[39;49m\u001B[38;5;241;43m.\u001B[39;49m\u001B[43mcompose\u001B[49m\u001B[43m(\u001B[49m\u001B[43mmat\u001B[49m\u001B[43m,\u001B[49m\u001B[43m \u001B[49m\u001B[43mqargs\u001B[49m\u001B[38;5;241;43m=\u001B[39;49m\u001B[43mqargs\u001B[49m\u001B[43m)\u001B[49m\n\u001B[0;32m    776\u001B[0m     \u001B[38;5;28mself\u001B[39m\u001B[38;5;241m.\u001B[39m_data \u001B[38;5;241m=\u001B[39m op\u001B[38;5;241m.\u001B[39mdata\n\u001B[0;32m    777\u001B[0m \u001B[38;5;28;01melif\u001B[39;00m \u001B[38;5;28misinstance\u001B[39m(obj, Barrier):\n",
      "File \u001B[1;32m~\\AppData\\Local\\pypoetry\\Cache\\virtualenvs\\CQS_singapore\\Lib\\site-packages\\qiskit\\quantum_info\\operators\\operator.py:537\u001B[0m, in \u001B[0;36mOperator.compose\u001B[1;34m(self, other, qargs, front)\u001B[0m\n\u001B[0;32m    534\u001B[0m indices \u001B[38;5;241m=\u001B[39m [num_indices \u001B[38;5;241m-\u001B[39m \u001B[38;5;241m1\u001B[39m \u001B[38;5;241m-\u001B[39m qubit \u001B[38;5;28;01mfor\u001B[39;00m qubit \u001B[38;5;129;01min\u001B[39;00m qargs]\n\u001B[0;32m    535\u001B[0m final_shape \u001B[38;5;241m=\u001B[39m [\u001B[38;5;28mint\u001B[39m(np\u001B[38;5;241m.\u001B[39mprod(output_dims)), \u001B[38;5;28mint\u001B[39m(np\u001B[38;5;241m.\u001B[39mprod(input_dims))]\n\u001B[0;32m    536\u001B[0m data \u001B[38;5;241m=\u001B[39m np\u001B[38;5;241m.\u001B[39mreshape(\n\u001B[1;32m--> 537\u001B[0m     \u001B[43mOperator\u001B[49m\u001B[38;5;241;43m.\u001B[39;49m\u001B[43m_einsum_matmul\u001B[49m\u001B[43m(\u001B[49m\u001B[43mtensor\u001B[49m\u001B[43m,\u001B[49m\u001B[43m \u001B[49m\u001B[43mmat\u001B[49m\u001B[43m,\u001B[49m\u001B[43m \u001B[49m\u001B[43mindices\u001B[49m\u001B[43m,\u001B[49m\u001B[43m \u001B[49m\u001B[43mshift\u001B[49m\u001B[43m,\u001B[49m\u001B[43m \u001B[49m\u001B[43mright_mul\u001B[49m\u001B[43m)\u001B[49m, final_shape\n\u001B[0;32m    538\u001B[0m )\n\u001B[0;32m    539\u001B[0m ret \u001B[38;5;241m=\u001B[39m Operator(data, input_dims, output_dims)\n\u001B[0;32m    540\u001B[0m ret\u001B[38;5;241m.\u001B[39m_op_shape \u001B[38;5;241m=\u001B[39m new_shape\n",
      "File \u001B[1;32m~\\AppData\\Local\\pypoetry\\Cache\\virtualenvs\\CQS_singapore\\Lib\\site-packages\\qiskit\\quantum_info\\operators\\operator.py:725\u001B[0m, in \u001B[0;36mOperator._einsum_matmul\u001B[1;34m(cls, tensor, mat, indices, shift, right_mul)\u001B[0m\n\u001B[0;32m    723\u001B[0m \u001B[38;5;28;01melse\u001B[39;00m:\n\u001B[0;32m    724\u001B[0m     indices_mat \u001B[38;5;241m=\u001B[39m mat_free \u001B[38;5;241m+\u001B[39m mat_contract\n\u001B[1;32m--> 725\u001B[0m \u001B[38;5;28;01mreturn\u001B[39;00m \u001B[43mnp\u001B[49m\u001B[38;5;241;43m.\u001B[39;49m\u001B[43meinsum\u001B[49m\u001B[43m(\u001B[49m\u001B[43mtensor\u001B[49m\u001B[43m,\u001B[49m\u001B[43m \u001B[49m\u001B[43mindices_tensor\u001B[49m\u001B[43m,\u001B[49m\u001B[43m \u001B[49m\u001B[43mmat\u001B[49m\u001B[43m,\u001B[49m\u001B[43m \u001B[49m\u001B[43mindices_mat\u001B[49m\u001B[43m)\u001B[49m\n",
      "File \u001B[1;32m~\\AppData\\Local\\pypoetry\\Cache\\virtualenvs\\CQS_singapore\\Lib\\site-packages\\numpy\\core\\einsumfunc.py:1371\u001B[0m, in \u001B[0;36meinsum\u001B[1;34m(out, optimize, *operands, **kwargs)\u001B[0m\n\u001B[0;32m   1369\u001B[0m     \u001B[38;5;28;01mif\u001B[39;00m specified_out:\n\u001B[0;32m   1370\u001B[0m         kwargs[\u001B[38;5;124m'\u001B[39m\u001B[38;5;124mout\u001B[39m\u001B[38;5;124m'\u001B[39m] \u001B[38;5;241m=\u001B[39m out\n\u001B[1;32m-> 1371\u001B[0m     \u001B[38;5;28;01mreturn\u001B[39;00m \u001B[43mc_einsum\u001B[49m\u001B[43m(\u001B[49m\u001B[38;5;241;43m*\u001B[39;49m\u001B[43moperands\u001B[49m\u001B[43m,\u001B[49m\u001B[43m \u001B[49m\u001B[38;5;241;43m*\u001B[39;49m\u001B[38;5;241;43m*\u001B[39;49m\u001B[43mkwargs\u001B[49m\u001B[43m)\u001B[49m\n\u001B[0;32m   1373\u001B[0m \u001B[38;5;66;03m# Check the kwargs to avoid a more cryptic error later, without having to\u001B[39;00m\n\u001B[0;32m   1374\u001B[0m \u001B[38;5;66;03m# repeat default values here\u001B[39;00m\n\u001B[0;32m   1375\u001B[0m valid_einsum_kwargs \u001B[38;5;241m=\u001B[39m [\u001B[38;5;124m'\u001B[39m\u001B[38;5;124mdtype\u001B[39m\u001B[38;5;124m'\u001B[39m, \u001B[38;5;124m'\u001B[39m\u001B[38;5;124morder\u001B[39m\u001B[38;5;124m'\u001B[39m, \u001B[38;5;124m'\u001B[39m\u001B[38;5;124mcasting\u001B[39m\u001B[38;5;124m'\u001B[39m]\n",
      "\u001B[1;31mKeyboardInterrupt\u001B[0m: "
     ]
    }
   ],
   "execution_count": 27
  },
  {
   "metadata": {
    "ExecuteTime": {
     "end_time": "2025-03-06T05:58:48.467103Z",
     "start_time": "2025-03-06T05:58:48.446111Z"
    }
   },
   "cell_type": "code",
   "source": [
    "qasm_test=df.iloc[5].qasm\n",
    "qc_reconstructed = qasm3.loads(qasm_test)\n",
    "\n",
    "# Display the reconstructed circuit\n",
    "print(qc_reconstructed)"
   ],
   "id": "ffeeaac2c41c50df",
   "outputs": [
    {
     "name": "stdout",
     "output_type": "stream",
     "text": [
      "                                       ┌───┐┌──────────────┐»\n",
      "q_0: ──────────────────────────────────┤ X ├┤1             ├»\n",
      "                 ┌───────┐             └─┬─┘│              │»\n",
      "q_1: ────────────┤0      ├───────────────┼──┤  rzz(1.7626) ├»\n",
      "                 │  csdg │               │  │              │»\n",
      "q_2: ────────────┤1      ├───────────────┼──┤0             ├»\n",
      "     ┌───────────┴───────┴────────────┐  │  └──┬────────┬──┘»\n",
      "q_3: ┤ U(4.119,6.0932,1.9037,0.57534) ├──┼─────┤0       ├───»\n",
      "     └───────────────┬────────────────┘  │     │  iswap │   »\n",
      "q_4: ────────────────■───────────────────┼─────┤1       ├───»\n",
      "                                         │     └────────┘   »\n",
      "q_5: ────────────────────────────────────■──────────────────»\n",
      "                                                            »\n",
      "«                                                                         »\n",
      "«q_0: ────────────────────────────────────────────────────────────────────»\n",
      "«                                                                         »\n",
      "«q_1: ────────────────■───────────────────────────────────────────────────»\n",
      "«                     │                 ┌────────────────────────────────┐»\n",
      "«q_2: ────────────────┼─────────────────┤ U(1.7445,1.8174,2.1109,2.0451) ├»\n",
      "«                     │                 └───────────────┬────────────────┘»\n",
      "«q_3: ────────────────┼─────────────────────────────────┼─────────────────»\n",
      "«                     │                                 │                 »\n",
      "«q_4: ────────────────┼─────────────────────────────────┼─────────────────»\n",
      "«     ┌───────────────┴────────────────┐                │                 »\n",
      "«q_5: ┤ U(0.78908,2.774,3.7246,5.7775) ├────────────────■─────────────────»\n",
      "«     └────────────────────────────────┘                                  »\n",
      "«            ┌────────────────────────────────┐\n",
      "«q_0: ───────┤ U(5.4622,4.7661,4.4678,4.8005) ├\n",
      "«     ┌─────┐└───────────────┬────────────────┘\n",
      "«q_1: ┤1    ├────────────────┼─────────────────\n",
      "«     │     │                │                 \n",
      "«q_2: ┤  cs ├────────────────┼─────────────────\n",
      "«     │     │                │                 \n",
      "«q_3: ┤0    ├────────────────┼─────────────────\n",
      "«     └─────┘                │                 \n",
      "«q_4: ───────────────────────■─────────────────\n",
      "«                                              \n",
      "«q_5: ─────────────────────────────────────────\n",
      "«                                              \n"
     ]
    }
   ],
   "execution_count": 19
  },
  {
   "metadata": {
    "ExecuteTime": {
     "end_time": "2025-03-06T06:01:57.429949Z",
     "start_time": "2025-03-06T06:01:57.305176Z"
    }
   },
   "cell_type": "code",
   "source": "len(pd.read_csv(\"7_b_random_circuits.csv\"))",
   "id": "1822450e356f01d6",
   "outputs": [
    {
     "data": {
      "text/plain": [
       "5940"
      ]
     },
     "execution_count": 23,
     "metadata": {},
     "output_type": "execute_result"
    }
   ],
   "execution_count": 23
  },
  {
   "metadata": {},
   "cell_type": "code",
   "outputs": [],
   "execution_count": null,
   "source": "",
   "id": "cc3440ea170c8fcc"
  }
 ],
 "metadata": {
  "kernelspec": {
   "display_name": "Python 3",
   "language": "python",
   "name": "python3"
  },
  "language_info": {
   "codemirror_mode": {
    "name": "ipython",
    "version": 2
   },
   "file_extension": ".py",
   "mimetype": "text/x-python",
   "name": "python",
   "nbconvert_exporter": "python",
   "pygments_lexer": "ipython2",
   "version": "2.7.6"
  }
 },
 "nbformat": 4,
 "nbformat_minor": 5
}

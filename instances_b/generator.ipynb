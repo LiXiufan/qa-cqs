{
 "cells": [
  {
   "cell_type": "code",
   "id": "initial_id",
   "metadata": {
    "collapsed": true,
    "ExecuteTime": {
     "end_time": "2025-03-06T05:53:53.125851Z",
     "start_time": "2025-03-06T05:53:53.106830Z"
    }
   },
   "source": [
    "import pandas as pd\n",
    "from qiskit.quantum_info import Operator\n",
    "from qiskit.circuit.random import random_circuit\n",
    "import qiskit.qasm3 as qasm3\n",
    "from tqdm import tqdm"
   ],
   "outputs": [],
   "execution_count": 4
  },
  {
   "metadata": {
    "ExecuteTime": {
     "end_time": "2025-03-06T06:46:20.131237Z",
     "start_time": "2025-03-06T06:46:13.284826Z"
    }
   },
   "cell_type": "code",
   "source": [
    "for n in range(3,4):\n",
    "    # Number of lines required: 10 * (n:2-3) * 99\n",
    "    num_lines = 10 * (2*n - 3) * 99\n",
    "    \n",
    "    # Generate data\n",
    "    data = []\n",
    "    for _ in tqdm(range(num_lines)):\n",
    "        qc = random_circuit(num_qubits=n, max_operands=2, depth=3, measure=False)\n",
    "        unitary = Operator(qc).data\n",
    "        first_column = unitary[:, 0]\n",
    "        qasm_str = qasm3.dumps(qc)\n",
    "        data.append([n, first_column.tolist(), qasm_str])\n",
    "    \n",
    "    # Create DataFrame\n",
    "    df = pd.DataFrame(data, columns=[\"n\", \"b\", \"qasm\"])\n",
    "    \n",
    "    # Save to CSV\n",
    "    csv_filename = str(n)+\"_b_random_circuits.csv\"\n",
    "    df.to_csv(csv_filename, index=False)\n",
    "\n"
   ],
   "id": "d4170ecdf9257bc3",
   "outputs": [
    {
     "name": "stderr",
     "output_type": "stream",
     "text": [
      "100%|██████████| 2970/2970 [00:06<00:00, 437.51it/s]\n"
     ]
    }
   ],
   "execution_count": 39
  },
  {
   "metadata": {
    "ExecuteTime": {
     "end_time": "2025-03-06T05:58:48.467103Z",
     "start_time": "2025-03-06T05:58:48.446111Z"
    }
   },
   "cell_type": "code",
   "source": [
    "qasm_test=df.iloc[5].qasm\n",
    "qc_reconstructed = qasm3.loads(qasm_test)\n",
    "\n",
    "# Display the reconstructed circuit\n",
    "print(qc_reconstructed)"
   ],
   "id": "ffeeaac2c41c50df",
   "outputs": [
    {
     "name": "stdout",
     "output_type": "stream",
     "text": [
      "                                       ┌───┐┌──────────────┐»\n",
      "q_0: ──────────────────────────────────┤ X ├┤1             ├»\n",
      "                 ┌───────┐             └─┬─┘│              │»\n",
      "q_1: ────────────┤0      ├───────────────┼──┤  rzz(1.7626) ├»\n",
      "                 │  csdg │               │  │              │»\n",
      "q_2: ────────────┤1      ├───────────────┼──┤0             ├»\n",
      "     ┌───────────┴───────┴────────────┐  │  └──┬────────┬──┘»\n",
      "q_3: ┤ U(4.119,6.0932,1.9037,0.57534) ├──┼─────┤0       ├───»\n",
      "     └───────────────┬────────────────┘  │     │  iswap │   »\n",
      "q_4: ────────────────■───────────────────┼─────┤1       ├───»\n",
      "                                         │     └────────┘   »\n",
      "q_5: ────────────────────────────────────■──────────────────»\n",
      "                                                            »\n",
      "«                                                                         »\n",
      "«q_0: ────────────────────────────────────────────────────────────────────»\n",
      "«                                                                         »\n",
      "«q_1: ────────────────■───────────────────────────────────────────────────»\n",
      "«                     │                 ┌────────────────────────────────┐»\n",
      "«q_2: ────────────────┼─────────────────┤ U(1.7445,1.8174,2.1109,2.0451) ├»\n",
      "«                     │                 └───────────────┬────────────────┘»\n",
      "«q_3: ────────────────┼─────────────────────────────────┼─────────────────»\n",
      "«                     │                                 │                 »\n",
      "«q_4: ────────────────┼─────────────────────────────────┼─────────────────»\n",
      "«     ┌───────────────┴────────────────┐                │                 »\n",
      "«q_5: ┤ U(0.78908,2.774,3.7246,5.7775) ├────────────────■─────────────────»\n",
      "«     └────────────────────────────────┘                                  »\n",
      "«            ┌────────────────────────────────┐\n",
      "«q_0: ───────┤ U(5.4622,4.7661,4.4678,4.8005) ├\n",
      "«     ┌─────┐└───────────────┬────────────────┘\n",
      "«q_1: ┤1    ├────────────────┼─────────────────\n",
      "«     │     │                │                 \n",
      "«q_2: ┤  cs ├────────────────┼─────────────────\n",
      "«     │     │                │                 \n",
      "«q_3: ┤0    ├────────────────┼─────────────────\n",
      "«     └─────┘                │                 \n",
      "«q_4: ───────────────────────■─────────────────\n",
      "«                                              \n",
      "«q_5: ─────────────────────────────────────────\n",
      "«                                              \n"
     ]
    }
   ],
   "execution_count": 19
  },
  {
   "metadata": {
    "ExecuteTime": {
     "end_time": "2025-03-06T06:01:57.429949Z",
     "start_time": "2025-03-06T06:01:57.305176Z"
    }
   },
   "cell_type": "code",
   "source": "len(pd.read_csv(\"7_b_random_circuits.csv\"))",
   "id": "1822450e356f01d6",
   "outputs": [
    {
     "data": {
      "text/plain": [
       "5940"
      ]
     },
     "execution_count": 23,
     "metadata": {},
     "output_type": "execute_result"
    }
   ],
   "execution_count": 23
  },
  {
   "metadata": {
    "ExecuteTime": {
     "end_time": "2025-03-06T06:36:04.007424Z",
     "start_time": "2025-03-06T06:36:03.960400Z"
    }
   },
   "cell_type": "code",
   "source": [
    "from pathlib import Path\n",
    "import pandas as pd\n",
    "\n",
    "# Get the working directory\n",
    "working_dir = Path.cwd()\n",
    "\n",
    "# Move up the directory tree until reaching 'CQS_singapore'\n",
    "while working_dir.name != \"CQS_singapore\" and working_dir != working_dir.parent:\n",
    "    working_dir = working_dir.parent\n",
    "\n",
    "# Construct the new file path relative to 'CQS_singapore'\n",
    "file_path = working_dir / \"instances_b\" / \"3_b_random_circuits.csv\"\n",
    "\n",
    "# Print the resolved path\n",
    "print(f\"Resolved file path: {file_path}\")\n",
    "\n",
    "# Check if the file exists\n",
    "if file_path.exists():\n",
    "    print(f\"Reading file: {file_path}\")\n",
    "    data_b = pd.read_csv(file_path)\n",
    "else:\n",
    "    raise FileNotFoundError(f\"Error: File not found at {file_path}\")\n"
   ],
   "id": "cc3440ea170c8fcc",
   "outputs": [
    {
     "name": "stdout",
     "output_type": "stream",
     "text": [
      "Resolved file path: C:\\Users\\Nikita\\PycharmProjects\\CQS_singapore\\instances_b\\3_b_random_circuits.csv\n",
      "Reading file: C:\\Users\\Nikita\\PycharmProjects\\CQS_singapore\\instances_b\\3_b_random_circuits.csv\n"
     ]
    }
   ],
   "execution_count": 35
  },
  {
   "metadata": {
    "ExecuteTime": {
     "end_time": "2025-03-06T06:36:10.303635Z",
     "start_time": "2025-03-06T06:36:10.287185Z"
    }
   },
   "cell_type": "code",
   "source": "data_b",
   "id": "1507c0dc66227f64",
   "outputs": [
    {
     "data": {
      "text/plain": [
       "      n                                                  b  \\\n",
       "0     3  [(0.18855461031796358+0j), (0.0672790335569684...   \n",
       "1     3  [(-0.44366673043713345+0j), (0.006807572841332...   \n",
       "2     3  [(0.34726235318900756+0.906285895742948j), 0j,...   \n",
       "3     3  [(0.8354611295094585+0j), (0.5490429115247334-...   \n",
       "4     3  [(0.06363754924571619+0.5928891579611695j), (0...   \n",
       "...  ..                                                ...   \n",
       "5935  3  [(0.41143732061574556-0.026427083352260433j), ...   \n",
       "5936  3  [(-0.45460777805476643+0j), (-0.45460777805476...   \n",
       "5937  3  [0j, 0j, 0j, 0j, (0.4304169787424491-0.4304169...   \n",
       "5938  3  [(-0.2659095187049224-0.008591268806949357j), ...   \n",
       "5939  3  [(0.49583275828524875+0.08755901847057618j), (...   \n",
       "\n",
       "                                                   qasm  \n",
       "0     OPENQASM 3.0;\\ninclude \"stdgates.inc\";\\ngate c...  \n",
       "1     OPENQASM 3.0;\\ninclude \"stdgates.inc\";\\ngate r...  \n",
       "2     OPENQASM 3.0;\\ninclude \"stdgates.inc\";\\ngate r...  \n",
       "3     OPENQASM 3.0;\\ninclude \"stdgates.inc\";\\ngate r...  \n",
       "4     OPENQASM 3.0;\\ninclude \"stdgates.inc\";\\ngate r...  \n",
       "...                                                 ...  \n",
       "5935  OPENQASM 3.0;\\ninclude \"stdgates.inc\";\\ngate s...  \n",
       "5936  OPENQASM 3.0;\\ninclude \"stdgates.inc\";\\ngate r...  \n",
       "5937  OPENQASM 3.0;\\ninclude \"stdgates.inc\";\\ngate c...  \n",
       "5938  OPENQASM 3.0;\\ninclude \"stdgates.inc\";\\ngate c...  \n",
       "5939  OPENQASM 3.0;\\ninclude \"stdgates.inc\";\\ngate r...  \n",
       "\n",
       "[5940 rows x 3 columns]"
      ],
      "text/html": [
       "<div>\n",
       "<style scoped>\n",
       "    .dataframe tbody tr th:only-of-type {\n",
       "        vertical-align: middle;\n",
       "    }\n",
       "\n",
       "    .dataframe tbody tr th {\n",
       "        vertical-align: top;\n",
       "    }\n",
       "\n",
       "    .dataframe thead th {\n",
       "        text-align: right;\n",
       "    }\n",
       "</style>\n",
       "<table border=\"1\" class=\"dataframe\">\n",
       "  <thead>\n",
       "    <tr style=\"text-align: right;\">\n",
       "      <th></th>\n",
       "      <th>n</th>\n",
       "      <th>b</th>\n",
       "      <th>qasm</th>\n",
       "    </tr>\n",
       "  </thead>\n",
       "  <tbody>\n",
       "    <tr>\n",
       "      <th>0</th>\n",
       "      <td>3</td>\n",
       "      <td>[(0.18855461031796358+0j), (0.0672790335569684...</td>\n",
       "      <td>OPENQASM 3.0;\\ninclude \"stdgates.inc\";\\ngate c...</td>\n",
       "    </tr>\n",
       "    <tr>\n",
       "      <th>1</th>\n",
       "      <td>3</td>\n",
       "      <td>[(-0.44366673043713345+0j), (0.006807572841332...</td>\n",
       "      <td>OPENQASM 3.0;\\ninclude \"stdgates.inc\";\\ngate r...</td>\n",
       "    </tr>\n",
       "    <tr>\n",
       "      <th>2</th>\n",
       "      <td>3</td>\n",
       "      <td>[(0.34726235318900756+0.906285895742948j), 0j,...</td>\n",
       "      <td>OPENQASM 3.0;\\ninclude \"stdgates.inc\";\\ngate r...</td>\n",
       "    </tr>\n",
       "    <tr>\n",
       "      <th>3</th>\n",
       "      <td>3</td>\n",
       "      <td>[(0.8354611295094585+0j), (0.5490429115247334-...</td>\n",
       "      <td>OPENQASM 3.0;\\ninclude \"stdgates.inc\";\\ngate r...</td>\n",
       "    </tr>\n",
       "    <tr>\n",
       "      <th>4</th>\n",
       "      <td>3</td>\n",
       "      <td>[(0.06363754924571619+0.5928891579611695j), (0...</td>\n",
       "      <td>OPENQASM 3.0;\\ninclude \"stdgates.inc\";\\ngate r...</td>\n",
       "    </tr>\n",
       "    <tr>\n",
       "      <th>...</th>\n",
       "      <td>...</td>\n",
       "      <td>...</td>\n",
       "      <td>...</td>\n",
       "    </tr>\n",
       "    <tr>\n",
       "      <th>5935</th>\n",
       "      <td>3</td>\n",
       "      <td>[(0.41143732061574556-0.026427083352260433j), ...</td>\n",
       "      <td>OPENQASM 3.0;\\ninclude \"stdgates.inc\";\\ngate s...</td>\n",
       "    </tr>\n",
       "    <tr>\n",
       "      <th>5936</th>\n",
       "      <td>3</td>\n",
       "      <td>[(-0.45460777805476643+0j), (-0.45460777805476...</td>\n",
       "      <td>OPENQASM 3.0;\\ninclude \"stdgates.inc\";\\ngate r...</td>\n",
       "    </tr>\n",
       "    <tr>\n",
       "      <th>5937</th>\n",
       "      <td>3</td>\n",
       "      <td>[0j, 0j, 0j, 0j, (0.4304169787424491-0.4304169...</td>\n",
       "      <td>OPENQASM 3.0;\\ninclude \"stdgates.inc\";\\ngate c...</td>\n",
       "    </tr>\n",
       "    <tr>\n",
       "      <th>5938</th>\n",
       "      <td>3</td>\n",
       "      <td>[(-0.2659095187049224-0.008591268806949357j), ...</td>\n",
       "      <td>OPENQASM 3.0;\\ninclude \"stdgates.inc\";\\ngate c...</td>\n",
       "    </tr>\n",
       "    <tr>\n",
       "      <th>5939</th>\n",
       "      <td>3</td>\n",
       "      <td>[(0.49583275828524875+0.08755901847057618j), (...</td>\n",
       "      <td>OPENQASM 3.0;\\ninclude \"stdgates.inc\";\\ngate r...</td>\n",
       "    </tr>\n",
       "  </tbody>\n",
       "</table>\n",
       "<p>5940 rows × 3 columns</p>\n",
       "</div>"
      ]
     },
     "execution_count": 36,
     "metadata": {},
     "output_type": "execute_result"
    }
   ],
   "execution_count": 36
  },
  {
   "metadata": {},
   "cell_type": "code",
   "outputs": [],
   "execution_count": null,
   "source": "",
   "id": "71c88497fb663278"
  }
 ],
 "metadata": {
  "kernelspec": {
   "display_name": "Python 3",
   "language": "python",
   "name": "python3"
  },
  "language_info": {
   "codemirror_mode": {
    "name": "ipython",
    "version": 2
   },
   "file_extension": ".py",
   "mimetype": "text/x-python",
   "name": "python",
   "nbconvert_exporter": "python",
   "pygments_lexer": "ipython2",
   "version": "2.7.6"
  }
 },
 "nbformat": 4,
 "nbformat_minor": 5
}

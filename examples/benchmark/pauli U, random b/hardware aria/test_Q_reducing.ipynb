{
 "cells": [
  {
   "cell_type": "code",
   "id": "initial_id",
   "metadata": {
    "collapsed": true,
    "ExecuteTime": {
     "end_time": "2025-03-13T08:37:21.561223Z",
     "start_time": "2025-03-13T08:37:13.919190Z"
    }
   },
   "source": [
    "import numpy as np\n",
    "from joblib import Parallel, delayed\n",
    "import csv\n",
    "from cqs.object import Instance\n",
    "from qiskit import QuantumCircuit, QuantumRegister, ClassicalRegister\n",
    "from qiskit.circuit.random import random_circuit\n",
    "import qiskit.qasm3 as qasm3\n",
    "from instances_b.reader_b import read_csv_b\n",
    "from transpiler.transpile import transpile_circuit\n",
    "from examples.benchmark.cqs_main import main_prober, main_solver\n",
    "from qiskit.quantum_info import Operator\n",
    "from tqdm import tqdm\n",
    "from cqs.local.calculation import __estimate_V_dagger_V,__estimate_q,__reshape_to_Q_r\n",
    "from cqs.optimization import solve_combination_parameters\n",
    "from matplotlib import pyplot as plt\n",
    "import time\n",
    "import torch\n",
    "from cqs.local.calculation import calculate_Q_r\n",
    "import numpy as np\n",
    "import pandas as pd\n",
    "def normalize_quantum_state(vec):\n",
    "    norm=np.sqrt(np.abs(vec.T.conjugate()@vec))\n",
    "    return vec/norm\n",
    "\n",
    "def __num_to_pauli_list(num_list):\n",
    "    paulis = ['I', 'X', 'Y', 'Z']\n",
    "    pauli_list = [paulis[int(i)] for i in num_list]\n",
    "    return pauli_list\n",
    "\n",
    "def __add_Pauli_gate(qc, which_qubit, which_gate):\n",
    "    if which_gate == 0:\n",
    "        qc.id(which_qubit)\n",
    "    elif which_gate == 1:\n",
    "        qc.x(which_qubit)\n",
    "    elif which_gate == 2:\n",
    "        qc.y(which_qubit)\n",
    "    elif which_gate == 3:\n",
    "        qc.z(which_qubit)\n",
    "    else:\n",
    "        return ValueError(\"Not supported Pauli gate type.\")\n",
    "\n",
    "def __num_to_pauli_circuit(num_list):\n",
    "    n = len(num_list)\n",
    "    num_list = [int(i) for i in num_list]\n",
    "    qr = QuantumRegister(n, 'q')\n",
    "    qc = QuantumCircuit(qr)\n",
    "    for i in range(n):\n",
    "        __add_Pauli_gate(qc, i, num_list[i])\n",
    "    return qc\n",
    "\n",
    "def create_random_circuit_in_native_gate(n, d):\n",
    "    ub = random_circuit(num_qubits=n,max_operands=2, depth=d, measure=False)\n",
    "    # ub = transpile_circuit(ub, device='Aria', optimization_level=2)\n",
    "    return ub"
   ],
   "outputs": [],
   "execution_count": 1
  },
  {
   "metadata": {
    "ExecuteTime": {
     "end_time": "2025-03-13T08:42:51.183190Z",
     "start_time": "2025-03-13T08:41:24.719341Z"
    }
   },
   "cell_type": "code",
   "source": [
    "losses=[]\n",
    "with open('../3_qubit_data_generation_matrix_A.csv', 'r', newline='') as csvfile:\n",
    "    data_b = read_csv_b(3)\n",
    "    reader = csv.reader(csvfile, delimiter=' ', quotechar='|')\n",
    "    for i, row in enumerate(reader):\n",
    "        if i==501:\n",
    "            row_clean = [j for j in ''.join(row).split('\"') if j != ',']\n",
    "            nLc = row_clean[0].split(',')\n",
    "            n = int(nLc[0])\n",
    "            print(\"qubit number is:\", n)\n",
    "            L = int(nLc[1])\n",
    "            print(\"term number is:\", L)\n",
    "            kappa = float(nLc[2])\n",
    "            print('condition number is', kappa)\n",
    "            pauli_strings = [__num_to_pauli_list(l) for l in eval(row_clean[1])]\n",
    "            print('Pauli strings are:', pauli_strings)\n",
    "            pauli_circuits = [__num_to_pauli_circuit(l) for l in eval(row_clean[1])]\n",
    "            coeffs = [float(i) for i in eval(row_clean[2])]\n",
    "            print('coefficients are:', coeffs)\n",
    "            print()\n",
    "\n",
    "            # circuit depth d\n",
    "            d = 3\n",
    "            ub = qasm3.loads(data_b.iloc[5].qasm)\n",
    "            print('Ub is given by:', data_b.iloc[5].b)\n",
    "            print(ub)\n",
    "\n",
    "            # generate instance\n",
    "            instance = Instance(n, L, kappa)\n",
    "            instance.generate(given_coeffs=coeffs, given_unitaries=pauli_circuits, given_ub=ub)\n",
    "            Itr, LOSS, ansatz_tree = main_prober(instance, backend='qiskit-noiseless',ITR=None,\n",
    "                                    shots=0, optimization_level=2,\n",
    "                                    noise_level_two_qubit=0, noise_level_one_qubit=0, readout_error=0)\n",
    "            print(Itr)\n",
    "            print(LOSS)\n",
    "            losses+=[LOSS]\n",
    "            print('ANsatz tree contains:')\n",
    "            # for qc in ansatz_tree:\n",
    "            #     print(qc)\n",
    "ansatz_tree=[ansatz_tree[i] for i in range(len(ansatz_tree)-1)]"
   ],
   "id": "e9aec0c9870f25b8",
   "outputs": [
    {
     "name": "stdout",
     "output_type": "stream",
     "text": [
      "Resolved file path: C:\\Users\\Nikita\\PycharmProjects\\CQS_singapore\\instances_b\\3_b_random_circuits.csv\n",
      "Reading file: C:\\Users\\Nikita\\PycharmProjects\\CQS_singapore\\instances_b\\3_b_random_circuits.csv\n",
      "qubit number is: 3\n",
      "term number is: 3\n",
      "condition number is 42.85682678222656\n",
      "Pauli strings are: [['Z', 'Z', 'Y'], ['X', 'I', 'Y'], ['X', 'X', 'Y']]\n",
      "coefficients are: [1.96, -0.68, -1.98]\n",
      "\n",
      "Ub is given by: [(-0.11944869396006001+0j), (-0.16288579794352817-0.16288579794352817j), (0.34678707316580576+0j), (0.4728949916187479+0.4728949916187479j), (0.06405668487745207-0.06405668487745207j), (0.17470135309088772+0j), (-0.18597131143839568+0.18597131143839568j), (-0.5071982698844111+0j)]\n",
      "     ┌────────────┐    ┌───┐     ┌─────┐\n",
      "q_0: ┤ Ry(2.1849) ├────┤ S ├─────┤ Tdg ├\n",
      "     ├────────────┤┌───┴───┴────┐└┬───┬┘\n",
      "q_1: ┤ Ry(4.5511) ├┤ Ry(2.4782) ├─┤ Z ├─\n",
      "     └─────┬──────┘├────────────┤ ├───┤ \n",
      "q_2: ──────■───────┤ Rx(4.9855) ├─┤ T ├─\n",
      "                   └────────────┘ └───┘ \n"
     ]
    },
    {
     "name": "stderr",
     "output_type": "stream",
     "text": [
      "Hadamard tests V_dagger_V Progress: 100%|██████████| 9/9 [00:00<00:00, 13.52it/s]\n",
      "Hadamard tests q Progress: 100%|██████████| 3/3 [00:00<00:00, 14.70it/s]\n"
     ]
    },
    {
     "name": "stdout",
     "output_type": "stream",
     "text": [
      "0.9101495742797852\n",
      "loss: 0.898072151674952\n",
      "combination parameters are: [(0.12459266930818558+5.748853972045564e-18j)]\n"
     ]
    },
    {
     "name": "stderr",
     "output_type": "stream",
     "text": [
      "Hadamard tests V_dagger_V Progress: 100%|██████████| 27/27 [00:01<00:00, 14.42it/s]\n",
      "Hadamard tests q Progress: 100%|██████████| 6/6 [00:00<00:00, 15.39it/s]\n"
     ]
    },
    {
     "name": "stdout",
     "output_type": "stream",
     "text": [
      "0.4127660393714905\n",
      "loss: 0.39407949293478506\n",
      "combination parameters are: [(-0.020296486094594002-0.02848016656935215j), (0.308048814535141+0.06055167689919472j)]\n"
     ]
    },
    {
     "name": "stderr",
     "output_type": "stream",
     "text": [
      "Hadamard tests V_dagger_V Progress: 100%|██████████| 54/54 [00:03<00:00, 14.33it/s]\n",
      "Hadamard tests q Progress: 100%|██████████| 9/9 [00:00<00:00, 15.31it/s]\n"
     ]
    },
    {
     "name": "stdout",
     "output_type": "stream",
     "text": [
      "0.3951573967933655\n",
      "loss: 0.39407949293452493\n",
      "combination parameters are: [(-0.19980309903621674+0.3634053170681j), (0.3080490529537201+0.06055164709687233j), (0.17950649559497833-0.3918853998184204j)]\n"
     ]
    },
    {
     "name": "stderr",
     "output_type": "stream",
     "text": [
      "Hadamard tests V_dagger_V Progress: 100%|██████████| 90/90 [00:06<00:00, 14.85it/s]\n",
      "Hadamard tests q Progress: 100%|██████████| 12/12 [00:00<00:00, 14.78it/s]\n"
     ]
    },
    {
     "name": "stdout",
     "output_type": "stream",
     "text": [
      "0.23272740840911865\n",
      "loss: 0.22154658395363735\n",
      "combination parameters are: [(-0.22539420425891876-0.562229573726654j), (0.5859279036521912+0.35931283235549927j), (0.2328120619058609+0.5635465979576111j), (0.3121170401573181+0.33557233214378357j)]\n"
     ]
    },
    {
     "name": "stderr",
     "output_type": "stream",
     "text": [
      "Hadamard tests V_dagger_V Progress: 100%|██████████| 135/135 [00:09<00:00, 13.62it/s]\n",
      "Hadamard tests q Progress: 100%|██████████| 15/15 [00:01<00:00, 14.06it/s]\n"
     ]
    },
    {
     "name": "stdout",
     "output_type": "stream",
     "text": [
      "0.1683332920074463\n",
      "loss: 0.16492315352121356\n",
      "combination parameters are: [(1.2547595500946045-0.5926841497421265j), (0.5076608657836914+0.49802422523498535j), (-1.2273344993591309+0.5585430264472961j), (0.23824168741703033+0.46650031208992004j), (-0.057576004415750504+0.10203983634710312j)]\n"
     ]
    },
    {
     "name": "stderr",
     "output_type": "stream",
     "text": [
      "Hadamard tests V_dagger_V Progress: 100%|██████████| 189/189 [00:13<00:00, 13.56it/s]\n",
      "Hadamard tests q Progress: 100%|██████████| 18/18 [00:01<00:00, 15.33it/s]\n"
     ]
    },
    {
     "name": "stdout",
     "output_type": "stream",
     "text": [
      "1.0728836059570312e-06\n",
      "loss: 0.00024147122019524403\n",
      "combination parameters are: [(0.5813892483711243-0.04404175654053688j), (0.8939929604530334-0.8468700051307678j), (-0.4296942949295044+0.013124597258865833j), (0.7552989721298218-0.9827667474746704j), (-0.10210564732551575+0.10488453507423401j), (-0.18992266058921814+0.5573947429656982j)]\n",
      "[1, 2, 3, 4, 5, 6]\n",
      "[0.898072151674952, 0.39407949293478506, 0.39407949293452493, 0.22154658395363735, 0.16492315352121356, 0.00024147122019524403]\n",
      "ANsatz tree contains:\n"
     ]
    }
   ],
   "execution_count": 4
  },
  {
   "metadata": {},
   "cell_type": "markdown",
   "source": "# NOISELESS",
   "id": "e56b0d3d31527cf7"
  },
  {
   "metadata": {
    "ExecuteTime": {
     "end_time": "2025-03-11T07:50:58.598504Z",
     "start_time": "2025-03-11T07:50:51.196886Z"
    }
   },
   "cell_type": "code",
   "source": [
    "Q_true, r_true = calculate_Q_r(instance, ansatz_tree, backend='qiskit-noiseless', ITR=None,\n",
    "                               shots=0, optimization_level=2,\n",
    "                               noise_level_two_qubit=0, noise_level_one_qubit=0, readout_error=0)"
   ],
   "id": "3dd58c838ecc41ab",
   "outputs": [
    {
     "name": "stderr",
     "output_type": "stream",
     "text": [
      "Hadamard tests V_dagger_V Progress: 100%|██████████| 90/90 [00:06<00:00, 14.42it/s]\n",
      "Hadamard tests q Progress: 100%|██████████| 12/12 [00:01<00:00, 10.42it/s]\n"
     ]
    }
   ],
   "execution_count": 4
  },
  {
   "metadata": {
    "ExecuteTime": {
     "end_time": "2025-03-11T07:50:59.351983Z",
     "start_time": "2025-03-11T07:50:58.598504Z"
    }
   },
   "cell_type": "code",
   "source": [
    "loss_test,alphas_true=solve_combination_parameters(Q_true,r_true,'ADAM')\n",
    "print(loss_test)\n",
    "print(alphas_true)\n",
    "print(losses)\n",
    "plt.plot(losses[0],\"-o\")\n",
    "plt.yscale('log')\n",
    "plt.show()"
   ],
   "id": "cf15aa8c6f769649",
   "outputs": [
    {
     "name": "stdout",
     "output_type": "stream",
     "text": [
      "0.0\n",
      "6.769962646036021e-08\n",
      "[(1.3968349195637987e-17-0.09446858614683151j), (0.31842896342277527-3.953983877624311e-17j), (6.302547829137124e-17-0.1695561707019806j), (0.07648002356290817+2.067090932673269e-17j)]\n",
      "[[1.0, 0.23874246416144873, 0.04036166897397997, 6.769986671262274e-08]]\n"
     ]
    },
    {
     "data": {
      "text/plain": [
       "<Figure size 640x480 with 1 Axes>"
      ],
      "image/png": "[encoded data removed]"
     },
     "metadata": {},
     "output_type": "display_data"
    }
   ],
   "execution_count": 5
  },
  {
   "metadata": {
    "ExecuteTime": {
     "end_time": "2025-03-11T07:50:59.358021Z",
     "start_time": "2025-03-11T07:50:59.351983Z"
    }
   },
   "cell_type": "code",
   "source": [
    "def find_true_loss_function(alphas,Q=Q_true,r=r_true):\n",
    "    x=np.vstack((np.real(alphas),np.imag(alphas))).reshape(-1,1)\n",
    "    depth=len(alphas)\n",
    "    size_Q=len(Q)//2\n",
    "    # Define the four sectors (quadrants)\n",
    "    q1 = Q[:depth:, :depth:]\n",
    "    q2 = Q[:depth:, size_Q:size_Q+depth:]\n",
    "    q3 = Q[size_Q:size_Q+depth:, :depth:]\n",
    "    q4 = Q[size_Q:size_Q+depth:, size_Q:size_Q+depth:]\n",
    "\n",
    "\n",
    "    # Stack them back together\n",
    "    top = np.hstack((q1, q2))\n",
    "    bottom = np.hstack((q3, q4))\n",
    "    Q1 = np.vstack((top, bottom))\n",
    "    \n",
    "    r1=r[:depth:]\n",
    "    r2=r[size_Q:size_Q+depth:]\n",
    "    \n",
    "    r1=np.vstack((r1,r2)).reshape(-1,1)\n",
    "\n",
    "    xt=torch.Tensor(x)\n",
    "    Qt=torch.Tensor(Q1)*2\n",
    "    rt=torch.Tensor(r1)*(-2)\n",
    "    return (0.5*xt.T@torch.matmul(Qt, xt)+ rt.T@xt + 1).item()\n",
    "\n"
   ],
   "id": "79c225637c34d64e",
   "outputs": [],
   "execution_count": 6
  },
  {
   "metadata": {},
   "cell_type": "markdown",
   "source": "# Noisy",
   "id": "ad83363b7c0bf2f"
  },
  {
   "metadata": {
    "ExecuteTime": {
     "end_time": "2025-03-11T08:15:06.453300Z",
     "start_time": "2025-03-11T07:52:46.135762Z"
    }
   },
   "cell_type": "code",
   "source": [
    "def process_noise_level(noises_level,device='qiskit_native'):\n",
    "    V_dagger_V_noisy = __estimate_V_dagger_V(\n",
    "        instance, ansatz_tree, loss_type=None, backend='qiskit-noisy', shots=1024, \n",
    "        optimization_level=2, noise_level_two_qubit=noises_level, \n",
    "        noise_level_one_qubit=0.001, readout_error=0.007,device=device\n",
    "    )\n",
    "    \n",
    "    q_noisy = __estimate_q(\n",
    "        instance, ansatz_tree, backend='qiskit-noisy', shots=1024, \n",
    "        optimization_level=2, noise_level_two_qubit=noises_level, \n",
    "        noise_level_one_qubit=0.001, readout_error=0.007,device=device\n",
    "    )\n",
    "    \n",
    "    losses_noisy = []\n",
    "    alphas_list = []\n",
    "    losses_true = []\n",
    "    \n",
    "    for depth in tqdm(range(len(ansatz_tree)), desc=f\"Noise {noises_level}\"):\n",
    "        Q, r = __reshape_to_Q_r(V_dagger_V_noisy[:depth+1, :depth+1], q_noisy[:depth+1])\n",
    "        loss, alphas = solve_combination_parameters(Q, r, which_opt='ADAM')\n",
    "        losses_noisy.append(loss)\n",
    "        alphas_list.append(alphas)  # Store alphas for each depth\n",
    "        losses_true+=[find_true_loss_function(alphas)]\n",
    "    \n",
    "    \n",
    "    plt.plot(losses[0], \"-o\", label=\"Losses\")\n",
    "    plt.plot(losses_noisy, \"-o\", label=f\"Losses Noisy train (level={noises_level})\")\n",
    "    plt.plot(losses_true, \"-o\", label=f\"Losses Noisy perform (level={noises_level})\")\n",
    "    plt.legend()\n",
    "    plt.xlabel(\"Depth\")\n",
    "    plt.ylabel(\"Loss\")\n",
    "    plt.title(\"Loss Comparison\")\n",
    "    plt.grid(True)\n",
    "    plt.show()\n",
    "\n",
    "for noises_level in [0.014]:\n",
    "    process_noise_level(noises_level,device=\"Aria\")\n"
   ],
   "id": "a72a6baa5f6e94f9",
   "outputs": [
    {
     "name": "stderr",
     "output_type": "stream",
     "text": [
      "Hadamard tests V_dagger_V Progress: 100%|██████████| 90/90 [19:41<00:00, 13.12s/it]\n",
      "Hadamard tests q Progress: 100%|██████████| 12/12 [02:37<00:00, 13.16s/it]\n",
      "Noise 0.014:  25%|██▌       | 1/4 [00:00<00:00,  3.83it/s]"
     ]
    },
    {
     "name": "stdout",
     "output_type": "stream",
     "text": [
      "1.0188900232315063\n"
     ]
    },
    {
     "name": "stderr",
     "output_type": "stream",
     "text": [
      "Noise 0.014:  50%|█████     | 2/4 [00:00<00:00,  3.93it/s]"
     ]
    },
    {
     "name": "stdout",
     "output_type": "stream",
     "text": [
      "0.36840617656707764\n"
     ]
    },
    {
     "name": "stderr",
     "output_type": "stream",
     "text": [
      "Noise 0.014:  75%|███████▌  | 3/4 [00:00<00:00,  3.86it/s]"
     ]
    },
    {
     "name": "stdout",
     "output_type": "stream",
     "text": [
      "0.03430318832397461\n"
     ]
    },
    {
     "name": "stderr",
     "output_type": "stream",
     "text": [
      "Noise 0.014: 100%|██████████| 4/4 [00:01<00:00,  3.12it/s]"
     ]
    },
    {
     "name": "stdout",
     "output_type": "stream",
     "text": [
      "2.384185791015625e-07\n"
     ]
    },
    {
     "name": "stderr",
     "output_type": "stream",
     "text": [
      "\n"
     ]
    },
    {
     "data": {
      "text/plain": [
       "<Figure size 640x480 with 1 Axes>"
      ],
      "image/png": "[encoded data removed]"
     },
     "metadata": {},
     "output_type": "display_data"
    }
   ],
   "execution_count": 9
  },
  {
   "metadata": {
    "ExecuteTime": {
     "end_time": "2025-03-11T06:30:21.450828Z",
     "start_time": "2025-03-11T06:30:21.447890Z"
    }
   },
   "cell_type": "code",
   "source": "",
   "id": "87a3f81ce322ff48",
   "outputs": [],
   "execution_count": 39
  },
  {
   "metadata": {
    "ExecuteTime": {
     "end_time": "2025-03-10T10:11:36.474739Z",
     "start_time": "2025-03-10T10:11:36.473070Z"
    }
   },
   "cell_type": "code",
   "source": "",
   "id": "1df97c5015d41629",
   "outputs": [],
   "execution_count": 6
  },
  {
   "metadata": {
    "ExecuteTime": {
     "end_time": "2025-03-10T10:04:03.348956Z",
     "start_time": "2025-03-10T10:04:03.346645Z"
    }
   },
   "cell_type": "code",
   "source": "",
   "id": "612eec9f63c3e648",
   "outputs": [],
   "execution_count": 6
  },
  {
   "metadata": {
    "ExecuteTime": {
     "end_time": "2025-03-10T10:04:03.351984Z",
     "start_time": "2025-03-10T10:04:03.348956Z"
    }
   },
   "cell_type": "code",
   "source": "",
   "id": "b9924f4a14ff8d6d",
   "outputs": [],
   "execution_count": 6
  },
  {
   "metadata": {},
   "cell_type": "code",
   "outputs": [],
   "execution_count": null,
   "source": "",
   "id": "cbe9f88e1d9f5188"
  }
 ],
 "metadata": {
  "kernelspec": {
   "display_name": "Python 3",
   "language": "python",
   "name": "python3"
  },
  "language_info": {
   "codemirror_mode": {
    "name": "ipython",
    "version": 2
   },
   "file_extension": ".py",
   "mimetype": "text/x-python",
   "name": "python",
   "nbconvert_exporter": "python",
   "pygments_lexer": "ipython2",
   "version": "2.7.6"
  }
 },
 "nbformat": 4,
 "nbformat_minor": 5
}

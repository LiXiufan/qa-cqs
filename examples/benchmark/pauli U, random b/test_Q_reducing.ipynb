{
 "cells": [
  {
   "cell_type": "code",
   "id": "initial_id",
   "metadata": {
    "collapsed": true,
    "ExecuteTime": {
     "end_time": "2025-03-10T10:09:43.084718Z",
     "start_time": "2025-03-10T10:09:38.072277Z"
    }
   },
   "source": [
    "import numpy as np\n",
    "from joblib import Parallel, delayed\n",
    "import csv\n",
    "from cqs.object import Instance\n",
    "from qiskit import QuantumCircuit, QuantumRegister, ClassicalRegister\n",
    "from qiskit.circuit.random import random_circuit\n",
    "import qiskit.qasm3 as qasm3\n",
    "from instances_b.reader_b import read_csv_b\n",
    "from transpiler.transpile import transpile_circuit\n",
    "from examples.benchmark.cqs_simulation import main_prober, main_solver\n",
    "from qiskit.quantum_info import Operator\n",
    "from tqdm import tqdm\n",
    "from cqs.local.calculation import __estimate_V_dagger_V,__estimate_q,__reshape_to_Q_r\n",
    "from cqs.optimization import solve_combination_parameters\n",
    "from matplotlib import pyplot as plt\n",
    "import time\n",
    "import torch\n",
    "from cqs.local.calculation import calculate_Q_r\n",
    "import numpy as np\n",
    "import pandas as pd\n",
    "def normalize_quantum_state(vec):\n",
    "    norm=np.sqrt(np.abs(vec.T.conjugate()@vec))\n",
    "    return vec/norm\n",
    "\n",
    "def __num_to_pauli_list(num_list):\n",
    "    paulis = ['I', 'X', 'Y', 'Z']\n",
    "    pauli_list = [paulis[int(i)] for i in num_list]\n",
    "    return pauli_list\n",
    "\n",
    "def __add_Pauli_gate(qc, which_qubit, which_gate):\n",
    "    if which_gate == 0:\n",
    "        qc.id(which_qubit)\n",
    "    elif which_gate == 1:\n",
    "        qc.x(which_qubit)\n",
    "    elif which_gate == 2:\n",
    "        qc.y(which_qubit)\n",
    "    elif which_gate == 3:\n",
    "        qc.z(which_qubit)\n",
    "    else:\n",
    "        return ValueError(\"Not supported Pauli gate type.\")\n",
    "\n",
    "def __num_to_pauli_circuit(num_list):\n",
    "    n = len(num_list)\n",
    "    num_list = [int(i) for i in num_list]\n",
    "    qr = QuantumRegister(n, 'q')\n",
    "    qc = QuantumCircuit(qr)\n",
    "    for i in range(n):\n",
    "        __add_Pauli_gate(qc, i, num_list[i])\n",
    "    return qc\n",
    "\n",
    "def create_random_circuit_in_native_gate(n, d):\n",
    "    ub = random_circuit(num_qubits=n,max_operands=2, depth=d, measure=False)\n",
    "    # ub = transpile_circuit(ub, device='Aria', optimization_level=2)\n",
    "    return ub"
   ],
   "outputs": [],
   "execution_count": 1
  },
  {
   "metadata": {
    "ExecuteTime": {
     "end_time": "2025-03-10T10:10:28.874517Z",
     "start_time": "2025-03-10T10:09:43.085754Z"
    }
   },
   "cell_type": "code",
   "source": [
    "with open('3_qubit_data_generation_matrix_A.csv', 'r', newline='') as csvfile:\n",
    "    data_b = read_csv_b(3)\n",
    "    reader = csv.reader(csvfile, delimiter=' ', quotechar='|')\n",
    "    for i, row in enumerate(reader):\n",
    "        if 2 > i > 0:\n",
    "            row_clean = [j for j in ''.join(row).split('\"') if j != ',']\n",
    "            nLc = row_clean[0].split(',')\n",
    "            n = int(nLc[0])\n",
    "            print(\"qubit number is:\", n)\n",
    "            L = int(nLc[1])\n",
    "            print(\"term number is:\", L)\n",
    "            kappa = float(nLc[2])\n",
    "            print('condition number is', kappa)\n",
    "            pauli_strings = [__num_to_pauli_list(l) for l in eval(row_clean[1])]\n",
    "            print('Pauli strings are:', pauli_strings)\n",
    "            pauli_circuits = [__num_to_pauli_circuit(l) for l in eval(row_clean[1])]\n",
    "            coeffs = [float(i) for i in eval(row_clean[2])]\n",
    "            print('coefficients are:', coeffs)\n",
    "            print()\n",
    "\n",
    "            # circuit depth d\n",
    "            d = 3\n",
    "            ub = qasm3.loads(data_b.iloc[i].qasm)\n",
    "            print('Ub is given by:', data_b.iloc[i].b)\n",
    "            print(ub)\n",
    "\n",
    "            # generate instance\n",
    "            instance = Instance(n, L, kappa)\n",
    "            instance.generate(given_coeffs=coeffs, given_unitaries=pauli_circuits, given_ub=ub)\n",
    "            Itr, LOSS, ansatz_tree = main_prober(instance, backend='qiskit-noiseless',ITR=None,\n",
    "                                    shots=0, optimization_level=2,\n",
    "                                    noise_level_two_qubit=0, noise_level_one_qubit=0, readout_error=0)\n",
    "            print(Itr)\n",
    "            print(LOSS)\n",
    "            print('ANsatz tree contains:')\n",
    "            # for qc in ansatz_tree:\n",
    "            #     print(qc)\n",
    "ansatz_tree=[ansatz_tree[i] for i in range(len(ansatz_tree)-1)]"
   ],
   "id": "e9aec0c9870f25b8",
   "outputs": [
    {
     "name": "stdout",
     "output_type": "stream",
     "text": [
      "Resolved file path: C:\\Users\\Nikita\\PycharmProjects\\CQS_singapore\\instances_b\\3_b_random_circuits.csv\n",
      "Reading file: C:\\Users\\Nikita\\PycharmProjects\\CQS_singapore\\instances_b\\3_b_random_circuits.csv\n",
      "qubit number is: 3\n",
      "term number is: 3\n",
      "condition number is 3.5456037521362305\n",
      "Pauli strings are: [['Y', 'Z', 'Y'], ['I', 'Y', 'Y'], ['X', 'Y', 'I']]\n",
      "coefficients are: [-1.01, 1.17, 2.76]\n",
      "\n",
      "Ub is given by: [(0.7071067811865475+0j), 0j, 0j, 0j, (-0.6099094210942649+0.357785547584665j), 0j, 0j, 0j]\n",
      "                                           \n",
      "q_0: ──────────X───────────■───────■───────\n",
      "               │           │ ┌─────┴──────┐\n",
      "q_1: ──────────X───────────■─┤ Rz(4.3897) ├\n",
      "     ┌───────────────────┐   └────────────┘\n",
      "q_2: ┤ U2(2.6111,5.8783) ├─────────────────\n",
      "     └───────────────────┘                 \n"
     ]
    },
    {
     "name": "stderr",
     "output_type": "stream",
     "text": [
      "Hadamard tests V_dagger_V Progress: 100%|██████████| 9/9 [00:01<00:00,  7.21it/s]\n",
      "Hadamard tests q Progress: 100%|██████████| 3/3 [00:00<00:00, 15.79it/s]\n",
      "C:\\Users\\Nikita\\PycharmProjects\\CQS_singapore\\cqs\\optimization.py:91: UserWarning: The use of `x.T` on tensors of dimension other than 2 to reverse their shape is deprecated and it will throw an error in a future release. Consider `x.mT` to transpose batches of matrices or `x.permute(*torch.arange(x.ndim - 1, -1, -1))` to reverse the dimensions of a tensor. (Triggered internally at C:\\actions-runner\\_work\\pytorch\\pytorch\\pytorch\\aten\\src\\ATen\\native\\TensorShape.cpp:3729.)\n",
      "  return torch.abs(0.5*torch.matmul(x.T, torch.matmul(Q, x)) + torch.matmul(r.T, x) + 1)\n"
     ]
    },
    {
     "name": "stdout",
     "output_type": "stream",
     "text": [
      "loss: 1.0\n",
      "combination parameters are: [(8.87592818012649e-19+2.176216515096441e-42j)]\n"
     ]
    },
    {
     "name": "stderr",
     "output_type": "stream",
     "text": [
      "Hadamard tests V_dagger_V Progress: 100%|██████████| 27/27 [00:01<00:00, 15.18it/s]\n",
      "Hadamard tests q Progress: 100%|██████████| 6/6 [00:00<00:00, 15.84it/s]\n"
     ]
    },
    {
     "name": "stdout",
     "output_type": "stream",
     "text": [
      "loss: 0.23874246416147027\n",
      "combination parameters are: [(2.0200095906450677e-18+1.224068901491177e-17j), (0.2758179008960724-3.0621905330635414e-17j)]\n"
     ]
    },
    {
     "name": "stderr",
     "output_type": "stream",
     "text": [
      "Hadamard tests V_dagger_V Progress: 100%|██████████| 54/54 [00:03<00:00, 14.81it/s]\n",
      "Hadamard tests q Progress: 100%|██████████| 9/9 [00:00<00:00, 15.90it/s]\n"
     ]
    },
    {
     "name": "stdout",
     "output_type": "stream",
     "text": [
      "loss: 0.04036166897399318\n",
      "combination parameters are: [(1.0263173139899624e-17-0.0944686084985733j), (0.27581796050071716-4.234503322653704e-17j), (5.660840962253187e-17-0.16955620050430298j)]\n"
     ]
    },
    {
     "name": "stderr",
     "output_type": "stream",
     "text": [
      "Hadamard tests V_dagger_V Progress: 100%|██████████| 90/90 [00:06<00:00, 14.82it/s]\n",
      "Hadamard tests q Progress: 100%|██████████| 12/12 [00:00<00:00, 15.27it/s]\n"
     ]
    },
    {
     "name": "stdout",
     "output_type": "stream",
     "text": [
      "loss: 6.769973071030222e-08\n",
      "combination parameters are: [(1.396838559158494e-17-0.09446855634450912j), (0.31842899322509766-3.953982885007576e-17j), (6.302551137859575e-17-0.16955609619617462j), (0.07648006081581116+2.0670917598538816e-17j)]\n",
      "[1, 2, 3, 4]\n",
      "[1.0, 0.23874246416147027, 0.04036166897399318, 6.769973071030222e-08]\n",
      "ANsatz tree contains:\n"
     ]
    }
   ],
   "execution_count": 2
  },
  {
   "metadata": {},
   "cell_type": "markdown",
   "source": "# NOISELESS",
   "id": "e56b0d3d31527cf7"
  },
  {
   "metadata": {
    "ExecuteTime": {
     "end_time": "2025-03-10T10:10:47.233013Z",
     "start_time": "2025-03-10T10:10:28.875515Z"
    }
   },
   "cell_type": "code",
   "source": [
    "V_dagger_V=__estimate_V_dagger_V(instance, ansatz_tree,loss_type=None, backend='qiskit-noiseless', ITR=None, shots=0, optimization_level=2)\n",
    "q=__estimate_q(instance, ansatz_tree, backend='qiskit-noiseless', ITR=None, shots=0, optimization_level=2)\n",
    "losses=[]\n",
    "for depth in tqdm(range(len(ansatz_tree))):\n",
    "    Q, r = __reshape_to_Q_r(V_dagger_V[:depth+1:,:depth+1:], q[:depth+1:])\n",
    "    loss, _ = solve_combination_parameters(Q, r, which_opt='ADAM')\n",
    "    losses+=[loss]"
   ],
   "id": "79c225637c34d64e",
   "outputs": [
    {
     "name": "stderr",
     "output_type": "stream",
     "text": [
      "Hadamard tests V_dagger_V Progress: 100%|██████████| 90/90 [00:07<00:00, 11.44it/s]\n",
      "Hadamard tests q Progress: 100%|██████████| 12/12 [00:00<00:00, 12.25it/s]\n",
      "100%|██████████| 4/4 [00:09<00:00,  2.38s/it]\n"
     ]
    }
   ],
   "execution_count": 3
  },
  {
   "metadata": {
    "ExecuteTime": {
     "end_time": "2025-03-10T10:10:47.537542Z",
     "start_time": "2025-03-10T10:10:47.234010Z"
    }
   },
   "cell_type": "code",
   "source": [
    "plt.plot(losses,\"-o\")\n",
    "plt.yscale('log')"
   ],
   "id": "f4ad6349be3ee38b",
   "outputs": [
    {
     "data": {
      "text/plain": [
       "<Figure size 640x480 with 1 Axes>"
      ],
      "image/png": "[encoded data removed]"
     },
     "metadata": {},
     "output_type": "display_data"
    }
   ],
   "execution_count": 4
  },
  {
   "metadata": {},
   "cell_type": "markdown",
   "source": "# Noisy",
   "id": "ad83363b7c0bf2f"
  },
  {
   "metadata": {
    "ExecuteTime": {
     "end_time": "2025-03-10T10:10:56.734126Z",
     "start_time": "2025-03-10T10:10:47.538540Z"
    }
   },
   "cell_type": "code",
   "source": [
    "Q_true, r_true = calculate_Q_r(instance, ansatz_tree, backend='qiskit-noiseless', ITR=None,\n",
    "                               shots=0, optimization_level=2,\n",
    "                               noise_level_two_qubit=0, noise_level_one_qubit=0, readout_error=0)\n",
    "def find_true_loss_function(alphas,Q=Q_true,r=r_true):\n",
    "    x=np.vstack((np.real(alphas),np.imag(alphas))).reshape(-1,1)\n",
    "    depth=len(alphas)-1\n",
    "    # Define the four sectors (quadrants)\n",
    "    q1 = Q[:depth+1, :depth+1]\n",
    "    q2 = Q[:depth+1, 4:4+depth+1]\n",
    "    q3 = Q[4:4+depth+1, :depth+1]\n",
    "    q4 = Q[4:4+depth+1, 4:4+depth+1]\n",
    "    \n",
    "    # Stack them back together\n",
    "    top = np.hstack((q1, q2))\n",
    "    bottom = np.hstack((q3, q4))\n",
    "    Q1 = np.vstack((top, bottom))\n",
    "    \n",
    "    r1=r[:depth+1]\n",
    "    r2=r[4:4+depth+1]\n",
    "    \n",
    "    r1=np.vstack((r1,r2)).reshape(-1,1)\n",
    "    xt=torch.Tensor(x)\n",
    "    Qt=torch.Tensor(Q1)*2\n",
    "    rt=torch.Tensor(r1)*(-2)\n",
    "    return (0.5*torch.matmul(xt.T, torch.matmul(Qt, xt))+ torch.matmul(rt.T, xt) + 1).item()"
   ],
   "id": "532526d5f9056713",
   "outputs": [
    {
     "name": "stderr",
     "output_type": "stream",
     "text": [
      "Hadamard tests V_dagger_V Progress: 100%|██████████| 90/90 [00:08<00:00, 11.17it/s]\n",
      "Hadamard tests q Progress: 100%|██████████| 12/12 [00:01<00:00, 10.64it/s]\n"
     ]
    }
   ],
   "execution_count": 5
  },
  {
   "metadata": {
    "ExecuteTime": {
     "end_time": "2025-03-10T10:11:36.468984Z",
     "start_time": "2025-03-10T10:10:56.734126Z"
    }
   },
   "cell_type": "code",
   "source": [
    "def process_noise_level(noises_level,device='qiskit_native'):\n",
    "    V_dagger_V_noisy = __estimate_V_dagger_V(\n",
    "        instance, ansatz_tree, loss_type=None, backend='qiskit-noisy', shots=0, \n",
    "        optimization_level=2, noise_level_two_qubit=noises_level, \n",
    "        noise_level_one_qubit=0.001, readout_error=0.007,device=device\n",
    "    )\n",
    "    \n",
    "    q_noisy = __estimate_q(\n",
    "        instance, ansatz_tree, backend='qiskit-noisy', shots=0, \n",
    "        optimization_level=2, noise_level_two_qubit=noises_level, \n",
    "        noise_level_one_qubit=0.001, readout_error=0.007,device=device\n",
    "    )\n",
    "    \n",
    "    losses_noisy = []\n",
    "    alphas_list = []\n",
    "    losses_true = []\n",
    "    \n",
    "    for depth in tqdm(range(len(ansatz_tree)), desc=f\"Noise {noises_level}\"):\n",
    "        Q, r = __reshape_to_Q_r(V_dagger_V_noisy[:depth+1, :depth+1], q_noisy[:depth+1])\n",
    "        loss, alphas = solve_combination_parameters(Q, r, which_opt='ADAM')\n",
    "        losses_noisy.append(loss)\n",
    "        alphas_list.append(alphas)  # Store alphas for each depth\n",
    "        losses_true+=[find_true_loss_function(alphas)]\n",
    "    \n",
    "    \n",
    "    plt.plot(losses, \"-o\", label=\"Losses\")\n",
    "    plt.plot(losses_noisy, \"-o\", label=f\"Losses Noisy train (level={noises_level})\")\n",
    "    plt.plot(losses_true, \"-o\", label=f\"Losses Noisy perform (level={noises_level})\")\n",
    "    plt.legend()\n",
    "    plt.xlabel(\"Depth\")\n",
    "    plt.ylabel(\"Loss\")\n",
    "    plt.title(\"Loss Comparison\")\n",
    "    plt.grid(True)\n",
    "    plt.show()\n",
    "\n",
    "for noises_level in [0.014]:\n",
    "    process_noise_level(noises_level)\n"
   ],
   "id": "a72a6baa5f6e94f9",
   "outputs": [
    {
     "name": "stderr",
     "output_type": "stream",
     "text": [
      "Hadamard tests V_dagger_V Progress:   1%|          | 1/90 [00:00<00:20,  4.42it/s]"
     ]
    },
    {
     "name": "stdout",
     "output_type": "stream",
     "text": [
      "IsingZZ Wires([2, 1]) хуй\n",
      "IsingZZ Wires([2, 1]) хуй\n",
      "IsingZZ Wires([0, 2]) хуй\n",
      "IsingZZ Wires([0, 1]) хуй\n",
      "IsingZZ Wires([0, 3]) хуй\n",
      "IsingZZ Wires([0, 2]) хуй\n",
      "IsingZZ Wires([0, 1]) хуй\n",
      "IsingZZ Wires([0, 3]) хуй\n",
      "IsingZZ Wires([2, 1]) хуй\n",
      "IsingZZ Wires([2, 1]) хуй\n",
      "IsingZZ Wires([0, 2]) хуй\n",
      "IsingZZ Wires([0, 1]) хуй\n",
      "IsingZZ Wires([0, 3]) хуй\n",
      "IsingZZ Wires([0, 2]) хуй\n",
      "IsingZZ Wires([0, 1]) хуй\n",
      "IsingZZ Wires([0, 3]) хуй\n",
      "IsingZZ Wires([2, 1]) хуй\n",
      "IsingZZ Wires([2, 1]) хуй\n",
      "IsingZZ Wires([0, 2]) хуй\n",
      "IsingZZ Wires([0, 1]) хуй\n",
      "IsingZZ Wires([0, 3]) хуй\n",
      "IsingZZ Wires([0, 1]) хуй\n",
      "IsingZZ Wires([0, 3]) хуй\n"
     ]
    },
    {
     "name": "stderr",
     "output_type": "stream",
     "text": [
      "Hadamard tests V_dagger_V Progress:   2%|▏         | 2/90 [00:00<00:18,  4.78it/s]"
     ]
    },
    {
     "name": "stdout",
     "output_type": "stream",
     "text": [
      "IsingZZ Wires([2, 1]) хуй\n",
      "IsingZZ Wires([2, 1]) хуй\n",
      "IsingZZ Wires([0, 2]) хуй\n",
      "IsingZZ Wires([0, 1]) хуй\n",
      "IsingZZ Wires([0, 3]) хуй\n",
      "IsingZZ Wires([0, 1]) хуй\n",
      "IsingZZ Wires([0, 3]) хуй\n",
      "IsingZZ Wires([2, 1]) хуй\n",
      "IsingZZ Wires([2, 1]) хуй\n",
      "IsingZZ Wires([0, 2]) хуй\n",
      "IsingZZ Wires([0, 1]) хуй\n",
      "IsingZZ Wires([0, 3]) хуй\n",
      "IsingZZ Wires([0, 2]) хуй\n",
      "IsingZZ Wires([0, 1]) хуй\n",
      "IsingZZ Wires([2, 1]) хуй\n",
      "IsingZZ Wires([2, 1]) хуй\n",
      "IsingZZ Wires([0, 2]) хуй\n",
      "IsingZZ Wires([0, 1]) хуй\n",
      "IsingZZ Wires([0, 3]) хуй\n",
      "IsingZZ Wires([0, 2]) хуй\n",
      "IsingZZ Wires([0, 1]) хуй\n"
     ]
    },
    {
     "name": "stderr",
     "output_type": "stream",
     "text": [
      "Hadamard tests V_dagger_V Progress:   4%|▍         | 4/90 [00:00<00:17,  4.97it/s]"
     ]
    },
    {
     "name": "stdout",
     "output_type": "stream",
     "text": [
      "IsingZZ Wires([2, 1]) хуй\n",
      "IsingZZ Wires([2, 1]) хуй\n",
      "IsingZZ Wires([0, 1]) хуй\n",
      "IsingZZ Wires([0, 3]) хуй\n",
      "IsingZZ Wires([0, 2]) хуй\n",
      "IsingZZ Wires([0, 1]) хуй\n",
      "IsingZZ Wires([0, 3]) хуй\n",
      "IsingZZ Wires([2, 1]) хуй\n",
      "IsingZZ Wires([2, 1]) хуй\n",
      "IsingZZ Wires([0, 1]) хуй\n",
      "IsingZZ Wires([0, 3]) хуй\n",
      "IsingZZ Wires([0, 2]) хуй\n",
      "IsingZZ Wires([0, 1]) хуй\n",
      "IsingZZ Wires([0, 3]) хуй\n",
      "IsingZZ Wires([2, 1]) хуй\n",
      "IsingZZ Wires([2, 1]) хуй\n",
      "IsingZZ Wires([0, 1]) хуй\n",
      "IsingZZ Wires([0, 3]) хуй\n",
      "IsingZZ Wires([0, 1]) хуй\n",
      "IsingZZ Wires([0, 3]) хуй\n"
     ]
    },
    {
     "name": "stderr",
     "output_type": "stream",
     "text": [
      "Hadamard tests V_dagger_V Progress:   6%|▌         | 5/90 [00:01<00:17,  5.00it/s]"
     ]
    },
    {
     "name": "stdout",
     "output_type": "stream",
     "text": [
      "IsingZZ Wires([2, 1]) хуй\n",
      "IsingZZ Wires([2, 1]) хуй\n",
      "IsingZZ Wires([0, 1]) хуй\n",
      "IsingZZ Wires([0, 3]) хуй\n",
      "IsingZZ Wires([0, 1]) хуй\n",
      "IsingZZ Wires([0, 3]) хуй\n",
      "IsingZZ Wires([2, 1]) хуй\n",
      "IsingZZ Wires([2, 1]) хуй\n",
      "IsingZZ Wires([0, 1]) хуй\n",
      "IsingZZ Wires([0, 3]) хуй\n",
      "IsingZZ Wires([0, 2]) хуй\n",
      "IsingZZ Wires([0, 1]) хуй\n"
     ]
    },
    {
     "name": "stderr",
     "output_type": "stream",
     "text": [
      "Hadamard tests V_dagger_V Progress:   7%|▋         | 6/90 [00:01<00:17,  4.72it/s]"
     ]
    },
    {
     "name": "stdout",
     "output_type": "stream",
     "text": [
      "IsingZZ Wires([2, 1]) хуй\n",
      "IsingZZ Wires([2, 1]) хуй\n",
      "IsingZZ Wires([0, 1]) хуй\n",
      "IsingZZ Wires([0, 3]) хуй\n",
      "IsingZZ Wires([0, 2]) хуй\n",
      "IsingZZ Wires([0, 1]) хуй\n",
      "IsingZZ Wires([2, 1]) хуй\n",
      "IsingZZ Wires([2, 1]) хуй\n",
      "IsingZZ Wires([0, 2]) хуй\n",
      "IsingZZ Wires([0, 1]) хуй\n",
      "IsingZZ Wires([0, 2]) хуй\n",
      "IsingZZ Wires([0, 1]) хуй\n",
      "IsingZZ Wires([0, 3]) хуй\n",
      "IsingZZ Wires([2, 1]) хуй\n",
      "IsingZZ Wires([2, 1]) хуй\n",
      "IsingZZ Wires([0, 2]) хуй\n",
      "IsingZZ Wires([0, 1]) хуй\n",
      "IsingZZ Wires([0, 2]) хуй\n",
      "IsingZZ Wires([0, 1]) хуй\n",
      "IsingZZ Wires([0, 3]) хуй\n"
     ]
    },
    {
     "name": "stderr",
     "output_type": "stream",
     "text": [
      "Hadamard tests V_dagger_V Progress:   9%|▉         | 8/90 [00:01<00:17,  4.58it/s]"
     ]
    },
    {
     "name": "stdout",
     "output_type": "stream",
     "text": [
      "IsingZZ Wires([2, 1]) хуй\n",
      "IsingZZ Wires([2, 1]) хуй\n",
      "IsingZZ Wires([0, 2]) хуй\n",
      "IsingZZ Wires([0, 1]) хуй\n",
      "IsingZZ Wires([0, 1]) хуй\n",
      "IsingZZ Wires([0, 3]) хуй\n",
      "IsingZZ Wires([2, 1]) хуй\n",
      "IsingZZ Wires([2, 1]) хуй\n",
      "IsingZZ Wires([0, 2]) хуй\n",
      "IsingZZ Wires([0, 1]) хуй\n",
      "IsingZZ Wires([0, 1]) хуй\n",
      "IsingZZ Wires([0, 3]) хуй\n",
      "IsingZZ Wires([2, 1]) хуй\n",
      "IsingZZ Wires([2, 1]) хуй\n",
      "IsingZZ Wires([0, 2]) хуй\n",
      "IsingZZ Wires([0, 1]) хуй\n",
      "IsingZZ Wires([0, 2]) хуй\n",
      "IsingZZ Wires([0, 1]) хуй\n"
     ]
    },
    {
     "name": "stderr",
     "output_type": "stream",
     "text": [
      "Hadamard tests V_dagger_V Progress:  10%|█         | 9/90 [00:02<00:34,  2.35it/s]"
     ]
    },
    {
     "name": "stdout",
     "output_type": "stream",
     "text": [
      "IsingZZ Wires([2, 1]) хуй\n",
      "IsingZZ Wires([2, 1]) хуй\n",
      "IsingZZ Wires([0, 2]) хуй\n",
      "IsingZZ Wires([0, 1]) хуй\n",
      "IsingZZ Wires([0, 2]) хуй\n",
      "IsingZZ Wires([0, 1]) хуй\n",
      "IsingZZ Wires([2, 1]) хуй\n",
      "IsingZZ Wires([2, 1]) хуй\n",
      "IsingZZ Wires([0, 2]) хуй\n",
      "IsingZZ Wires([0, 1]) хуй\n",
      "IsingZZ Wires([0, 3]) хуй\n",
      "IsingZZ Wires([0, 2]) хуй\n",
      "IsingZZ Wires([0, 2]) хуй\n",
      "IsingZZ Wires([0, 2]) хуй\n",
      "IsingZZ Wires([0, 1]) хуй\n",
      "IsingZZ Wires([0, 3]) хуй\n",
      "IsingZZ Wires([2, 1]) хуй\n",
      "IsingZZ Wires([2, 1]) хуй\n",
      "IsingZZ Wires([0, 2]) хуй\n",
      "IsingZZ Wires([0, 1]) хуй\n",
      "IsingZZ Wires([0, 3]) хуй\n",
      "IsingZZ Wires([0, 2]) хуй\n",
      "IsingZZ Wires([0, 2]) хуй\n",
      "IsingZZ Wires([0, 2]) хуй\n",
      "IsingZZ Wires([0, 1]) хуй\n",
      "IsingZZ Wires([0, 3]) хуй\n"
     ]
    },
    {
     "name": "stderr",
     "output_type": "stream",
     "text": [
      "Hadamard tests V_dagger_V Progress:  12%|█▏        | 11/90 [00:03<00:25,  3.14it/s]"
     ]
    },
    {
     "name": "stdout",
     "output_type": "stream",
     "text": [
      "IsingZZ Wires([2, 1]) хуй\n",
      "IsingZZ Wires([2, 1]) хуй\n",
      "IsingZZ Wires([0, 2]) хуй\n",
      "IsingZZ Wires([0, 1]) хуй\n",
      "IsingZZ Wires([0, 3]) хуй\n",
      "IsingZZ Wires([0, 2]) хуй\n",
      "IsingZZ Wires([0, 3]) хуй\n",
      "IsingZZ Wires([2, 1]) хуй\n",
      "IsingZZ Wires([2, 1]) хуй\n",
      "IsingZZ Wires([0, 2]) хуй\n",
      "IsingZZ Wires([0, 1]) хуй\n",
      "IsingZZ Wires([0, 3]) хуй\n",
      "IsingZZ Wires([0, 2]) хуй\n",
      "IsingZZ Wires([0, 3]) хуй\n"
     ]
    },
    {
     "name": "stderr",
     "output_type": "stream",
     "text": [
      "Hadamard tests V_dagger_V Progress:  13%|█▎        | 12/90 [00:03<00:22,  3.51it/s]"
     ]
    },
    {
     "name": "stdout",
     "output_type": "stream",
     "text": [
      "IsingZZ Wires([2, 1]) хуй\n",
      "IsingZZ Wires([2, 1]) хуй\n",
      "IsingZZ Wires([0, 2]) хуй\n",
      "IsingZZ Wires([0, 1]) хуй\n",
      "IsingZZ Wires([0, 3]) хуй\n",
      "IsingZZ Wires([2, 1]) хуй\n",
      "IsingZZ Wires([2, 1]) хуй\n",
      "IsingZZ Wires([0, 2]) хуй\n",
      "IsingZZ Wires([0, 1]) хуй\n",
      "IsingZZ Wires([0, 3]) хуй\n",
      "IsingZZ Wires([2, 1]) хуй\n",
      "IsingZZ Wires([2, 1]) хуй\n",
      "IsingZZ Wires([0, 1]) хуй\n",
      "IsingZZ Wires([0, 3]) хуй\n",
      "IsingZZ Wires([0, 2]) хуй\n",
      "IsingZZ Wires([0, 2]) хуй\n",
      "IsingZZ Wires([0, 2]) хуй\n",
      "IsingZZ Wires([0, 1]) хуй\n",
      "IsingZZ Wires([0, 3]) хуй\n"
     ]
    },
    {
     "name": "stderr",
     "output_type": "stream",
     "text": [
      "Hadamard tests V_dagger_V Progress:  14%|█▍        | 13/90 [00:03<00:20,  3.74it/s]"
     ]
    },
    {
     "name": "stdout",
     "output_type": "stream",
     "text": [
      "IsingZZ Wires([2, 1]) хуй\n",
      "IsingZZ Wires([2, 1]) хуй\n",
      "IsingZZ Wires([0, 1]) хуй\n",
      "IsingZZ Wires([0, 3]) хуй\n",
      "IsingZZ Wires([0, 2]) хуй\n",
      "IsingZZ Wires([0, 2]) хуй\n",
      "IsingZZ Wires([0, 2]) хуй\n",
      "IsingZZ Wires([0, 1]) хуй\n",
      "IsingZZ Wires([0, 3]) хуй\n",
      "IsingZZ Wires([2, 1]) хуй\n",
      "IsingZZ Wires([2, 1]) хуй\n",
      "IsingZZ Wires([0, 1]) хуй\n",
      "IsingZZ Wires([0, 3]) хуй\n",
      "IsingZZ Wires([0, 2]) хуй\n",
      "IsingZZ Wires([0, 3]) хуй\n",
      "IsingZZ Wires([2, 1]) хуй\n",
      "IsingZZ Wires([2, 1]) хуй\n",
      "IsingZZ Wires([0, 1]) хуй\n",
      "IsingZZ Wires([0, 3]) хуй\n",
      "IsingZZ Wires([0, 2]) хуй\n",
      "IsingZZ Wires([0, 3]) хуй\n"
     ]
    },
    {
     "name": "stderr",
     "output_type": "stream",
     "text": [
      "Hadamard tests V_dagger_V Progress:  17%|█▋        | 15/90 [00:03<00:17,  4.38it/s]"
     ]
    },
    {
     "name": "stdout",
     "output_type": "stream",
     "text": [
      "IsingZZ Wires([2, 1]) хуй\n",
      "IsingZZ Wires([2, 1]) хуй\n",
      "IsingZZ Wires([0, 1]) хуй\n",
      "IsingZZ Wires([0, 3]) хуй\n",
      "IsingZZ Wires([2, 1]) хуй\n",
      "IsingZZ Wires([2, 1]) хуй\n",
      "IsingZZ Wires([0, 1]) хуй\n",
      "IsingZZ Wires([0, 3]) хуй\n",
      "IsingZZ Wires([2, 1]) хуй\n",
      "IsingZZ Wires([2, 1]) хуй\n",
      "IsingZZ Wires([0, 2]) хуй\n",
      "IsingZZ Wires([0, 1]) хуй\n",
      "IsingZZ Wires([0, 2]) хуй\n",
      "IsingZZ Wires([0, 2]) хуй\n",
      "IsingZZ Wires([0, 2]) хуй\n",
      "IsingZZ Wires([0, 1]) хуй\n",
      "IsingZZ Wires([0, 3]) хуй\n"
     ]
    },
    {
     "name": "stderr",
     "output_type": "stream",
     "text": [
      "Hadamard tests V_dagger_V Progress:  18%|█▊        | 16/90 [00:04<00:16,  4.50it/s]"
     ]
    },
    {
     "name": "stdout",
     "output_type": "stream",
     "text": [
      "IsingZZ Wires([2, 1]) хуй\n",
      "IsingZZ Wires([2, 1]) хуй\n",
      "IsingZZ Wires([0, 2]) хуй\n",
      "IsingZZ Wires([0, 1]) хуй\n",
      "IsingZZ Wires([0, 2]) хуй\n",
      "IsingZZ Wires([0, 2]) хуй\n",
      "IsingZZ Wires([0, 2]) хуй\n",
      "IsingZZ Wires([0, 1]) хуй\n",
      "IsingZZ Wires([0, 3]) хуй\n",
      "IsingZZ Wires([2, 1]) хуй\n",
      "IsingZZ Wires([2, 1]) хуй\n",
      "IsingZZ Wires([0, 2]) хуй\n",
      "IsingZZ Wires([0, 1]) хуй\n",
      "IsingZZ Wires([0, 2]) хуй\n",
      "IsingZZ Wires([0, 3]) хуй\n",
      "IsingZZ Wires([2, 1]) хуй\n",
      "IsingZZ Wires([2, 1]) хуй\n",
      "IsingZZ Wires([0, 2]) хуй\n",
      "IsingZZ Wires([0, 1]) хуй\n",
      "IsingZZ Wires([0, 2]) хуй\n",
      "IsingZZ Wires([0, 3]) хуй\n"
     ]
    },
    {
     "name": "stderr",
     "output_type": "stream",
     "text": [
      "Hadamard tests V_dagger_V Progress:  20%|██        | 18/90 [00:04<00:15,  4.52it/s]"
     ]
    },
    {
     "name": "stdout",
     "output_type": "stream",
     "text": [
      "IsingZZ Wires([2, 1]) хуй\n",
      "IsingZZ Wires([2, 1]) хуй\n",
      "IsingZZ Wires([0, 2]) хуй\n",
      "IsingZZ Wires([0, 1]) хуй\n",
      "IsingZZ Wires([2, 1]) хуй\n",
      "IsingZZ Wires([2, 1]) хуй\n",
      "IsingZZ Wires([0, 2]) хуй\n",
      "IsingZZ Wires([0, 1]) хуй\n",
      "IsingZZ Wires([2, 1]) хуй\n",
      "IsingZZ Wires([2, 1]) хуй\n",
      "IsingZZ Wires([0, 2]) хуй\n",
      "IsingZZ Wires([0, 1]) хуй\n",
      "IsingZZ Wires([0, 3]) хуй\n",
      "IsingZZ Wires([0, 2]) хуй\n",
      "IsingZZ Wires([0, 2]) хуй\n",
      "IsingZZ Wires([0, 2]) хуй\n",
      "IsingZZ Wires([0, 2]) хуй\n",
      "IsingZZ Wires([0, 2]) хуй\n",
      "IsingZZ Wires([0, 1]) хуй\n"
     ]
    },
    {
     "name": "stderr",
     "output_type": "stream",
     "text": [
      "Hadamard tests V_dagger_V Progress:  21%|██        | 19/90 [00:04<00:16,  4.19it/s]"
     ]
    },
    {
     "name": "stdout",
     "output_type": "stream",
     "text": [
      "IsingZZ Wires([2, 1]) хуй\n",
      "IsingZZ Wires([2, 1]) хуй\n",
      "IsingZZ Wires([0, 2]) хуй\n",
      "IsingZZ Wires([0, 1]) хуй\n",
      "IsingZZ Wires([0, 3]) хуй\n",
      "IsingZZ Wires([0, 2]) хуй\n",
      "IsingZZ Wires([0, 2]) хуй\n",
      "IsingZZ Wires([0, 2]) хуй\n",
      "IsingZZ Wires([0, 2]) хуй\n",
      "IsingZZ Wires([0, 2]) хуй\n",
      "IsingZZ Wires([0, 1]) хуй\n",
      "IsingZZ Wires([2, 1]) хуй\n",
      "IsingZZ Wires([2, 1]) хуй\n",
      "IsingZZ Wires([0, 2]) хуй\n",
      "IsingZZ Wires([0, 1]) хуй\n",
      "IsingZZ Wires([0, 3]) хуй\n",
      "IsingZZ Wires([0, 2]) хуй\n",
      "IsingZZ Wires([0, 1]) хуй\n"
     ]
    },
    {
     "name": "stderr",
     "output_type": "stream",
     "text": [
      "Hadamard tests V_dagger_V Progress:  22%|██▏       | 20/90 [00:05<00:17,  3.95it/s]"
     ]
    },
    {
     "name": "stdout",
     "output_type": "stream",
     "text": [
      "IsingZZ Wires([2, 1]) хуй\n",
      "IsingZZ Wires([2, 1]) хуй\n",
      "IsingZZ Wires([0, 2]) хуй\n",
      "IsingZZ Wires([0, 1]) хуй\n",
      "IsingZZ Wires([0, 3]) хуй\n",
      "IsingZZ Wires([0, 2]) хуй\n",
      "IsingZZ Wires([0, 1]) хуй\n",
      "IsingZZ Wires([2, 1]) хуй\n",
      "IsingZZ Wires([2, 1]) хуй\n",
      "IsingZZ Wires([0, 2]) хуй\n",
      "IsingZZ Wires([0, 1]) хуй\n",
      "IsingZZ Wires([0, 3]) хуй\n",
      "IsingZZ Wires([0, 2]) хуй\n",
      "IsingZZ Wires([0, 1]) хуй\n",
      "IsingZZ Wires([0, 3]) хуй\n"
     ]
    },
    {
     "name": "stderr",
     "output_type": "stream",
     "text": [
      "Hadamard tests V_dagger_V Progress:  23%|██▎       | 21/90 [00:05<00:18,  3.82it/s]"
     ]
    },
    {
     "name": "stdout",
     "output_type": "stream",
     "text": [
      "IsingZZ Wires([2, 1]) хуй\n",
      "IsingZZ Wires([2, 1]) хуй\n",
      "IsingZZ Wires([0, 2]) хуй\n",
      "IsingZZ Wires([0, 1]) хуй\n",
      "IsingZZ Wires([0, 3]) хуй\n",
      "IsingZZ Wires([0, 2]) хуй\n",
      "IsingZZ Wires([0, 1]) хуй\n",
      "IsingZZ Wires([0, 3]) хуй\n",
      "IsingZZ Wires([2, 1]) хуй\n",
      "IsingZZ Wires([2, 1]) хуй\n",
      "IsingZZ Wires([0, 1]) хуй\n",
      "IsingZZ Wires([0, 3]) хуй\n",
      "IsingZZ Wires([0, 2]) хуй\n",
      "IsingZZ Wires([0, 2]) хуй\n",
      "IsingZZ Wires([0, 2]) хуй\n",
      "IsingZZ Wires([0, 2]) хуй\n",
      "IsingZZ Wires([0, 2]) хуй\n",
      "IsingZZ Wires([0, 1]) хуй\n"
     ]
    },
    {
     "name": "stderr",
     "output_type": "stream",
     "text": [
      "Hadamard tests V_dagger_V Progress:  24%|██▍       | 22/90 [00:05<00:19,  3.44it/s]"
     ]
    },
    {
     "name": "stdout",
     "output_type": "stream",
     "text": [
      "IsingZZ Wires([2, 1]) хуй\n",
      "IsingZZ Wires([2, 1]) хуй\n",
      "IsingZZ Wires([0, 1]) хуй\n",
      "IsingZZ Wires([0, 3]) хуй\n",
      "IsingZZ Wires([0, 2]) хуй\n",
      "IsingZZ Wires([0, 2]) хуй\n",
      "IsingZZ Wires([0, 2]) хуй\n",
      "IsingZZ Wires([0, 2]) хуй\n",
      "IsingZZ Wires([0, 2]) хуй\n",
      "IsingZZ Wires([0, 1]) хуй\n",
      "IsingZZ Wires([2, 1]) хуй\n",
      "IsingZZ Wires([2, 1]) хуй\n",
      "IsingZZ Wires([0, 1]) хуй\n",
      "IsingZZ Wires([0, 3]) хуй\n",
      "IsingZZ Wires([0, 2]) хуй\n",
      "IsingZZ Wires([0, 1]) хуй\n"
     ]
    },
    {
     "name": "stderr",
     "output_type": "stream",
     "text": [
      "Hadamard tests V_dagger_V Progress:  26%|██▌       | 23/90 [00:06<00:20,  3.24it/s]"
     ]
    },
    {
     "name": "stdout",
     "output_type": "stream",
     "text": [
      "IsingZZ Wires([2, 1]) хуй\n",
      "IsingZZ Wires([2, 1]) хуй\n",
      "IsingZZ Wires([0, 1]) хуй\n",
      "IsingZZ Wires([0, 3]) хуй\n",
      "IsingZZ Wires([0, 2]) хуй\n",
      "IsingZZ Wires([0, 1]) хуй\n",
      "IsingZZ Wires([2, 1]) хуй\n",
      "IsingZZ Wires([2, 1]) хуй\n",
      "IsingZZ Wires([0, 1]) хуй\n",
      "IsingZZ Wires([0, 3]) хуй\n",
      "IsingZZ Wires([0, 2]) хуй\n",
      "IsingZZ Wires([0, 1]) хуй\n",
      "IsingZZ Wires([0, 3]) хуй\n"
     ]
    },
    {
     "name": "stderr",
     "output_type": "stream",
     "text": [
      "Hadamard tests V_dagger_V Progress:  27%|██▋       | 24/90 [00:06<00:20,  3.15it/s]"
     ]
    },
    {
     "name": "stdout",
     "output_type": "stream",
     "text": [
      "IsingZZ Wires([2, 1]) хуй\n",
      "IsingZZ Wires([2, 1]) хуй\n",
      "IsingZZ Wires([0, 1]) хуй\n",
      "IsingZZ Wires([0, 3]) хуй\n",
      "IsingZZ Wires([0, 2]) хуй\n",
      "IsingZZ Wires([0, 1]) хуй\n",
      "IsingZZ Wires([0, 3]) хуй\n",
      "IsingZZ Wires([2, 1]) хуй\n",
      "IsingZZ Wires([2, 1]) хуй\n",
      "IsingZZ Wires([0, 2]) хуй\n",
      "IsingZZ Wires([0, 1]) хуй\n",
      "IsingZZ Wires([0, 2]) хуй\n",
      "IsingZZ Wires([0, 2]) хуй\n",
      "IsingZZ Wires([0, 2]) хуй\n",
      "IsingZZ Wires([0, 2]) хуй\n",
      "IsingZZ Wires([0, 2]) хуй\n",
      "IsingZZ Wires([0, 1]) хуй\n"
     ]
    },
    {
     "name": "stderr",
     "output_type": "stream",
     "text": [
      "Hadamard tests V_dagger_V Progress:  28%|██▊       | 25/90 [00:06<00:22,  2.95it/s]"
     ]
    },
    {
     "name": "stdout",
     "output_type": "stream",
     "text": [
      "IsingZZ Wires([2, 1]) хуй\n",
      "IsingZZ Wires([2, 1]) хуй\n",
      "IsingZZ Wires([0, 2]) хуй\n",
      "IsingZZ Wires([0, 1]) хуй\n",
      "IsingZZ Wires([0, 2]) хуй\n",
      "IsingZZ Wires([0, 2]) хуй\n",
      "IsingZZ Wires([0, 2]) хуй\n",
      "IsingZZ Wires([0, 2]) хуй\n",
      "IsingZZ Wires([0, 2]) хуй\n",
      "IsingZZ Wires([0, 1]) хуй\n",
      "IsingZZ Wires([2, 1]) хуй\n",
      "IsingZZ Wires([2, 1]) хуй\n",
      "IsingZZ Wires([0, 2]) хуй\n",
      "IsingZZ Wires([0, 1]) хуй\n",
      "IsingZZ Wires([0, 2]) хуй\n",
      "IsingZZ Wires([0, 1]) хуй\n"
     ]
    },
    {
     "name": "stderr",
     "output_type": "stream",
     "text": [
      "Hadamard tests V_dagger_V Progress:  29%|██▉       | 26/90 [00:07<00:19,  3.27it/s]"
     ]
    },
    {
     "name": "stdout",
     "output_type": "stream",
     "text": [
      "IsingZZ Wires([2, 1]) хуй\n",
      "IsingZZ Wires([2, 1]) хуй\n",
      "IsingZZ Wires([0, 2]) хуй\n",
      "IsingZZ Wires([0, 1]) хуй\n",
      "IsingZZ Wires([0, 2]) хуй\n",
      "IsingZZ Wires([0, 1]) хуй\n",
      "IsingZZ Wires([2, 1]) хуй\n",
      "IsingZZ Wires([2, 1]) хуй\n",
      "IsingZZ Wires([0, 2]) хуй\n",
      "IsingZZ Wires([0, 1]) хуй\n",
      "IsingZZ Wires([0, 2]) хуй\n",
      "IsingZZ Wires([0, 1]) хуй\n",
      "IsingZZ Wires([0, 3]) хуй\n"
     ]
    },
    {
     "name": "stderr",
     "output_type": "stream",
     "text": [
      "Hadamard tests V_dagger_V Progress:  30%|███       | 27/90 [00:07<00:19,  3.20it/s]"
     ]
    },
    {
     "name": "stdout",
     "output_type": "stream",
     "text": [
      "IsingZZ Wires([2, 1]) хуй\n",
      "IsingZZ Wires([2, 1]) хуй\n",
      "IsingZZ Wires([0, 2]) хуй\n",
      "IsingZZ Wires([0, 1]) хуй\n",
      "IsingZZ Wires([0, 2]) хуй\n",
      "IsingZZ Wires([0, 1]) хуй\n",
      "IsingZZ Wires([0, 3]) хуй\n",
      "IsingZZ Wires([2, 1]) хуй\n",
      "IsingZZ Wires([2, 1]) хуй\n",
      "IsingZZ Wires([0, 2]) хуй\n",
      "IsingZZ Wires([0, 1]) хуй\n",
      "IsingZZ Wires([0, 3]) хуй\n"
     ]
    },
    {
     "name": "stderr",
     "output_type": "stream",
     "text": [
      "Hadamard tests V_dagger_V Progress:  31%|███       | 28/90 [00:07<00:18,  3.44it/s]"
     ]
    },
    {
     "name": "stdout",
     "output_type": "stream",
     "text": [
      "IsingZZ Wires([2, 1]) хуй\n",
      "IsingZZ Wires([2, 1]) хуй\n",
      "IsingZZ Wires([0, 2]) хуй\n",
      "IsingZZ Wires([0, 1]) хуй\n",
      "IsingZZ Wires([0, 3]) хуй\n",
      "IsingZZ Wires([2, 1]) хуй\n",
      "IsingZZ Wires([2, 1]) хуй\n",
      "IsingZZ Wires([0, 2]) хуй\n",
      "IsingZZ Wires([0, 1]) хуй\n",
      "IsingZZ Wires([0, 3]) хуй\n",
      "IsingZZ Wires([0, 2]) хуй\n",
      "IsingZZ Wires([0, 1]) хуй\n",
      "IsingZZ Wires([2, 1]) хуй\n",
      "IsingZZ Wires([2, 1]) хуй\n",
      "IsingZZ Wires([0, 2]) хуй\n",
      "IsingZZ Wires([0, 1]) хуй\n",
      "IsingZZ Wires([0, 3]) хуй\n",
      "IsingZZ Wires([0, 2]) хуй\n",
      "IsingZZ Wires([0, 1]) хуй\n"
     ]
    },
    {
     "name": "stderr",
     "output_type": "stream",
     "text": [
      "Hadamard tests V_dagger_V Progress:  33%|███▎      | 30/90 [00:08<00:16,  3.67it/s]"
     ]
    },
    {
     "name": "stdout",
     "output_type": "stream",
     "text": [
      "IsingZZ Wires([2, 1]) хуй\n",
      "IsingZZ Wires([2, 1]) хуй\n",
      "IsingZZ Wires([0, 2]) хуй\n",
      "IsingZZ Wires([0, 1]) хуй\n",
      "IsingZZ Wires([0, 3]) хуй\n",
      "IsingZZ Wires([0, 2]) хуй\n",
      "IsingZZ Wires([0, 1]) хуй\n",
      "IsingZZ Wires([0, 3]) хуй\n",
      "IsingZZ Wires([2, 1]) хуй\n",
      "IsingZZ Wires([2, 1]) хуй\n",
      "IsingZZ Wires([0, 2]) хуй\n",
      "IsingZZ Wires([0, 1]) хуй\n",
      "IsingZZ Wires([0, 3]) хуй\n",
      "IsingZZ Wires([0, 2]) хуй\n",
      "IsingZZ Wires([0, 1]) хуй\n",
      "IsingZZ Wires([0, 3]) хуй\n"
     ]
    },
    {
     "name": "stderr",
     "output_type": "stream",
     "text": [
      "Hadamard tests V_dagger_V Progress:  34%|███▍      | 31/90 [00:08<00:15,  3.85it/s]"
     ]
    },
    {
     "name": "stdout",
     "output_type": "stream",
     "text": [
      "IsingZZ Wires([2, 1]) хуй\n",
      "IsingZZ Wires([2, 1]) хуй\n",
      "IsingZZ Wires([0, 1]) хуй\n",
      "IsingZZ Wires([0, 3]) хуй\n",
      "IsingZZ Wires([2, 1]) хуй\n",
      "IsingZZ Wires([2, 1]) хуй\n",
      "IsingZZ Wires([0, 1]) хуй\n",
      "IsingZZ Wires([0, 3]) хуй\n",
      "IsingZZ Wires([2, 1]) хуй\n",
      "IsingZZ Wires([2, 1]) хуй\n",
      "IsingZZ Wires([0, 1]) хуй\n",
      "IsingZZ Wires([0, 3]) хуй\n",
      "IsingZZ Wires([0, 2]) хуй\n",
      "IsingZZ Wires([0, 1]) хуй\n"
     ]
    },
    {
     "name": "stderr",
     "output_type": "stream",
     "text": [
      "Hadamard tests V_dagger_V Progress:  36%|███▌      | 32/90 [00:08<00:14,  3.95it/s]"
     ]
    },
    {
     "name": "stdout",
     "output_type": "stream",
     "text": [
      "IsingZZ Wires([2, 1]) хуй\n",
      "IsingZZ Wires([2, 1]) хуй\n",
      "IsingZZ Wires([0, 1]) хуй\n",
      "IsingZZ Wires([0, 3]) хуй\n",
      "IsingZZ Wires([0, 2]) хуй\n",
      "IsingZZ Wires([0, 1]) хуй\n",
      "IsingZZ Wires([2, 1]) хуй\n",
      "IsingZZ Wires([2, 1]) хуй\n",
      "IsingZZ Wires([0, 1]) хуй\n",
      "IsingZZ Wires([0, 3]) хуй\n",
      "IsingZZ Wires([0, 2]) хуй\n",
      "IsingZZ Wires([0, 1]) хуй\n",
      "IsingZZ Wires([0, 3]) хуй\n"
     ]
    },
    {
     "name": "stderr",
     "output_type": "stream",
     "text": [
      "Hadamard tests V_dagger_V Progress:  37%|███▋      | 33/90 [00:08<00:14,  4.04it/s]"
     ]
    },
    {
     "name": "stdout",
     "output_type": "stream",
     "text": [
      "IsingZZ Wires([2, 1]) хуй\n",
      "IsingZZ Wires([2, 1]) хуй\n",
      "IsingZZ Wires([0, 1]) хуй\n",
      "IsingZZ Wires([0, 3]) хуй\n",
      "IsingZZ Wires([0, 2]) хуй\n",
      "IsingZZ Wires([0, 1]) хуй\n",
      "IsingZZ Wires([0, 3]) хуй\n",
      "IsingZZ Wires([2, 1]) хуй\n",
      "IsingZZ Wires([2, 1]) хуй\n",
      "IsingZZ Wires([0, 2]) хуй\n",
      "IsingZZ Wires([0, 1]) хуй\n"
     ]
    },
    {
     "name": "stderr",
     "output_type": "stream",
     "text": [
      "Hadamard tests V_dagger_V Progress:  38%|███▊      | 34/90 [00:09<00:14,  3.86it/s]"
     ]
    },
    {
     "name": "stdout",
     "output_type": "stream",
     "text": [
      "IsingZZ Wires([2, 1]) хуй\n",
      "IsingZZ Wires([2, 1]) хуй\n",
      "IsingZZ Wires([0, 2]) хуй\n",
      "IsingZZ Wires([0, 1]) хуй\n",
      "IsingZZ Wires([2, 1]) хуй\n",
      "IsingZZ Wires([2, 1]) хуй\n",
      "IsingZZ Wires([0, 2]) хуй\n",
      "IsingZZ Wires([0, 1]) хуй\n",
      "IsingZZ Wires([0, 2]) хуй\n",
      "IsingZZ Wires([0, 1]) хуй\n"
     ]
    },
    {
     "name": "stderr",
     "output_type": "stream",
     "text": [
      "Hadamard tests V_dagger_V Progress:  39%|███▉      | 35/90 [00:09<00:14,  3.68it/s]"
     ]
    },
    {
     "name": "stdout",
     "output_type": "stream",
     "text": [
      "IsingZZ Wires([2, 1]) хуй\n",
      "IsingZZ Wires([2, 1]) хуй\n",
      "IsingZZ Wires([0, 2]) хуй\n",
      "IsingZZ Wires([0, 1]) хуй\n",
      "IsingZZ Wires([0, 2]) хуй\n",
      "IsingZZ Wires([0, 1]) хуй\n",
      "IsingZZ Wires([2, 1]) хуй\n",
      "IsingZZ Wires([2, 1]) хуй\n",
      "IsingZZ Wires([0, 2]) хуй\n",
      "IsingZZ Wires([0, 1]) хуй\n",
      "IsingZZ Wires([0, 2]) хуй\n",
      "IsingZZ Wires([0, 1]) хуй\n",
      "IsingZZ Wires([0, 3]) хуй\n"
     ]
    },
    {
     "name": "stderr",
     "output_type": "stream",
     "text": [
      "Hadamard tests V_dagger_V Progress:  40%|████      | 36/90 [00:09<00:14,  3.82it/s]"
     ]
    },
    {
     "name": "stdout",
     "output_type": "stream",
     "text": [
      "IsingZZ Wires([2, 1]) хуй\n",
      "IsingZZ Wires([2, 1]) хуй\n",
      "IsingZZ Wires([0, 2]) хуй\n",
      "IsingZZ Wires([0, 1]) хуй\n",
      "IsingZZ Wires([0, 2]) хуй\n",
      "IsingZZ Wires([0, 1]) хуй\n",
      "IsingZZ Wires([0, 3]) хуй\n",
      "IsingZZ Wires([2, 1]) хуй\n",
      "IsingZZ Wires([2, 1]) хуй\n",
      "IsingZZ Wires([0, 2]) хуй\n",
      "IsingZZ Wires([0, 2]) хуй\n",
      "IsingZZ Wires([0, 2]) хуй\n",
      "IsingZZ Wires([0, 1]) хуй\n",
      "IsingZZ Wires([0, 3]) хуй\n",
      "IsingZZ Wires([0, 2]) хуй\n",
      "IsingZZ Wires([0, 2]) хуй\n",
      "IsingZZ Wires([0, 2]) хуй\n",
      "IsingZZ Wires([0, 1]) хуй\n",
      "IsingZZ Wires([0, 3]) хуй\n"
     ]
    },
    {
     "name": "stderr",
     "output_type": "stream",
     "text": [
      "Hadamard tests V_dagger_V Progress:  41%|████      | 37/90 [00:09<00:14,  3.66it/s]"
     ]
    },
    {
     "name": "stdout",
     "output_type": "stream",
     "text": [
      "IsingZZ Wires([2, 1]) хуй\n",
      "IsingZZ Wires([2, 1]) хуй\n",
      "IsingZZ Wires([0, 2]) хуй\n",
      "IsingZZ Wires([0, 2]) хуй\n",
      "IsingZZ Wires([0, 2]) хуй\n",
      "IsingZZ Wires([0, 1]) хуй\n",
      "IsingZZ Wires([0, 3]) хуй\n",
      "IsingZZ Wires([0, 2]) хуй\n",
      "IsingZZ Wires([0, 2]) хуй\n",
      "IsingZZ Wires([0, 2]) хуй\n",
      "IsingZZ Wires([0, 1]) хуй\n",
      "IsingZZ Wires([0, 3]) хуй\n",
      "IsingZZ Wires([2, 1]) хуй\n",
      "IsingZZ Wires([2, 1]) хуй\n",
      "IsingZZ Wires([0, 2]) хуй\n",
      "IsingZZ Wires([0, 2]) хуй\n",
      "IsingZZ Wires([0, 2]) хуй\n",
      "IsingZZ Wires([0, 1]) хуй\n",
      "IsingZZ Wires([0, 3]) хуй\n",
      "IsingZZ Wires([0, 2]) хуй\n",
      "IsingZZ Wires([0, 3]) хуй\n"
     ]
    },
    {
     "name": "stderr",
     "output_type": "stream",
     "text": [
      "Hadamard tests V_dagger_V Progress:  42%|████▏     | 38/90 [00:10<00:14,  3.65it/s]"
     ]
    },
    {
     "name": "stdout",
     "output_type": "stream",
     "text": [
      "IsingZZ Wires([2, 1]) хуй\n",
      "IsingZZ Wires([2, 1]) хуй\n",
      "IsingZZ Wires([0, 2]) хуй\n",
      "IsingZZ Wires([0, 2]) хуй\n",
      "IsingZZ Wires([0, 2]) хуй\n",
      "IsingZZ Wires([0, 1]) хуй\n",
      "IsingZZ Wires([0, 3]) хуй\n",
      "IsingZZ Wires([0, 2]) хуй\n",
      "IsingZZ Wires([0, 3]) хуй\n",
      "IsingZZ Wires([2, 1]) хуй\n",
      "IsingZZ Wires([2, 1]) хуй\n",
      "IsingZZ Wires([0, 2]) хуй\n",
      "IsingZZ Wires([0, 2]) хуй\n",
      "IsingZZ Wires([0, 2]) хуй\n",
      "IsingZZ Wires([0, 1]) хуй\n",
      "IsingZZ Wires([0, 3]) хуй\n"
     ]
    },
    {
     "name": "stderr",
     "output_type": "stream",
     "text": [
      "Hadamard tests V_dagger_V Progress:  43%|████▎     | 39/90 [00:10<00:14,  3.60it/s]"
     ]
    },
    {
     "name": "stdout",
     "output_type": "stream",
     "text": [
      "IsingZZ Wires([2, 1]) хуй\n",
      "IsingZZ Wires([2, 1]) хуй\n",
      "IsingZZ Wires([0, 2]) хуй\n",
      "IsingZZ Wires([0, 2]) хуй\n",
      "IsingZZ Wires([0, 2]) хуй\n",
      "IsingZZ Wires([0, 1]) хуй\n",
      "IsingZZ Wires([0, 3]) хуй\n",
      "IsingZZ Wires([2, 1]) хуй\n",
      "IsingZZ Wires([2, 1]) хуй\n",
      "IsingZZ Wires([0, 2]) хуй\n",
      "IsingZZ Wires([0, 3]) хуй\n",
      "IsingZZ Wires([0, 2]) хуй\n",
      "IsingZZ Wires([0, 2]) хуй\n",
      "IsingZZ Wires([0, 2]) хуй\n",
      "IsingZZ Wires([0, 1]) хуй\n",
      "IsingZZ Wires([0, 3]) хуй\n"
     ]
    },
    {
     "name": "stderr",
     "output_type": "stream",
     "text": [
      "Hadamard tests V_dagger_V Progress:  44%|████▍     | 40/90 [00:10<00:14,  3.57it/s]"
     ]
    },
    {
     "name": "stdout",
     "output_type": "stream",
     "text": [
      "IsingZZ Wires([2, 1]) хуй\n",
      "IsingZZ Wires([2, 1]) хуй\n",
      "IsingZZ Wires([0, 2]) хуй\n",
      "IsingZZ Wires([0, 3]) хуй\n",
      "IsingZZ Wires([0, 2]) хуй\n",
      "IsingZZ Wires([0, 2]) хуй\n",
      "IsingZZ Wires([0, 2]) хуй\n",
      "IsingZZ Wires([0, 1]) хуй\n",
      "IsingZZ Wires([0, 3]) хуй\n",
      "IsingZZ Wires([2, 1]) хуй\n",
      "IsingZZ Wires([2, 1]) хуй\n",
      "IsingZZ Wires([0, 2]) хуй\n",
      "IsingZZ Wires([0, 3]) хуй\n",
      "IsingZZ Wires([0, 2]) хуй\n",
      "IsingZZ Wires([0, 3]) хуй\n"
     ]
    },
    {
     "name": "stderr",
     "output_type": "stream",
     "text": [
      "Hadamard tests V_dagger_V Progress:  46%|████▌     | 41/90 [00:11<00:14,  3.48it/s]"
     ]
    },
    {
     "name": "stdout",
     "output_type": "stream",
     "text": [
      "IsingZZ Wires([2, 1]) хуй\n",
      "IsingZZ Wires([2, 1]) хуй\n",
      "IsingZZ Wires([0, 2]) хуй\n",
      "IsingZZ Wires([0, 3]) хуй\n",
      "IsingZZ Wires([0, 2]) хуй\n",
      "IsingZZ Wires([0, 3]) хуй\n",
      "IsingZZ Wires([2, 1]) хуй\n",
      "IsingZZ Wires([2, 1]) хуй\n",
      "IsingZZ Wires([0, 2]) хуй\n",
      "IsingZZ Wires([0, 3]) хуй\n"
     ]
    },
    {
     "name": "stderr",
     "output_type": "stream",
     "text": [
      "Hadamard tests V_dagger_V Progress:  47%|████▋     | 42/90 [00:11<00:14,  3.33it/s]"
     ]
    },
    {
     "name": "stdout",
     "output_type": "stream",
     "text": [
      "IsingZZ Wires([2, 1]) хуй\n",
      "IsingZZ Wires([2, 1]) хуй\n",
      "IsingZZ Wires([0, 2]) хуй\n",
      "IsingZZ Wires([0, 3]) хуй\n",
      "IsingZZ Wires([2, 1]) хуй\n",
      "IsingZZ Wires([2, 1]) хуй\n",
      "IsingZZ Wires([0, 2]) хуй\n",
      "IsingZZ Wires([0, 2]) хуй\n",
      "IsingZZ Wires([0, 2]) хуй\n",
      "IsingZZ Wires([0, 1]) хуй\n",
      "IsingZZ Wires([0, 3]) хуй\n"
     ]
    },
    {
     "name": "stderr",
     "output_type": "stream",
     "text": [
      "Hadamard tests V_dagger_V Progress:  48%|████▊     | 43/90 [00:11<00:13,  3.56it/s]"
     ]
    },
    {
     "name": "stdout",
     "output_type": "stream",
     "text": [
      "IsingZZ Wires([2, 1]) хуй\n",
      "IsingZZ Wires([2, 1]) хуй\n",
      "IsingZZ Wires([0, 2]) хуй\n",
      "IsingZZ Wires([0, 2]) хуй\n",
      "IsingZZ Wires([0, 2]) хуй\n",
      "IsingZZ Wires([0, 1]) хуй\n",
      "IsingZZ Wires([0, 3]) хуй\n",
      "IsingZZ Wires([2, 1]) хуй\n",
      "IsingZZ Wires([2, 1]) хуй\n",
      "IsingZZ Wires([0, 2]) хуй\n",
      "IsingZZ Wires([0, 3]) хуй\n"
     ]
    },
    {
     "name": "stderr",
     "output_type": "stream",
     "text": [
      "Hadamard tests V_dagger_V Progress:  49%|████▉     | 44/90 [00:11<00:12,  3.60it/s]"
     ]
    },
    {
     "name": "stdout",
     "output_type": "stream",
     "text": [
      "IsingZZ Wires([2, 1]) хуй\n",
      "IsingZZ Wires([2, 1]) хуй\n",
      "IsingZZ Wires([0, 2]) хуй\n",
      "IsingZZ Wires([0, 3]) хуй\n",
      "IsingZZ Wires([2, 1]) хуй\n",
      "IsingZZ Wires([2, 1]) хуй\n"
     ]
    },
    {
     "name": "stderr",
     "output_type": "stream",
     "text": [
      "Hadamard tests V_dagger_V Progress:  50%|█████     | 45/90 [00:12<00:12,  3.67it/s]"
     ]
    },
    {
     "name": "stdout",
     "output_type": "stream",
     "text": [
      "IsingZZ Wires([2, 1]) хуй\n",
      "IsingZZ Wires([2, 1]) хуй\n",
      "IsingZZ Wires([2, 1]) хуй\n",
      "IsingZZ Wires([2, 1]) хуй\n",
      "IsingZZ Wires([0, 2]) хуй\n",
      "IsingZZ Wires([0, 2]) хуй\n",
      "IsingZZ Wires([0, 2]) хуй\n",
      "IsingZZ Wires([0, 1]) хуй\n",
      "IsingZZ Wires([0, 3]) хуй\n",
      "IsingZZ Wires([0, 2]) хуй\n",
      "IsingZZ Wires([0, 2]) хуй\n",
      "IsingZZ Wires([0, 2]) хуй\n",
      "IsingZZ Wires([0, 2]) хуй\n",
      "IsingZZ Wires([0, 2]) хуй\n",
      "IsingZZ Wires([0, 1]) хуй\n"
     ]
    },
    {
     "name": "stderr",
     "output_type": "stream",
     "text": [
      "Hadamard tests V_dagger_V Progress:  51%|█████     | 46/90 [00:12<00:12,  3.40it/s]"
     ]
    },
    {
     "name": "stdout",
     "output_type": "stream",
     "text": [
      "IsingZZ Wires([2, 1]) хуй\n",
      "IsingZZ Wires([2, 1]) хуй\n",
      "IsingZZ Wires([0, 2]) хуй\n",
      "IsingZZ Wires([0, 2]) хуй\n",
      "IsingZZ Wires([0, 2]) хуй\n",
      "IsingZZ Wires([0, 1]) хуй\n",
      "IsingZZ Wires([0, 3]) хуй\n",
      "IsingZZ Wires([0, 2]) хуй\n",
      "IsingZZ Wires([0, 2]) хуй\n",
      "IsingZZ Wires([0, 2]) хуй\n",
      "IsingZZ Wires([0, 2]) хуй\n",
      "IsingZZ Wires([0, 2]) хуй\n",
      "IsingZZ Wires([0, 1]) хуй\n",
      "IsingZZ Wires([2, 1]) хуй\n",
      "IsingZZ Wires([2, 1]) хуй\n",
      "IsingZZ Wires([0, 2]) хуй\n",
      "IsingZZ Wires([0, 2]) хуй\n",
      "IsingZZ Wires([0, 2]) хуй\n",
      "IsingZZ Wires([0, 1]) хуй\n",
      "IsingZZ Wires([0, 3]) хуй\n",
      "IsingZZ Wires([0, 2]) хуй\n",
      "IsingZZ Wires([0, 1]) хуй\n"
     ]
    },
    {
     "name": "stderr",
     "output_type": "stream",
     "text": [
      "Hadamard tests V_dagger_V Progress:  52%|█████▏    | 47/90 [00:12<00:13,  3.27it/s]"
     ]
    },
    {
     "name": "stdout",
     "output_type": "stream",
     "text": [
      "IsingZZ Wires([2, 1]) хуй\n",
      "IsingZZ Wires([2, 1]) хуй\n",
      "IsingZZ Wires([0, 2]) хуй\n",
      "IsingZZ Wires([0, 2]) хуй\n",
      "IsingZZ Wires([0, 2]) хуй\n",
      "IsingZZ Wires([0, 1]) хуй\n",
      "IsingZZ Wires([0, 3]) хуй\n",
      "IsingZZ Wires([0, 2]) хуй\n",
      "IsingZZ Wires([0, 1]) хуй\n",
      "IsingZZ Wires([2, 1]) хуй\n",
      "IsingZZ Wires([2, 1]) хуй\n",
      "IsingZZ Wires([0, 2]) хуй\n",
      "IsingZZ Wires([0, 2]) хуй\n",
      "IsingZZ Wires([0, 2]) хуй\n",
      "IsingZZ Wires([0, 1]) хуй\n",
      "IsingZZ Wires([0, 3]) хуй\n",
      "IsingZZ Wires([0, 2]) хуй\n",
      "IsingZZ Wires([0, 1]) хуй\n",
      "IsingZZ Wires([0, 3]) хуй\n"
     ]
    },
    {
     "name": "stderr",
     "output_type": "stream",
     "text": [
      "Hadamard tests V_dagger_V Progress:  53%|█████▎    | 48/90 [00:13<00:12,  3.32it/s]"
     ]
    },
    {
     "name": "stdout",
     "output_type": "stream",
     "text": [
      "IsingZZ Wires([2, 1]) хуй\n",
      "IsingZZ Wires([2, 1]) хуй\n",
      "IsingZZ Wires([0, 2]) хуй\n",
      "IsingZZ Wires([0, 2]) хуй\n",
      "IsingZZ Wires([0, 2]) хуй\n",
      "IsingZZ Wires([0, 1]) хуй\n",
      "IsingZZ Wires([0, 3]) хуй\n",
      "IsingZZ Wires([0, 2]) хуй\n",
      "IsingZZ Wires([0, 1]) хуй\n",
      "IsingZZ Wires([0, 3]) хуй\n",
      "IsingZZ Wires([2, 1]) хуй\n",
      "IsingZZ Wires([2, 1]) хуй\n",
      "IsingZZ Wires([0, 2]) хуй\n",
      "IsingZZ Wires([0, 3]) хуй\n",
      "IsingZZ Wires([0, 2]) хуй\n",
      "IsingZZ Wires([0, 2]) хуй\n",
      "IsingZZ Wires([0, 2]) хуй\n",
      "IsingZZ Wires([0, 2]) хуй\n",
      "IsingZZ Wires([0, 2]) хуй\n",
      "IsingZZ Wires([0, 1]) хуй\n"
     ]
    },
    {
     "name": "stderr",
     "output_type": "stream",
     "text": [
      "Hadamard tests V_dagger_V Progress:  54%|█████▍    | 49/90 [00:13<00:12,  3.19it/s]"
     ]
    },
    {
     "name": "stdout",
     "output_type": "stream",
     "text": [
      "IsingZZ Wires([2, 1]) хуй\n",
      "IsingZZ Wires([2, 1]) хуй\n",
      "IsingZZ Wires([0, 2]) хуй\n",
      "IsingZZ Wires([0, 3]) хуй\n",
      "IsingZZ Wires([0, 2]) хуй\n",
      "IsingZZ Wires([0, 2]) хуй\n",
      "IsingZZ Wires([0, 2]) хуй\n",
      "IsingZZ Wires([0, 2]) хуй\n",
      "IsingZZ Wires([0, 2]) хуй\n",
      "IsingZZ Wires([0, 1]) хуй\n",
      "IsingZZ Wires([2, 1]) хуй\n",
      "IsingZZ Wires([2, 1]) хуй\n",
      "IsingZZ Wires([0, 2]) хуй\n",
      "IsingZZ Wires([0, 3]) хуй\n",
      "IsingZZ Wires([0, 2]) хуй\n",
      "IsingZZ Wires([0, 1]) хуй\n"
     ]
    },
    {
     "name": "stderr",
     "output_type": "stream",
     "text": [
      "Hadamard tests V_dagger_V Progress:  56%|█████▌    | 50/90 [00:13<00:12,  3.31it/s]"
     ]
    },
    {
     "name": "stdout",
     "output_type": "stream",
     "text": [
      "IsingZZ Wires([2, 1]) хуй\n",
      "IsingZZ Wires([2, 1]) хуй\n",
      "IsingZZ Wires([0, 2]) хуй\n",
      "IsingZZ Wires([0, 3]) хуй\n",
      "IsingZZ Wires([0, 2]) хуй\n",
      "IsingZZ Wires([0, 1]) хуй\n",
      "IsingZZ Wires([2, 1]) хуй\n",
      "IsingZZ Wires([2, 1]) хуй\n",
      "IsingZZ Wires([0, 2]) хуй\n",
      "IsingZZ Wires([0, 3]) хуй\n",
      "IsingZZ Wires([0, 2]) хуй\n",
      "IsingZZ Wires([0, 1]) хуй\n",
      "IsingZZ Wires([0, 3]) хуй\n"
     ]
    },
    {
     "name": "stderr",
     "output_type": "stream",
     "text": [
      "Hadamard tests V_dagger_V Progress:  57%|█████▋    | 51/90 [00:14<00:11,  3.39it/s]"
     ]
    },
    {
     "name": "stdout",
     "output_type": "stream",
     "text": [
      "IsingZZ Wires([2, 1]) хуй\n",
      "IsingZZ Wires([2, 1]) хуй\n",
      "IsingZZ Wires([0, 2]) хуй\n",
      "IsingZZ Wires([0, 3]) хуй\n",
      "IsingZZ Wires([0, 2]) хуй\n",
      "IsingZZ Wires([0, 1]) хуй\n",
      "IsingZZ Wires([0, 3]) хуй\n",
      "IsingZZ Wires([2, 1]) хуй\n",
      "IsingZZ Wires([2, 1]) хуй\n",
      "IsingZZ Wires([0, 2]) хуй\n",
      "IsingZZ Wires([0, 2]) хуй\n",
      "IsingZZ Wires([0, 2]) хуй\n",
      "IsingZZ Wires([0, 2]) хуй\n",
      "IsingZZ Wires([0, 2]) хуй\n",
      "IsingZZ Wires([0, 1]) хуй\n"
     ]
    },
    {
     "name": "stderr",
     "output_type": "stream",
     "text": [
      "Hadamard tests V_dagger_V Progress:  58%|█████▊    | 52/90 [00:14<00:10,  3.58it/s]"
     ]
    },
    {
     "name": "stdout",
     "output_type": "stream",
     "text": [
      "IsingZZ Wires([2, 1]) хуй\n",
      "IsingZZ Wires([2, 1]) хуй\n",
      "IsingZZ Wires([0, 2]) хуй\n",
      "IsingZZ Wires([0, 2]) хуй\n",
      "IsingZZ Wires([0, 2]) хуй\n",
      "IsingZZ Wires([0, 2]) хуй\n",
      "IsingZZ Wires([0, 2]) хуй\n",
      "IsingZZ Wires([0, 1]) хуй\n",
      "IsingZZ Wires([2, 1]) хуй\n",
      "IsingZZ Wires([2, 1]) хуй\n",
      "IsingZZ Wires([0, 2]) хуй\n",
      "IsingZZ Wires([0, 1]) хуй\n"
     ]
    },
    {
     "name": "stderr",
     "output_type": "stream",
     "text": [
      "Hadamard tests V_dagger_V Progress:  59%|█████▉    | 53/90 [00:14<00:10,  3.48it/s]"
     ]
    },
    {
     "name": "stdout",
     "output_type": "stream",
     "text": [
      "IsingZZ Wires([2, 1]) хуй\n",
      "IsingZZ Wires([2, 1]) хуй\n",
      "IsingZZ Wires([0, 2]) хуй\n",
      "IsingZZ Wires([0, 1]) хуй\n",
      "IsingZZ Wires([2, 1]) хуй\n",
      "IsingZZ Wires([2, 1]) хуй\n",
      "IsingZZ Wires([0, 2]) хуй\n",
      "IsingZZ Wires([0, 1]) хуй\n",
      "IsingZZ Wires([0, 3]) хуй\n"
     ]
    },
    {
     "name": "stderr",
     "output_type": "stream",
     "text": [
      "Hadamard tests V_dagger_V Progress:  60%|██████    | 54/90 [00:14<00:10,  3.55it/s]"
     ]
    },
    {
     "name": "stdout",
     "output_type": "stream",
     "text": [
      "IsingZZ Wires([2, 1]) хуй\n",
      "IsingZZ Wires([2, 1]) хуй\n",
      "IsingZZ Wires([0, 2]) хуй\n",
      "IsingZZ Wires([0, 1]) хуй\n",
      "IsingZZ Wires([0, 3]) хуй\n",
      "IsingZZ Wires([2, 1]) хуй\n",
      "IsingZZ Wires([2, 1]) хуй\n",
      "IsingZZ Wires([0, 2]) хуй\n",
      "IsingZZ Wires([0, 2]) хуй\n",
      "IsingZZ Wires([0, 2]) хуй\n",
      "IsingZZ Wires([0, 1]) хуй\n",
      "IsingZZ Wires([0, 3]) хуй\n"
     ]
    },
    {
     "name": "stderr",
     "output_type": "stream",
     "text": [
      "Hadamard tests V_dagger_V Progress:  61%|██████    | 55/90 [00:15<00:09,  3.68it/s]"
     ]
    },
    {
     "name": "stdout",
     "output_type": "stream",
     "text": [
      "IsingZZ Wires([2, 1]) хуй\n",
      "IsingZZ Wires([2, 1]) хуй\n",
      "IsingZZ Wires([0, 2]) хуй\n",
      "IsingZZ Wires([0, 2]) хуй\n",
      "IsingZZ Wires([0, 2]) хуй\n",
      "IsingZZ Wires([0, 1]) хуй\n",
      "IsingZZ Wires([0, 3]) хуй\n",
      "IsingZZ Wires([2, 1]) хуй\n",
      "IsingZZ Wires([2, 1]) хуй\n",
      "IsingZZ Wires([0, 2]) хуй\n",
      "IsingZZ Wires([0, 2]) хуй\n",
      "IsingZZ Wires([0, 2]) хуй\n",
      "IsingZZ Wires([0, 1]) хуй\n",
      "IsingZZ Wires([0, 3]) хуй\n",
      "IsingZZ Wires([0, 2]) хуй\n",
      "IsingZZ Wires([0, 1]) хуй\n"
     ]
    },
    {
     "name": "stderr",
     "output_type": "stream",
     "text": [
      "Hadamard tests V_dagger_V Progress:  62%|██████▏   | 56/90 [00:15<00:08,  3.82it/s]"
     ]
    },
    {
     "name": "stdout",
     "output_type": "stream",
     "text": [
      "IsingZZ Wires([2, 1]) хуй\n",
      "IsingZZ Wires([2, 1]) хуй\n",
      "IsingZZ Wires([0, 2]) хуй\n",
      "IsingZZ Wires([0, 2]) хуй\n",
      "IsingZZ Wires([0, 2]) хуй\n",
      "IsingZZ Wires([0, 1]) хуй\n",
      "IsingZZ Wires([0, 3]) хуй\n",
      "IsingZZ Wires([0, 2]) хуй\n",
      "IsingZZ Wires([0, 1]) хуй\n",
      "IsingZZ Wires([2, 1]) хуй\n",
      "IsingZZ Wires([2, 1]) хуй\n",
      "IsingZZ Wires([0, 2]) хуй\n",
      "IsingZZ Wires([0, 2]) хуй\n",
      "IsingZZ Wires([0, 2]) хуй\n",
      "IsingZZ Wires([0, 1]) хуй\n",
      "IsingZZ Wires([0, 3]) хуй\n",
      "IsingZZ Wires([0, 2]) хуй\n",
      "IsingZZ Wires([0, 1]) хуй\n",
      "IsingZZ Wires([0, 3]) хуй\n"
     ]
    },
    {
     "name": "stderr",
     "output_type": "stream",
     "text": [
      "Hadamard tests V_dagger_V Progress:  63%|██████▎   | 57/90 [00:15<00:08,  3.89it/s]"
     ]
    },
    {
     "name": "stdout",
     "output_type": "stream",
     "text": [
      "IsingZZ Wires([2, 1]) хуй\n",
      "IsingZZ Wires([2, 1]) хуй\n",
      "IsingZZ Wires([0, 2]) хуй\n",
      "IsingZZ Wires([0, 2]) хуй\n",
      "IsingZZ Wires([0, 2]) хуй\n",
      "IsingZZ Wires([0, 1]) хуй\n",
      "IsingZZ Wires([0, 3]) хуй\n",
      "IsingZZ Wires([0, 2]) хуй\n",
      "IsingZZ Wires([0, 1]) хуй\n",
      "IsingZZ Wires([0, 3]) хуй\n",
      "IsingZZ Wires([2, 1]) хуй\n",
      "IsingZZ Wires([2, 1]) хуй\n",
      "IsingZZ Wires([0, 2]) хуй\n",
      "IsingZZ Wires([0, 3]) хуй\n",
      "IsingZZ Wires([2, 1]) хуй\n",
      "IsingZZ Wires([2, 1]) хуй\n",
      "IsingZZ Wires([0, 2]) хуй\n",
      "IsingZZ Wires([0, 3]) хуй\n"
     ]
    },
    {
     "name": "stderr",
     "output_type": "stream",
     "text": [
      "Hadamard tests V_dagger_V Progress:  66%|██████▌   | 59/90 [00:16<00:07,  4.16it/s]"
     ]
    },
    {
     "name": "stdout",
     "output_type": "stream",
     "text": [
      "IsingZZ Wires([2, 1]) хуй\n",
      "IsingZZ Wires([2, 1]) хуй\n",
      "IsingZZ Wires([0, 2]) хуй\n",
      "IsingZZ Wires([0, 3]) хуй\n",
      "IsingZZ Wires([0, 2]) хуй\n",
      "IsingZZ Wires([0, 1]) хуй\n",
      "IsingZZ Wires([2, 1]) хуй\n",
      "IsingZZ Wires([2, 1]) хуй\n",
      "IsingZZ Wires([0, 2]) хуй\n",
      "IsingZZ Wires([0, 3]) хуй\n",
      "IsingZZ Wires([0, 2]) хуй\n",
      "IsingZZ Wires([0, 1]) хуй\n",
      "IsingZZ Wires([2, 1]) хуй\n",
      "IsingZZ Wires([2, 1]) хуй\n",
      "IsingZZ Wires([0, 2]) хуй\n",
      "IsingZZ Wires([0, 3]) хуй\n",
      "IsingZZ Wires([0, 2]) хуй\n",
      "IsingZZ Wires([0, 1]) хуй\n",
      "IsingZZ Wires([0, 3]) хуй\n"
     ]
    },
    {
     "name": "stderr",
     "output_type": "stream",
     "text": [
      "Hadamard tests V_dagger_V Progress:  67%|██████▋   | 60/90 [00:16<00:07,  4.11it/s]"
     ]
    },
    {
     "name": "stdout",
     "output_type": "stream",
     "text": [
      "IsingZZ Wires([2, 1]) хуй\n",
      "IsingZZ Wires([2, 1]) хуй\n",
      "IsingZZ Wires([0, 2]) хуй\n",
      "IsingZZ Wires([0, 3]) хуй\n",
      "IsingZZ Wires([0, 2]) хуй\n",
      "IsingZZ Wires([0, 1]) хуй\n",
      "IsingZZ Wires([0, 3]) хуй\n",
      "IsingZZ Wires([2, 1]) хуй\n",
      "IsingZZ Wires([2, 1]) хуй\n",
      "IsingZZ Wires([2, 1]) хуй\n",
      "IsingZZ Wires([2, 1]) хуй\n"
     ]
    },
    {
     "name": "stderr",
     "output_type": "stream",
     "text": [
      "Hadamard tests V_dagger_V Progress:  69%|██████▉   | 62/90 [00:16<00:06,  4.51it/s]"
     ]
    },
    {
     "name": "stdout",
     "output_type": "stream",
     "text": [
      "IsingZZ Wires([2, 1]) хуй\n",
      "IsingZZ Wires([2, 1]) хуй\n",
      "IsingZZ Wires([0, 2]) хуй\n",
      "IsingZZ Wires([0, 1]) хуй\n",
      "IsingZZ Wires([2, 1]) хуй\n",
      "IsingZZ Wires([2, 1]) хуй\n",
      "IsingZZ Wires([0, 2]) хуй\n",
      "IsingZZ Wires([0, 1]) хуй\n",
      "IsingZZ Wires([2, 1]) хуй\n",
      "IsingZZ Wires([2, 1]) хуй\n",
      "IsingZZ Wires([0, 2]) хуй\n",
      "IsingZZ Wires([0, 1]) хуй\n",
      "IsingZZ Wires([0, 3]) хуй\n"
     ]
    },
    {
     "name": "stderr",
     "output_type": "stream",
     "text": [
      "Hadamard tests V_dagger_V Progress:  70%|███████   | 63/90 [00:16<00:05,  4.54it/s]"
     ]
    },
    {
     "name": "stdout",
     "output_type": "stream",
     "text": [
      "IsingZZ Wires([2, 1]) хуй\n",
      "IsingZZ Wires([2, 1]) хуй\n",
      "IsingZZ Wires([0, 2]) хуй\n",
      "IsingZZ Wires([0, 1]) хуй\n",
      "IsingZZ Wires([0, 3]) хуй\n",
      "IsingZZ Wires([2, 1]) хуй\n",
      "IsingZZ Wires([2, 1]) хуй\n",
      "IsingZZ Wires([0, 2]) хуй\n",
      "IsingZZ Wires([0, 2]) хуй\n",
      "IsingZZ Wires([0, 2]) хуй\n",
      "IsingZZ Wires([0, 2]) хуй\n",
      "IsingZZ Wires([0, 2]) хуй\n",
      "IsingZZ Wires([0, 1]) хуй\n",
      "IsingZZ Wires([0, 2]) хуй\n",
      "IsingZZ Wires([0, 2]) хуй\n",
      "IsingZZ Wires([0, 2]) хуй\n",
      "IsingZZ Wires([0, 2]) хуй\n",
      "IsingZZ Wires([0, 2]) хуй\n",
      "IsingZZ Wires([0, 1]) хуй\n"
     ]
    },
    {
     "name": "stderr",
     "output_type": "stream",
     "text": [
      "Hadamard tests V_dagger_V Progress:  71%|███████   | 64/90 [00:17<00:06,  4.26it/s]"
     ]
    },
    {
     "name": "stdout",
     "output_type": "stream",
     "text": [
      "IsingZZ Wires([2, 1]) хуй\n",
      "IsingZZ Wires([2, 1]) хуй\n",
      "IsingZZ Wires([0, 2]) хуй\n",
      "IsingZZ Wires([0, 2]) хуй\n",
      "IsingZZ Wires([0, 2]) хуй\n",
      "IsingZZ Wires([0, 2]) хуй\n",
      "IsingZZ Wires([0, 2]) хуй\n",
      "IsingZZ Wires([0, 1]) хуй\n",
      "IsingZZ Wires([0, 2]) хуй\n",
      "IsingZZ Wires([0, 2]) хуй\n",
      "IsingZZ Wires([0, 2]) хуй\n",
      "IsingZZ Wires([0, 2]) хуй\n",
      "IsingZZ Wires([0, 2]) хуй\n",
      "IsingZZ Wires([0, 1]) хуй\n",
      "IsingZZ Wires([2, 1]) хуй\n",
      "IsingZZ Wires([2, 1]) хуй\n",
      "IsingZZ Wires([0, 2]) хуй\n",
      "IsingZZ Wires([0, 2]) хуй\n",
      "IsingZZ Wires([0, 2]) хуй\n",
      "IsingZZ Wires([0, 2]) хуй\n",
      "IsingZZ Wires([0, 2]) хуй\n",
      "IsingZZ Wires([0, 1]) хуй\n",
      "IsingZZ Wires([0, 2]) хуй\n",
      "IsingZZ Wires([0, 1]) хуй\n"
     ]
    },
    {
     "name": "stderr",
     "output_type": "stream",
     "text": [
      "Hadamard tests V_dagger_V Progress:  72%|███████▏  | 65/90 [00:17<00:05,  4.24it/s]"
     ]
    },
    {
     "name": "stdout",
     "output_type": "stream",
     "text": [
      "IsingZZ Wires([2, 1]) хуй\n",
      "IsingZZ Wires([2, 1]) хуй\n",
      "IsingZZ Wires([0, 2]) хуй\n",
      "IsingZZ Wires([0, 2]) хуй\n",
      "IsingZZ Wires([0, 2]) хуй\n",
      "IsingZZ Wires([0, 2]) хуй\n",
      "IsingZZ Wires([0, 2]) хуй\n",
      "IsingZZ Wires([0, 1]) хуй\n",
      "IsingZZ Wires([0, 2]) хуй\n",
      "IsingZZ Wires([0, 1]) хуй\n",
      "IsingZZ Wires([2, 1]) хуй\n",
      "IsingZZ Wires([2, 1]) хуй\n",
      "IsingZZ Wires([0, 2]) хуй\n",
      "IsingZZ Wires([0, 2]) хуй\n",
      "IsingZZ Wires([0, 2]) хуй\n",
      "IsingZZ Wires([0, 2]) хуй\n",
      "IsingZZ Wires([0, 2]) хуй\n",
      "IsingZZ Wires([0, 1]) хуй\n",
      "IsingZZ Wires([0, 2]) хуй\n",
      "IsingZZ Wires([0, 1]) хуй\n",
      "IsingZZ Wires([0, 3]) хуй\n"
     ]
    },
    {
     "name": "stderr",
     "output_type": "stream",
     "text": [
      "Hadamard tests V_dagger_V Progress:  73%|███████▎  | 66/90 [00:17<00:05,  4.17it/s]"
     ]
    },
    {
     "name": "stdout",
     "output_type": "stream",
     "text": [
      "IsingZZ Wires([2, 1]) хуй\n",
      "IsingZZ Wires([2, 1]) хуй\n",
      "IsingZZ Wires([0, 2]) хуй\n",
      "IsingZZ Wires([0, 2]) хуй\n",
      "IsingZZ Wires([0, 2]) хуй\n",
      "IsingZZ Wires([0, 2]) хуй\n",
      "IsingZZ Wires([0, 2]) хуй\n",
      "IsingZZ Wires([0, 1]) хуй\n",
      "IsingZZ Wires([0, 2]) хуй\n",
      "IsingZZ Wires([0, 1]) хуй\n",
      "IsingZZ Wires([0, 3]) хуй\n",
      "IsingZZ Wires([2, 1]) хуй\n",
      "IsingZZ Wires([2, 1]) хуй\n",
      "IsingZZ Wires([0, 2]) хуй\n",
      "IsingZZ Wires([0, 1]) хуй\n",
      "IsingZZ Wires([0, 2]) хуй\n",
      "IsingZZ Wires([0, 2]) хуй\n",
      "IsingZZ Wires([0, 2]) хуй\n",
      "IsingZZ Wires([0, 2]) хуй\n",
      "IsingZZ Wires([0, 2]) хуй\n",
      "IsingZZ Wires([0, 1]) хуй\n"
     ]
    },
    {
     "name": "stderr",
     "output_type": "stream",
     "text": [
      "Hadamard tests V_dagger_V Progress:  74%|███████▍  | 67/90 [00:17<00:05,  4.04it/s]"
     ]
    },
    {
     "name": "stdout",
     "output_type": "stream",
     "text": [
      "IsingZZ Wires([2, 1]) хуй\n",
      "IsingZZ Wires([2, 1]) хуй\n",
      "IsingZZ Wires([0, 2]) хуй\n",
      "IsingZZ Wires([0, 1]) хуй\n",
      "IsingZZ Wires([0, 2]) хуй\n",
      "IsingZZ Wires([0, 2]) хуй\n",
      "IsingZZ Wires([0, 2]) хуй\n",
      "IsingZZ Wires([0, 2]) хуй\n",
      "IsingZZ Wires([0, 2]) хуй\n",
      "IsingZZ Wires([0, 1]) хуй\n",
      "IsingZZ Wires([2, 1]) хуй\n",
      "IsingZZ Wires([2, 1]) хуй\n",
      "IsingZZ Wires([0, 2]) хуй\n",
      "IsingZZ Wires([0, 1]) хуй\n",
      "IsingZZ Wires([0, 2]) хуй\n",
      "IsingZZ Wires([0, 1]) хуй\n",
      "IsingZZ Wires([2, 1]) хуй\n",
      "IsingZZ Wires([2, 1]) хуй\n",
      "IsingZZ Wires([0, 2]) хуй\n",
      "IsingZZ Wires([0, 1]) хуй\n",
      "IsingZZ Wires([0, 2]) хуй\n",
      "IsingZZ Wires([0, 1]) хуй\n"
     ]
    },
    {
     "name": "stderr",
     "output_type": "stream",
     "text": [
      "Hadamard tests V_dagger_V Progress:  77%|███████▋  | 69/90 [00:18<00:04,  4.37it/s]"
     ]
    },
    {
     "name": "stdout",
     "output_type": "stream",
     "text": [
      "IsingZZ Wires([2, 1]) хуй\n",
      "IsingZZ Wires([2, 1]) хуй\n",
      "IsingZZ Wires([0, 2]) хуй\n",
      "IsingZZ Wires([0, 1]) хуй\n",
      "IsingZZ Wires([0, 2]) хуй\n",
      "IsingZZ Wires([0, 1]) хуй\n",
      "IsingZZ Wires([0, 3]) хуй\n",
      "IsingZZ Wires([2, 1]) хуй\n",
      "IsingZZ Wires([2, 1]) хуй\n",
      "IsingZZ Wires([0, 2]) хуй\n",
      "IsingZZ Wires([0, 1]) хуй\n",
      "IsingZZ Wires([0, 2]) хуй\n",
      "IsingZZ Wires([0, 1]) хуй\n",
      "IsingZZ Wires([0, 3]) хуй\n",
      "IsingZZ Wires([2, 1]) хуй\n",
      "IsingZZ Wires([2, 1]) хуй\n",
      "IsingZZ Wires([0, 2]) хуй\n",
      "IsingZZ Wires([0, 1]) хуй\n",
      "IsingZZ Wires([0, 3]) хуй\n",
      "IsingZZ Wires([0, 2]) хуй\n",
      "IsingZZ Wires([0, 2]) хуй\n",
      "IsingZZ Wires([0, 2]) хуй\n",
      "IsingZZ Wires([0, 2]) хуй\n",
      "IsingZZ Wires([0, 2]) хуй\n",
      "IsingZZ Wires([0, 1]) хуй\n"
     ]
    },
    {
     "name": "stderr",
     "output_type": "stream",
     "text": [
      "Hadamard tests V_dagger_V Progress:  78%|███████▊  | 70/90 [00:18<00:04,  4.34it/s]"
     ]
    },
    {
     "name": "stdout",
     "output_type": "stream",
     "text": [
      "IsingZZ Wires([2, 1]) хуй\n",
      "IsingZZ Wires([2, 1]) хуй\n",
      "IsingZZ Wires([0, 2]) хуй\n",
      "IsingZZ Wires([0, 1]) хуй\n",
      "IsingZZ Wires([0, 3]) хуй\n",
      "IsingZZ Wires([0, 2]) хуй\n",
      "IsingZZ Wires([0, 2]) хуй\n",
      "IsingZZ Wires([0, 2]) хуй\n",
      "IsingZZ Wires([0, 2]) хуй\n",
      "IsingZZ Wires([0, 2]) хуй\n",
      "IsingZZ Wires([0, 1]) хуй\n",
      "IsingZZ Wires([2, 1]) хуй\n",
      "IsingZZ Wires([2, 1]) хуй\n",
      "IsingZZ Wires([0, 2]) хуй\n",
      "IsingZZ Wires([0, 1]) хуй\n",
      "IsingZZ Wires([0, 3]) хуй\n",
      "IsingZZ Wires([0, 2]) хуй\n",
      "IsingZZ Wires([0, 1]) хуй\n"
     ]
    },
    {
     "name": "stderr",
     "output_type": "stream",
     "text": [
      "Hadamard tests V_dagger_V Progress:  79%|███████▉  | 71/90 [00:18<00:04,  4.35it/s]"
     ]
    },
    {
     "name": "stdout",
     "output_type": "stream",
     "text": [
      "IsingZZ Wires([2, 1]) хуй\n",
      "IsingZZ Wires([2, 1]) хуй\n",
      "IsingZZ Wires([0, 2]) хуй\n",
      "IsingZZ Wires([0, 1]) хуй\n",
      "IsingZZ Wires([0, 3]) хуй\n",
      "IsingZZ Wires([0, 2]) хуй\n",
      "IsingZZ Wires([0, 1]) хуй\n",
      "IsingZZ Wires([2, 1]) хуй\n",
      "IsingZZ Wires([2, 1]) хуй\n",
      "IsingZZ Wires([0, 2]) хуй\n",
      "IsingZZ Wires([0, 1]) хуй\n",
      "IsingZZ Wires([0, 3]) хуй\n",
      "IsingZZ Wires([0, 2]) хуй\n",
      "IsingZZ Wires([0, 1]) хуй\n",
      "IsingZZ Wires([0, 3]) хуй\n"
     ]
    },
    {
     "name": "stderr",
     "output_type": "stream",
     "text": [
      "Hadamard tests V_dagger_V Progress:  80%|████████  | 72/90 [00:19<00:04,  4.44it/s]"
     ]
    },
    {
     "name": "stdout",
     "output_type": "stream",
     "text": [
      "IsingZZ Wires([2, 1]) хуй\n",
      "IsingZZ Wires([2, 1]) хуй\n",
      "IsingZZ Wires([0, 2]) хуй\n",
      "IsingZZ Wires([0, 1]) хуй\n",
      "IsingZZ Wires([0, 3]) хуй\n",
      "IsingZZ Wires([0, 2]) хуй\n",
      "IsingZZ Wires([0, 1]) хуй\n",
      "IsingZZ Wires([0, 3]) хуй\n",
      "IsingZZ Wires([2, 1]) хуй\n",
      "IsingZZ Wires([2, 1]) хуй\n",
      "IsingZZ Wires([0, 2]) хуй\n",
      "IsingZZ Wires([0, 2]) хуй\n",
      "IsingZZ Wires([0, 2]) хуй\n",
      "IsingZZ Wires([0, 2]) хуй\n",
      "IsingZZ Wires([0, 2]) хуй\n",
      "IsingZZ Wires([0, 1]) хуй\n",
      "IsingZZ Wires([2, 1]) хуй\n",
      "IsingZZ Wires([2, 1]) хуй\n",
      "IsingZZ Wires([0, 2]) хуй\n",
      "IsingZZ Wires([0, 2]) хуй\n",
      "IsingZZ Wires([0, 2]) хуй\n",
      "IsingZZ Wires([0, 2]) хуй\n",
      "IsingZZ Wires([0, 2]) хуй\n",
      "IsingZZ Wires([0, 1]) хуй\n"
     ]
    },
    {
     "name": "stderr",
     "output_type": "stream",
     "text": [
      "Hadamard tests V_dagger_V Progress:  82%|████████▏ | 74/90 [00:19<00:03,  4.39it/s]"
     ]
    },
    {
     "name": "stdout",
     "output_type": "stream",
     "text": [
      "IsingZZ Wires([2, 1]) хуй\n",
      "IsingZZ Wires([2, 1]) хуй\n",
      "IsingZZ Wires([0, 2]) хуй\n",
      "IsingZZ Wires([0, 2]) хуй\n",
      "IsingZZ Wires([0, 2]) хуй\n",
      "IsingZZ Wires([0, 2]) хуй\n",
      "IsingZZ Wires([0, 2]) хуй\n",
      "IsingZZ Wires([0, 1]) хуй\n",
      "IsingZZ Wires([0, 2]) хуй\n",
      "IsingZZ Wires([0, 1]) хуй\n",
      "IsingZZ Wires([2, 1]) хуй\n",
      "IsingZZ Wires([2, 1]) хуй\n",
      "IsingZZ Wires([0, 2]) хуй\n",
      "IsingZZ Wires([0, 2]) хуй\n",
      "IsingZZ Wires([0, 2]) хуй\n",
      "IsingZZ Wires([0, 2]) хуй\n",
      "IsingZZ Wires([0, 2]) хуй\n",
      "IsingZZ Wires([0, 1]) хуй\n",
      "IsingZZ Wires([0, 2]) хуй\n",
      "IsingZZ Wires([0, 1]) хуй\n"
     ]
    },
    {
     "name": "stderr",
     "output_type": "stream",
     "text": [
      "Hadamard tests V_dagger_V Progress:  83%|████████▎ | 75/90 [00:19<00:03,  4.26it/s]"
     ]
    },
    {
     "name": "stdout",
     "output_type": "stream",
     "text": [
      "IsingZZ Wires([2, 1]) хуй\n",
      "IsingZZ Wires([2, 1]) хуй\n",
      "IsingZZ Wires([0, 2]) хуй\n",
      "IsingZZ Wires([0, 2]) хуй\n",
      "IsingZZ Wires([0, 2]) хуй\n",
      "IsingZZ Wires([0, 2]) хуй\n",
      "IsingZZ Wires([0, 2]) хуй\n",
      "IsingZZ Wires([0, 1]) хуй\n",
      "IsingZZ Wires([0, 2]) хуй\n",
      "IsingZZ Wires([0, 1]) хуй\n",
      "IsingZZ Wires([0, 3]) хуй\n",
      "IsingZZ Wires([2, 1]) хуй\n",
      "IsingZZ Wires([2, 1]) хуй\n",
      "IsingZZ Wires([0, 2]) хуй\n",
      "IsingZZ Wires([0, 2]) хуй\n",
      "IsingZZ Wires([0, 2]) хуй\n",
      "IsingZZ Wires([0, 2]) хуй\n",
      "IsingZZ Wires([0, 2]) хуй\n",
      "IsingZZ Wires([0, 1]) хуй\n",
      "IsingZZ Wires([0, 2]) хуй\n",
      "IsingZZ Wires([0, 1]) хуй\n",
      "IsingZZ Wires([0, 3]) хуй\n"
     ]
    },
    {
     "name": "stderr",
     "output_type": "stream",
     "text": [
      "Hadamard tests V_dagger_V Progress:  84%|████████▍ | 76/90 [00:19<00:03,  4.47it/s]"
     ]
    },
    {
     "name": "stdout",
     "output_type": "stream",
     "text": [
      "IsingZZ Wires([2, 1]) хуй\n",
      "IsingZZ Wires([2, 1]) хуй\n",
      "IsingZZ Wires([0, 2]) хуй\n",
      "IsingZZ Wires([0, 1]) хуй\n",
      "IsingZZ Wires([2, 1]) хуй\n",
      "IsingZZ Wires([2, 1]) хуй\n",
      "IsingZZ Wires([0, 2]) хуй\n",
      "IsingZZ Wires([0, 1]) хуй\n",
      "IsingZZ Wires([2, 1]) хуй\n",
      "IsingZZ Wires([2, 1]) хуй\n",
      "IsingZZ Wires([0, 2]) хуй\n",
      "IsingZZ Wires([0, 1]) хуй\n",
      "IsingZZ Wires([0, 2]) хуй\n",
      "IsingZZ Wires([0, 1]) хуй\n"
     ]
    },
    {
     "name": "stderr",
     "output_type": "stream",
     "text": [
      "Hadamard tests V_dagger_V Progress:  86%|████████▌ | 77/90 [00:20<00:02,  4.54it/s]"
     ]
    },
    {
     "name": "stdout",
     "output_type": "stream",
     "text": [
      "IsingZZ Wires([2, 1]) хуй\n",
      "IsingZZ Wires([2, 1]) хуй\n",
      "IsingZZ Wires([0, 2]) хуй\n",
      "IsingZZ Wires([0, 1]) хуй\n",
      "IsingZZ Wires([0, 2]) хуй\n",
      "IsingZZ Wires([0, 1]) хуй\n",
      "IsingZZ Wires([2, 1]) хуй\n",
      "IsingZZ Wires([2, 1]) хуй\n",
      "IsingZZ Wires([0, 2]) хуй\n",
      "IsingZZ Wires([0, 1]) хуй\n",
      "IsingZZ Wires([0, 2]) хуй\n",
      "IsingZZ Wires([0, 1]) хуй\n",
      "IsingZZ Wires([0, 3]) хуй\n"
     ]
    },
    {
     "name": "stderr",
     "output_type": "stream",
     "text": [
      "Hadamard tests V_dagger_V Progress:  87%|████████▋ | 78/90 [00:20<00:02,  4.41it/s]"
     ]
    },
    {
     "name": "stdout",
     "output_type": "stream",
     "text": [
      "IsingZZ Wires([2, 1]) хуй\n",
      "IsingZZ Wires([2, 1]) хуй\n",
      "IsingZZ Wires([0, 2]) хуй\n",
      "IsingZZ Wires([0, 1]) хуй\n",
      "IsingZZ Wires([0, 2]) хуй\n",
      "IsingZZ Wires([0, 1]) хуй\n",
      "IsingZZ Wires([0, 3]) хуй\n",
      "IsingZZ Wires([2, 1]) хуй\n",
      "IsingZZ Wires([2, 1]) хуй\n",
      "IsingZZ Wires([0, 2]) хуй\n",
      "IsingZZ Wires([0, 1]) хуй\n",
      "IsingZZ Wires([0, 3]) хуй\n",
      "IsingZZ Wires([2, 1]) хуй\n",
      "IsingZZ Wires([2, 1]) хуй\n",
      "IsingZZ Wires([0, 2]) хуй\n",
      "IsingZZ Wires([0, 1]) хуй\n",
      "IsingZZ Wires([0, 3]) хуй\n"
     ]
    },
    {
     "name": "stderr",
     "output_type": "stream",
     "text": [
      "Hadamard tests V_dagger_V Progress:  89%|████████▉ | 80/90 [00:20<00:02,  4.45it/s]"
     ]
    },
    {
     "name": "stdout",
     "output_type": "stream",
     "text": [
      "IsingZZ Wires([2, 1]) хуй\n",
      "IsingZZ Wires([2, 1]) хуй\n",
      "IsingZZ Wires([0, 2]) хуй\n",
      "IsingZZ Wires([0, 1]) хуй\n",
      "IsingZZ Wires([0, 3]) хуй\n",
      "IsingZZ Wires([0, 2]) хуй\n",
      "IsingZZ Wires([0, 1]) хуй\n",
      "IsingZZ Wires([2, 1]) хуй\n",
      "IsingZZ Wires([2, 1]) хуй\n",
      "IsingZZ Wires([0, 2]) хуй\n",
      "IsingZZ Wires([0, 1]) хуй\n",
      "IsingZZ Wires([0, 3]) хуй\n",
      "IsingZZ Wires([0, 2]) хуй\n",
      "IsingZZ Wires([0, 1]) хуй\n"
     ]
    },
    {
     "name": "stderr",
     "output_type": "stream",
     "text": [
      "Hadamard tests V_dagger_V Progress:  90%|█████████ | 81/90 [00:21<00:02,  4.38it/s]"
     ]
    },
    {
     "name": "stdout",
     "output_type": "stream",
     "text": [
      "IsingZZ Wires([2, 1]) хуй\n",
      "IsingZZ Wires([2, 1]) хуй\n",
      "IsingZZ Wires([0, 2]) хуй\n",
      "IsingZZ Wires([0, 1]) хуй\n",
      "IsingZZ Wires([0, 3]) хуй\n",
      "IsingZZ Wires([0, 2]) хуй\n",
      "IsingZZ Wires([0, 1]) хуй\n",
      "IsingZZ Wires([0, 3]) хуй\n",
      "IsingZZ Wires([2, 1]) хуй\n",
      "IsingZZ Wires([2, 1]) хуй\n",
      "IsingZZ Wires([0, 2]) хуй\n",
      "IsingZZ Wires([0, 1]) хуй\n",
      "IsingZZ Wires([0, 3]) хуй\n",
      "IsingZZ Wires([0, 2]) хуй\n",
      "IsingZZ Wires([0, 1]) хуй\n",
      "IsingZZ Wires([0, 3]) хуй\n"
     ]
    },
    {
     "name": "stderr",
     "output_type": "stream",
     "text": [
      "Hadamard tests V_dagger_V Progress:  91%|█████████ | 82/90 [00:21<00:01,  4.57it/s]"
     ]
    },
    {
     "name": "stdout",
     "output_type": "stream",
     "text": [
      "IsingZZ Wires([2, 1]) хуй\n",
      "IsingZZ Wires([2, 1]) хуй\n",
      "IsingZZ Wires([2, 1]) хуй\n",
      "IsingZZ Wires([2, 1]) хуй\n",
      "IsingZZ Wires([2, 1]) хуй\n",
      "IsingZZ Wires([2, 1]) хуй\n",
      "IsingZZ Wires([0, 2]) хуй\n",
      "IsingZZ Wires([0, 1]) хуй\n"
     ]
    },
    {
     "name": "stderr",
     "output_type": "stream",
     "text": [
      "Hadamard tests V_dagger_V Progress:  92%|█████████▏| 83/90 [00:21<00:01,  4.63it/s]"
     ]
    },
    {
     "name": "stdout",
     "output_type": "stream",
     "text": [
      "IsingZZ Wires([2, 1]) хуй\n",
      "IsingZZ Wires([2, 1]) хуй\n",
      "IsingZZ Wires([0, 2]) хуй\n",
      "IsingZZ Wires([0, 1]) хуй\n",
      "IsingZZ Wires([2, 1]) хуй\n",
      "IsingZZ Wires([2, 1]) хуй\n",
      "IsingZZ Wires([0, 2]) хуй\n",
      "IsingZZ Wires([0, 1]) хуй\n",
      "IsingZZ Wires([0, 3]) хуй\n"
     ]
    },
    {
     "name": "stderr",
     "output_type": "stream",
     "text": [
      "Hadamard tests V_dagger_V Progress:  93%|█████████▎| 84/90 [00:21<00:01,  4.61it/s]"
     ]
    },
    {
     "name": "stdout",
     "output_type": "stream",
     "text": [
      "IsingZZ Wires([2, 1]) хуй\n",
      "IsingZZ Wires([2, 1]) хуй\n",
      "IsingZZ Wires([0, 2]) хуй\n",
      "IsingZZ Wires([0, 1]) хуй\n",
      "IsingZZ Wires([0, 3]) хуй\n",
      "IsingZZ Wires([2, 1]) хуй\n",
      "IsingZZ Wires([2, 1]) хуй\n",
      "IsingZZ Wires([0, 2]) хуй\n",
      "IsingZZ Wires([0, 1]) хуй\n",
      "IsingZZ Wires([2, 1]) хуй\n",
      "IsingZZ Wires([2, 1]) хуй\n",
      "IsingZZ Wires([0, 2]) хуй\n",
      "IsingZZ Wires([0, 1]) хуй\n"
     ]
    },
    {
     "name": "stderr",
     "output_type": "stream",
     "text": [
      "Hadamard tests V_dagger_V Progress:  96%|█████████▌| 86/90 [00:22<00:00,  4.65it/s]"
     ]
    },
    {
     "name": "stdout",
     "output_type": "stream",
     "text": [
      "IsingZZ Wires([2, 1]) хуй\n",
      "IsingZZ Wires([2, 1]) хуй\n",
      "IsingZZ Wires([0, 2]) хуй\n",
      "IsingZZ Wires([0, 1]) хуй\n",
      "IsingZZ Wires([0, 2]) хуй\n",
      "IsingZZ Wires([0, 1]) хуй\n",
      "IsingZZ Wires([2, 1]) хуй\n",
      "IsingZZ Wires([2, 1]) хуй\n",
      "IsingZZ Wires([0, 2]) хуй\n",
      "IsingZZ Wires([0, 1]) хуй\n",
      "IsingZZ Wires([0, 2]) хуй\n",
      "IsingZZ Wires([0, 1]) хуй\n",
      "IsingZZ Wires([2, 1]) хуй\n",
      "IsingZZ Wires([2, 1]) хуй\n",
      "IsingZZ Wires([0, 2]) хуй\n",
      "IsingZZ Wires([0, 1]) хуй\n",
      "IsingZZ Wires([0, 2]) хуй\n",
      "IsingZZ Wires([0, 1]) хуй\n",
      "IsingZZ Wires([0, 3]) хуй\n"
     ]
    },
    {
     "name": "stderr",
     "output_type": "stream",
     "text": [
      "Hadamard tests V_dagger_V Progress:  97%|█████████▋| 87/90 [00:22<00:00,  4.67it/s]"
     ]
    },
    {
     "name": "stdout",
     "output_type": "stream",
     "text": [
      "IsingZZ Wires([2, 1]) хуй\n",
      "IsingZZ Wires([2, 1]) хуй\n",
      "IsingZZ Wires([0, 2]) хуй\n",
      "IsingZZ Wires([0, 1]) хуй\n",
      "IsingZZ Wires([0, 2]) хуй\n",
      "IsingZZ Wires([0, 1]) хуй\n",
      "IsingZZ Wires([0, 3]) хуй\n",
      "IsingZZ Wires([2, 1]) хуй\n",
      "IsingZZ Wires([2, 1]) хуй\n",
      "IsingZZ Wires([0, 2]) хуй\n",
      "IsingZZ Wires([0, 1]) хуй\n",
      "IsingZZ Wires([0, 3]) хуй\n"
     ]
    },
    {
     "name": "stderr",
     "output_type": "stream",
     "text": [
      "Hadamard tests V_dagger_V Progress:  98%|█████████▊| 88/90 [00:22<00:00,  4.67it/s]"
     ]
    },
    {
     "name": "stdout",
     "output_type": "stream",
     "text": [
      "IsingZZ Wires([2, 1]) хуй\n",
      "IsingZZ Wires([2, 1]) хуй\n",
      "IsingZZ Wires([0, 2]) хуй\n",
      "IsingZZ Wires([0, 1]) хуй\n",
      "IsingZZ Wires([0, 3]) хуй\n",
      "IsingZZ Wires([2, 1]) хуй\n",
      "IsingZZ Wires([2, 1]) хуй\n",
      "IsingZZ Wires([0, 2]) хуй\n",
      "IsingZZ Wires([0, 1]) хуй\n",
      "IsingZZ Wires([0, 3]) хуй\n",
      "IsingZZ Wires([0, 2]) хуй\n",
      "IsingZZ Wires([0, 1]) хуй\n"
     ]
    },
    {
     "name": "stderr",
     "output_type": "stream",
     "text": [
      "Hadamard tests V_dagger_V Progress:  99%|█████████▉| 89/90 [00:22<00:00,  4.56it/s]"
     ]
    },
    {
     "name": "stdout",
     "output_type": "stream",
     "text": [
      "IsingZZ Wires([2, 1]) хуй\n",
      "IsingZZ Wires([2, 1]) хуй\n",
      "IsingZZ Wires([0, 2]) хуй\n",
      "IsingZZ Wires([0, 1]) хуй\n",
      "IsingZZ Wires([0, 3]) хуй\n",
      "IsingZZ Wires([0, 2]) хуй\n",
      "IsingZZ Wires([0, 1]) хуй\n",
      "IsingZZ Wires([2, 1]) хуй\n",
      "IsingZZ Wires([2, 1]) хуй\n",
      "IsingZZ Wires([0, 2]) хуй\n",
      "IsingZZ Wires([0, 1]) хуй\n",
      "IsingZZ Wires([0, 3]) хуй\n",
      "IsingZZ Wires([0, 2]) хуй\n",
      "IsingZZ Wires([0, 1]) хуй\n",
      "IsingZZ Wires([0, 3]) хуй\n"
     ]
    },
    {
     "name": "stderr",
     "output_type": "stream",
     "text": [
      "Hadamard tests V_dagger_V Progress: 100%|██████████| 90/90 [00:23<00:00,  3.91it/s]\n"
     ]
    },
    {
     "name": "stdout",
     "output_type": "stream",
     "text": [
      "IsingZZ Wires([2, 1]) хуй\n",
      "IsingZZ Wires([2, 1]) хуй\n",
      "IsingZZ Wires([0, 2]) хуй\n",
      "IsingZZ Wires([0, 1]) хуй\n",
      "IsingZZ Wires([0, 3]) хуй\n",
      "IsingZZ Wires([0, 2]) хуй\n",
      "IsingZZ Wires([0, 1]) хуй\n",
      "IsingZZ Wires([0, 3]) хуй\n"
     ]
    },
    {
     "name": "stderr",
     "output_type": "stream",
     "text": [
      "Hadamard tests q Progress:   0%|          | 0/12 [00:00<?, ?it/s]"
     ]
    },
    {
     "name": "stdout",
     "output_type": "stream",
     "text": [
      "IsingZZ Wires([2, 1]) хуй\n",
      "IsingZZ Wires([2, 1]) хуй\n",
      "IsingZZ Wires([0, 2]) хуй\n",
      "IsingZZ Wires([0, 2]) хуй\n",
      "IsingZZ Wires([0, 1]) хуй\n",
      "IsingZZ Wires([0, 3]) хуй\n",
      "IsingZZ Wires([0, 3]) хуй\n"
     ]
    },
    {
     "name": "stderr",
     "output_type": "stream",
     "text": [
      "Hadamard tests q Progress:   8%|▊         | 1/12 [00:00<00:02,  4.80it/s]"
     ]
    },
    {
     "name": "stdout",
     "output_type": "stream",
     "text": [
      "IsingZZ Wires([2, 1]) хуй\n",
      "IsingZZ Wires([2, 1]) хуй\n",
      "IsingZZ Wires([0, 2]) хуй\n",
      "IsingZZ Wires([0, 2]) хуй\n",
      "IsingZZ Wires([0, 1]) хуй\n",
      "IsingZZ Wires([0, 3]) хуй\n",
      "IsingZZ Wires([0, 3]) хуй\n",
      "IsingZZ Wires([2, 1]) хуй\n",
      "IsingZZ Wires([2, 1]) хуй\n",
      "IsingZZ Wires([0, 1]) хуй\n",
      "IsingZZ Wires([0, 1]) хуй\n",
      "IsingZZ Wires([0, 3]) хуй\n",
      "IsingZZ Wires([0, 3]) хуй\n",
      "IsingZZ Wires([2, 1]) хуй\n",
      "IsingZZ Wires([2, 1]) хуй\n",
      "IsingZZ Wires([0, 1]) хуй\n",
      "IsingZZ Wires([0, 1]) хуй\n",
      "IsingZZ Wires([0, 3]) хуй\n",
      "IsingZZ Wires([0, 3]) хуй\n"
     ]
    },
    {
     "name": "stderr",
     "output_type": "stream",
     "text": [
      "Hadamard tests q Progress:  17%|█▋        | 2/12 [00:00<00:02,  4.86it/s]"
     ]
    },
    {
     "name": "stdout",
     "output_type": "stream",
     "text": [
      "IsingZZ Wires([2, 1]) хуй\n",
      "IsingZZ Wires([2, 1]) хуй\n",
      "IsingZZ Wires([0, 2]) хуй\n",
      "IsingZZ Wires([0, 1]) хуй\n",
      "IsingZZ Wires([0, 1]) хуй\n",
      "IsingZZ Wires([2, 1]) хуй\n",
      "IsingZZ Wires([2, 1]) хуй\n",
      "IsingZZ Wires([0, 2]) хуй\n",
      "IsingZZ Wires([0, 1]) хуй\n",
      "IsingZZ Wires([0, 1]) хуй\n"
     ]
    },
    {
     "name": "stderr",
     "output_type": "stream",
     "text": [
      "Hadamard tests q Progress:  25%|██▌       | 3/12 [00:00<00:01,  4.83it/s]"
     ]
    },
    {
     "name": "stdout",
     "output_type": "stream",
     "text": [
      "IsingZZ"
     ]
    },
    {
     "name": "stderr",
     "output_type": "stream",
     "text": [
      "Hadamard tests q Progress:  33%|███▎      | 4/12 [00:00<00:01,  4.66it/s]"
     ]
    },
    {
     "name": "stdout",
     "output_type": "stream",
     "text": [
      " Wires([2, 1]) хуй\n",
      "IsingZZ Wires([2, 1]) хуй\n",
      "IsingZZ Wires([0, 2]) хуй\n",
      "IsingZZ Wires([0, 1]) хуй\n",
      "IsingZZ Wires([0, 2]) хуй\n",
      "IsingZZ Wires([0, 2]) хуй\n",
      "IsingZZ Wires([0, 1]) хуй\n",
      "IsingZZ Wires([0, 3]) хуй\n",
      "IsingZZ Wires([0, 3]) хуй\n",
      "IsingZZ Wires([2, 1]) хуй\n",
      "IsingZZ Wires([2, 1]) хуй\n",
      "IsingZZ Wires([0, 2]) хуй\n",
      "IsingZZ Wires([0, 1]) хуй\n",
      "IsingZZ Wires([0, 2]) хуй\n",
      "IsingZZ Wires([0, 2]) хуй\n",
      "IsingZZ Wires([0, 1]) хуй\n",
      "IsingZZ Wires([0, 3]) хуй\n",
      "IsingZZ Wires([0, 3]) хуй\n",
      "IsingZZ Wires([2, 1]) хуй\n",
      "IsingZZ Wires([2, 1]) хуй\n",
      "IsingZZ Wires([0, 2]) хуй\n",
      "IsingZZ Wires([0, 1]) хуй\n",
      "IsingZZ Wires([0, 1]) хуй\n",
      "IsingZZ Wires([0, 1]) хуй\n",
      "IsingZZ Wires([0, 3]) хуй\n",
      "IsingZZ Wires([0, 3]) хуй\n"
     ]
    },
    {
     "name": "stderr",
     "output_type": "stream",
     "text": [
      "Hadamard tests q Progress:  42%|████▏     | 5/12 [00:01<00:03,  2.15it/s]"
     ]
    },
    {
     "name": "stdout",
     "output_type": "stream",
     "text": [
      "IsingZZ Wires([2, 1]) хуй\n",
      "IsingZZ Wires([2, 1]) хуй\n",
      "IsingZZ Wires([0, 2]) хуй\n",
      "IsingZZ Wires([0, 1]) хуй\n",
      "IsingZZ Wires([0, 1]) хуй\n",
      "IsingZZ Wires([0, 1]) хуй\n",
      "IsingZZ Wires([0, 3]) хуй\n",
      "IsingZZ Wires([0, 3]) хуй\n",
      "IsingZZ Wires([2, 1]) хуй\n",
      "IsingZZ Wires([2, 1]) хуй\n",
      "IsingZZ Wires([0, 2]) хуй\n",
      "IsingZZ Wires([0, 1]) хуй\n",
      "IsingZZ Wires([0, 2]) хуй\n",
      "IsingZZ Wires([0, 1]) хуй\n",
      "IsingZZ Wires([0, 1]) хуй\n"
     ]
    },
    {
     "name": "stderr",
     "output_type": "stream",
     "text": [
      "Hadamard tests q Progress:  50%|█████     | 6/12 [00:02<00:02,  2.36it/s]"
     ]
    },
    {
     "name": "stdout",
     "output_type": "stream",
     "text": [
      "IsingZZ Wires([2, 1]) хуй\n",
      "IsingZZ Wires([2, 1]) хуй\n",
      "IsingZZ Wires([0, 2]) хуй\n",
      "IsingZZ Wires([0, 1]) хуй\n",
      "IsingZZ Wires([0, 2]) хуй\n",
      "IsingZZ Wires([0, 1]) хуй\n",
      "IsingZZ Wires([0, 1]) хуй\n",
      "IsingZZ Wires([2, 1]) хуй\n",
      "IsingZZ Wires([2, 1]) хуй\n",
      "IsingZZ Wires([0, 2]) хуй\n",
      "IsingZZ Wires([0, 2]) хуй\n",
      "IsingZZ Wires([0, 2]) хуй\n",
      "IsingZZ Wires([0, 1]) хуй\n",
      "IsingZZ Wires([0, 3]) хуй\n",
      "IsingZZ Wires([0, 2]) хуй\n",
      "IsingZZ Wires([0, 2]) хуй\n",
      "IsingZZ Wires([0, 1]) хуй\n",
      "IsingZZ Wires([0, 3]) хуй\n",
      "IsingZZ Wires([0, 3]) хуй\n"
     ]
    },
    {
     "name": "stderr",
     "output_type": "stream",
     "text": [
      "Hadamard tests q Progress:  58%|█████▊    | 7/12 [00:02<00:01,  2.76it/s]"
     ]
    },
    {
     "name": "stdout",
     "output_type": "stream",
     "text": [
      "IsingZZ Wires([2, 1]) хуй\n",
      "IsingZZ Wires([2, 1]) хуй\n",
      "IsingZZ Wires([0, 2]) хуй\n",
      "IsingZZ Wires([0, 2]) хуй\n",
      "IsingZZ Wires([0, 2]) хуй\n",
      "IsingZZ Wires([0, 1]) хуй\n",
      "IsingZZ Wires([0, 3]) хуй\n",
      "IsingZZ Wires([0, 2]) хуй\n",
      "IsingZZ Wires([0, 2]) хуй\n",
      "IsingZZ Wires([0, 1]) хуй\n",
      "IsingZZ Wires([0, 3]) хуй\n",
      "IsingZZ Wires([0, 3]) хуй\n",
      "IsingZZ Wires([2, 1]) хуй\n",
      "IsingZZ Wires([2, 1]) хуй\n",
      "IsingZZ Wires([0, 2]) хуй\n",
      "IsingZZ Wires([0, 2]) хуй\n",
      "IsingZZ Wires([0, 2]) хуй\n",
      "IsingZZ Wires([0, 1]) хуй\n",
      "IsingZZ Wires([0, 3]) хуй\n",
      "IsingZZ Wires([0, 1]) хуй\n",
      "IsingZZ Wires([0, 1]) хуй\n",
      "IsingZZ Wires([0, 3]) хуй\n",
      "IsingZZ Wires([0, 3]) хуй\n",
      "IsingZZ Wires([2, 1]) хуй\n",
      "IsingZZ Wires([2, 1]) хуй\n",
      "IsingZZ Wires([0, 2]) хуй\n",
      "IsingZZ Wires([0, 2]) хуй\n",
      "IsingZZ Wires([0, 2]) хуй\n",
      "IsingZZ Wires([0, 1]) хуй\n",
      "IsingZZ Wires([0, 3]) хуй\n",
      "IsingZZ Wires([0, 1]) хуй\n",
      "IsingZZ Wires([0, 1]) хуй\n",
      "IsingZZ Wires([0, 3]) хуй\n",
      "IsingZZ Wires([0, 3]) хуй\n"
     ]
    },
    {
     "name": "stderr",
     "output_type": "stream",
     "text": [
      "Hadamard tests q Progress:  75%|███████▌  | 9/12 [00:02<00:00,  3.48it/s]"
     ]
    },
    {
     "name": "stdout",
     "output_type": "stream",
     "text": [
      "IsingZZ Wires([2, 1]) хуй\n",
      "IsingZZ Wires([2, 1]) хуй\n",
      "IsingZZ Wires([0, 2]) хуй\n",
      "IsingZZ Wires([0, 2]) хуй\n",
      "IsingZZ Wires([0, 2]) хуй\n",
      "IsingZZ Wires([0, 1]) хуй\n",
      "IsingZZ Wires([0, 3]) хуй\n",
      "IsingZZ Wires([0, 2]) хуй\n",
      "IsingZZ Wires([0, 1]) хуй\n",
      "IsingZZ Wires([0, 1]) хуй\n",
      "IsingZZ Wires([2, 1]) хуй\n",
      "IsingZZ Wires([2, 1]) хуй\n",
      "IsingZZ Wires([0, 2]) хуй\n",
      "IsingZZ Wires([0, 2]) хуй\n",
      "IsingZZ Wires([0, 2]) хуй\n",
      "IsingZZ Wires([0, 1]) хуй\n",
      "IsingZZ Wires([0, 3]) хуй\n",
      "IsingZZ Wires([0, 2]) хуй\n",
      "IsingZZ Wires([0, 1]) хуй\n",
      "IsingZZ Wires([0, 1]) хуй\n"
     ]
    },
    {
     "name": "stderr",
     "output_type": "stream",
     "text": [
      "Hadamard tests q Progress:  83%|████████▎ | 10/12 [00:03<00:00,  3.61it/s]"
     ]
    },
    {
     "name": "stdout",
     "output_type": "stream",
     "text": [
      "IsingZZ Wires([2, 1]) хуй\n",
      "IsingZZ Wires([2, 1]) хуй\n",
      "IsingZZ Wires([0, 2]) хуй\n",
      "IsingZZ Wires([0, 1]) хуй\n",
      "IsingZZ Wires([0, 3]) хуй\n",
      "IsingZZ Wires([0, 2]) хуй\n",
      "IsingZZ Wires([0, 2]) хуй\n",
      "IsingZZ Wires([0, 1]) хуй\n",
      "IsingZZ Wires([0, 3]) хуй\n",
      "IsingZZ Wires([0, 3]) хуй\n",
      "IsingZZ Wires([2, 1]) хуй\n",
      "IsingZZ Wires([2, 1]) хуй\n",
      "IsingZZ Wires([0, 2]) хуй\n",
      "IsingZZ Wires([0, 1]) хуй\n",
      "IsingZZ Wires([0, 3]) хуй\n",
      "IsingZZ Wires([0, 2]) хуй\n",
      "IsingZZ Wires([0, 2]) хуй\n",
      "IsingZZ Wires([0, 1]) хуй\n",
      "IsingZZ Wires([0, 3]) хуй\n",
      "IsingZZ Wires([0, 3]) хуй\n",
      "IsingZZ Wires([2, 1]) хуй\n",
      "IsingZZ Wires([2, 1]) хуй\n",
      "IsingZZ Wires([0, 2]) хуй\n",
      "IsingZZ Wires([0, 1]) хуй\n",
      "IsingZZ Wires([0, 3]) хуй\n",
      "IsingZZ Wires([0, 1]) хуй\n",
      "IsingZZ Wires([0, 1]) хуй\n",
      "IsingZZ Wires([0, 3]) хуй\n",
      "IsingZZ Wires([0, 3]) хуй\n"
     ]
    },
    {
     "name": "stderr",
     "output_type": "stream",
     "text": [
      "Hadamard tests q Progress:  92%|█████████▏| 11/12 [00:03<00:00,  3.75it/s]"
     ]
    },
    {
     "name": "stdout",
     "output_type": "stream",
     "text": [
      "IsingZZ Wires([2, 1]) хуй\n",
      "IsingZZ Wires([2, 1]) хуй\n",
      "IsingZZ Wires([0, 2]) хуй\n",
      "IsingZZ Wires([0, 1]) хуй\n",
      "IsingZZ Wires([0, 3]) хуй\n",
      "IsingZZ Wires([0, 1]) хуй\n",
      "IsingZZ Wires([0, 1]) хуй\n",
      "IsingZZ Wires([0, 3]) хуй\n",
      "IsingZZ Wires([0, 3]) хуй\n",
      "IsingZZ Wires([2, 1]) хуй\n",
      "IsingZZ Wires([2, 1]) хуй\n",
      "IsingZZ Wires([0, 2]) хуй\n",
      "IsingZZ Wires([0, 1]) хуй\n",
      "IsingZZ Wires([0, 3]) хуй\n",
      "IsingZZ Wires([0, 2]) хуй\n",
      "IsingZZ Wires([0, 1]) хуй\n",
      "IsingZZ Wires([0, 1]) хуй\n",
      "IsingZZ Wires([2, 1]) хуй\n",
      "IsingZZ Wires([2, 1]) хуй\n",
      "IsingZZ Wires([0, 2]) хуй\n",
      "IsingZZ Wires([0, 1]) хуй\n",
      "IsingZZ Wires([0, 3]) хуй\n",
      "IsingZZ Wires([0, 2]) хуй\n",
      "IsingZZ Wires([0, 1]) хуй\n",
      "IsingZZ Wires([0, 1]) хуй\n"
     ]
    },
    {
     "name": "stderr",
     "output_type": "stream",
     "text": [
      "Hadamard tests q Progress: 100%|██████████| 12/12 [00:03<00:00,  3.42it/s]\n",
      "Noise 0.014: 100%|██████████| 4/4 [00:13<00:00,  3.27s/it]\n"
     ]
    },
    {
     "data": {
      "text/plain": [
       "<Figure size 640x480 with 1 Axes>"
      ],
      "image/png": "[encoded data removed]"
     },
     "metadata": {},
     "output_type": "display_data"
    }
   ],
   "execution_count": 6
  },
  {
   "metadata": {
    "ExecuteTime": {
     "end_time": "2025-03-10T10:11:36.472053Z",
     "start_time": "2025-03-10T10:11:36.468984Z"
    }
   },
   "cell_type": "code",
   "source": "",
   "id": "87a3f81ce322ff48",
   "outputs": [],
   "execution_count": 6
  },
  {
   "metadata": {
    "ExecuteTime": {
     "end_time": "2025-03-10T10:11:36.474739Z",
     "start_time": "2025-03-10T10:11:36.473070Z"
    }
   },
   "cell_type": "code",
   "source": "",
   "id": "1df97c5015d41629",
   "outputs": [],
   "execution_count": 6
  },
  {
   "metadata": {
    "ExecuteTime": {
     "end_time": "2025-03-10T10:04:03.348956Z",
     "start_time": "2025-03-10T10:04:03.346645Z"
    }
   },
   "cell_type": "code",
   "source": "",
   "id": "612eec9f63c3e648",
   "outputs": [],
   "execution_count": 6
  },
  {
   "metadata": {
    "ExecuteTime": {
     "end_time": "2025-03-10T10:04:03.351984Z",
     "start_time": "2025-03-10T10:04:03.348956Z"
    }
   },
   "cell_type": "code",
   "source": "",
   "id": "b9924f4a14ff8d6d",
   "outputs": [],
   "execution_count": 6
  },
  {
   "metadata": {},
   "cell_type": "code",
   "outputs": [],
   "execution_count": null,
   "source": "",
   "id": "cbe9f88e1d9f5188"
  }
 ],
 "metadata": {
  "kernelspec": {
   "display_name": "Python 3",
   "language": "python",
   "name": "python3"
  },
  "language_info": {
   "codemirror_mode": {
    "name": "ipython",
    "version": 2
   },
   "file_extension": ".py",
   "mimetype": "text/x-python",
   "name": "python",
   "nbconvert_exporter": "python",
   "pygments_lexer": "ipython2",
   "version": "2.7.6"
  }
 },
 "nbformat": 4,
 "nbformat_minor": 5
}

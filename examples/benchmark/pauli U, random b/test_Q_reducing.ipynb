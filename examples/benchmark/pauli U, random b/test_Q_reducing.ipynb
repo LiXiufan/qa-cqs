{
 "cells": [
  {
   "cell_type": "code",
   "id": "initial_id",
   "metadata": {
    "collapsed": true,
    "ExecuteTime": {
     "end_time": "2025-03-06T11:04:20.031956Z",
     "start_time": "2025-03-06T11:04:20.027086Z"
    }
   },
   "source": [
    "import numpy as np\n",
    "import csv\n",
    "from cqs.object import Instance\n",
    "from qiskit import QuantumCircuit, QuantumRegister, ClassicalRegister\n",
    "from qiskit.circuit.random import random_circuit\n",
    "import qiskit.qasm3 as qasm3\n",
    "from instances_b.reader_b import read_csv_b\n",
    "from transpiler.transpile import transpile_circuit\n",
    "from examples.benchmark.cqs_simulation import main_prober, main_solver\n",
    "from qiskit.quantum_info import Operator\n",
    "from tqdm import tqdm\n",
    "\n",
    "def normalize_quantum_state(vec):\n",
    "    norm=np.sqrt(np.abs(vec.T.conjugate()@vec))\n",
    "    return vec/norm\n",
    "\n",
    "def __num_to_pauli_list(num_list):\n",
    "    paulis = ['I', 'X', 'Y', 'Z']\n",
    "    pauli_list = [paulis[int(i)] for i in num_list]\n",
    "    return pauli_list\n",
    "\n",
    "def __add_Pauli_gate(qc, which_qubit, which_gate):\n",
    "    if which_gate == 0:\n",
    "        qc.id(which_qubit)\n",
    "    elif which_gate == 1:\n",
    "        qc.x(which_qubit)\n",
    "    elif which_gate == 2:\n",
    "        qc.y(which_qubit)\n",
    "    elif which_gate == 3:\n",
    "        qc.z(which_qubit)\n",
    "    else:\n",
    "        return ValueError(\"Not supported Pauli gate type.\")\n",
    "\n",
    "def __num_to_pauli_circuit(num_list):\n",
    "    n = len(num_list)\n",
    "    num_list = [int(i) for i in num_list]\n",
    "    qr = QuantumRegister(n, 'q')\n",
    "    qc = QuantumCircuit(qr)\n",
    "    for i in range(n):\n",
    "        __add_Pauli_gate(qc, i, num_list[i])\n",
    "    return qc\n",
    "\n",
    "def create_random_circuit_in_native_gate(n, d):\n",
    "    ub = random_circuit(num_qubits=n,max_operands=2, depth=d, measure=False)\n",
    "    # ub = transpile_circuit(ub, device='Aria', optimization_level=2)\n",
    "    return ub"
   ],
   "outputs": [],
   "execution_count": 130
  },
  {
   "metadata": {
    "ExecuteTime": {
     "end_time": "2025-03-06T10:38:38.168821Z",
     "start_time": "2025-03-06T10:37:42.499819Z"
    }
   },
   "cell_type": "code",
   "source": [
    "with open('3_qubit_data_generation_matrix_A.csv', 'r', newline='') as csvfile:\n",
    "    data_b = read_csv_b(3)\n",
    "    reader = csv.reader(csvfile, delimiter=' ', quotechar='|')\n",
    "    for i, row in enumerate(reader):\n",
    "        if 2 > i > 0:\n",
    "            row_clean = [j for j in ''.join(row).split('\"') if j != ',']\n",
    "            nLc = row_clean[0].split(',')\n",
    "            n = int(nLc[0])\n",
    "            print(\"qubit number is:\", n)\n",
    "            L = int(nLc[1])\n",
    "            print(\"term number is:\", L)\n",
    "            kappa = float(nLc[2])\n",
    "            print('condition number is', kappa)\n",
    "            pauli_strings = [__num_to_pauli_list(l) for l in eval(row_clean[1])]\n",
    "            print('Pauli strings are:', pauli_strings)\n",
    "            pauli_circuits = [__num_to_pauli_circuit(l) for l in eval(row_clean[1])]\n",
    "            coeffs = [float(i) for i in eval(row_clean[2])]\n",
    "            print('coefficients are:', coeffs)\n",
    "            print()\n",
    "\n",
    "            # circuit depth d\n",
    "            d = 3\n",
    "            ub = qasm3.loads(data_b.iloc[i].qasm)\n",
    "            print('Ub is given by:', data_b.iloc[i].b)\n",
    "            print(ub)\n",
    "\n",
    "            # generate instance\n",
    "            instance = Instance(n, L, kappa)\n",
    "            instance.generate(given_coeffs=coeffs, given_unitaries=pauli_circuits, given_ub=ub)\n",
    "            Itr, LOSS, ansatz_tree = main_prober(instance, backend='qiskit-noiseless',ITR=None,\n",
    "                                    shots=0, optimization_level=2,\n",
    "                                    noise_level_two_qubit=0, noise_level_one_qubit=0, readout_error=0)\n",
    "            print(Itr)\n",
    "            print(LOSS)\n",
    "            print('ANsatz tree contains:')\n",
    "            # for qc in ansatz_tree:\n",
    "            #     print(qc)"
   ],
   "id": "e9aec0c9870f25b8",
   "outputs": [
    {
     "name": "stdout",
     "output_type": "stream",
     "text": [
      "Resolved file path: C:\\Users\\Nikita\\PycharmProjects\\CQS_singapore\\instances_b\\3_b_random_circuits.csv\n",
      "Reading file: C:\\Users\\Nikita\\PycharmProjects\\CQS_singapore\\instances_b\\3_b_random_circuits.csv\n",
      "qubit number is: 3\n",
      "term number is: 3\n",
      "condition number is 3.5456037521362305\n",
      "Pauli strings are: [['Y', 'Z', 'Y'], ['I', 'Y', 'Y'], ['X', 'Y', 'I']]\n",
      "coefficients are: [-1.01, 1.17, 2.76]\n",
      "\n",
      "Ub is given by: [(0.7071067811865475+0j), 0j, 0j, 0j, (-0.6099094210942649+0.357785547584665j), 0j, 0j, 0j]\n",
      "                                           \n",
      "q_0: ──────────X───────────■───────■───────\n",
      "               │           │ ┌─────┴──────┐\n",
      "q_1: ──────────X───────────■─┤ Rz(4.3897) ├\n",
      "     ┌───────────────────┐   └────────────┘\n",
      "q_2: ┤ U2(2.6111,5.8783) ├─────────────────\n",
      "     └───────────────────┘                 \n"
     ]
    },
    {
     "name": "stderr",
     "output_type": "stream",
     "text": [
      "Hadamard tests Progress: 100%|██████████| 9/9 [00:00<00:00, 12.37it/s]\n"
     ]
    },
    {
     "name": "stdout",
     "output_type": "stream",
     "text": [
      "loss: 1.0\n",
      "combination parameters are: [(8.875921976271895e-19+8.183583031656932e-43j)]\n"
     ]
    },
    {
     "name": "stderr",
     "output_type": "stream",
     "text": [
      "Hadamard tests Progress: 100%|██████████| 27/27 [00:02<00:00, 12.51it/s]\n"
     ]
    },
    {
     "name": "stdout",
     "output_type": "stream",
     "text": [
      "loss: 0.23874246416144873\n",
      "combination parameters are: [(2.020011658596599e-18+1.2240697286717896e-17j), (0.27581796050071716-3.062195165274972e-17j)]\n"
     ]
    },
    {
     "name": "stderr",
     "output_type": "stream",
     "text": [
      "Hadamard tests Progress: 100%|██████████| 54/54 [00:05<00:00, 10.67it/s]\n"
     ]
    },
    {
     "name": "stdout",
     "output_type": "stream",
     "text": [
      "loss: 0.040361668973984965\n",
      "combination parameters are: [(1.0263140879855734e-17-0.09446863830089569j), (0.27581796050071716-4.2345076239928896e-17j), (5.660836991786247e-17-0.16955626010894775j)]\n"
     ]
    },
    {
     "name": "stderr",
     "output_type": "stream",
     "text": [
      "Hadamard tests Progress: 100%|██████████| 90/90 [00:08<00:00, 10.99it/s]\n"
     ]
    },
    {
     "name": "stdout",
     "output_type": "stream",
     "text": [
      "loss: 6.770843941072968e-08\n",
      "combination parameters are: [(-1.1195258858408969e-13-0.09446864575147629j), (0.3184279203414917-4.2979942521670367e-14j), (-1.1223352569577141e-13-0.16955624520778656j), (0.07647912949323654+1.0880992863725267e-14j)]\n",
      "[1, 2, 3, 4]\n",
      "[1.0, 0.23874246416144873, 0.040361668973984965, 6.770843941072968e-08]\n",
      "ANsatz tree contains:\n"
     ]
    }
   ],
   "execution_count": 46
  },
  {
   "metadata": {
    "ExecuteTime": {
     "end_time": "2025-03-06T11:10:06.836469Z",
     "start_time": "2025-03-06T11:10:06.828623Z"
    }
   },
   "cell_type": "code",
   "source": "",
   "id": "24cec41ac99eba01",
   "outputs": [
    {
     "data": {
      "text/plain": [
       "array([[ 0.  +0.j  ,  0.  +0.j  ,  0.  +0.j  ,  0.  -2.76j,  0.  +0.j  ,\n",
       "         1.01+0.j  , -1.17+0.j  ,  0.  +0.j  ],\n",
       "       [ 0.  +0.j  ,  0.  +0.j  ,  0.  -2.76j,  0.  +0.j  , -1.01+0.j  ,\n",
       "         0.  +0.j  ,  0.  +0.j  , -1.17+0.j  ],\n",
       "       [ 0.  +0.j  ,  0.  +2.76j,  0.  +0.j  ,  0.  +0.j  ,  1.17+0.j  ,\n",
       "         0.  +0.j  ,  0.  +0.j  , -1.01+0.j  ],\n",
       "       [ 0.  +2.76j,  0.  +0.j  ,  0.  +0.j  ,  0.  +0.j  ,  0.  +0.j  ,\n",
       "         1.17+0.j  ,  1.01+0.j  ,  0.  +0.j  ],\n",
       "       [ 0.  +0.j  , -1.01+0.j  ,  1.17+0.j  ,  0.  +0.j  ,  0.  +0.j  ,\n",
       "         0.  +0.j  ,  0.  +0.j  ,  0.  -2.76j],\n",
       "       [ 1.01+0.j  ,  0.  +0.j  ,  0.  +0.j  ,  1.17+0.j  ,  0.  +0.j  ,\n",
       "         0.  +0.j  ,  0.  -2.76j,  0.  +0.j  ],\n",
       "       [-1.17+0.j  ,  0.  +0.j  ,  0.  +0.j  ,  1.01+0.j  ,  0.  +0.j  ,\n",
       "         0.  +2.76j,  0.  +0.j  ,  0.  +0.j  ],\n",
       "       [ 0.  +0.j  , -1.17+0.j  , -1.01+0.j  ,  0.  +0.j  ,  0.  +2.76j,\n",
       "         0.  +0.j  ,  0.  +0.j  ,  0.  +0.j  ]])"
      ]
     },
     "execution_count": 140,
     "metadata": {},
     "output_type": "execute_result"
    }
   ],
   "execution_count": 140
  },
  {
   "metadata": {
    "ExecuteTime": {
     "end_time": "2025-03-06T11:08:34.795902Z",
     "start_time": "2025-03-06T11:08:34.792687Z"
    }
   },
   "cell_type": "code",
   "source": "",
   "id": "a125bb572ee67851",
   "outputs": [],
   "execution_count": 137
  },
  {
   "metadata": {
    "ExecuteTime": {
     "end_time": "2025-03-06T11:08:34.867072Z",
     "start_time": "2025-03-06T11:08:34.864729Z"
    }
   },
   "cell_type": "code",
   "source": "\n",
   "id": "eac49127ebfada22",
   "outputs": [],
   "execution_count": 137
  },
  {
   "metadata": {
    "ExecuteTime": {
     "end_time": "2025-03-06T11:08:35.038419Z",
     "start_time": "2025-03-06T11:08:35.035525Z"
    }
   },
   "cell_type": "code",
   "source": "\n",
   "id": "3e91f3b0f21527b5",
   "outputs": [],
   "execution_count": 137
  },
  {
   "metadata": {
    "ExecuteTime": {
     "end_time": "2025-03-06T11:08:36.592428Z",
     "start_time": "2025-03-06T11:08:36.589437Z"
    }
   },
   "cell_type": "code",
   "source": "\n",
   "id": "6dc914e72d8114bc",
   "outputs": [],
   "execution_count": 137
  },
  {
   "metadata": {
    "ExecuteTime": {
     "end_time": "2025-03-06T10:52:45.551047Z",
     "start_time": "2025-03-06T10:52:45.540690Z"
    }
   },
   "cell_type": "code",
   "source": "loss, alphas = main_solver(instance, ansatz_tree, backend='qiskit-noiseless', ITR=None, shots=0, optimization_level=2)",
   "id": "9cad9b057886d2d6",
   "outputs": [
    {
     "data": {
      "text/plain": [
       "array([[ 0.        +6.19534276e-19j,  0.        -0.00000000e+00j,\n",
       "         0.        +0.00000000e+00j,  0.        -5.27865968e-01j,\n",
       "         0.        -0.00000000e+00j, -0.19316834-0.00000000e+00j,\n",
       "         0.22376927+0.00000000e+00j,  0.        -0.00000000e+00j],\n",
       "       [ 0.        -0.00000000e+00j,  0.        -6.19534276e-19j,\n",
       "         0.        -5.27865968e-01j,  0.        -0.00000000e+00j,\n",
       "         0.19316834+0.00000000e+00j,  0.        -0.00000000e+00j,\n",
       "         0.        -0.00000000e+00j,  0.22376927+0.00000000e+00j],\n",
       "       [ 0.        +0.00000000e+00j,  0.        +5.27865968e-01j,\n",
       "        -0.        -4.26903841e-18j,  0.        +0.00000000e+00j,\n",
       "        -0.22376927+0.00000000e+00j,  0.        +0.00000000e+00j,\n",
       "         0.        +0.00000000e+00j,  0.19316834+0.00000000e+00j],\n",
       "       [ 0.        +5.27865968e-01j,  0.        +0.00000000e+00j,\n",
       "         0.        +0.00000000e+00j,  0.        +4.26903841e-18j,\n",
       "         0.        +0.00000000e+00j, -0.22376927+0.00000000e+00j,\n",
       "        -0.19316834+0.00000000e+00j,  0.        +0.00000000e+00j],\n",
       "       [ 0.        +0.00000000e+00j,  0.19316834+0.00000000e+00j,\n",
       "        -0.22376927-0.00000000e+00j,  0.        +0.00000000e+00j,\n",
       "         0.        -5.38905894e-18j,  0.        +0.00000000e+00j,\n",
       "         0.        +0.00000000e+00j,  0.        -5.27865968e-01j],\n",
       "       [-0.19316834-0.00000000e+00j,  0.        +0.00000000e+00j,\n",
       "         0.        +0.00000000e+00j, -0.22376927-0.00000000e+00j,\n",
       "         0.        +0.00000000e+00j,  0.        +5.38905894e-18j,\n",
       "         0.        -5.27865968e-01j,  0.        +0.00000000e+00j],\n",
       "       [ 0.22376927+0.00000000e+00j,  0.        +0.00000000e+00j,\n",
       "         0.        +0.00000000e+00j, -0.19316834+0.00000000e+00j,\n",
       "         0.        +0.00000000e+00j,  0.        +5.27865968e-01j,\n",
       "        -0.        -5.91137622e-18j,  0.        +0.00000000e+00j],\n",
       "       [ 0.        +0.00000000e+00j,  0.22376927+0.00000000e+00j,\n",
       "         0.19316834+0.00000000e+00j,  0.        +0.00000000e+00j,\n",
       "         0.        +5.27865968e-01j,  0.        +0.00000000e+00j,\n",
       "         0.        +0.00000000e+00j,  0.        +5.91137622e-18j]])"
      ]
     },
     "execution_count": 87,
     "metadata": {},
     "output_type": "execute_result"
    }
   ],
   "execution_count": 87
  },
  {
   "metadata": {
    "ExecuteTime": {
     "end_time": "2025-03-06T11:08:53.790316Z",
     "start_time": "2025-03-06T11:08:53.772294Z"
    }
   },
   "cell_type": "code",
   "source": [
    "A_inv=np.linalg.inv(np.array(instance.get_matrix()))\n",
    "b=np.array(Operator(instance.get_ub().to_gate())).T[0].reshape(-1,1)\n",
    "solution=np.zeros(2**3,dtype=np.complex128)\n",
    "for i in tqdm(range(len(ansatz_tree))):\n",
    "    ub_copy=ub.copy()\n",
    "    circuit_u_i=ub_copy.compose(ansatz_tree[i].to_gate(), list(range(ansatz_tree[i].num_qubits)))\n",
    "    ui=np.array(Operator(circuit_u_i)).T[0]\n",
    "    solution+=alphas[i] * ui\n",
    "solution=normalize_quantum_state(solution.reshape(-1,1))\n",
    "solution_true=A_inv@b\n",
    "solution_true=normalize_quantum_state(solution_true)\n",
    "fidelity=np.abs(solution.T.conjugate()@solution_true)\n",
    "print(\"fidelity\",fidelity)\n",
    "print(\"loss\",loss)\n"
   ],
   "id": "9e5601d099242873",
   "outputs": [
    {
     "name": "stderr",
     "output_type": "stream",
     "text": [
      "100%|██████████| 5/5 [00:00<00:00, 681.67it/s]"
     ]
    },
    {
     "name": "stdout",
     "output_type": "stream",
     "text": [
      "fidelity [[0.62925318]]\n",
      "loss 6.966621490800406e-08\n"
     ]
    },
    {
     "name": "stderr",
     "output_type": "stream",
     "text": [
      "\n"
     ]
    }
   ],
   "execution_count": 138
  },
  {
   "metadata": {
    "ExecuteTime": {
     "end_time": "2025-03-06T11:10:15.096707Z",
     "start_time": "2025-03-06T11:10:15.089267Z"
    }
   },
   "cell_type": "code",
   "source": "instance.get_matrix()",
   "id": "d400eca68298dedd",
   "outputs": [
    {
     "data": {
      "text/plain": [
       "array([[ 0.  +0.j  ,  0.  +0.j  ,  0.  +0.j  ,  0.  -2.76j,  0.  +0.j  ,\n",
       "         1.01+0.j  , -1.17+0.j  ,  0.  +0.j  ],\n",
       "       [ 0.  +0.j  ,  0.  +0.j  ,  0.  -2.76j,  0.  +0.j  , -1.01+0.j  ,\n",
       "         0.  +0.j  ,  0.  +0.j  , -1.17+0.j  ],\n",
       "       [ 0.  +0.j  ,  0.  +2.76j,  0.  +0.j  ,  0.  +0.j  ,  1.17+0.j  ,\n",
       "         0.  +0.j  ,  0.  +0.j  , -1.01+0.j  ],\n",
       "       [ 0.  +2.76j,  0.  +0.j  ,  0.  +0.j  ,  0.  +0.j  ,  0.  +0.j  ,\n",
       "         1.17+0.j  ,  1.01+0.j  ,  0.  +0.j  ],\n",
       "       [ 0.  +0.j  , -1.01+0.j  ,  1.17+0.j  ,  0.  +0.j  ,  0.  +0.j  ,\n",
       "         0.  +0.j  ,  0.  +0.j  ,  0.  -2.76j],\n",
       "       [ 1.01+0.j  ,  0.  +0.j  ,  0.  +0.j  ,  1.17+0.j  ,  0.  +0.j  ,\n",
       "         0.  +0.j  ,  0.  -2.76j,  0.  +0.j  ],\n",
       "       [-1.17+0.j  ,  0.  +0.j  ,  0.  +0.j  ,  1.01+0.j  ,  0.  +0.j  ,\n",
       "         0.  +2.76j,  0.  +0.j  ,  0.  +0.j  ],\n",
       "       [ 0.  +0.j  , -1.17+0.j  , -1.01+0.j  ,  0.  +0.j  ,  0.  +2.76j,\n",
       "         0.  +0.j  ,  0.  +0.j  ,  0.  +0.j  ]])"
      ]
     },
     "execution_count": 141,
     "metadata": {},
     "output_type": "execute_result"
    }
   ],
   "execution_count": 141
  },
  {
   "metadata": {
    "ExecuteTime": {
     "end_time": "2025-03-06T11:10:27.160341Z",
     "start_time": "2025-03-06T11:10:27.156128Z"
    }
   },
   "cell_type": "code",
   "source": "instance.get_coeffs()",
   "id": "eafcd6fb24df8cd9",
   "outputs": [
    {
     "data": {
      "text/plain": [
       "[-1.01, 1.17, 2.76]"
      ]
     },
     "execution_count": 142,
     "metadata": {},
     "output_type": "execute_result"
    }
   ],
   "execution_count": 142
  },
  {
   "metadata": {},
   "cell_type": "code",
   "outputs": [],
   "execution_count": null,
   "source": "",
   "id": "52048748c7cdb2e7"
  }
 ],
 "metadata": {
  "kernelspec": {
   "display_name": "Python 3",
   "language": "python",
   "name": "python3"
  },
  "language_info": {
   "codemirror_mode": {
    "name": "ipython",
    "version": 2
   },
   "file_extension": ".py",
   "mimetype": "text/x-python",
   "name": "python",
   "nbconvert_exporter": "python",
   "pygments_lexer": "ipython2",
   "version": "2.7.6"
  }
 },
 "nbformat": 4,
 "nbformat_minor": 5
}

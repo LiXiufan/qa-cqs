{
 "cells": [
  {
   "cell_type": "code",
   "id": "initial_id",
   "metadata": {
    "collapsed": true,
    "ExecuteTime": {
     "end_time": "2025-03-06T13:20:08.240326Z",
     "start_time": "2025-03-06T13:20:02.985676Z"
    }
   },
   "source": [
    "import numpy as np\n",
    "import csv\n",
    "from cqs.object import Instance\n",
    "from qiskit import QuantumCircuit, QuantumRegister, ClassicalRegister\n",
    "from qiskit.circuit.random import random_circuit\n",
    "import qiskit.qasm3 as qasm3\n",
    "from instances_b.reader_b import read_csv_b\n",
    "from transpiler.transpile import transpile_circuit\n",
    "from examples.benchmark.cqs_simulation import main_prober, main_solver\n",
    "from qiskit.quantum_info import Operator\n",
    "from tqdm import tqdm\n",
    "from cqs.local.calculation import __estimate_V_dagger_V,__estimate_q,__reshape_to_Q_r\n",
    "from cqs.optimization import solve_combination_parameters\n",
    "from matplotlib import pyplot as plt\n",
    "\n",
    "def normalize_quantum_state(vec):\n",
    "    norm=np.sqrt(np.abs(vec.T.conjugate()@vec))\n",
    "    return vec/norm\n",
    "\n",
    "def __num_to_pauli_list(num_list):\n",
    "    paulis = ['I', 'X', 'Y', 'Z']\n",
    "    pauli_list = [paulis[int(i)] for i in num_list]\n",
    "    return pauli_list\n",
    "\n",
    "def __add_Pauli_gate(qc, which_qubit, which_gate):\n",
    "    if which_gate == 0:\n",
    "        qc.id(which_qubit)\n",
    "    elif which_gate == 1:\n",
    "        qc.x(which_qubit)\n",
    "    elif which_gate == 2:\n",
    "        qc.y(which_qubit)\n",
    "    elif which_gate == 3:\n",
    "        qc.z(which_qubit)\n",
    "    else:\n",
    "        return ValueError(\"Not supported Pauli gate type.\")\n",
    "\n",
    "def __num_to_pauli_circuit(num_list):\n",
    "    n = len(num_list)\n",
    "    num_list = [int(i) for i in num_list]\n",
    "    qr = QuantumRegister(n, 'q')\n",
    "    qc = QuantumCircuit(qr)\n",
    "    for i in range(n):\n",
    "        __add_Pauli_gate(qc, i, num_list[i])\n",
    "    return qc\n",
    "\n",
    "def create_random_circuit_in_native_gate(n, d):\n",
    "    ub = random_circuit(num_qubits=n,max_operands=2, depth=d, measure=False)\n",
    "    # ub = transpile_circuit(ub, device='Aria', optimization_level=2)\n",
    "    return ub"
   ],
   "outputs": [],
   "execution_count": 1
  },
  {
   "metadata": {
    "ExecuteTime": {
     "end_time": "2025-03-06T13:20:52.112745Z",
     "start_time": "2025-03-06T13:20:08.241314Z"
    }
   },
   "cell_type": "code",
   "source": [
    "with open('3_qubit_data_generation_matrix_A.csv', 'r', newline='') as csvfile:\n",
    "    data_b = read_csv_b(3)\n",
    "    reader = csv.reader(csvfile, delimiter=' ', quotechar='|')\n",
    "    for i, row in enumerate(reader):\n",
    "        if 2 > i > 0:\n",
    "            row_clean = [j for j in ''.join(row).split('\"') if j != ',']\n",
    "            nLc = row_clean[0].split(',')\n",
    "            n = int(nLc[0])\n",
    "            print(\"qubit number is:\", n)\n",
    "            L = int(nLc[1])\n",
    "            print(\"term number is:\", L)\n",
    "            kappa = float(nLc[2])\n",
    "            print('condition number is', kappa)\n",
    "            pauli_strings = [__num_to_pauli_list(l) for l in eval(row_clean[1])]\n",
    "            print('Pauli strings are:', pauli_strings)\n",
    "            pauli_circuits = [__num_to_pauli_circuit(l) for l in eval(row_clean[1])]\n",
    "            coeffs = [float(i) for i in eval(row_clean[2])]\n",
    "            print('coefficients are:', coeffs)\n",
    "            print()\n",
    "\n",
    "            # circuit depth d\n",
    "            d = 3\n",
    "            ub = qasm3.loads(data_b.iloc[i].qasm)\n",
    "            print('Ub is given by:', data_b.iloc[i].b)\n",
    "            print(ub)\n",
    "\n",
    "            # generate instance\n",
    "            instance = Instance(n, L, kappa)\n",
    "            instance.generate(given_coeffs=coeffs, given_unitaries=pauli_circuits, given_ub=ub)\n",
    "            Itr, LOSS, ansatz_tree = main_prober(instance, backend='qiskit-noiseless',ITR=None,\n",
    "                                    shots=0, optimization_level=2,\n",
    "                                    noise_level_two_qubit=0, noise_level_one_qubit=0, readout_error=0)\n",
    "            print(Itr)\n",
    "            print(LOSS)\n",
    "            print('ANsatz tree contains:')\n",
    "            # for qc in ansatz_tree:\n",
    "            #     print(qc)\n",
    "ansatz_tree=[ansatz_tree[i] for i in range(len(ansatz_tree)-1)]"
   ],
   "id": "e9aec0c9870f25b8",
   "outputs": [
    {
     "name": "stdout",
     "output_type": "stream",
     "text": [
      "Resolved file path: C:\\Users\\Nikita\\PycharmProjects\\CQS_singapore\\instances_b\\3_b_random_circuits.csv\n",
      "Reading file: C:\\Users\\Nikita\\PycharmProjects\\CQS_singapore\\instances_b\\3_b_random_circuits.csv\n",
      "qubit number is: 3\n",
      "term number is: 3\n",
      "condition number is 3.5456037521362305\n",
      "Pauli strings are: [['Y', 'Z', 'Y'], ['I', 'Y', 'Y'], ['X', 'Y', 'I']]\n",
      "coefficients are: [-1.01, 1.17, 2.76]\n",
      "\n",
      "Ub is given by: [(0.7071067811865475+0j), 0j, 0j, 0j, (-0.6099094210942649+0.357785547584665j), 0j, 0j, 0j]\n",
      "                                           \n",
      "q_0: ──────────X───────────■───────■───────\n",
      "               │           │ ┌─────┴──────┐\n",
      "q_1: ──────────X───────────■─┤ Rz(4.3897) ├\n",
      "     ┌───────────────────┐   └────────────┘\n",
      "q_2: ┤ U2(2.6111,5.8783) ├─────────────────\n",
      "     └───────────────────┘                 \n"
     ]
    },
    {
     "name": "stderr",
     "output_type": "stream",
     "text": [
      "Hadamard tests V_dagger_V Progress: 100%|██████████| 9/9 [00:01<00:00,  6.88it/s]\n",
      "Hadamard tests q Progress: 100%|██████████| 3/3 [00:00<00:00, 15.87it/s]\n",
      "C:\\Users\\Nikita\\PycharmProjects\\CQS_singapore\\cqs\\optimization.py:91: UserWarning: The use of `x.T` on tensors of dimension other than 2 to reverse their shape is deprecated and it will throw an error in a future release. Consider `x.mT` to transpose batches of matrices or `x.permute(*torch.arange(x.ndim - 1, -1, -1))` to reverse the dimensions of a tensor. (Triggered internally at C:\\actions-runner\\_work\\pytorch\\pytorch\\pytorch\\aten\\src\\ATen\\native\\TensorShape.cpp:3729.)\n",
      "  return torch.abs(0.5*torch.matmul(x.T, torch.matmul(Q, x)) + torch.matmul(r.T, x) + 1)\n"
     ]
    },
    {
     "name": "stdout",
     "output_type": "stream",
     "text": [
      "loss: 1.0\n",
      "combination parameters are: [(8.875924044223427e-19+1.9407983730898716e-42j)]\n"
     ]
    },
    {
     "name": "stderr",
     "output_type": "stream",
     "text": [
      "Hadamard tests V_dagger_V Progress: 100%|██████████| 27/27 [00:01<00:00, 14.37it/s]\n",
      "Hadamard tests q Progress: 100%|██████████| 6/6 [00:00<00:00, 15.39it/s]\n"
     ]
    },
    {
     "name": "stdout",
     "output_type": "stream",
     "text": [
      "loss: 0.23874246416146472\n",
      "combination parameters are: [(2.020010211030527e-18+1.2240700595440346e-17j), (0.27581799030303955-3.0621948344027267e-17j)]\n"
     ]
    },
    {
     "name": "stderr",
     "output_type": "stream",
     "text": [
      "Hadamard tests V_dagger_V Progress: 100%|██████████| 54/54 [00:03<00:00, 14.78it/s]\n",
      "Hadamard tests q Progress: 100%|██████████| 9/9 [00:00<00:00, 13.71it/s]\n"
     ]
    },
    {
     "name": "stdout",
     "output_type": "stream",
     "text": [
      "loss: 0.04036166897397997\n",
      "combination parameters are: [(1.0263187201970037e-17-0.09446864575147629j), (0.27581796050071716-4.2345036535259493e-17j), (5.660844932720127e-17-0.16955624520778656j)]\n"
     ]
    },
    {
     "name": "stderr",
     "output_type": "stream",
     "text": [
      "Hadamard tests V_dagger_V Progress: 100%|██████████| 90/90 [00:06<00:00, 14.43it/s]\n",
      "Hadamard tests q Progress: 100%|██████████| 12/12 [00:00<00:00, 15.46it/s]\n"
     ]
    },
    {
     "name": "stdout",
     "output_type": "stream",
     "text": [
      "loss: 6.770103899711444e-08\n",
      "combination parameters are: [(-7.226477174906293e-14-0.09446826577186584j), (0.31842920184135437-4.3596804768716857e-13j), (-1.0207394147586021e-13-0.1695559173822403j), (0.07648015022277832+5.903701057749858e-14j)]\n",
      "[1, 2, 3, 4]\n",
      "[1.0, 0.23874246416146472, 0.04036166897397997, 6.770103899711444e-08]\n",
      "ANsatz tree contains:\n"
     ]
    }
   ],
   "execution_count": 2
  },
  {
   "metadata": {},
   "cell_type": "markdown",
   "source": "# NOISELESS",
   "id": "e56b0d3d31527cf7"
  },
  {
   "metadata": {
    "ExecuteTime": {
     "end_time": "2025-03-06T13:21:07.131990Z",
     "start_time": "2025-03-06T13:20:52.112745Z"
    }
   },
   "cell_type": "code",
   "source": [
    "V_dagger_V=__estimate_V_dagger_V(instance, ansatz_tree,loss_type=None, backend='qiskit-noiseless', ITR=None, shots=0, optimization_level=2)\n",
    "q=__estimate_q(instance, ansatz_tree, backend='qiskit-noiseless', ITR=None, shots=0, optimization_level=2)\n",
    "losses=[]\n",
    "for depth in tqdm(range(len(ansatz_tree))):\n",
    "    Q, r = __reshape_to_Q_r(V_dagger_V[:depth+1:,:depth+1:], q[:depth+1:])\n",
    "    loss, _ = solve_combination_parameters(Q, r, which_opt='ADAM')\n",
    "    losses+=[loss]"
   ],
   "id": "79c225637c34d64e",
   "outputs": [
    {
     "name": "stderr",
     "output_type": "stream",
     "text": [
      "Hadamard tests V_dagger_V Progress: 100%|██████████| 90/90 [00:07<00:00, 12.03it/s]\n",
      "Hadamard tests q Progress: 100%|██████████| 12/12 [00:00<00:00, 15.30it/s]\n",
      "100%|██████████| 4/4 [00:06<00:00,  1.69s/it]\n"
     ]
    }
   ],
   "execution_count": 3
  },
  {
   "metadata": {
    "ExecuteTime": {
     "end_time": "2025-03-06T13:21:07.419151Z",
     "start_time": "2025-03-06T13:21:07.133988Z"
    }
   },
   "cell_type": "code",
   "source": [
    "plt.plot(losses,\"-o\")\n",
    "plt.yscale('log')"
   ],
   "id": "f4ad6349be3ee38b",
   "outputs": [
    {
     "data": {
      "text/plain": [
       "<Figure size 640x480 with 1 Axes>"
      ],
      "image/png": "[encoded data removed]"
     },
     "metadata": {},
     "output_type": "display_data"
    }
   ],
   "execution_count": 4
  },
  {
   "metadata": {},
   "cell_type": "markdown",
   "source": "# Noisy",
   "id": "ad83363b7c0bf2f"
  },
  {
   "metadata": {
    "jupyter": {
     "is_executing": true
    },
    "ExecuteTime": {
     "start_time": "2025-03-06T13:21:07.419733Z"
    }
   },
   "cell_type": "code",
   "source": [
    "V_dagger_V_noisy = __estimate_V_dagger_V(instance, ansatz_tree,loss_type=None, backend='qiskit-noisy', shots=10000, optimization_level=2,noise_level_two_qubit=0.02, noise_level_one_qubit=0.0002, readout_error=0.007)\n",
    "q_noisy=__estimate_q(instance, ansatz_tree, backend='qiskit-noisy', shots=10000, optimization_level=2,noise_level_two_qubit=0.02, noise_level_one_qubit=0.0002, readout_error=0.007)\n"
   ],
   "id": "1a64d9e4bbb2c7b6",
   "outputs": [
    {
     "name": "stderr",
     "output_type": "stream",
     "text": [
      "Hadamard tests V_dagger_V Progress:   1%|          | 1/90 [00:14<21:18, 14.37s/it]"
     ]
    }
   ],
   "execution_count": null
  },
  {
   "metadata": {
    "jupyter": {
     "is_executing": true
    }
   },
   "cell_type": "code",
   "source": [
    "losses_noisy=[]\n",
    "for depth in tqdm(range(len(ansatz_tree))):\n",
    "    Q, r = __reshape_to_Q_r(V_dagger_V_noisy[:depth+1:,:depth+1:], q_noisy[:depth+1:])\n",
    "    loss, _ = solve_combination_parameters(Q, r, which_opt='ADAM')\n",
    "    losses_noisy+=[loss]"
   ],
   "id": "a72a6baa5f6e94f9",
   "outputs": [],
   "execution_count": null
  },
  {
   "metadata": {
    "jupyter": {
     "is_executing": true
    }
   },
   "cell_type": "code",
   "source": [
    "plt.plot(losses,\"-o\")\n",
    "plt.plot(losses_noisy,\"-o\")\n",
    "# plt.yscale('log')"
   ],
   "id": "5d33da91f3caf170",
   "outputs": [],
   "execution_count": null
  },
  {
   "metadata": {
    "jupyter": {
     "is_executing": true
    }
   },
   "cell_type": "code",
   "source": "losses_noisy",
   "id": "8e6ba646d2f12af0",
   "outputs": [],
   "execution_count": null
  },
  {
   "metadata": {
    "jupyter": {
     "is_executing": true
    }
   },
   "cell_type": "code",
   "source": [
    "import time\n",
    "import numpy as np\n",
    "\n",
    "# Generate the filename with the current time\n",
    "filename = f\"loss_data_{int(time.time())}.txt\"\n",
    "\n",
    "# Save the data\n",
    "with open(filename, \"w\") as f:\n",
    "    f.write(\"Losses:\\n\")\n",
    "    np.savetxt(f, losses, fmt=\"%.6f\")  # Save losses with 6 decimal precision\n",
    "    f.write(\"\\nLosses Noisy:\\n\")\n",
    "    np.savetxt(f, losses_noisy, fmt=\"%.6f\")\n",
    "\n",
    "print(f\"Data saved to {filename}\")\n"
   ],
   "id": "3c2407161c14271a",
   "outputs": [],
   "execution_count": null
  },
  {
   "metadata": {},
   "cell_type": "code",
   "outputs": [],
   "execution_count": null,
   "source": "",
   "id": "e0c6ed91868771f2"
  }
 ],
 "metadata": {
  "kernelspec": {
   "display_name": "Python 3",
   "language": "python",
   "name": "python3"
  },
  "language_info": {
   "codemirror_mode": {
    "name": "ipython",
    "version": 2
   },
   "file_extension": ".py",
   "mimetype": "text/x-python",
   "name": "python",
   "nbconvert_exporter": "python",
   "pygments_lexer": "ipython2",
   "version": "2.7.6"
  }
 },
 "nbformat": 4,
 "nbformat_minor": 5
}

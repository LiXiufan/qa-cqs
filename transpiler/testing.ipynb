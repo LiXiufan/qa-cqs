{
 "cells": [
  {
   "metadata": {},
   "cell_type": "markdown",
   "source": "# IMPORT",
   "id": "3aa5ae233927d680"
  },
  {
   "metadata": {
    "ExecuteTime": {
     "end_time": "2025-03-01T04:02:07.512140Z",
     "start_time": "2025-03-01T04:02:02.296341Z"
    }
   },
   "cell_type": "code",
   "source": [
    "from __future__ import annotations\n",
    "from bqskit import Circuit, compile\n",
    "from bqskit.compiler.machine import MachineModel\n",
    "from bqskit.ir.gates import RXXGate, RXGate, RYGate,RZZGate,HGate,CNOTGate\n",
    "from transpiler.bqskit_ionq_native_gates import GPIGate, GPI2Gate,PartialMSGate\n",
    "from transpiler.qasm2_reader import load_qasm, from_qasm2_to_braket\n",
    "from bqskit.ext import bqskit_to_qiskit\n",
    "from qiskit_aer import AerSimulator\n",
    "from qiskit import transpile\n",
    "import pennylane as qml\n",
    "import numpy as np\n",
    "from braket.devices import LocalSimulator\n",
    "from braket.circuits import Circuit as braket_Circuit\n",
    "from braket.circuits import Gate\n"
   ],
   "id": "5239e8e15a8ef487",
   "outputs": [],
   "execution_count": 1
  },
  {
   "metadata": {
    "ExecuteTime": {
     "end_time": "2025-03-01T04:02:19.735540Z",
     "start_time": "2025-03-01T04:02:07.513143Z"
    }
   },
   "cell_type": "code",
   "source": [
    "# Step 1: Define the MS-Gate Machine Model\n",
    "IONQ_gate_set={PartialMSGate(),GPIGate(),GPI2Gate()}\n",
    "def transpile_to_ms(circuit: Circuit) -> Circuit:\n",
    "    \"\"\"Transpile the given circuit to use only MS gates.\"\"\"\n",
    "    model = MachineModel(circuit.num_qudits, gate_set=IONQ_gate_set)\n",
    "    compiled_circuit = compile(circuit, model, optimization_level=2)\n",
    "    return compiled_circuit\n",
    "\n",
    "# Step 2: Create a simple quantum circuit\n",
    "qc = Circuit(2)\n",
    "qc.append_gate(HGate(), [0])\n",
    "qc.append_gate(HGate(), [1])\n",
    "qc.append_gate(CNOTGate(), [1,0])\n",
    "qc.append_gate(RXGate(), [1],params=[1.1561])\n",
    "qc.append_gate(HGate(), [0])\n",
    "qc.append_gate(RZZGate(), [0, 1],params=[1])\n",
    "qc.append_gate(RYGate(), [1],params=[3])\n",
    "qc.append_gate(RXXGate(), [0,1],params=[2.14584545])\n",
    "\n",
    "    \n",
    "qc_qiskit = bqskit_to_qiskit(qc)\n",
    "\n",
    "# Step 3: Transpile the circuit to MS gates\n",
    "ms_circuit = transpile_to_ms(qc)"
   ],
   "id": "9e396da876811bda",
   "outputs": [],
   "execution_count": 2
  },
  {
   "metadata": {
    "ExecuteTime": {
     "end_time": "2025-03-01T04:02:20.591175Z",
     "start_time": "2025-03-01T04:02:19.736546Z"
    }
   },
   "cell_type": "code",
   "source": [
    "#SAVE QASM\n",
    "ms_circuit.save(\"circuit.qasm\")\n",
    "print(qc_qiskit.draw(output='text'))\n",
    "\n",
    "# Initialize the latest AerSimulator\n",
    "simulator = AerSimulator(method=\"statevector\")\n",
    "\n",
    "# Transpile the circuit for the simulator\n",
    "qc_transpiled = transpile(qc_qiskit, simulator)\n",
    "\n",
    "# Add instruction to save statevector\n",
    "qc_transpiled.save_statevector()\n",
    "\n",
    "# Run the circuit in statevector mode\n",
    "result = simulator.run(qc_transpiled).result()\n",
    "\n",
    "# Get the statevector\n",
    "statevector = result.get_statevector()\n",
    "\n",
    "# Print the statevector\n",
    "np.abs(np.array(statevector))**2"
   ],
   "id": "c982255169fce72a",
   "outputs": [
    {
     "name": "stdout",
     "output_type": "stream",
     "text": [
      "     ┌───┐┌───┐    ┌───┐                      ┌──────────────┐\n",
      "q_0: ┤ H ├┤ X ├────┤ H ├──────■───────────────┤0             ├\n",
      "     ├───┤└─┬─┘┌───┴───┴────┐ │ZZ(1) ┌───────┐│  Rxx(2.1458) │\n",
      "q_1: ┤ H ├──■──┤ Rx(1.1561) ├─■──────┤ Ry(3) ├┤1             ├\n",
      "     └───┘     └────────────┘        └───────┘└──────────────┘\n"
     ]
    },
    {
     "data": {
      "text/plain": [
       "array([0.10533642, 0.41539816, 0.12272557, 0.35653985])"
      ]
     },
     "execution_count": 3,
     "metadata": {},
     "output_type": "execute_result"
    }
   ],
   "execution_count": 3
  },
  {
   "metadata": {
    "ExecuteTime": {
     "end_time": "2025-03-01T04:02:20.607143Z",
     "start_time": "2025-03-01T04:02:20.592177Z"
    }
   },
   "cell_type": "code",
   "source": [
    "# Step 4: Transform to qiskit and print\n",
    "qiskit_circuit = load_qasm(\"circuit.qasm\")\n",
    "print(qiskit_circuit.draw(output='text'))\n"
   ],
   "id": "bfcbc85ccfef032",
   "outputs": [
    {
     "name": "stdout",
     "output_type": "stream",
     "text": [
      "     ┌──────────────┐ ┌──────────────┐┌──────────────────────────────────┐»\n",
      "q_0: ┤ Gpi2(3.1416) ├─┤ Gpi2(4.7124) ├┤0                                 ├»\n",
      "     ├──────────────┤┌┴──────────────┤│  Partialms(5.3779,2.3753,1.1326) │»\n",
      "q_1: ┤ Gpi2(0.9739) ├┤ Gpi2(0.16904) ├┤1                                 ├»\n",
      "     └──────────────┘└───────────────┘└──────────────────────────────────┘»\n",
      "«     ┌─────────────┐                 ┌──────────────────────────────────┐»\n",
      "«q_0: ┤ Gpi(1.7029) ├─────────────────┤0                                 ├»\n",
      "«     ├─────────────┤┌───────────────┐│  Partialms(5.6235,1.9459,1.1227) │»\n",
      "«q_1: ┤ Gpi(3.8102) ├┤ Gpi2(0.35887) ├┤1                                 ├»\n",
      "«     └─────────────┘└───────────────┘└──────────────────────────────────┘»\n",
      "«     ┌─────────────┐┌──────────────┐\n",
      "«q_0: ┤ Gpi(0.1645) ├┤ Gpi2(6.2832) ├\n",
      "«     ├─────────────┤├──────────────┤\n",
      "«q_1: ┤ Gpi(5.4041) ├┤ Gpi2(2.4257) ├\n",
      "«     └─────────────┘└──────────────┘\n"
     ]
    }
   ],
   "execution_count": 4
  },
  {
   "metadata": {},
   "cell_type": "markdown",
   "source": "",
   "id": "1937f539446cabc7"
  },
  {
   "metadata": {},
   "cell_type": "markdown",
   "source": "# NOISE",
   "id": "35594a34321503b"
  },
  {
   "metadata": {
    "ExecuteTime": {
     "end_time": "2025-03-01T04:02:20.623324Z",
     "start_time": "2025-03-01T04:02:20.608146Z"
    }
   },
   "cell_type": "code",
   "source": [
    "# Convert Qiskit circuit to PennyLane\n",
    "qml_circuit = qml.from_qiskit(qiskit_circuit)\n",
    "np.abs(qml.matrix(qml_circuit, wire_order=[0, 1])().T[0])**2#check"
   ],
   "id": "3a199d60fcd966bd",
   "outputs": [
    {
     "data": {
      "text/plain": [
       "array([0.10533642, 0.12272557, 0.41539804, 0.35653997])"
      ]
     },
     "execution_count": 5,
     "metadata": {},
     "output_type": "execute_result"
    }
   ],
   "execution_count": 5
  },
  {
   "metadata": {
    "ExecuteTime": {
     "end_time": "2025-03-01T04:02:20.639509Z",
     "start_time": "2025-03-01T04:02:20.623834Z"
    }
   },
   "cell_type": "code",
   "source": [
    "def get_noisy_counts(qiskit_qc, noise_level_two_qubit, noise_level_one_qubit, readout_error):\n",
    "    # Convert the Qiskit quantum circuit into a PennyLane circuit\n",
    "    qml_circuit = qml.from_qiskit(qiskit_qc)\n",
    "\n",
    "    # Compute the adjusted noise level for single-qubit depolarizing channels in 2Q noise\n",
    "    noise_level_two_qubit_single_channel = noise_level_two_qubit * 3 / 4\n",
    "\n",
    "    # Get the number of qubits in the circuit\n",
    "    number_of_qubits = qiskit_qc.num_qubits\n",
    "\n",
    "    # Define a QNode using PennyLane's mixed-state simulator (supports noise)\n",
    "    @qml.qnode(qml.device(\"default.mixed\", wires=number_of_qubits))\n",
    "    def noisy_circuit():\n",
    "        # Convert the PennyLane circuit into a tape (sequence of operations)\n",
    "        tape = qml.transforms.make_tape(qml_circuit)()\n",
    "\n",
    "        # Iterate through all operations in the circuit\n",
    "        for op in tape.operations:\n",
    "            # Apply each gate as a unitary operation\n",
    "            qml.QubitUnitary(op.parameters[0], wires=op.wires)\n",
    "\n",
    "            # Apply **1-qubit depolarizing noise** after every 1-qubit gate\n",
    "            if len(op.wires) == 1:\n",
    "                qml.DepolarizingChannel(noise_level_one_qubit, wires=op.wires[0])\n",
    "\n",
    "            # Apply **2-qubit depolarizing noise** after two-qubit (MS) gates\n",
    "            if len(op.wires) == 2:\n",
    "                for qubit in op.wires:\n",
    "                    qml.DepolarizingChannel(noise_level_two_qubit_single_channel, wires=qubit)  # Adjusted probability\n",
    "\n",
    "        # Apply **readout error (bit flip) before measurement**\n",
    "        for qubit in range(number_of_qubits):\n",
    "            qml.BitFlip(readout_error, wires=qubit)\n",
    "\n",
    "        # Return the probability distribution over computational basis states\n",
    "        return qml.probs(wires=range(number_of_qubits))\n",
    "\n",
    "    # Run the noisy circuit simulation and return the result\n",
    "    noisy_result = noisy_circuit()\n",
    "    return noisy_result\n",
    "print(\"Noisy     simulation result:\", get_noisy_counts(qiskit_circuit, noise_level_two_qubit=0.02, noise_level_one_qubit=0.001, readout_error=0.05))\n",
    "\n",
    "print(\"Noiseless simulation result:\",np.abs(qml.matrix(qml_circuit, wire_order=[0, 1])().T[0])**2)#check"
   ],
   "id": "ec026fb11c967378",
   "outputs": [
    {
     "name": "stdout",
     "output_type": "stream",
     "text": [
      "Noisy     simulation result: [0.13093159 0.13557134 0.38913469 0.34436238]\n",
      "Noiseless simulation result: [0.10533642 0.12272557 0.41539804 0.35653997]\n"
     ]
    }
   ],
   "execution_count": 6
  },
  {
   "metadata": {},
   "cell_type": "markdown",
   "source": "# Vibratium",
   "id": "47ee7607c8c42166"
  },
  {
   "metadata": {
    "ExecuteTime": {
     "end_time": "2025-03-01T04:02:20.645257Z",
     "start_time": "2025-03-01T04:02:20.640510Z"
    }
   },
   "cell_type": "code",
   "source": "bracket_qc=from_qasm2_to_braket(\"circuit.qasm\")\n",
   "id": "caf64fc885ec272d",
   "outputs": [],
   "execution_count": 7
  },
  {
   "metadata": {
    "ExecuteTime": {
     "end_time": "2025-03-01T04:02:20.650725Z",
     "start_time": "2025-03-01T04:02:20.646259Z"
    }
   },
   "cell_type": "code",
   "source": "print(bracket_qc)",
   "id": "5859389cedf46b0c",
   "outputs": [
    {
     "name": "stdout",
     "output_type": "stream",
     "text": [
      "T  : │        0        │      1       │      2       │           3            │      4      │      5       │           6            │      7      │      8       │       9       │\n",
      "                        ┌────────────┐ ┌────────────┐ ┌──────────────────────┐ ┌───────────┐                ┌──────────────────────┐ ┌───────────┐ ┌────────────┐                 \n",
      "q0 : ───StartVerbatim───┤ GPi2(3.14) ├─┤ GPi2(4.71) ├─┤ MS(5.38, 2.38, 1.13) ├─┤ GPi(1.70) ├────────────────┤ MS(5.62, 1.95, 1.12) ├─┤ GPi(0.16) ├─┤ GPi2(6.28) ├───EndVerbatim───\n",
      "              ║         └────────────┘ └────────────┘ └──────────┬───────────┘ └───────────┘                └──────────┬───────────┘ └───────────┘ └────────────┘        ║        \n",
      "              ║         ┌────────────┐ ┌────────────┐ ┌──────────┴───────────┐ ┌───────────┐ ┌────────────┐ ┌──────────┴───────────┐ ┌───────────┐ ┌────────────┐        ║        \n",
      "q1 : ─────────╨─────────┤ GPi2(0.97) ├─┤ GPi2(0.17) ├─┤ MS(5.38, 2.38, 1.13) ├─┤ GPi(3.81) ├─┤ GPi2(0.36) ├─┤ MS(5.62, 1.95, 1.12) ├─┤ GPi(5.40) ├─┤ GPi2(2.43) ├────────╨────────\n",
      "                        └────────────┘ └────────────┘ └──────────────────────┘ └───────────┘ └────────────┘ └──────────────────────┘ └───────────┘ └────────────┘                 \n",
      "T  : │        0        │      1       │      2       │           3            │      4      │      5       │           6            │      7      │      8       │       9       │\n"
     ]
    }
   ],
   "execution_count": 8
  },
  {
   "metadata": {
    "ExecuteTime": {
     "end_time": "2025-03-01T04:02:21.188128Z",
     "start_time": "2025-03-01T04:02:20.651728Z"
    }
   },
   "cell_type": "code",
   "source": [
    "device = LocalSimulator() # Choose the local simulator\n",
    "shots = 100000  # Number of times to execute the circuit\n",
    "\n",
    "result = device.run(bracket_qc, shots=shots).result()\n",
    "counts = result.measurement_probabilities  # Get the shot results\n",
    "\n",
    "print(counts)  # Dictionary {bitstring: counts}\n",
    "print(\"Noiseless simulation result:\",np.abs(qml.matrix(qml_circuit, wire_order=[0, 1])().T[0])**2)#check"
   ],
   "id": "1a606e1eb436590a",
   "outputs": [
    {
     "name": "stdout",
     "output_type": "stream",
     "text": [
      "{'11': 0.35699, '10': 0.41282, '00': 0.10653, '01': 0.12366}\n",
      "Noiseless simulation result: [0.10533642 0.12272557 0.41539804 0.35653997]\n"
     ]
    }
   ],
   "execution_count": 9
  },
  {
   "metadata": {},
   "cell_type": "markdown",
   "source": "# GATE braket TEST",
   "id": "4a0b30a416242bb1"
  },
  {
   "metadata": {
    "ExecuteTime": {
     "end_time": "2025-03-01T04:02:21.194822Z",
     "start_time": "2025-03-01T04:02:21.190132Z"
    }
   },
   "cell_type": "code",
   "source": "print(braket_Circuit().gpi(0,1))",
   "id": "f395d8c4299bec35",
   "outputs": [
    {
     "name": "stdout",
     "output_type": "stream",
     "text": [
      "T  : │    0     │\n",
      "      ┌────────┐ \n",
      "q0 : ─┤ GPi(1) ├─\n",
      "      └────────┘ \n",
      "T  : │    0     │\n"
     ]
    }
   ],
   "execution_count": 10
  },
  {
   "metadata": {
    "ExecuteTime": {
     "end_time": "2025-03-01T03:50:41.045149Z",
     "start_time": "2025-03-01T03:50:41.039953Z"
    }
   },
   "cell_type": "code",
   "source": "braket_Circuit().gpi(0,0.445).to_unitary()",
   "id": "c99a89f7f1d914e3",
   "outputs": [
    {
     "data": {
      "text/plain": [
       "array([[0.        +0.j        , 0.90261067-0.43045788j],\n",
       "       [0.90261067+0.43045788j, 0.        +0.j        ]])"
      ]
     },
     "execution_count": 43,
     "metadata": {},
     "output_type": "execute_result"
    }
   ],
   "execution_count": 43
  },
  {
   "metadata": {
    "ExecuteTime": {
     "end_time": "2025-03-01T03:50:45.158157Z",
     "start_time": "2025-03-01T03:50:45.152303Z"
    }
   },
   "cell_type": "code",
   "source": [
    "phi=0.445\n",
    "np.array([\n",
    "            [0, np.exp(-1j * phi)],\n",
    "            [np.exp(1j * phi), 0]\n",
    "        ])"
   ],
   "id": "fd0a1497eece21b8",
   "outputs": [
    {
     "data": {
      "text/plain": [
       "array([[0.        +0.j        , 0.90261067-0.43045788j],\n",
       "       [0.90261067+0.43045788j, 0.        +0.j        ]])"
      ]
     },
     "execution_count": 44,
     "metadata": {},
     "output_type": "execute_result"
    }
   ],
   "execution_count": 44
  },
  {
   "metadata": {
    "ExecuteTime": {
     "end_time": "2025-03-01T03:52:12.765795Z",
     "start_time": "2025-03-01T03:52:12.758443Z"
    }
   },
   "cell_type": "code",
   "source": "braket_Circuit().gpi2(0,0.445).to_unitary()",
   "id": "a4371070e494559d",
   "outputs": [
    {
     "data": {
      "text/plain": [
       "array([[ 0.70710678+0.j        , -0.30437969-0.63824212j],\n",
       "       [ 0.30437969-0.63824212j,  0.70710678+0.j        ]])"
      ]
     },
     "execution_count": 46,
     "metadata": {},
     "output_type": "execute_result"
    }
   ],
   "execution_count": 46
  },
  {
   "metadata": {
    "ExecuteTime": {
     "end_time": "2025-03-01T03:52:06.559576Z",
     "start_time": "2025-03-01T03:52:06.553200Z"
    }
   },
   "cell_type": "code",
   "source": [
    " # Extract the phase parameter\n",
    "factor = 1 / np.sqrt(2)  # Normalization factor\n",
    "exp_pos = -1j * np.exp(1j * phi)\n",
    "exp_neg = -1j * np.exp(-1j * phi)\n",
    "\n",
    "factor * np.array([\n",
    "            [1, exp_neg],\n",
    "            [exp_pos, 1]\n",
    "        ])"
   ],
   "id": "3a67e617ed90723b",
   "outputs": [
    {
     "data": {
      "text/plain": [
       "array([[ 0.70710678+0.j        , -0.30437969-0.63824212j],\n",
       "       [ 0.30437969-0.63824212j,  0.70710678+0.j        ]])"
      ]
     },
     "execution_count": 45,
     "metadata": {},
     "output_type": "execute_result"
    }
   ],
   "execution_count": 45
  },
  {
   "metadata": {
    "ExecuteTime": {
     "end_time": "2025-03-01T04:00:58.061869Z",
     "start_time": "2025-03-01T04:00:58.054080Z"
    }
   },
   "cell_type": "code",
   "source": [
    "phi1=0.2455\n",
    "phi2=0.4157\n",
    "theta=0.11545\n",
    "q1=0\n",
    "q2=1\n",
    "braket_Circuit().ms(q1, q2, phi1, phi2,theta).to_unitary()"
   ],
   "id": "49379cb71f296641",
   "outputs": [
    {
     "data": {
      "text/plain": [
       "array([[ 0.99833437+0.j        ,  0.        +0.j        ,\n",
       "         0.        +0.j        , -0.03542718-0.0455345j ],\n",
       "       [ 0.        +0.j        ,  0.99833437+0.j        ,\n",
       "         0.009772  -0.05685934j,  0.        +0.j        ],\n",
       "       [ 0.        +0.j        , -0.009772  -0.05685934j,\n",
       "         0.99833437+0.j        ,  0.        +0.j        ],\n",
       "       [ 0.03542718-0.0455345j ,  0.        +0.j        ,\n",
       "         0.        +0.j        ,  0.99833437+0.j        ]])"
      ]
     },
     "execution_count": 61,
     "metadata": {},
     "output_type": "execute_result"
    }
   ],
   "execution_count": 61
  },
  {
   "metadata": {
    "ExecuteTime": {
     "end_time": "2025-03-01T04:01:01.617704Z",
     "start_time": "2025-03-01T04:01:01.610089Z"
    }
   },
   "cell_type": "code",
   "source": [
    "phi0=phi1\n",
    "phi1=phi2\n",
    "\n",
    "cos_theta = np.cos(theta/2)\n",
    "sin_theta = np.sin(theta/2)\n",
    "\n",
    "e_pos = -1j * np.exp(1j * (phi0 + phi1))\n",
    "e_neg = -1j * np.exp(-1j * (phi0 + phi1))\n",
    "e_diff_pos = -1j * np.exp(1j * (phi0 - phi1))\n",
    "e_diff_neg = -1j * np.exp(-1j * (phi0 - phi1))\n",
    "\n",
    "np.array([\n",
    "    [cos_theta, 0, 0, e_neg * sin_theta],\n",
    "    [0, cos_theta, e_diff_neg * sin_theta, 0],\n",
    "    [0, e_diff_pos * sin_theta, cos_theta, 0],\n",
    "    [e_pos * sin_theta, 0, 0, cos_theta]\n",
    "])"
   ],
   "id": "e4099e3061c6081c",
   "outputs": [
    {
     "data": {
      "text/plain": [
       "array([[ 0.99833437+0.j        ,  0.        +0.j        ,\n",
       "         0.        +0.j        , -0.03542718-0.0455345j ],\n",
       "       [ 0.        +0.j        ,  0.99833437+0.j        ,\n",
       "         0.009772  -0.05685934j,  0.        +0.j        ],\n",
       "       [ 0.        +0.j        , -0.009772  -0.05685934j,\n",
       "         0.99833437+0.j        ,  0.        +0.j        ],\n",
       "       [ 0.03542718-0.0455345j ,  0.        +0.j        ,\n",
       "         0.        +0.j        ,  0.99833437+0.j        ]])"
      ]
     },
     "execution_count": 62,
     "metadata": {},
     "output_type": "execute_result"
    }
   ],
   "execution_count": 62
  },
  {
   "metadata": {},
   "cell_type": "code",
   "outputs": [],
   "execution_count": null,
   "source": "",
   "id": "1653b3ad1b98af09"
  }
 ],
 "metadata": {
  "kernelspec": {
   "display_name": "Python 3",
   "language": "python",
   "name": "python3"
  },
  "language_info": {
   "codemirror_mode": {
    "name": "ipython",
    "version": 2
   },
   "file_extension": ".py",
   "mimetype": "text/x-python",
   "name": "python",
   "nbconvert_exporter": "python",
   "pygments_lexer": "ipython2",
   "version": "2.7.6"
  }
 },
 "nbformat": 4,
 "nbformat_minor": 5
}

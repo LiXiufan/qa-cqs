{
 "cells": [
  {
   "metadata": {},
   "cell_type": "markdown",
   "source": "# IMPORT",
   "id": "3aa5ae233927d680"
  },
  {
   "metadata": {
    "ExecuteTime": {
     "end_time": "2025-02-28T04:47:19.701935Z",
     "start_time": "2025-02-28T04:47:11.542391Z"
    }
   },
   "cell_type": "code",
   "source": [
    "from __future__ import annotations\n",
    "from bqskit import Circuit, compile\n",
    "from bqskit.compiler.machine import MachineModel\n",
    "from bqskit.ir.gates import RXXGate, RXGate, RZGate,RYGate,RZZGate,HGate,CNOTGate\n",
    "from transpiler.BQSkit_custom_gate_definitions import VirtualZGate, GPIGate, GPI2Gate,PartialMSGate,FullMSGate\n",
    "from transpiler.QASM2_reader import load_qasm\n",
    "from bqskit.ext import bqskit_to_qiskit\n",
    "from qiskit_aer import AerSimulator\n",
    "from qiskit_aer.noise import NoiseModel, depolarizing_error\n",
    "from qiskit import transpile\n",
    "from qiskit.transpiler import Target, InstructionProperties\n",
    "import pennylane as qml\n",
    "import numpy as np"
   ],
   "id": "5239e8e15a8ef487",
   "outputs": [],
   "execution_count": 1
  },
  {
   "metadata": {
    "ExecuteTime": {
     "end_time": "2025-02-28T04:47:52.002236Z",
     "start_time": "2025-02-28T04:47:19.711037Z"
    }
   },
   "cell_type": "code",
   "source": [
    "# Step 1: Define the MS-Gate Machine Model\n",
    "IONQ_gate_set={PartialMSGate(),GPIGate(),GPI2Gate()}\n",
    "def transpile_to_ms(circuit: Circuit) -> Circuit:\n",
    "    \"\"\"Transpile the given circuit to use only MS gates.\"\"\"\n",
    "    model = MachineModel(circuit.num_qudits, gate_set=IONQ_gate_set)\n",
    "    compiled_circuit = compile(circuit, model, optimization_level=2)\n",
    "    return compiled_circuit\n",
    "\n",
    "# Step 2: Create a simple quantum circuit\n",
    "qc = Circuit(2)\n",
    "qc.append_gate(HGate(), [0])\n",
    "qc.append_gate(HGate(), [1])\n",
    "qc.append_gate(CNOTGate(), [1,0])\n",
    "qc.append_gate(RXGate(), [1],params=[1.1561])\n",
    "qc.append_gate(HGate(), [0])\n",
    "qc.append_gate(RZZGate(), [0, 1],params=[1])\n",
    "qc.append_gate(RYGate(), [1],params=[3])\n",
    "qc.append_gate(RXXGate(), [0,1],params=[2.14584545])\n",
    "\n",
    "    \n",
    "qc_qiskit = bqskit_to_qiskit(qc)\n",
    "\n",
    "# Step 3: Transpile the circuit to MS gates\n",
    "ms_circuit = transpile_to_ms(qc)"
   ],
   "id": "9e396da876811bda",
   "outputs": [],
   "execution_count": 2
  },
  {
   "metadata": {
    "ExecuteTime": {
     "end_time": "2025-02-28T04:47:53.984021Z",
     "start_time": "2025-02-28T04:47:52.004971Z"
    }
   },
   "cell_type": "code",
   "source": [
    "#SAVE QASM\n",
    "ms_circuit.save(\"circuit.qasm\")\n",
    "print(qc_qiskit.draw(output='text'))\n",
    "\n",
    "# Initialize the latest AerSimulator\n",
    "simulator = AerSimulator(method=\"statevector\")\n",
    "\n",
    "# Transpile the circuit for the simulator\n",
    "qc_transpiled = transpile(qc_qiskit, simulator)\n",
    "\n",
    "# Add instruction to save statevector\n",
    "qc_transpiled.save_statevector()\n",
    "\n",
    "# Run the circuit in statevector mode\n",
    "result = simulator.run(qc_transpiled).result()\n",
    "\n",
    "# Get the statevector\n",
    "statevector = result.get_statevector()\n",
    "\n",
    "# Print the statevector\n",
    "np.abs(np.array(statevector))**2"
   ],
   "id": "c982255169fce72a",
   "outputs": [
    {
     "name": "stdout",
     "output_type": "stream",
     "text": [
      "     ┌───┐┌───┐    ┌───┐                      ┌──────────────┐\n",
      "q_0: ┤ H ├┤ X ├────┤ H ├──────■───────────────┤0             ├\n",
      "     ├───┤└─┬─┘┌───┴───┴────┐ │ZZ(1) ┌───────┐│  Rxx(2.1458) │\n",
      "q_1: ┤ H ├──■──┤ Rx(1.1561) ├─■──────┤ Ry(3) ├┤1             ├\n",
      "     └───┘     └────────────┘        └───────┘└──────────────┘\n"
     ]
    },
    {
     "data": {
      "text/plain": [
       "array([0.10533642, 0.41539816, 0.12272557, 0.35653985])"
      ]
     },
     "execution_count": 3,
     "metadata": {},
     "output_type": "execute_result"
    }
   ],
   "execution_count": 3
  },
  {
   "metadata": {
    "ExecuteTime": {
     "end_time": "2025-02-28T04:47:54.038395Z",
     "start_time": "2025-02-28T04:47:53.988029Z"
    }
   },
   "cell_type": "code",
   "source": [
    "# Step 4: Transform to qiskit and print\n",
    "qiskit_circuit = load_qasm(\"circuit.qasm\")\n",
    "print(qiskit_circuit.draw(output='text'))\n"
   ],
   "id": "bfcbc85ccfef032",
   "outputs": [
    {
     "name": "stdout",
     "output_type": "stream",
     "text": [
      "-11.009299754122242\n",
      "-4.726114446942656\n",
      "1.55707086023693\n",
      "-4.613940176445819\n",
      "1.669245130733767\n",
      "0.296227291124854\n",
      "6.070657569746712\n",
      "4.499861242951815\n",
      "2.9290649161569187\n",
      "1.358268589362022\n",
      "3.141592686678747\n",
      "     ┌──────────────┐┌─────────────┐┌──────────────────────────────────┐»\n",
      "q_0: ┤ Gpi2(6.0775) ├┤ Gpi(6.1735) ├┤0                                 ├»\n",
      "     ├──────────────┤└─────────────┘│  Partialms(1.5571,1.6692,1.4674) │»\n",
      "q_1: ┤ Gpi2(1.9071) ├───────────────┤1                                 ├»\n",
      "     └──────────────┘               └──────────────────────────────────┘»\n",
      "«     ┌─────────────┐ ┌───────────────┐┌──────────────┐»\n",
      "«q_0: ┤ Gpi(3.3733) ├─┤ Gpi2(0.19155) ├┤ Gpi2(4.8756) ├»\n",
      "«     ├─────────────┴┐└┬──────────────┤└──────────────┘»\n",
      "«q_1: ┤ Gpi(0.28936) ├─┤ Gpi2(4.0242) ├────────────────»\n",
      "«     └──────────────┘ └──────────────┘                »\n",
      "«     ┌───────────────────────────────────┐┌─────────────┐┌──────────────┐»\n",
      "«q_0: ┤0                                  ├┤ Gpi(3.0978) ├┤ Gpi2(3.5674) ├»\n",
      "«     │  Partialms(5.4478,0.29623,1.3583) │├─────────────┤├──────────────┤»\n",
      "«q_1: ┤1                                  ├┤ Gpi(3.2897) ├┤ Gpi2(3.1416) ├»\n",
      "«     └───────────────────────────────────┘└─────────────┘└──────────────┘»\n",
      "«     ┌──────────────┐\n",
      "«q_0: ┤ Gpi2(1.8872) ├\n",
      "«     └──────────────┘\n",
      "«q_1: ────────────────\n",
      "«                     \n"
     ]
    }
   ],
   "execution_count": 4
  },
  {
   "metadata": {},
   "cell_type": "markdown",
   "source": "",
   "id": "1937f539446cabc7"
  },
  {
   "metadata": {},
   "cell_type": "markdown",
   "source": "# NOISE",
   "id": "35594a34321503b"
  },
  {
   "metadata": {
    "ExecuteTime": {
     "end_time": "2025-02-28T04:47:54.838276Z",
     "start_time": "2025-02-28T04:47:54.041403Z"
    }
   },
   "cell_type": "code",
   "source": [
    "# Convert Qiskit circuit to PennyLane\n",
    "qml_circuit = qml.from_qiskit(qiskit_circuit)\n",
    "np.abs(qml.matrix(qml_circuit, wire_order=[0, 1])().T[0])**2#check"
   ],
   "id": "3a199d60fcd966bd",
   "outputs": [
    {
     "data": {
      "text/plain": [
       "array([0.10533644, 0.12272556, 0.41539816, 0.35653984])"
      ]
     },
     "execution_count": 5,
     "metadata": {},
     "output_type": "execute_result"
    }
   ],
   "execution_count": 5
  },
  {
   "metadata": {
    "ExecuteTime": {
     "end_time": "2025-02-28T04:47:54.853205Z",
     "start_time": "2025-02-28T04:47:54.839279Z"
    }
   },
   "cell_type": "code",
   "source": [
    "@qml.qnode(qml.device(\"default.mixed\", wires=2))  \n",
    "def noisy_circuit():\n",
    "    tape = qml.transforms.make_tape(qml_circuit)()\n",
    "\n",
    "    for op in tape.operations:\n",
    "\n",
    "        qml.QubitUnitary(op.parameters[0], wires=op.wires)  \n",
    "\n",
    "        if len(op.wires) == 2:  # MS gates\n",
    "            for qubit in op.wires:  \n",
    "                qml.DepolarizingChannel(0.015, wires=qubit)  # Adjusted probability\n",
    "\n",
    "    return qml.probs(wires=[0, 1])\n",
    "\n",
    "noisy_result = noisy_circuit()\n",
    "print(\"Noisy simulation result:\", noisy_result)\n"
   ],
   "id": "ec026fb11c967378",
   "outputs": [
    {
     "name": "stdout",
     "output_type": "stream",
     "text": [
      "Noisy simulation result: [0.11351723 0.12531351 0.40762914 0.35354012]\n"
     ]
    }
   ],
   "execution_count": 6
  },
  {
   "metadata": {
    "ExecuteTime": {
     "end_time": "2025-02-28T04:47:54.856999Z",
     "start_time": "2025-02-28T04:47:54.854208Z"
    }
   },
   "cell_type": "code",
   "source": "",
   "id": "805dbeeedf9e5a1",
   "outputs": [],
   "execution_count": 6
  },
  {
   "metadata": {
    "ExecuteTime": {
     "end_time": "2025-02-28T04:45:23.148833Z",
     "start_time": "2025-02-28T04:45:23.142968Z"
    }
   },
   "cell_type": "code",
   "source": "",
   "id": "caf64fc885ec272d",
   "outputs": [],
   "execution_count": 12
  },
  {
   "metadata": {},
   "cell_type": "code",
   "source": "",
   "id": "31ba7c93ade43e67",
   "outputs": [],
   "execution_count": null
  },
  {
   "metadata": {},
   "cell_type": "code",
   "outputs": [],
   "execution_count": null,
   "source": "",
   "id": "352b0fa132839ca2"
  }
 ],
 "metadata": {
  "kernelspec": {
   "display_name": "Python 3",
   "language": "python",
   "name": "python3"
  },
  "language_info": {
   "codemirror_mode": {
    "name": "ipython",
    "version": 2
   },
   "file_extension": ".py",
   "mimetype": "text/x-python",
   "name": "python",
   "nbconvert_exporter": "python",
   "pygments_lexer": "ipython2",
   "version": "2.7.6"
  }
 },
 "nbformat": 4,
 "nbformat_minor": 5
}

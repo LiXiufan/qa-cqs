{
 "cells": [
  {
   "metadata": {},
   "cell_type": "markdown",
   "source": "# IMPORT",
   "id": "3aa5ae233927d680"
  },
  {
   "metadata": {
    "ExecuteTime": {
     "end_time": "2025-02-28T08:41:26.116036Z",
     "start_time": "2025-02-28T08:41:15.755608Z"
    }
   },
   "cell_type": "code",
   "source": [
    "from __future__ import annotations\n",
    "from bqskit import Circuit, compile\n",
    "from bqskit.compiler.machine import MachineModel\n",
    "from bqskit.ir.gates import RXXGate, RXGate, RYGate,RZZGate,HGate,CNOTGate\n",
    "from transpiler.bqskit_ionq_native_gates import GPIGate, GPI2Gate,PartialMSGate\n",
    "from transpiler.qasm2_reader import load_qasm, from_qasm2_to_braket\n",
    "from bqskit.ext import bqskit_to_qiskit\n",
    "from qiskit_aer import AerSimulator\n",
    "from qiskit import transpile\n",
    "import pennylane as qml\n",
    "import numpy as np\n"
   ],
   "id": "5239e8e15a8ef487",
   "outputs": [],
   "execution_count": 5
  },
  {
   "metadata": {
    "ExecuteTime": {
     "end_time": "2025-02-28T08:42:00.319076Z",
     "start_time": "2025-02-28T08:41:26.120044Z"
    }
   },
   "cell_type": "code",
   "source": [
    "# Step 1: Define the MS-Gate Machine Model\n",
    "IONQ_gate_set={PartialMSGate(),GPIGate(),GPI2Gate()}\n",
    "def transpile_to_ms(circuit: Circuit) -> Circuit:\n",
    "    \"\"\"Transpile the given circuit to use only MS gates.\"\"\"\n",
    "    model = MachineModel(circuit.num_qudits, gate_set=IONQ_gate_set)\n",
    "    compiled_circuit = compile(circuit, model, optimization_level=2)\n",
    "    return compiled_circuit\n",
    "\n",
    "# Step 2: Create a simple quantum circuit\n",
    "qc = Circuit(2)\n",
    "qc.append_gate(HGate(), [0])\n",
    "qc.append_gate(HGate(), [1])\n",
    "qc.append_gate(CNOTGate(), [1,0])\n",
    "qc.append_gate(RXGate(), [1],params=[1.1561])\n",
    "qc.append_gate(HGate(), [0])\n",
    "qc.append_gate(RZZGate(), [0, 1],params=[1])\n",
    "qc.append_gate(RYGate(), [1],params=[3])\n",
    "qc.append_gate(RXXGate(), [0,1],params=[2.14584545])\n",
    "\n",
    "    \n",
    "qc_qiskit = bqskit_to_qiskit(qc)\n",
    "\n",
    "# Step 3: Transpile the circuit to MS gates\n",
    "ms_circuit = transpile_to_ms(qc)"
   ],
   "id": "9e396da876811bda",
   "outputs": [],
   "execution_count": 6
  },
  {
   "metadata": {
    "ExecuteTime": {
     "end_time": "2025-02-28T08:42:02.013927Z",
     "start_time": "2025-02-28T08:42:00.321084Z"
    }
   },
   "cell_type": "code",
   "source": [
    "#SAVE QASM\n",
    "ms_circuit.save(\"circuit.qasm\")\n",
    "print(qc_qiskit.draw(output='text'))\n",
    "\n",
    "# Initialize the latest AerSimulator\n",
    "simulator = AerSimulator(method=\"statevector\")\n",
    "\n",
    "# Transpile the circuit for the simulator\n",
    "qc_transpiled = transpile(qc_qiskit, simulator)\n",
    "\n",
    "# Add instruction to save statevector\n",
    "qc_transpiled.save_statevector()\n",
    "\n",
    "# Run the circuit in statevector mode\n",
    "result = simulator.run(qc_transpiled).result()\n",
    "\n",
    "# Get the statevector\n",
    "statevector = result.get_statevector()\n",
    "\n",
    "# Print the statevector\n",
    "np.abs(np.array(statevector))**2"
   ],
   "id": "c982255169fce72a",
   "outputs": [
    {
     "name": "stdout",
     "output_type": "stream",
     "text": [
      "     ┌───┐┌───┐    ┌───┐                      ┌──────────────┐\n",
      "q_0: ┤ H ├┤ X ├────┤ H ├──────■───────────────┤0             ├\n",
      "     ├───┤└─┬─┘┌───┴───┴────┐ │ZZ(1) ┌───────┐│  Rxx(2.1458) │\n",
      "q_1: ┤ H ├──■──┤ Rx(1.1561) ├─■──────┤ Ry(3) ├┤1             ├\n",
      "     └───┘     └────────────┘        └───────┘└──────────────┘\n"
     ]
    },
    {
     "data": {
      "text/plain": [
       "array([0.10533642, 0.41539816, 0.12272557, 0.35653985])"
      ]
     },
     "execution_count": 7,
     "metadata": {},
     "output_type": "execute_result"
    }
   ],
   "execution_count": 7
  },
  {
   "metadata": {
    "ExecuteTime": {
     "end_time": "2025-02-28T08:42:02.043188Z",
     "start_time": "2025-02-28T08:42:02.017937Z"
    }
   },
   "cell_type": "code",
   "source": [
    "# Step 4: Transform to qiskit and print\n",
    "qiskit_circuit = load_qasm(\"circuit.qasm\")\n",
    "print(qiskit_circuit.draw(output='text'))\n"
   ],
   "id": "bfcbc85ccfef032",
   "outputs": [
    {
     "name": "stdout",
     "output_type": "stream",
     "text": [
      "     ┌─────────────┐ ┌───────────────┐┌─────────────────────────────────┐»\n",
      "q_0: ┤ Gpi(4.0623) ├─┤ Gpi2(0.27062) ├┤0                                ├»\n",
      "     ├─────────────┴┐└┬──────────────┤│  Partialms(4.983,1.3636,1.2234) │»\n",
      "q_1: ┤ Gpi(0.28286) ├─┤ Gpi2(3.5395) ├┤1                                ├»\n",
      "     └──────────────┘ └──────────────┘└─────────────────────────────────┘»\n",
      "«     ┌─────────────┐ ┌──────────────┐┌──────────────┐»\n",
      "«q_0: ┤ Gpi(1.4776) ├─┤ Gpi2(4.6718) ├┤ Gpi2(1.5302) ├»\n",
      "«     ├─────────────┴┐└──────────────┘└──────────────┘»\n",
      "«q_1: ┤ Gpi2(1.5948) ├────────────────────────────────»\n",
      "«     └──────────────┘                                »\n",
      "«     ┌───────────────────────────────────┐┌─────────────┐┌──────────────┐\n",
      "«q_0: ┤0                                  ├┤ Gpi(6.0301) ├┤ Gpi2(6.2832) ├\n",
      "«     │  Partialms(2.7429,3.1656,0.99839) │├─────────────┤└──────────────┘\n",
      "«q_1: ┤1                                  ├┤ Gpi(4.7244) ├────────────────\n",
      "«     └───────────────────────────────────┘└─────────────┘                \n"
     ]
    }
   ],
   "execution_count": 8
  },
  {
   "metadata": {},
   "cell_type": "markdown",
   "source": "",
   "id": "1937f539446cabc7"
  },
  {
   "metadata": {},
   "cell_type": "markdown",
   "source": "# NOISE",
   "id": "35594a34321503b"
  },
  {
   "metadata": {
    "ExecuteTime": {
     "end_time": "2025-02-28T08:42:02.080224Z",
     "start_time": "2025-02-28T08:42:02.045196Z"
    }
   },
   "cell_type": "code",
   "source": [
    "# Convert Qiskit circuit to PennyLane\n",
    "qml_circuit = qml.from_qiskit(qiskit_circuit)\n",
    "np.abs(qml.matrix(qml_circuit, wire_order=[0, 1])().T[0])**2#check"
   ],
   "id": "3a199d60fcd966bd",
   "outputs": [
    {
     "data": {
      "text/plain": [
       "array([0.10533639, 0.12272558, 0.41539819, 0.35653985])"
      ]
     },
     "execution_count": 9,
     "metadata": {},
     "output_type": "execute_result"
    }
   ],
   "execution_count": 9
  },
  {
   "metadata": {
    "ExecuteTime": {
     "end_time": "2025-02-28T08:42:02.112826Z",
     "start_time": "2025-02-28T08:42:02.082524Z"
    }
   },
   "cell_type": "code",
   "source": [
    "def get_noisy_counts(qiskit_qc, noise_level_two_qubit, noise_level_one_qubit, readout_error):\n",
    "    # Convert the Qiskit quantum circuit into a PennyLane circuit\n",
    "    qml_circuit = qml.from_qiskit(qiskit_qc)\n",
    "\n",
    "    # Compute the adjusted noise level for single-qubit depolarizing channels in 2Q noise\n",
    "    noise_level_two_qubit_single_channel = noise_level_two_qubit * 3 / 4\n",
    "\n",
    "    # Get the number of qubits in the circuit\n",
    "    number_of_qubits = qiskit_qc.num_qubits\n",
    "\n",
    "    # Define a QNode using PennyLane's mixed-state simulator (supports noise)\n",
    "    @qml.qnode(qml.device(\"default.mixed\", wires=number_of_qubits))\n",
    "    def noisy_circuit():\n",
    "        # Convert the PennyLane circuit into a tape (sequence of operations)\n",
    "        tape = qml.transforms.make_tape(qml_circuit)()\n",
    "\n",
    "        # Iterate through all operations in the circuit\n",
    "        for op in tape.operations:\n",
    "            # Apply each gate as a unitary operation\n",
    "            qml.QubitUnitary(op.parameters[0], wires=op.wires)\n",
    "\n",
    "            # Apply **1-qubit depolarizing noise** after every 1-qubit gate\n",
    "            if len(op.wires) == 1:\n",
    "                qml.DepolarizingChannel(noise_level_one_qubit, wires=op.wires[0])\n",
    "\n",
    "            # Apply **2-qubit depolarizing noise** after two-qubit (MS) gates\n",
    "            if len(op.wires) == 2:\n",
    "                for qubit in op.wires:\n",
    "                    qml.DepolarizingChannel(noise_level_two_qubit_single_channel, wires=qubit)  # Adjusted probability\n",
    "\n",
    "        # Apply **readout error (bit flip) before measurement**\n",
    "        for qubit in range(number_of_qubits):\n",
    "            qml.BitFlip(readout_error, wires=qubit)\n",
    "\n",
    "        # Return the probability distribution over computational basis states\n",
    "        return qml.probs(wires=range(number_of_qubits))\n",
    "\n",
    "    # Run the noisy circuit simulation and return the result\n",
    "    noisy_result = noisy_circuit()\n",
    "    return noisy_result\n",
    "print(\"Noisy     simulation result:\", get_noisy_counts(qiskit_circuit, noise_level_two_qubit=0.02, noise_level_one_qubit=0.001, readout_error=0.05))\n",
    "\n",
    "print(\"Noiseless simulation result:\",np.abs(qml.matrix(qml_circuit, wire_order=[0, 1])().T[0])**2)#check"
   ],
   "id": "ec026fb11c967378",
   "outputs": [
    {
     "name": "stdout",
     "output_type": "stream",
     "text": [
      "Noisy     simulation result: [0.12782713 0.13930558 0.38952692 0.34334037]\n",
      "Noiseless simulation result: [0.10533639 0.12272558 0.41539819 0.35653985]\n"
     ]
    }
   ],
   "execution_count": 10
  },
  {
   "metadata": {},
   "cell_type": "markdown",
   "source": "# Vibratium",
   "id": "47ee7607c8c42166"
  },
  {
   "metadata": {
    "ExecuteTime": {
     "end_time": "2025-02-28T08:42:33.774914Z",
     "start_time": "2025-02-28T08:42:33.762004Z"
    }
   },
   "cell_type": "code",
   "source": "bracket_qc=from_qasm2_to_braket(\"circuit.qasm\")\n",
   "id": "caf64fc885ec272d",
   "outputs": [],
   "execution_count": 12
  },
  {
   "metadata": {
    "ExecuteTime": {
     "end_time": "2025-02-28T08:43:31.318968Z",
     "start_time": "2025-02-28T08:43:31.313520Z"
    }
   },
   "cell_type": "code",
   "source": "print(bracket_qc)",
   "id": "5859389cedf46b0c",
   "outputs": [
    {
     "name": "stdout",
     "output_type": "stream",
     "text": [
      "T  : │        0        │      1      │      2       │           3            │      4       │      5       │      6       │           7            │      8      │      9       │      10       │\n",
      "                        ┌───────────┐ ┌────────────┐ ┌──────────────────────┐ ┌───────────┐  ┌────────────┐ ┌────────────┐ ┌──────────────────────┐ ┌───────────┐ ┌────────────┐                 \n",
      "q0 : ───StartVerbatim───┤ GPi(4.06) ├─┤ GPi2(6.55) ├─┤ MS(1.22, 4.98, 1.36) ├─┤ GPi(1.48) ├──┤ GPi2(4.67) ├─┤ GPi2(1.53) ├─┤ MS(1.00, 2.74, 3.17) ├─┤ GPi(6.03) ├─┤ GPi2(6.28) ├───EndVerbatim───\n",
      "              ║         └───────────┘ └────────────┘ └──────────┬───────────┘ └───────────┘  └────────────┘ └────────────┘ └──────────┬───────────┘ └───────────┘ └────────────┘        ║        \n",
      "              ║         ┌───────────┐ ┌────────────┐ ┌──────────┴───────────┐ ┌────────────┐                               ┌──────────┴───────────┐ ┌───────────┐                       ║        \n",
      "q1 : ─────────╨─────────┤ GPi(0.28) ├─┤ GPi2(3.54) ├─┤ MS(1.22, 4.98, 1.36) ├─┤ GPi2(1.59) ├───────────────────────────────┤ MS(1.00, 2.74, 3.17) ├─┤ GPi(4.72) ├───────────────────────╨────────\n",
      "                        └───────────┘ └────────────┘ └──────────────────────┘ └────────────┘                               └──────────────────────┘ └───────────┘                                \n",
      "T  : │        0        │      1      │      2       │           3            │      4       │      5       │      6       │           7            │      8      │      9       │      10       │\n"
     ]
    }
   ],
   "execution_count": 14
  },
  {
   "metadata": {},
   "cell_type": "code",
   "outputs": [],
   "execution_count": null,
   "source": "",
   "id": "1a606e1eb436590a"
  }
 ],
 "metadata": {
  "kernelspec": {
   "display_name": "Python 3",
   "language": "python",
   "name": "python3"
  },
  "language_info": {
   "codemirror_mode": {
    "name": "ipython",
    "version": 2
   },
   "file_extension": ".py",
   "mimetype": "text/x-python",
   "name": "python",
   "nbconvert_exporter": "python",
   "pygments_lexer": "ipython2",
   "version": "2.7.6"
  }
 },
 "nbformat": 4,
 "nbformat_minor": 5
}

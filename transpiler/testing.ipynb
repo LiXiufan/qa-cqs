{
 "cells": [
  {
   "metadata": {},
   "cell_type": "markdown",
   "source": "# IMPORT",
   "id": "3aa5ae233927d680"
  },
  {
   "metadata": {
    "ExecuteTime": {
     "end_time": "2025-03-05T05:04:24.290711Z",
     "start_time": "2025-03-05T05:04:19.847646Z"
    }
   },
   "cell_type": "code",
   "source": [
    "from __future__ import annotations\n",
    "\n",
    "from qiskit import QuantumCircuit\n",
    "from transpiler.qasm2_reader import load_qasm, from_qasm2_to_braket\n",
    "from bqskit.ext import bqskit_to_qiskit,qiskit_to_bqskit\n",
    "from qiskit_aer import AerSimulator\n",
    "from qiskit import transpile\n",
    "import pennylane as qml\n",
    "import numpy as np\n",
    "from braket.devices import LocalSimulator\n",
    "from braket.circuits import Circuit as braket_Circuit\n",
    "from transpiler.transpile import transpile_circuit as bqskit_transpiler\n",
    "from transpiler.transpile import get_noisy_counts"
   ],
   "id": "5239e8e15a8ef487",
   "outputs": [],
   "execution_count": 2
  },
  {
   "metadata": {
    "ExecuteTime": {
     "end_time": "2025-03-05T05:04:34.820660Z",
     "start_time": "2025-03-05T05:04:33.742605Z"
    }
   },
   "cell_type": "code",
   "source": [
    "\n",
    "# Create a 2-qubit quantum circuit\n",
    "qc = QuantumCircuit(2)\n",
    "\n",
    "# Apply gates using QuantumCircuit methods\n",
    "qc.h(0)  # Hadamard gate on qubit 0\n",
    "qc.h(1)  # Hadamard gate on qubit 1\n",
    "qc.cx(1, 0)  # CNOT gate (control: qubit 1, target: qubit 0)\n",
    "qc.rx(1.1561, 1)  # RX rotation on qubit 1\n",
    "qc.h(0)  # Hadamard gate on qubit 0\n",
    "qc.rzz(1, 0, 1)  # RZZ gate with parameter 1 (qubits 0 and 1)\n",
    "qc.ry(3, 1)  # RY rotation on qubit 1\n",
    "qc.rxx(2.14584545, 0, 1)  # RXX gate with parameter 2.14584545 (qubits 0 and 1)\n",
    "\n",
    "    \n",
    "qc_qiskit = qc\n",
    "qc_bqskit=qiskit_to_bqskit(qc)\n",
    "print(qc)\n",
    "\n",
    "# Initialize the latest AerSimulator\n",
    "simulator = AerSimulator(method=\"statevector\")\n",
    "\n",
    "# Transpile the circuit for the simulator\n",
    "qc_transpiled = transpile(qc_qiskit, simulator)\n",
    "\n",
    "# Add instruction to save statevector\n",
    "qc_transpiled.save_statevector()\n",
    "\n",
    "# Run the circuit in statevector mode\n",
    "result = simulator.run(qc_transpiled).result()\n",
    "\n",
    "# Get the statevector\n",
    "statevector = result.get_statevector()\n",
    "\n",
    "# Print the statevector\n",
    "print(\"Not transpiled result:\",np.abs(np.array(statevector))**2)#check"
   ],
   "id": "9e396da876811bda",
   "outputs": [
    {
     "name": "stdout",
     "output_type": "stream",
     "text": [
      "     ┌───┐┌───┐    ┌───┐                      ┌──────────────┐\n",
      "q_0: ┤ H ├┤ X ├────┤ H ├──────■───────────────┤0             ├\n",
      "     ├───┤└─┬─┘┌───┴───┴────┐ │ZZ(1) ┌───────┐│  Rxx(2.1458) │\n",
      "q_1: ┤ H ├──■──┤ Rx(1.1561) ├─■──────┤ Ry(3) ├┤1             ├\n",
      "     └───┘     └────────────┘        └───────┘└──────────────┘\n",
      "Not transpiled result: [0.10533642 0.41539816 0.12272557 0.35653985]\n"
     ]
    }
   ],
   "execution_count": 3
  },
  {
   "metadata": {
    "ExecuteTime": {
     "end_time": "2025-03-05T05:07:44.519536Z",
     "start_time": "2025-03-05T05:07:06.660245Z"
    }
   },
   "cell_type": "code",
   "source": [
    "# Step 3: Transpile the circuit to MS gates\n",
    "qc_qiskit_transpiled = bqskit_transpiler(qc_qiskit,device=\"Aria\")\n",
    "print(qc_qiskit_transpiled)\n"
   ],
   "id": "cd5cbfe677b3c414",
   "outputs": [
    {
     "name": "stdout",
     "output_type": "stream",
     "text": [
      "     ┌─────────────┐┌──────────────┐┌──────────────┐»\n",
      "q_0: ┤ Gpi(5.7353) ├┤ Gpi2(2.0459) ├┤ Gpi2(3.6167) ├»\n",
      "     ├─────────────┤├──────────────┤└──────────────┘»\n",
      "q_1: ┤ Gpi(5.4284) ├┤ Gpi2(1.2641) ├────────────────»\n",
      "     └─────────────┘└──────────────┘                »\n",
      "«     ┌───────────────────────────────────┐┌─────────────┐ »\n",
      "«q_0: ┤0                                  ├┤ Gpi(2.6183) ├─»\n",
      "«     │  Partialms(0.47512,5.3714,1.2234) │├─────────────┴┐»\n",
      "«q_1: ┤1                                  ├┤ Gpi2(5.6026) ├»\n",
      "«     └───────────────────────────────────┘└──────────────┘»\n",
      "«     ┌────────────────────────────────────┐┌──────────────┐\n",
      "«q_0: ┤0                                   ├┤ Gpi2(3.1416) ├\n",
      "«     │  Partialms(0.10756,4.0318,0.99839) │├──────────────┤\n",
      "«q_1: ┤1                                   ├┤ Gpi(0.44512) ├\n",
      "«     └────────────────────────────────────┘└──────────────┘\n"
     ]
    }
   ],
   "execution_count": 9
  },
  {
   "metadata": {},
   "cell_type": "markdown",
   "source": "# Convert Qiskit circuit to PennyLane\n",
   "id": "1937f539446cabc7"
  },
  {
   "metadata": {
    "ExecuteTime": {
     "end_time": "2025-03-05T05:05:05.689897Z",
     "start_time": "2025-03-05T05:05:05.661736Z"
    }
   },
   "cell_type": "code",
   "source": [
    "qml_circuit = qml.from_qiskit(qc_qiskit_transpiled)\n",
    "print(\"Transpiled result\",np.abs(qml.matrix(qml_circuit, wire_order=[0, 1])().T[0])**2)#check\n",
    "print(\"Not transpiled result:\",np.abs(np.array(statevector))**2)#check"
   ],
   "id": "ae7d446581b3ed1b",
   "outputs": [
    {
     "name": "stdout",
     "output_type": "stream",
     "text": [
      "Transpiled result [0.10533641 0.12272558 0.4153982  0.35653981]\n",
      "Not transpiled result: [0.10533642 0.41539816 0.12272557 0.35653985]\n"
     ]
    }
   ],
   "execution_count": 5
  },
  {
   "metadata": {},
   "cell_type": "markdown",
   "source": "# NOISE",
   "id": "35594a34321503b"
  },
  {
   "metadata": {
    "ExecuteTime": {
     "end_time": "2025-03-05T05:05:09.627871Z",
     "start_time": "2025-03-05T05:05:08.647850Z"
    }
   },
   "cell_type": "code",
   "source": [
    "print(\"Noise 0     simulation result:\", get_noisy_counts(qc_qiskit_transpiled,0.00,0.000,0.00))\n",
    "print(\"Noisy     simulation result:\", get_noisy_counts(qc_qiskit_transpiled,0.01,0.001,0.01))\n",
    "print(\"Noiseless simulation result:\",np.abs(qml.matrix(qml_circuit, wire_order=[0, 1])().T[0])**2)#check"
   ],
   "id": "ec026fb11c967378",
   "outputs": [
    {
     "name": "stdout",
     "output_type": "stream",
     "text": [
      "Noise 0     simulation result: [0.11328125 0.12109375 0.41699219 0.34863281]\n"
     ]
    },
    {
     "ename": "DeviceError",
     "evalue": "Shots must be a single non-negative integer or a sequence of non-negative integers.",
     "output_type": "error",
     "traceback": [
      "\u001B[31m---------------------------------------------------------------------------\u001B[39m",
      "\u001B[31mDeviceError\u001B[39m                               Traceback (most recent call last)",
      "\u001B[36mCell\u001B[39m\u001B[36m \u001B[39m\u001B[32mIn[6]\u001B[39m\u001B[32m, line 2\u001B[39m\n\u001B[32m      1\u001B[39m \u001B[38;5;28mprint\u001B[39m(\u001B[33m\"\u001B[39m\u001B[33mNoise 0     simulation result:\u001B[39m\u001B[33m\"\u001B[39m, get_noisy_counts(qc_qiskit_transpiled,\u001B[32m0.00\u001B[39m,\u001B[32m0.000\u001B[39m,\u001B[32m0.00\u001B[39m))\n\u001B[32m----> \u001B[39m\u001B[32m2\u001B[39m \u001B[38;5;28mprint\u001B[39m(\u001B[33m\"\u001B[39m\u001B[33mNoisy     simulation result:\u001B[39m\u001B[33m\"\u001B[39m, \u001B[43mget_noisy_counts\u001B[49m\u001B[43m(\u001B[49m\u001B[43mqc_qiskit_transpiled\u001B[49m\u001B[43m,\u001B[49m\u001B[32;43m0.01\u001B[39;49m\u001B[43m,\u001B[49m\u001B[32;43m0.001\u001B[39;49m\u001B[43m,\u001B[49m\u001B[32;43m0.01\u001B[39;49m\u001B[43m)\u001B[49m)\n\u001B[32m      3\u001B[39m \u001B[38;5;28mprint\u001B[39m(\u001B[33m\"\u001B[39m\u001B[33mNoiseless simulation result:\u001B[39m\u001B[33m\"\u001B[39m,np.abs(qml.matrix(qml_circuit, wire_order=[\u001B[32m0\u001B[39m, \u001B[32m1\u001B[39m])().T[\u001B[32m0\u001B[39m])**\u001B[32m2\u001B[39m)\u001B[38;5;66;03m#check\u001B[39;00m\n",
      "\u001B[36mFile \u001B[39m\u001B[32mE:\\李修凡的资料\\博三（上）\\CQS\\code\\qa-cqs\\transpiler\\transpile.py:88\u001B[39m, in \u001B[36mget_noisy_counts\u001B[39m\u001B[34m(qc, shots, noise_level_two_qubit, noise_level_one_qubit, readout_error)\u001B[39m\n\u001B[32m     85\u001B[39m number_of_qubits = qc.num_qubits\n\u001B[32m     87\u001B[39m \u001B[38;5;66;03m# Define a QNode using PennyLane's mixed-state simulator (supports noise)\u001B[39;00m\n\u001B[32m---> \u001B[39m\u001B[32m88\u001B[39m \u001B[38;5;129m@qml\u001B[39m.qnode(\u001B[43mqml\u001B[49m\u001B[43m.\u001B[49m\u001B[43mdevice\u001B[49m\u001B[43m(\u001B[49m\u001B[33;43m\"\u001B[39;49m\u001B[33;43mdefault.mixed\u001B[39;49m\u001B[33;43m\"\u001B[39;49m\u001B[43m,\u001B[49m\u001B[43m \u001B[49m\u001B[43mwires\u001B[49m\u001B[43m=\u001B[49m\u001B[43mnumber_of_qubits\u001B[49m\u001B[43m,\u001B[49m\u001B[43m \u001B[49m\u001B[43mshots\u001B[49m\u001B[43m=\u001B[49m\u001B[43mshots\u001B[49m\u001B[43m)\u001B[49m)\n\u001B[32m     89\u001B[39m \u001B[38;5;28;01mdef\u001B[39;00m\u001B[38;5;250m \u001B[39m\u001B[34mnoisy_circuit\u001B[39m():\n\u001B[32m     90\u001B[39m     \u001B[38;5;66;03m# Convert the PennyLane circuit into a tape (sequence of operations)\u001B[39;00m\n\u001B[32m     91\u001B[39m     tape = qml.transforms.make_tape(qml_circuit)()\n\u001B[32m     93\u001B[39m     \u001B[38;5;66;03m# Iterate through all operations in the circuit\u001B[39;00m\n",
      "\u001B[36mFile \u001B[39m\u001B[32mE:\\李修凡的资料\\博三（上）\\CQS\\code\\qa-cqs\\venv\\Lib\\site-packages\\pennylane\\devices\\device_constructor.py:263\u001B[39m, in \u001B[36mdevice\u001B[39m\u001B[34m(name, *args, **kwargs)\u001B[39m\n\u001B[32m    257\u001B[39m         \u001B[38;5;28;01mraise\u001B[39;00m qml.DeviceError(\n\u001B[32m    258\u001B[39m             \u001B[33mf\u001B[39m\u001B[33m\"\u001B[39m\u001B[33mThe \u001B[39m\u001B[38;5;132;01m{\u001B[39;00mname\u001B[38;5;132;01m}\u001B[39;00m\u001B[33m plugin requires PennyLane versions \u001B[39m\u001B[38;5;132;01m{\u001B[39;00mrequired_versions\u001B[38;5;132;01m}\u001B[39;00m\u001B[33m, \u001B[39m\u001B[33m\"\u001B[39m\n\u001B[32m    259\u001B[39m             \u001B[33mf\u001B[39m\u001B[33m\"\u001B[39m\u001B[33mhowever PennyLane version \u001B[39m\u001B[38;5;132;01m{\u001B[39;00mqml.version()\u001B[38;5;132;01m}\u001B[39;00m\u001B[33m is installed.\u001B[39m\u001B[33m\"\u001B[39m\n\u001B[32m    260\u001B[39m         )\n\u001B[32m    262\u001B[39m \u001B[38;5;66;03m# Construct the device\u001B[39;00m\n\u001B[32m--> \u001B[39m\u001B[32m263\u001B[39m dev = \u001B[43mplugin_device_class\u001B[49m\u001B[43m(\u001B[49m\u001B[43m*\u001B[49m\u001B[43margs\u001B[49m\u001B[43m,\u001B[49m\u001B[43m \u001B[49m\u001B[43m*\u001B[49m\u001B[43m*\u001B[49m\u001B[43moptions\u001B[49m\u001B[43m)\u001B[49m\n\u001B[32m    265\u001B[39m \u001B[38;5;66;03m# Once the device is constructed, we set its custom expansion function if\u001B[39;00m\n\u001B[32m    266\u001B[39m \u001B[38;5;66;03m# any custom decompositions were specified.\u001B[39;00m\n\u001B[32m    267\u001B[39m \u001B[38;5;28;01mif\u001B[39;00m custom_decomps \u001B[38;5;129;01mis\u001B[39;00m \u001B[38;5;129;01mnot\u001B[39;00m \u001B[38;5;28;01mNone\u001B[39;00m:\n",
      "\u001B[36mFile \u001B[39m\u001B[32mE:\\李修凡的资料\\博三（上）\\CQS\\code\\qa-cqs\\venv\\Lib\\site-packages\\pennylane\\logging\\decorators.py:65\u001B[39m, in \u001B[36mlog_string_debug_func.<locals>.wrapper_exit\u001B[39m\u001B[34m(*args, **kwargs)\u001B[39m\n\u001B[32m     63\u001B[39m \u001B[38;5;129m@wraps\u001B[39m(func)\n\u001B[32m     64\u001B[39m \u001B[38;5;28;01mdef\u001B[39;00m\u001B[38;5;250m \u001B[39m\u001B[34mwrapper_exit\u001B[39m(*args, **kwargs):\n\u001B[32m---> \u001B[39m\u001B[32m65\u001B[39m     output = \u001B[43mfunc\u001B[49m\u001B[43m(\u001B[49m\u001B[43m*\u001B[49m\u001B[43margs\u001B[49m\u001B[43m,\u001B[49m\u001B[43m \u001B[49m\u001B[43m*\u001B[49m\u001B[43m*\u001B[49m\u001B[43mkwargs\u001B[49m\u001B[43m)\u001B[49m\n\u001B[32m     66\u001B[39m     \u001B[38;5;28;01mif\u001B[39;00m lgr.isEnabledFor(log_level):  \u001B[38;5;66;03m# pragma: no cover\u001B[39;00m\n\u001B[32m     67\u001B[39m         f_string = _get_bound_signature(*args, **kwargs)\n",
      "\u001B[36mFile \u001B[39m\u001B[32mE:\\李修凡的资料\\博三（上）\\CQS\\code\\qa-cqs\\venv\\Lib\\site-packages\\pennylane\\devices\\default_mixed.py:298\u001B[39m, in \u001B[36mDefaultMixed.__init__\u001B[39m\u001B[34m(self, wires, r_dtype, c_dtype, shots, analytic, readout_prob)\u001B[39m\n\u001B[32m    295\u001B[39m         \u001B[38;5;28;01mraise\u001B[39;00m \u001B[38;5;167;01mValueError\u001B[39;00m(\u001B[33m\"\u001B[39m\u001B[33mThe readout error probability should be in the range [0,1].\u001B[39m\u001B[33m\"\u001B[39m)\n\u001B[32m    297\u001B[39m \u001B[38;5;66;03m# call QubitDevice init\u001B[39;00m\n\u001B[32m--> \u001B[39m\u001B[32m298\u001B[39m \u001B[38;5;28;43msuper\u001B[39;49m\u001B[43m(\u001B[49m\u001B[43m)\u001B[49m\u001B[43m.\u001B[49m\u001B[34;43m__init__\u001B[39;49m\u001B[43m(\u001B[49m\u001B[43mwires\u001B[49m\u001B[43m,\u001B[49m\u001B[43m \u001B[49m\u001B[43mshots\u001B[49m\u001B[43m,\u001B[49m\u001B[43m \u001B[49m\u001B[43mr_dtype\u001B[49m\u001B[43m=\u001B[49m\u001B[43mr_dtype\u001B[49m\u001B[43m,\u001B[49m\u001B[43m \u001B[49m\u001B[43mc_dtype\u001B[49m\u001B[43m=\u001B[49m\u001B[43mc_dtype\u001B[49m\u001B[43m,\u001B[49m\u001B[43m \u001B[49m\u001B[43manalytic\u001B[49m\u001B[43m=\u001B[49m\u001B[43manalytic\u001B[49m\u001B[43m)\u001B[49m\n\u001B[32m    299\u001B[39m \u001B[38;5;28mself\u001B[39m._debugger = \u001B[38;5;28;01mNone\u001B[39;00m\n\u001B[32m    301\u001B[39m \u001B[38;5;66;03m# Create the initial state.\u001B[39;00m\n",
      "\u001B[36mFile \u001B[39m\u001B[32mE:\\李修凡的资料\\博三（上）\\CQS\\code\\qa-cqs\\venv\\Lib\\site-packages\\pennylane\\devices\\_qubit_device.py:184\u001B[39m, in \u001B[36mQubitDevice.__init__\u001B[39m\u001B[34m(self, wires, shots, r_dtype, c_dtype, analytic)\u001B[39m\n\u001B[32m    181\u001B[39m \u001B[38;5;28;01mdef\u001B[39;00m\u001B[38;5;250m \u001B[39m\u001B[34m__init__\u001B[39m(\n\u001B[32m    182\u001B[39m     \u001B[38;5;28mself\u001B[39m, wires=\u001B[32m1\u001B[39m, shots=\u001B[38;5;28;01mNone\u001B[39;00m, *, r_dtype=np.float64, c_dtype=np.complex128, analytic=\u001B[38;5;28;01mNone\u001B[39;00m\n\u001B[32m    183\u001B[39m ):\n\u001B[32m--> \u001B[39m\u001B[32m184\u001B[39m     \u001B[38;5;28;43msuper\u001B[39;49m\u001B[43m(\u001B[49m\u001B[43m)\u001B[49m\u001B[43m.\u001B[49m\u001B[34;43m__init__\u001B[39;49m\u001B[43m(\u001B[49m\u001B[43mwires\u001B[49m\u001B[43m=\u001B[49m\u001B[43mwires\u001B[49m\u001B[43m,\u001B[49m\u001B[43m \u001B[49m\u001B[43mshots\u001B[49m\u001B[43m=\u001B[49m\u001B[43mshots\u001B[49m\u001B[43m,\u001B[49m\u001B[43m \u001B[49m\u001B[43manalytic\u001B[49m\u001B[43m=\u001B[49m\u001B[43manalytic\u001B[49m\u001B[43m)\u001B[49m\n\u001B[32m    186\u001B[39m     \u001B[38;5;28;01mif\u001B[39;00m \u001B[33m\"\u001B[39m\u001B[33mfloat\u001B[39m\u001B[33m\"\u001B[39m \u001B[38;5;129;01mnot\u001B[39;00m \u001B[38;5;129;01min\u001B[39;00m \u001B[38;5;28mstr\u001B[39m(r_dtype):\n\u001B[32m    187\u001B[39m         \u001B[38;5;28;01mraise\u001B[39;00m qml.DeviceError(\u001B[33m\"\u001B[39m\u001B[33mReal datatype must be a floating point type.\u001B[39m\u001B[33m\"\u001B[39m)\n",
      "\u001B[36mFile \u001B[39m\u001B[32mE:\\李修凡的资料\\博三（上）\\CQS\\code\\qa-cqs\\venv\\Lib\\site-packages\\pennylane\\devices\\_legacy_device.py:138\u001B[39m, in \u001B[36mDevice.__init__\u001B[39m\u001B[34m(self, wires, shots, analytic)\u001B[39m\n\u001B[32m    137\u001B[39m \u001B[38;5;28;01mdef\u001B[39;00m\u001B[38;5;250m \u001B[39m\u001B[34m__init__\u001B[39m(\u001B[38;5;28mself\u001B[39m, wires=\u001B[32m1\u001B[39m, shots=\u001B[32m1000\u001B[39m, *, analytic=\u001B[38;5;28;01mNone\u001B[39;00m):\n\u001B[32m--> \u001B[39m\u001B[32m138\u001B[39m     \u001B[38;5;28;43mself\u001B[39;49m\u001B[43m.\u001B[49m\u001B[43mshots\u001B[49m = shots\n\u001B[32m    140\u001B[39m     \u001B[38;5;28;01mif\u001B[39;00m analytic \u001B[38;5;129;01mis\u001B[39;00m \u001B[38;5;129;01mnot\u001B[39;00m \u001B[38;5;28;01mNone\u001B[39;00m:\n\u001B[32m    141\u001B[39m         msg = (\n\u001B[32m    142\u001B[39m             \u001B[33m\"\u001B[39m\u001B[33mThe analytic argument has been replaced by shots=None. \u001B[39m\u001B[33m\"\u001B[39m\n\u001B[32m    143\u001B[39m             \u001B[33m\"\u001B[39m\u001B[33mPlease use shots=None instead of analytic=True.\u001B[39m\u001B[33m\"\u001B[39m\n\u001B[32m    144\u001B[39m         )\n",
      "\u001B[36mFile \u001B[39m\u001B[32mE:\\李修凡的资料\\博三（上）\\CQS\\code\\qa-cqs\\venv\\Lib\\site-packages\\pennylane\\devices\\_legacy_device.py:287\u001B[39m, in \u001B[36mDevice.shots\u001B[39m\u001B[34m(self, shots)\u001B[39m\n\u001B[32m    284\u001B[39m     \u001B[38;5;28mself\u001B[39m._raw_shot_sequence = shots\n\u001B[32m    286\u001B[39m \u001B[38;5;28;01melse\u001B[39;00m:\n\u001B[32m--> \u001B[39m\u001B[32m287\u001B[39m     \u001B[38;5;28;01mraise\u001B[39;00m qml.DeviceError(\n\u001B[32m    288\u001B[39m         \u001B[33m\"\u001B[39m\u001B[33mShots must be a single non-negative integer or a sequence of non-negative integers.\u001B[39m\u001B[33m\"\u001B[39m\n\u001B[32m    289\u001B[39m     )\n",
      "\u001B[31mDeviceError\u001B[39m: Shots must be a single non-negative integer or a sequence of non-negative integers."
     ]
    }
   ],
   "execution_count": 6
  },
  {
   "metadata": {},
   "cell_type": "markdown",
   "source": "# Vibratium",
   "id": "47ee7607c8c42166"
  },
  {
   "metadata": {
    "ExecuteTime": {
     "end_time": "2025-03-04T07:26:10.524758Z",
     "start_time": "2025-03-04T07:26:10.518886Z"
    }
   },
   "cell_type": "code",
   "source": "bracket_qc=from_qasm2_to_braket(\"circuit.qasm\")\n",
   "id": "caf64fc885ec272d",
   "outputs": [],
   "execution_count": 6
  },
  {
   "metadata": {
    "ExecuteTime": {
     "end_time": "2025-03-04T07:26:10.529472Z",
     "start_time": "2025-03-04T07:26:10.524758Z"
    }
   },
   "cell_type": "code",
   "source": "print(bracket_qc)",
   "id": "5859389cedf46b0c",
   "outputs": [
    {
     "name": "stdout",
     "output_type": "stream",
     "text": [
      "T  : │        0        │      1       │      2       │     3      │      4       │      5       │      6       │     7      │      8      │      9       │      10       │ 11  │\n",
      "                        ┌───────────┐                 ┌──────────┐ ┌────────────┐ ┌────────────┐ ┌────────────┐ ┌──────────┐ ┌───────────┐ ┌────────────┐                 ┌───┐ \n",
      "q0 : ───StartVerbatim───┤ GPi(1.36) ├─────────────────┤ ZZ(1.22) ├─┤ GPi2(2.71) ├─┤ GPi2(2.63) ├─┤ GPi2(5.77) ├─┤ ZZ(1.00) ├─┤ GPi(0.57) ├─┤ GPi2(4.71) ├───EndVerbatim───┤ M ├─\n",
      "              ║         └───────────┘                 └────┬─────┘ └────────────┘ └────────────┘ └────────────┘ └────┬─────┘ └───────────┘ └────────────┘        ║        └───┘ \n",
      "              ║         ┌────────────┐ ┌────────────┐ ┌────┴─────┐ ┌────────────┐ ┌────────────┐ ┌────────────┐ ┌────┴─────┐ ┌───────────┐ ┌────────────┐        ║        ┌───┐ \n",
      "q1 : ─────────╨─────────┤ GPi2(3.14) ├─┤ GPi2(3.75) ├─┤ ZZ(1.22) ├─┤ GPi2(3.50) ├─┤ GPi2(0.08) ├─┤ GPi2(3.34) ├─┤ ZZ(1.00) ├─┤ GPi(1.92) ├─┤ GPi2(1.57) ├────────╨────────┤ M ├─\n",
      "                        └────────────┘ └────────────┘ └──────────┘ └────────────┘ └────────────┘ └────────────┘ └──────────┘ └───────────┘ └────────────┘                 └───┘ \n",
      "T  : │        0        │      1       │      2       │     3      │      4       │      5       │      6       │     7      │      8      │      9       │      10       │ 11  │\n"
     ]
    }
   ],
   "execution_count": 7
  },
  {
   "metadata": {
    "ExecuteTime": {
     "end_time": "2025-03-04T07:26:11.000490Z",
     "start_time": "2025-03-04T07:26:10.529472Z"
    }
   },
   "cell_type": "code",
   "source": [
    "device = LocalSimulator() # Choose the local simulator\n",
    "shots = 100000  # Number of times to execute the circuit\n",
    "\n",
    "result = device.run(bracket_qc, shots=shots).result()\n",
    "counts = result.measurement_probabilities  # Get the shot results\n",
    "\n",
    "print(counts)  # Dictionary {bitstring: counts}\n",
    "print(\"Noiseless simulation result:\",np.abs(qml.matrix(qml_circuit, wire_order=[0, 1])().T[0])**2)#check"
   ],
   "id": "1a606e1eb436590a",
   "outputs": [
    {
     "name": "stdout",
     "output_type": "stream",
     "text": [
      "{'11': 0.35584, '10': 0.4158, '00': 0.10526, '01': 0.1231}\n",
      "Noiseless simulation result: [0.10533642 0.12272557 0.41539817 0.35653985]\n"
     ]
    }
   ],
   "execution_count": 8
  },
  {
   "metadata": {},
   "cell_type": "markdown",
   "source": "# GATE braket TEST",
   "id": "4a0b30a416242bb1"
  },
  {
   "metadata": {
    "ExecuteTime": {
     "end_time": "2025-03-04T07:26:11.006230Z",
     "start_time": "2025-03-04T07:26:11.000490Z"
    }
   },
   "cell_type": "code",
   "source": "print(braket_Circuit().gpi(0,1))",
   "id": "f395d8c4299bec35",
   "outputs": [
    {
     "name": "stdout",
     "output_type": "stream",
     "text": [
      "T  : │    0     │\n",
      "      ┌────────┐ \n",
      "q0 : ─┤ GPi(1) ├─\n",
      "      └────────┘ \n",
      "T  : │    0     │\n"
     ]
    }
   ],
   "execution_count": 9
  },
  {
   "metadata": {
    "ExecuteTime": {
     "end_time": "2025-03-04T07:26:11.016683Z",
     "start_time": "2025-03-04T07:26:11.006230Z"
    }
   },
   "cell_type": "code",
   "source": "braket_Circuit().gpi(0,0.445).to_unitary()",
   "id": "c99a89f7f1d914e3",
   "outputs": [
    {
     "data": {
      "text/plain": [
       "array([[0.        +0.j        , 0.90261067-0.43045788j],\n",
       "       [0.90261067+0.43045788j, 0.        +0.j        ]])"
      ]
     },
     "execution_count": 10,
     "metadata": {},
     "output_type": "execute_result"
    }
   ],
   "execution_count": 10
  },
  {
   "metadata": {
    "ExecuteTime": {
     "end_time": "2025-03-04T07:26:11.024050Z",
     "start_time": "2025-03-04T07:26:11.016683Z"
    }
   },
   "cell_type": "code",
   "source": [
    "phi=0.445\n",
    "np.array([\n",
    "            [0, np.exp(-1j * phi)],\n",
    "            [np.exp(1j * phi), 0]\n",
    "        ])"
   ],
   "id": "fd0a1497eece21b8",
   "outputs": [
    {
     "data": {
      "text/plain": [
       "array([[0.        +0.j        , 0.90261067-0.43045788j],\n",
       "       [0.90261067+0.43045788j, 0.        +0.j        ]])"
      ]
     },
     "execution_count": 11,
     "metadata": {},
     "output_type": "execute_result"
    }
   ],
   "execution_count": 11
  },
  {
   "metadata": {
    "ExecuteTime": {
     "end_time": "2025-03-04T07:26:11.032387Z",
     "start_time": "2025-03-04T07:26:11.024050Z"
    }
   },
   "cell_type": "code",
   "source": "braket_Circuit().gpi2(0,0.445).to_unitary()",
   "id": "a4371070e494559d",
   "outputs": [
    {
     "data": {
      "text/plain": [
       "array([[ 0.70710678+0.j        , -0.30437969-0.63824212j],\n",
       "       [ 0.30437969-0.63824212j,  0.70710678+0.j        ]])"
      ]
     },
     "execution_count": 12,
     "metadata": {},
     "output_type": "execute_result"
    }
   ],
   "execution_count": 12
  },
  {
   "metadata": {
    "ExecuteTime": {
     "end_time": "2025-03-04T07:26:11.039689Z",
     "start_time": "2025-03-04T07:26:11.033399Z"
    }
   },
   "cell_type": "code",
   "source": [
    " # Extract the phase parameter\n",
    "factor = 1 / np.sqrt(2)  # Normalization factor\n",
    "exp_pos = -1j * np.exp(1j * phi)\n",
    "exp_neg = -1j * np.exp(-1j * phi)\n",
    "\n",
    "factor * np.array([\n",
    "            [1, exp_neg],\n",
    "            [exp_pos, 1]\n",
    "        ])"
   ],
   "id": "3a67e617ed90723b",
   "outputs": [
    {
     "data": {
      "text/plain": [
       "array([[ 0.70710678+0.j        , -0.30437969-0.63824212j],\n",
       "       [ 0.30437969-0.63824212j,  0.70710678+0.j        ]])"
      ]
     },
     "execution_count": 13,
     "metadata": {},
     "output_type": "execute_result"
    }
   ],
   "execution_count": 13
  },
  {
   "metadata": {
    "ExecuteTime": {
     "end_time": "2025-03-04T07:26:11.044437Z",
     "start_time": "2025-03-04T07:26:11.039689Z"
    }
   },
   "cell_type": "code",
   "source": [
    "phi1=0.2455\n",
    "phi2=0.4157\n",
    "theta=0.11545\n",
    "q1=0\n",
    "q2=1\n",
    "braket_Circuit().ms(q1, q2, phi1, phi2,theta).to_unitary()"
   ],
   "id": "49379cb71f296641",
   "outputs": [
    {
     "data": {
      "text/plain": [
       "array([[ 0.99833437+0.j        ,  0.        +0.j        ,\n",
       "         0.        +0.j        , -0.03542718-0.0455345j ],\n",
       "       [ 0.        +0.j        ,  0.99833437+0.j        ,\n",
       "         0.009772  -0.05685934j,  0.        +0.j        ],\n",
       "       [ 0.        +0.j        , -0.009772  -0.05685934j,\n",
       "         0.99833437+0.j        ,  0.        +0.j        ],\n",
       "       [ 0.03542718-0.0455345j ,  0.        +0.j        ,\n",
       "         0.        +0.j        ,  0.99833437+0.j        ]])"
      ]
     },
     "execution_count": 14,
     "metadata": {},
     "output_type": "execute_result"
    }
   ],
   "execution_count": 14
  },
  {
   "metadata": {
    "ExecuteTime": {
     "end_time": "2025-03-04T07:26:11.049988Z",
     "start_time": "2025-03-04T07:26:11.044437Z"
    }
   },
   "cell_type": "code",
   "source": [
    "phi0=phi1\n",
    "phi1=phi2\n",
    "\n",
    "cos_theta = np.cos(theta/2)\n",
    "sin_theta = np.sin(theta/2)\n",
    "\n",
    "e_pos = -1j * np.exp(1j * (phi0 + phi1))\n",
    "e_neg = -1j * np.exp(-1j * (phi0 + phi1))\n",
    "e_diff_pos = -1j * np.exp(1j * (phi0 - phi1))\n",
    "e_diff_neg = -1j * np.exp(-1j * (phi0 - phi1))\n",
    "\n",
    "np.array([\n",
    "    [cos_theta, 0, 0, e_neg * sin_theta],\n",
    "    [0, cos_theta, e_diff_neg * sin_theta, 0],\n",
    "    [0, e_diff_pos * sin_theta, cos_theta, 0],\n",
    "    [e_pos * sin_theta, 0, 0, cos_theta]\n",
    "])"
   ],
   "id": "e4099e3061c6081c",
   "outputs": [
    {
     "data": {
      "text/plain": [
       "array([[ 0.99833437+0.j        ,  0.        +0.j        ,\n",
       "         0.        +0.j        , -0.03542718-0.0455345j ],\n",
       "       [ 0.        +0.j        ,  0.99833437+0.j        ,\n",
       "         0.009772  -0.05685934j,  0.        +0.j        ],\n",
       "       [ 0.        +0.j        , -0.009772  -0.05685934j,\n",
       "         0.99833437+0.j        ,  0.        +0.j        ],\n",
       "       [ 0.03542718-0.0455345j ,  0.        +0.j        ,\n",
       "         0.        +0.j        ,  0.99833437+0.j        ]])"
      ]
     },
     "execution_count": 15,
     "metadata": {},
     "output_type": "execute_result"
    }
   ],
   "execution_count": 15
  },
  {
   "metadata": {
    "ExecuteTime": {
     "end_time": "2025-03-04T07:26:11.054035Z",
     "start_time": "2025-03-04T07:26:11.049988Z"
    }
   },
   "cell_type": "code",
   "source": "braket_Circuit().zz(0,1,np.pi).to_unitary()",
   "id": "1653b3ad1b98af09",
   "outputs": [
    {
     "data": {
      "text/plain": [
       "array([[6.123234e-17-1.j, 0.000000e+00+0.j, 0.000000e+00+0.j,\n",
       "        0.000000e+00+0.j],\n",
       "       [0.000000e+00+0.j, 6.123234e-17+1.j, 0.000000e+00+0.j,\n",
       "        0.000000e+00+0.j],\n",
       "       [0.000000e+00+0.j, 0.000000e+00+0.j, 6.123234e-17+1.j,\n",
       "        0.000000e+00+0.j],\n",
       "       [0.000000e+00+0.j, 0.000000e+00+0.j, 0.000000e+00+0.j,\n",
       "        6.123234e-17-1.j]])"
      ]
     },
     "execution_count": 16,
     "metadata": {},
     "output_type": "execute_result"
    }
   ],
   "execution_count": 16
  },
  {
   "metadata": {
    "ExecuteTime": {
     "end_time": "2025-03-04T07:23:04.829525Z",
     "start_time": "2025-03-04T07:23:04.826682Z"
    }
   },
   "cell_type": "code",
   "source": "",
   "id": "c87356affa8d0581",
   "outputs": [],
   "execution_count": 17
  },
  {
   "metadata": {},
   "cell_type": "code",
   "outputs": [],
   "execution_count": null,
   "source": "",
   "id": "aa6be7de65628c00"
  }
 ],
 "metadata": {
  "kernelspec": {
   "display_name": "Python 3",
   "language": "python",
   "name": "python3"
  },
  "language_info": {
   "codemirror_mode": {
    "name": "ipython",
    "version": 2
   },
   "file_extension": ".py",
   "mimetype": "text/x-python",
   "name": "python",
   "nbconvert_exporter": "python",
   "pygments_lexer": "ipython2",
   "version": "2.7.6"
  }
 },
 "nbformat": 4,
 "nbformat_minor": 5
}

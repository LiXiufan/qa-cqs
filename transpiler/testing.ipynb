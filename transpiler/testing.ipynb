{
 "cells": [
  {
   "metadata": {},
   "cell_type": "markdown",
   "source": "# IMPORT",
   "id": "3aa5ae233927d680"
  },
  {
   "metadata": {
    "ExecuteTime": {
     "end_time": "2025-03-05T06:12:05.210951Z",
     "start_time": "2025-03-05T06:12:02.277359Z"
    }
   },
   "cell_type": "code",
   "source": [
    "from __future__ import annotations\n",
    "from qiskit import QuantumCircuit\n",
    "from transpiler.qasm2_reader import load_qasm, from_qasm2_to_braket\n",
    "from bqskit.ext import bqskit_to_qiskit,qiskit_to_bqskit\n",
    "from qiskit_aer import AerSimulator\n",
    "from qiskit import transpile\n",
    "import pennylane as qml\n",
    "import numpy as np\n",
    "from braket.devices import LocalSimulator\n",
    "from braket.circuits import Circuit as braket_Circuit\n",
    "from transpiler.transpile import transpile_circuit as bqskit_transpiler\n",
    "from transpiler.transpile import get_noisy_counts\n",
    "from qiskit.circuit.random import random_circuit"
   ],
   "id": "5239e8e15a8ef487",
   "outputs": [],
   "execution_count": 1
  },
  {
   "metadata": {
    "ExecuteTime": {
     "end_time": "2025-03-05T06:18:46.510573Z",
     "start_time": "2025-03-05T06:18:46.448776Z"
    }
   },
   "cell_type": "code",
   "source": [
    "# Create a 4-qubit quantum circuit\n",
    "# Generate a random 4-qubit circuit with a depth of 5\n",
    "qc = random_circuit(4,max_operands=2, depth=4, measure=False)\n",
    "\n",
    "    \n",
    "qc_qiskit = qc\n",
    "qc_bqskit=qiskit_to_bqskit(qc)\n",
    "print(qc)\n",
    "\n",
    "# Initialize the latest AerSimulator\n",
    "simulator = AerSimulator(method=\"statevector\")\n",
    "\n",
    "# Transpile the circuit for the simulator\n",
    "qc_transpiled = transpile(qc_qiskit, simulator)\n",
    "\n",
    "# Add instruction to save statevector\n",
    "qc_transpiled.save_statevector()\n",
    "\n",
    "# Run the circuit in statevector mode\n",
    "result = simulator.run(qc_transpiled).result()\n",
    "\n",
    "# Get the statevector\n",
    "statevector = result.get_statevector()\n",
    "\n",
    "# Print the statevector\n",
    "print(\"Not transpiled result:\",np.abs(np.array(statevector))**2)#check"
   ],
   "id": "9e396da876811bda",
   "outputs": [
    {
     "name": "stdout",
     "output_type": "stream",
     "text": [
      "      ┌────┐     ┌───┐     ┌─────────────┐              »\n",
      "q_0: ─┤ √X ├─────┤ Z ├─────┤ Rz(0.62416) ├──────────────»\n",
      "     ┌┴────┴┐┌───┴───┴────┐└───┬─────┬───┘              »\n",
      "q_1: ┤0     ├┤ Ry(3.4708) ├────┤ Sdg ├──────────────────»\n",
      "     │  Ecr │└──┬─────┬───┘    └──┬──┘    ┌────────────┐»\n",
      "q_2: ┤1     ├───┤ Tdg ├───────────┼───────┤ Rx(3.8194) ├»\n",
      "     └┬────┬┘   ├─────┤           │       └────────────┘»\n",
      "q_3: ─┤ √X ├────┤ Sdg ├───────────■─────────────────────»\n",
      "      └────┘    └─────┘                                 »\n",
      "«     ┌────────────────────────┐     \n",
      "«q_0: ┤0                       ├─────\n",
      "«     │                        │┌───┐\n",
      "«q_1: ┤  (XX+YY)(6.1596,2.446) ├┤ X ├\n",
      "«     │                        │└─┬─┘\n",
      "«q_2: ┤1                       ├──┼──\n",
      "«     └────────────────────────┘  │  \n",
      "«q_3: ────────────────────────────■──\n",
      "«                                    \n",
      "Not transpiled result: [0.17558095 0.18633726 0.00484553 0.00514237 0.05694874 0.06770506\n",
      " 0.00157162 0.00186846 0.00484553 0.00514237 0.17558095 0.18633726\n",
      " 0.00157162 0.00186846 0.05694874 0.06770506]\n"
     ]
    }
   ],
   "execution_count": 17
  },
  {
   "metadata": {
    "ExecuteTime": {
     "end_time": "2025-03-05T06:23:02.474804Z",
     "start_time": "2025-03-05T06:22:54.460937Z"
    }
   },
   "cell_type": "code",
   "source": [
    "# Step 3: Transpile the circuit to MS gates\n",
    "qc_qiskit_transpiled = bqskit_transpiler(qc_qiskit,device=\"Aria\",optimization_level=2,synthesis_epsilon=1e-4)\n",
    "print(qc_qiskit_transpiled)"
   ],
   "id": "cd5cbfe677b3c414",
   "outputs": [
    {
     "name": "stdout",
     "output_type": "stream",
     "text": [
      "     ┌──────────────┐                                                »\n",
      "q_0: ┤ Gpi2(3.1416) ├────────────────────────────────────────────────»\n",
      "     ├──────────────┤┌──────────────┐┌─────────────┐ ┌──────────────┐»\n",
      "q_1: ┤ Gpi(0.94904) ├┤ Gpi2(3.3952) ├┤ Gpi(4.5054) ├─┤ Gpi2(4.0448) ├»\n",
      "     ├─────────────┬┘├──────────────┤├─────────────┴┐└──────────────┘»\n",
      "q_2: ┤ Gpi(3.4907) ├─┤ Gpi2(1.0618) ├┤ Gpi2(1.0625) ├────────────────»\n",
      "     ├─────────────┤ ├──────────────┤├──────────────┤┌─────────────┐ »\n",
      "q_3: ┤ Gpi(5.1226) ├─┤ Gpi2(4.9313) ├┤ Gpi2(4.4139) ├┤ Gpi(4.2225) ├─»\n",
      "     └─────────────┘ └──────────────┘└──────────────┘└─────────────┘ »\n",
      "«                                                                       »\n",
      "«q_0: ──────────────────────────────────────────────────────────────────»\n",
      "«     ┌────────────────────────────────┐┌─────────────┐ ┌──────────────┐»\n",
      "«q_1: ┤0                               ├┤ Gpi2(5.315) ├─┤ Gpi2(1.3813) ├»\n",
      "«     │  Partialms(0.90308,1.4259,π/2) │├─────────────┤ ├──────────────┤»\n",
      "«q_2: ┤1                               ├┤ Gpi(3.6717) ├─┤ Gpi2(4.1053) ├»\n",
      "«     └────────┬──────────────┬────────┘├─────────────┴┐└──────────────┘»\n",
      "«q_3: ─────────┤ Gpi2(3.4179) ├─────────┤ Gpi2(4.4045) ├────────────────»\n",
      "«              └──────────────┘         └──────────────┘                »\n",
      "«                                                                          »\n",
      "«q_0: ─────────────────────────────────────────────────────────────────────»\n",
      "«     ┌─────────────┐ ┌─────────────┐ ┌───────────────────────────────────┐»\n",
      "«q_1: ┤ Gpi2(3.396) ├─┤ Gpi2(3.845) ├─┤0                                  ├»\n",
      "«     ├─────────────┴┐├─────────────┴┐│                                   │»\n",
      "«q_2: ┤ Gpi2(5.7177) ├┤ Gpi2(5.1078) ├┤  Partialms(5.4158,0.20322,1.5625) ├»\n",
      "«     └──────────────┘└──────────────┘│                                   │»\n",
      "«q_3: ────────────────────────────────┤1                                  ├»\n",
      "«                                     └───────────────────────────────────┘»\n",
      "«                     ┌────────────────────────────────────┐┌─────────────┐ »\n",
      "«q_0: ────────────────┤0                                   ├┤ Gpi(0.3122) ├─»\n",
      "«     ┌──────────────┐│                                    │├─────────────┴┐»\n",
      "«q_1: ┤ Gpi2(6.2433) ├┤  Partialms(3.6121,2.3901,0.062301) ├┤ Gpi2(6.2431) ├»\n",
      "«     ├─────────────┬┘│                                    │├─────────────┬┘»\n",
      "«q_2: ┤ Gpi(3.1453) ├─┤1                                   ├┤ Gpi(3.6908) ├─»\n",
      "«     ├─────────────┤ └──────────┬──────────────┬──────────┘└─────────────┘ »\n",
      "«q_3: ┤ Gpi(3.3294) ├────────────┤ Gpi2(4.8811) ├───────────────────────────»\n",
      "«     └─────────────┘            └──────────────┘                           »\n",
      "«                     ┌─────────────────────────────────────┐┌───────────────┐»\n",
      "«q_0: ────────────────┤0                                    ├┤ Gpi2(0.63956) ├»\n",
      "«                     │                                     │└───────────────┘»\n",
      "«q_1: ────────────────┤  Partialms(1.8508,0.40516,0.062301) ├─────────────────»\n",
      "«     ┌──────────────┐│                                     │  ┌────────────┐ »\n",
      "«q_2: ┤ Gpi2(1.8499) ├┤1                                    ├──┤ Gpi(0.717) ├─»\n",
      "«     └──────────────┘└─────────────────────────────────────┘  └────────────┘ »\n",
      "«q_3: ────────────────────────────────────────────────────────────────────────»\n",
      "«                                                                             »\n",
      "«     ┌──────────────┐\n",
      "«q_0: ┤ Gpi2(3.7812) ├\n",
      "«     └──────────────┘\n",
      "«q_1: ────────────────\n",
      "«                     \n",
      "«q_2: ────────────────\n",
      "«                     \n",
      "«q_3: ────────────────\n",
      "«                     \n"
     ]
    }
   ],
   "execution_count": 30
  },
  {
   "metadata": {},
   "cell_type": "markdown",
   "source": "# Convert Qiskit circuit to PennyLane\n",
   "id": "1937f539446cabc7"
  },
  {
   "metadata": {
    "ExecuteTime": {
     "end_time": "2025-03-05T06:22:46.683794Z",
     "start_time": "2025-03-05T06:22:46.663100Z"
    }
   },
   "cell_type": "code",
   "source": [
    "qml_circuit = qml.from_qiskit(qc_qiskit_transpiled)\n",
    "print(\"Transpiled result\",np.abs(qml.matrix(qml_circuit, wire_order=list(range(qc_qiskit.num_qubits)))().T[0])**2)#check\n",
    "print(\"Not transpiled result:\",np.abs(np.array(statevector))**2)#check"
   ],
   "id": "ae7d446581b3ed1b",
   "outputs": [
    {
     "name": "stdout",
     "output_type": "stream",
     "text": [
      "Transpiled result [0.1781696  0.00496901 0.06200014 0.00172914 0.00489825 0.17940388\n",
      " 0.00170451 0.06242965 0.18044568 0.00503249 0.06427799 0.00179266\n",
      " 0.00496083 0.18169574 0.00176714 0.06472328]\n",
      "Not transpiled result: [0.17558095 0.18633726 0.00484553 0.00514237 0.05694874 0.06770506\n",
      " 0.00157162 0.00186846 0.00484553 0.00514237 0.17558095 0.18633726\n",
      " 0.00157162 0.00186846 0.05694874 0.06770506]\n"
     ]
    }
   ],
   "execution_count": 29
  },
  {
   "metadata": {},
   "cell_type": "markdown",
   "source": "# NOISE",
   "id": "35594a34321503b"
  },
  {
   "metadata": {
    "ExecuteTime": {
     "end_time": "2025-03-05T06:22:23.436641Z",
     "start_time": "2025-03-05T06:22:23.399509Z"
    }
   },
   "cell_type": "code",
   "source": [
    "print(\"Noise 0     simulation result:\", get_noisy_counts(qc_qiskit_transpiled,0.00,0.000,0.00))\n",
    "print(\"Noiseless simulation result:\",np.abs(qml.matrix(qml_circuit, wire_order=list(range(qc_qiskit.num_qubits)))().T[0])**2)\n",
    "print(\"Noisy     simulation result:\", get_noisy_counts(qc_qiskit_transpiled,1000,0.01,0.001,0.01))#check"
   ],
   "id": "ec026fb11c967378",
   "outputs": [
    {
     "name": "stdout",
     "output_type": "stream",
     "text": [
      "Noise 0     simulation result: [0.15527344 0.00488281 0.06152344 0.00097656 0.00585938 0.1953125\n",
      " 0.         0.06347656 0.17382812 0.00585938 0.06835938 0.\n",
      " 0.00878906 0.1875     0.00097656 0.06738281]\n",
      "Noisy     simulation result: {'0000': 161, '0001': 14, '0010': 63, '0011': 4, '0100': 9, '0101': 164, '0110': 3, '0111': 62, '1000': 172, '1001': 11, '1010': 78, '1011': 4, '1100': 16, '1101': 166, '1110': 3, '1111': 70}\n",
      "Noiseless simulation result: [0.1781696  0.00496901 0.06200014 0.00172914 0.00489825 0.17940388\n",
      " 0.00170451 0.06242965 0.18044568 0.00503249 0.06427799 0.00179266\n",
      " 0.00496083 0.18169574 0.00176714 0.06472328]\n"
     ]
    }
   ],
   "execution_count": 28
  },
  {
   "metadata": {},
   "cell_type": "markdown",
   "source": "# Vibratium",
   "id": "47ee7607c8c42166"
  },
  {
   "metadata": {
    "ExecuteTime": {
     "end_time": "2025-03-04T08:16:15.300113Z",
     "start_time": "2025-03-04T08:16:15.294592Z"
    }
   },
   "cell_type": "code",
   "source": "bracket_qc=from_qasm2_to_braket(\"circuit.qasm\")\n",
   "id": "caf64fc885ec272d",
   "outputs": [],
   "execution_count": 22
  },
  {
   "metadata": {
    "ExecuteTime": {
     "end_time": "2025-03-04T08:16:15.814433Z",
     "start_time": "2025-03-04T08:16:15.804780Z"
    }
   },
   "cell_type": "code",
   "source": "print(bracket_qc)",
   "id": "5859389cedf46b0c",
   "outputs": [
    {
     "name": "stdout",
     "output_type": "stream",
     "text": [
      "T  : │        0        │      1      │      2       │           3            │      4       │      5       │      6      │           7            │      8       │      9       │      10      │      11       │ 12  │\n",
      "                        ┌───────────┐ ┌────────────┐ ┌──────────────────────┐ ┌────────────┐ ┌────────────┐ ┌───────────┐ ┌──────────────────────┐ ┌────────────┐ ┌────────────┐ ┌────────────┐                 ┌───┐ \n",
      "q0 : ───StartVerbatim───┤ GPi(3.93) ├─┤ GPi2(3.14) ├─┤ MS(1.16, 3.06, 1.32) ├─┤ GPi2(0.64) ├─┤ GPi2(6.20) ├─┤ GPi(3.12) ├─┤ MS(1.61, 0.10, 1.37) ├─┤ GPi2(1.19) ├─┤ GPi2(1.24) ├─┤ GPi2(5.58) ├───EndVerbatim───┤ M ├─\n",
      "              ║         └───────────┘ └────────────┘ └──────────┬───────────┘ └────────────┘ └────────────┘ └───────────┘ └──────────┬───────────┘ └────────────┘ └────────────┘ └────────────┘        ║        └───┘ \n",
      "              ║         ┌───────────┐                ┌──────────┴───────────┐ ┌────────────┐                              ┌──────────┴───────────┐ ┌───────────┐  ┌────────────┐ ┌────────────┐        ║        ┌───┐ \n",
      "q1 : ─────────╨─────────┤ GPi(3.97) ├────────────────┤ MS(1.16, 3.06, 1.32) ├─┤ GPi2(1.01) ├──────────────────────────────┤ MS(1.61, 0.10, 1.37) ├─┤ GPi(0.22) ├──┤ GPi2(5.17) ├─┤ GPi2(4.20) ├────────╨────────┤ M ├─\n",
      "                        └───────────┘                └──────────────────────┘ └────────────┘                              └──────────────────────┘ └───────────┘  └────────────┘ └────────────┘                 └───┘ \n",
      "T  : │        0        │      1      │      2       │           3            │      4       │      5       │      6      │           7            │      8       │      9       │      10      │      11       │ 12  │\n"
     ]
    }
   ],
   "execution_count": 23
  },
  {
   "metadata": {
    "ExecuteTime": {
     "end_time": "2025-03-04T08:16:20.715818Z",
     "start_time": "2025-03-04T08:16:20.174699Z"
    }
   },
   "cell_type": "code",
   "source": [
    "device = LocalSimulator() # Choose the local simulator\n",
    "shots = 100000  # Number of times to execute the circuit\n",
    "\n",
    "result = device.run(bracket_qc, shots=shots).result()\n",
    "counts = result.measurement_probabilities  # Get the shot results\n",
    "\n",
    "print(counts)  # Dictionary {bitstring: counts}\n",
    "print(\"Noiseless simulation result:\",np.abs(qml.matrix(qml_circuit, wire_order=[0, 1])().T[0])**2)#check"
   ],
   "id": "1a606e1eb436590a",
   "outputs": [
    {
     "name": "stdout",
     "output_type": "stream",
     "text": [
      "{'11': 0.35773, '01': 0.123, '10': 0.41512, '00': 0.10415}\n",
      "Noiseless simulation result: [0.10533638 0.12272559 0.41539821 0.35653982]\n"
     ]
    }
   ],
   "execution_count": 24
  },
  {
   "metadata": {},
   "cell_type": "markdown",
   "source": "# GATE braket TEST",
   "id": "4a0b30a416242bb1"
  },
  {
   "metadata": {
    "ExecuteTime": {
     "end_time": "2025-03-04T08:15:37.823256Z",
     "start_time": "2025-03-04T08:15:37.818706Z"
    }
   },
   "cell_type": "code",
   "source": "print(braket_Circuit().gpi(0,1))",
   "id": "f395d8c4299bec35",
   "outputs": [
    {
     "name": "stdout",
     "output_type": "stream",
     "text": [
      "T  : │    0     │\n",
      "      ┌────────┐ \n",
      "q0 : ─┤ GPi(1) ├─\n",
      "      └────────┘ \n",
      "T  : │    0     │\n"
     ]
    }
   ],
   "execution_count": 17
  },
  {
   "metadata": {
    "ExecuteTime": {
     "end_time": "2025-03-04T08:15:37.830948Z",
     "start_time": "2025-03-04T08:15:37.824273Z"
    }
   },
   "cell_type": "code",
   "source": "braket_Circuit().gpi(0,0.445).to_unitary()",
   "id": "c99a89f7f1d914e3",
   "outputs": [
    {
     "data": {
      "text/plain": [
       "array([[0.        +0.j        , 0.90261067-0.43045788j],\n",
       "       [0.90261067+0.43045788j, 0.        +0.j        ]])"
      ]
     },
     "execution_count": 18,
     "metadata": {},
     "output_type": "execute_result"
    }
   ],
   "execution_count": 18
  },
  {
   "metadata": {
    "ExecuteTime": {
     "end_time": "2025-03-04T08:15:37.837332Z",
     "start_time": "2025-03-04T08:15:37.830948Z"
    }
   },
   "cell_type": "code",
   "source": [
    "phi=0.445\n",
    "np.array([\n",
    "            [0, np.exp(-1j * phi)],\n",
    "            [np.exp(1j * phi), 0]\n",
    "        ])"
   ],
   "id": "fd0a1497eece21b8",
   "outputs": [
    {
     "data": {
      "text/plain": [
       "array([[0.        +0.j        , 0.90261067-0.43045788j],\n",
       "       [0.90261067+0.43045788j, 0.        +0.j        ]])"
      ]
     },
     "execution_count": 19,
     "metadata": {},
     "output_type": "execute_result"
    }
   ],
   "execution_count": 19
  },
  {
   "metadata": {
    "ExecuteTime": {
     "end_time": "2025-03-04T08:15:37.842387Z",
     "start_time": "2025-03-04T08:15:37.837332Z"
    }
   },
   "cell_type": "code",
   "source": "braket_Circuit().gpi2(0,0.445).to_unitary()",
   "id": "a4371070e494559d",
   "outputs": [
    {
     "data": {
      "text/plain": [
       "array([[ 0.70710678+0.j        , -0.30437969-0.63824212j],\n",
       "       [ 0.30437969-0.63824212j,  0.70710678+0.j        ]])"
      ]
     },
     "execution_count": 20,
     "metadata": {},
     "output_type": "execute_result"
    }
   ],
   "execution_count": 20
  },
  {
   "metadata": {
    "ExecuteTime": {
     "end_time": "2025-03-04T07:26:11.039689Z",
     "start_time": "2025-03-04T07:26:11.033399Z"
    }
   },
   "cell_type": "code",
   "source": [
    " # Extract the phase parameter\n",
    "factor = 1 / np.sqrt(2)  # Normalization factor\n",
    "exp_pos = -1j * np.exp(1j * phi)\n",
    "exp_neg = -1j * np.exp(-1j * phi)\n",
    "\n",
    "factor * np.array([\n",
    "            [1, exp_neg],\n",
    "            [exp_pos, 1]\n",
    "        ])"
   ],
   "id": "3a67e617ed90723b",
   "outputs": [
    {
     "data": {
      "text/plain": [
       "array([[ 0.70710678+0.j        , -0.30437969-0.63824212j],\n",
       "       [ 0.30437969-0.63824212j,  0.70710678+0.j        ]])"
      ]
     },
     "execution_count": 13,
     "metadata": {},
     "output_type": "execute_result"
    }
   ],
   "execution_count": 13
  },
  {
   "metadata": {
    "ExecuteTime": {
     "end_time": "2025-03-04T07:26:11.044437Z",
     "start_time": "2025-03-04T07:26:11.039689Z"
    }
   },
   "cell_type": "code",
   "source": [
    "phi1=0.2455\n",
    "phi2=0.4157\n",
    "theta=0.11545\n",
    "q1=0\n",
    "q2=1\n",
    "braket_Circuit().ms(q1, q2, phi1, phi2,theta).to_unitary()"
   ],
   "id": "49379cb71f296641",
   "outputs": [
    {
     "data": {
      "text/plain": [
       "array([[ 0.99833437+0.j        ,  0.        +0.j        ,\n",
       "         0.        +0.j        , -0.03542718-0.0455345j ],\n",
       "       [ 0.        +0.j        ,  0.99833437+0.j        ,\n",
       "         0.009772  -0.05685934j,  0.        +0.j        ],\n",
       "       [ 0.        +0.j        , -0.009772  -0.05685934j,\n",
       "         0.99833437+0.j        ,  0.        +0.j        ],\n",
       "       [ 0.03542718-0.0455345j ,  0.        +0.j        ,\n",
       "         0.        +0.j        ,  0.99833437+0.j        ]])"
      ]
     },
     "execution_count": 14,
     "metadata": {},
     "output_type": "execute_result"
    }
   ],
   "execution_count": 14
  },
  {
   "metadata": {
    "ExecuteTime": {
     "end_time": "2025-03-04T07:26:11.049988Z",
     "start_time": "2025-03-04T07:26:11.044437Z"
    }
   },
   "cell_type": "code",
   "source": [
    "phi0=phi1\n",
    "phi1=phi2\n",
    "\n",
    "cos_theta = np.cos(theta/2)\n",
    "sin_theta = np.sin(theta/2)\n",
    "\n",
    "e_pos = -1j * np.exp(1j * (phi0 + phi1))\n",
    "e_neg = -1j * np.exp(-1j * (phi0 + phi1))\n",
    "e_diff_pos = -1j * np.exp(1j * (phi0 - phi1))\n",
    "e_diff_neg = -1j * np.exp(-1j * (phi0 - phi1))\n",
    "\n",
    "np.array([\n",
    "    [cos_theta, 0, 0, e_neg * sin_theta],\n",
    "    [0, cos_theta, e_diff_neg * sin_theta, 0],\n",
    "    [0, e_diff_pos * sin_theta, cos_theta, 0],\n",
    "    [e_pos * sin_theta, 0, 0, cos_theta]\n",
    "])"
   ],
   "id": "e4099e3061c6081c",
   "outputs": [
    {
     "data": {
      "text/plain": [
       "array([[ 0.99833437+0.j        ,  0.        +0.j        ,\n",
       "         0.        +0.j        , -0.03542718-0.0455345j ],\n",
       "       [ 0.        +0.j        ,  0.99833437+0.j        ,\n",
       "         0.009772  -0.05685934j,  0.        +0.j        ],\n",
       "       [ 0.        +0.j        , -0.009772  -0.05685934j,\n",
       "         0.99833437+0.j        ,  0.        +0.j        ],\n",
       "       [ 0.03542718-0.0455345j ,  0.        +0.j        ,\n",
       "         0.        +0.j        ,  0.99833437+0.j        ]])"
      ]
     },
     "execution_count": 15,
     "metadata": {},
     "output_type": "execute_result"
    }
   ],
   "execution_count": 15
  },
  {
   "metadata": {
    "ExecuteTime": {
     "end_time": "2025-03-04T07:26:11.054035Z",
     "start_time": "2025-03-04T07:26:11.049988Z"
    }
   },
   "cell_type": "code",
   "source": "braket_Circuit().zz(0,1,np.pi).to_unitary()",
   "id": "1653b3ad1b98af09",
   "outputs": [
    {
     "data": {
      "text/plain": [
       "array([[6.123234e-17-1.j, 0.000000e+00+0.j, 0.000000e+00+0.j,\n",
       "        0.000000e+00+0.j],\n",
       "       [0.000000e+00+0.j, 6.123234e-17+1.j, 0.000000e+00+0.j,\n",
       "        0.000000e+00+0.j],\n",
       "       [0.000000e+00+0.j, 0.000000e+00+0.j, 6.123234e-17+1.j,\n",
       "        0.000000e+00+0.j],\n",
       "       [0.000000e+00+0.j, 0.000000e+00+0.j, 0.000000e+00+0.j,\n",
       "        6.123234e-17-1.j]])"
      ]
     },
     "execution_count": 16,
     "metadata": {},
     "output_type": "execute_result"
    }
   ],
   "execution_count": 16
  },
  {
   "metadata": {
    "ExecuteTime": {
     "end_time": "2025-03-04T07:23:04.829525Z",
     "start_time": "2025-03-04T07:23:04.826682Z"
    }
   },
   "cell_type": "code",
   "source": "",
   "id": "c87356affa8d0581",
   "outputs": [],
   "execution_count": 17
  },
  {
   "metadata": {},
   "cell_type": "code",
   "outputs": [],
   "execution_count": null,
   "source": "",
   "id": "aa6be7de65628c00"
  }
 ],
 "metadata": {
  "kernelspec": {
   "display_name": "Python 3",
   "language": "python",
   "name": "python3"
  },
  "language_info": {
   "codemirror_mode": {
    "name": "ipython",
    "version": 2
   },
   "file_extension": ".py",
   "mimetype": "text/x-python",
   "name": "python",
   "nbconvert_exporter": "python",
   "pygments_lexer": "ipython2",
   "version": "2.7.6"
  }
 },
 "nbformat": 4,
 "nbformat_minor": 5
}

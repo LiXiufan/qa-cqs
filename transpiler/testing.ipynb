{
 "cells": [
  {
   "metadata": {},
   "cell_type": "markdown",
   "source": "# IMPORT",
   "id": "3aa5ae233927d680"
  },
  {
   "metadata": {
    "ExecuteTime": {
     "end_time": "2025-03-04T07:26:02.285226Z",
     "start_time": "2025-03-04T07:25:59.173291Z"
    }
   },
   "cell_type": "code",
   "source": [
    "from __future__ import annotations\n",
    "\n",
    "from qiskit import QuantumCircuit\n",
    "from transpiler.qasm2_reader import load_qasm, from_qasm2_to_braket\n",
    "from bqskit.ext import bqskit_to_qiskit,qiskit_to_bqskit\n",
    "from qiskit_aer import AerSimulator\n",
    "from qiskit import transpile\n",
    "import pennylane as qml\n",
    "import numpy as np\n",
    "from braket.devices import LocalSimulator\n",
    "from braket.circuits import Circuit as braket_Circuit\n",
    "from transpiler.transpile import transpile_circuit as bqskit_transpiler\n",
    "from transpiler.transpile import get_noisy_counts"
   ],
   "id": "5239e8e15a8ef487",
   "outputs": [],
   "execution_count": 1
  },
  {
   "metadata": {
    "ExecuteTime": {
     "end_time": "2025-03-04T07:26:02.974280Z",
     "start_time": "2025-03-04T07:26:02.285226Z"
    }
   },
   "cell_type": "code",
   "source": [
    "# Create a 2-qubit quantum circuit\n",
    "qc = QuantumCircuit(2)\n",
    "\n",
    "# Apply gates using QuantumCircuit methods\n",
    "qc.h(0)  # Hadamard gate on qubit 0\n",
    "qc.h(1)  # Hadamard gate on qubit 1\n",
    "qc.cx(1, 0)  # CNOT gate (control: qubit 1, target: qubit 0)\n",
    "qc.rx(1.1561, 1)  # RX rotation on qubit 1\n",
    "qc.h(0)  # Hadamard gate on qubit 0\n",
    "qc.rzz(1, 0, 1)  # RZZ gate with parameter 1 (qubits 0 and 1)\n",
    "qc.ry(3, 1)  # RY rotation on qubit 1\n",
    "qc.rxx(2.14584545, 0, 1)  # RXX gate with parameter 2.14584545 (qubits 0 and 1)\n",
    "\n",
    "    \n",
    "qc_qiskit = qc\n",
    "qc_bqskit=qiskit_to_bqskit(qc)\n",
    "print(qc)\n",
    "\n",
    "# Initialize the latest AerSimulator\n",
    "simulator = AerSimulator(method=\"statevector\")\n",
    "\n",
    "# Transpile the circuit for the simulator\n",
    "qc_transpiled = transpile(qc_qiskit, simulator)\n",
    "\n",
    "# Add instruction to save statevector\n",
    "qc_transpiled.save_statevector()\n",
    "\n",
    "# Run the circuit in statevector mode\n",
    "result = simulator.run(qc_transpiled).result()\n",
    "\n",
    "# Get the statevector\n",
    "statevector = result.get_statevector()\n",
    "\n",
    "# Print the statevector\n",
    "print(\"Not transpiled result:\",np.abs(np.array(statevector))**2)#check"
   ],
   "id": "9e396da876811bda",
   "outputs": [
    {
     "name": "stdout",
     "output_type": "stream",
     "text": [
      "     ┌───┐┌───┐    ┌───┐                      ┌──────────────┐\n",
      "q_0: ┤ H ├┤ X ├────┤ H ├──────■───────────────┤0             ├\n",
      "     ├───┤└─┬─┘┌───┴───┴────┐ │ZZ(1) ┌───────┐│  Rxx(2.1458) │\n",
      "q_1: ┤ H ├──■──┤ Rx(1.1561) ├─■──────┤ Ry(3) ├┤1             ├\n",
      "     └───┘     └────────────┘        └───────┘└──────────────┘\n",
      "Not transpiled result: [0.10533642 0.41539816 0.12272557 0.35653985]\n"
     ]
    }
   ],
   "execution_count": 2
  },
  {
   "metadata": {
    "ExecuteTime": {
     "end_time": "2025-03-04T07:26:10.479371Z",
     "start_time": "2025-03-04T07:26:02.974280Z"
    }
   },
   "cell_type": "code",
   "source": [
    "# Step 3: Transpile the circuit to MS gates\n",
    "qc_qiskit_transpiled = bqskit_transpiler(qc_qiskit,device=\"Forte\")\n",
    "print(qc_qiskit_transpiled)"
   ],
   "id": "cd5cbfe677b3c414",
   "outputs": [
    {
     "name": "stdout",
     "output_type": "stream",
     "text": [
      "     ┌─────────────┐                              ┌──────────────┐»\n",
      "q_0: ┤ Gpi(1.3558) ├──────────────────■───────────┤ Gpi2(2.7116) ├»\n",
      "     ├─────────────┴┐┌──────────────┐ │ZZ(1.2249) ├──────────────┤»\n",
      "q_1: ┤ Gpi2(3.1416) ├┤ Gpi2(3.7534) ├─■───────────┤ Gpi2(3.5004) ├»\n",
      "     └──────────────┘└──────────────┘             └──────────────┘»\n",
      "«      ┌──────────────┐ ┌──────────────┐              ┌──────────────┐»\n",
      "«q_0: ─┤ Gpi2(2.6293) ├─┤ Gpi2(5.7709) ├─■────────────┤ Gpi(0.57039) ├»\n",
      "«     ┌┴──────────────┴┐├──────────────┤ │ZZ(0.99575) ├─────────────┬┘»\n",
      "«q_1: ┤ Gpi2(0.081795) ├┤ Gpi2(3.3431) ├─■────────────┤ Gpi(1.9247) ├─»\n",
      "«     └────────────────┘└──────────────┘              └─────────────┘ »\n",
      "«     ┌──────────────┐\n",
      "«q_0: ┤ Gpi2(4.7124) ├\n",
      "«     ├──────────────┤\n",
      "«q_1: ┤ Gpi2(1.5708) ├\n",
      "«     └──────────────┘\n"
     ]
    }
   ],
   "execution_count": 3
  },
  {
   "metadata": {},
   "cell_type": "markdown",
   "source": "# Convert Qiskit circuit to PennyLane\n",
   "id": "1937f539446cabc7"
  },
  {
   "metadata": {
    "ExecuteTime": {
     "end_time": "2025-03-04T07:26:10.498181Z",
     "start_time": "2025-03-04T07:26:10.479371Z"
    }
   },
   "cell_type": "code",
   "source": [
    "qml_circuit = qml.from_qiskit(qc_qiskit_transpiled)\n",
    "print(\"Transpiled result\",np.abs(qml.matrix(qml_circuit, wire_order=[0, 1])().T[0])**2)#check\n",
    "print(\"Not transpiled result:\",np.abs(np.array(statevector))**2)#check"
   ],
   "id": "ae7d446581b3ed1b",
   "outputs": [
    {
     "name": "stdout",
     "output_type": "stream",
     "text": [
      "Transpiled result [0.10533642 0.12272557 0.41539817 0.35653985]\n",
      "Not transpiled result: [0.10533642 0.41539816 0.12272557 0.35653985]\n"
     ]
    }
   ],
   "execution_count": 4
  },
  {
   "metadata": {},
   "cell_type": "markdown",
   "source": "# NOISE",
   "id": "35594a34321503b"
  },
  {
   "metadata": {
    "ExecuteTime": {
     "end_time": "2025-03-04T07:26:10.518886Z",
     "start_time": "2025-03-04T07:26:10.498181Z"
    }
   },
   "cell_type": "code",
   "source": [
    "print(\"Noise 0     simulation result:\", get_noisy_counts(qc_qiskit_transpiled,0.00,0.000,0.00))\n",
    "print(\"Noisy     simulation result:\", get_noisy_counts(qc_qiskit_transpiled,0.01,0.001,0.01))\n",
    "print(\"Noiseless simulation result:\",np.abs(qml.matrix(qml_circuit, wire_order=[0, 1])().T[0])**2)#check"
   ],
   "id": "ec026fb11c967378",
   "outputs": [
    {
     "name": "stdout",
     "output_type": "stream",
     "text": [
      "Noise 0     simulation result: [0.10533642 0.12272557 0.41539817 0.35653985]\n",
      "Noisy     simulation result: [0.11298906 0.12789764 0.40671503 0.35239828]\n",
      "Noiseless simulation result: [0.10533642 0.12272557 0.41539817 0.35653985]\n"
     ]
    }
   ],
   "execution_count": 5
  },
  {
   "metadata": {},
   "cell_type": "markdown",
   "source": "# Vibratium",
   "id": "47ee7607c8c42166"
  },
  {
   "metadata": {
    "ExecuteTime": {
     "end_time": "2025-03-04T07:26:10.524758Z",
     "start_time": "2025-03-04T07:26:10.518886Z"
    }
   },
   "cell_type": "code",
   "source": "bracket_qc=from_qasm2_to_braket(\"circuit.qasm\")\n",
   "id": "caf64fc885ec272d",
   "outputs": [],
   "execution_count": 6
  },
  {
   "metadata": {
    "ExecuteTime": {
     "end_time": "2025-03-04T07:26:10.529472Z",
     "start_time": "2025-03-04T07:26:10.524758Z"
    }
   },
   "cell_type": "code",
   "source": "print(bracket_qc)",
   "id": "5859389cedf46b0c",
   "outputs": [
    {
     "name": "stdout",
     "output_type": "stream",
     "text": [
      "T  : │        0        │      1       │      2       │     3      │      4       │      5       │      6       │     7      │      8      │      9       │      10       │ 11  │\n",
      "                        ┌───────────┐                 ┌──────────┐ ┌────────────┐ ┌────────────┐ ┌────────────┐ ┌──────────┐ ┌───────────┐ ┌────────────┐                 ┌───┐ \n",
      "q0 : ───StartVerbatim───┤ GPi(1.36) ├─────────────────┤ ZZ(1.22) ├─┤ GPi2(2.71) ├─┤ GPi2(2.63) ├─┤ GPi2(5.77) ├─┤ ZZ(1.00) ├─┤ GPi(0.57) ├─┤ GPi2(4.71) ├───EndVerbatim───┤ M ├─\n",
      "              ║         └───────────┘                 └────┬─────┘ └────────────┘ └────────────┘ └────────────┘ └────┬─────┘ └───────────┘ └────────────┘        ║        └───┘ \n",
      "              ║         ┌────────────┐ ┌────────────┐ ┌────┴─────┐ ┌────────────┐ ┌────────────┐ ┌────────────┐ ┌────┴─────┐ ┌───────────┐ ┌────────────┐        ║        ┌───┐ \n",
      "q1 : ─────────╨─────────┤ GPi2(3.14) ├─┤ GPi2(3.75) ├─┤ ZZ(1.22) ├─┤ GPi2(3.50) ├─┤ GPi2(0.08) ├─┤ GPi2(3.34) ├─┤ ZZ(1.00) ├─┤ GPi(1.92) ├─┤ GPi2(1.57) ├────────╨────────┤ M ├─\n",
      "                        └────────────┘ └────────────┘ └──────────┘ └────────────┘ └────────────┘ └────────────┘ └──────────┘ └───────────┘ └────────────┘                 └───┘ \n",
      "T  : │        0        │      1       │      2       │     3      │      4       │      5       │      6       │     7      │      8      │      9       │      10       │ 11  │\n"
     ]
    }
   ],
   "execution_count": 7
  },
  {
   "metadata": {
    "ExecuteTime": {
     "end_time": "2025-03-04T07:26:11.000490Z",
     "start_time": "2025-03-04T07:26:10.529472Z"
    }
   },
   "cell_type": "code",
   "source": [
    "device = LocalSimulator() # Choose the local simulator\n",
    "shots = 100000  # Number of times to execute the circuit\n",
    "\n",
    "result = device.run(bracket_qc, shots=shots).result()\n",
    "counts = result.measurement_probabilities  # Get the shot results\n",
    "\n",
    "print(counts)  # Dictionary {bitstring: counts}\n",
    "print(\"Noiseless simulation result:\",np.abs(qml.matrix(qml_circuit, wire_order=[0, 1])().T[0])**2)#check"
   ],
   "id": "1a606e1eb436590a",
   "outputs": [
    {
     "name": "stdout",
     "output_type": "stream",
     "text": [
      "{'11': 0.35584, '10': 0.4158, '00': 0.10526, '01': 0.1231}\n",
      "Noiseless simulation result: [0.10533642 0.12272557 0.41539817 0.35653985]\n"
     ]
    }
   ],
   "execution_count": 8
  },
  {
   "metadata": {},
   "cell_type": "markdown",
   "source": "# GATE braket TEST",
   "id": "4a0b30a416242bb1"
  },
  {
   "metadata": {
    "ExecuteTime": {
     "end_time": "2025-03-04T07:26:11.006230Z",
     "start_time": "2025-03-04T07:26:11.000490Z"
    }
   },
   "cell_type": "code",
   "source": "print(braket_Circuit().gpi(0,1))",
   "id": "f395d8c4299bec35",
   "outputs": [
    {
     "name": "stdout",
     "output_type": "stream",
     "text": [
      "T  : │    0     │\n",
      "      ┌────────┐ \n",
      "q0 : ─┤ GPi(1) ├─\n",
      "      └────────┘ \n",
      "T  : │    0     │\n"
     ]
    }
   ],
   "execution_count": 9
  },
  {
   "metadata": {
    "ExecuteTime": {
     "end_time": "2025-03-04T07:26:11.016683Z",
     "start_time": "2025-03-04T07:26:11.006230Z"
    }
   },
   "cell_type": "code",
   "source": "braket_Circuit().gpi(0,0.445).to_unitary()",
   "id": "c99a89f7f1d914e3",
   "outputs": [
    {
     "data": {
      "text/plain": [
       "array([[0.        +0.j        , 0.90261067-0.43045788j],\n",
       "       [0.90261067+0.43045788j, 0.        +0.j        ]])"
      ]
     },
     "execution_count": 10,
     "metadata": {},
     "output_type": "execute_result"
    }
   ],
   "execution_count": 10
  },
  {
   "metadata": {
    "ExecuteTime": {
     "end_time": "2025-03-04T07:26:11.024050Z",
     "start_time": "2025-03-04T07:26:11.016683Z"
    }
   },
   "cell_type": "code",
   "source": [
    "phi=0.445\n",
    "np.array([\n",
    "            [0, np.exp(-1j * phi)],\n",
    "            [np.exp(1j * phi), 0]\n",
    "        ])"
   ],
   "id": "fd0a1497eece21b8",
   "outputs": [
    {
     "data": {
      "text/plain": [
       "array([[0.        +0.j        , 0.90261067-0.43045788j],\n",
       "       [0.90261067+0.43045788j, 0.        +0.j        ]])"
      ]
     },
     "execution_count": 11,
     "metadata": {},
     "output_type": "execute_result"
    }
   ],
   "execution_count": 11
  },
  {
   "metadata": {
    "ExecuteTime": {
     "end_time": "2025-03-04T07:26:11.032387Z",
     "start_time": "2025-03-04T07:26:11.024050Z"
    }
   },
   "cell_type": "code",
   "source": "braket_Circuit().gpi2(0,0.445).to_unitary()",
   "id": "a4371070e494559d",
   "outputs": [
    {
     "data": {
      "text/plain": [
       "array([[ 0.70710678+0.j        , -0.30437969-0.63824212j],\n",
       "       [ 0.30437969-0.63824212j,  0.70710678+0.j        ]])"
      ]
     },
     "execution_count": 12,
     "metadata": {},
     "output_type": "execute_result"
    }
   ],
   "execution_count": 12
  },
  {
   "metadata": {
    "ExecuteTime": {
     "end_time": "2025-03-04T07:26:11.039689Z",
     "start_time": "2025-03-04T07:26:11.033399Z"
    }
   },
   "cell_type": "code",
   "source": [
    " # Extract the phase parameter\n",
    "factor = 1 / np.sqrt(2)  # Normalization factor\n",
    "exp_pos = -1j * np.exp(1j * phi)\n",
    "exp_neg = -1j * np.exp(-1j * phi)\n",
    "\n",
    "factor * np.array([\n",
    "            [1, exp_neg],\n",
    "            [exp_pos, 1]\n",
    "        ])"
   ],
   "id": "3a67e617ed90723b",
   "outputs": [
    {
     "data": {
      "text/plain": [
       "array([[ 0.70710678+0.j        , -0.30437969-0.63824212j],\n",
       "       [ 0.30437969-0.63824212j,  0.70710678+0.j        ]])"
      ]
     },
     "execution_count": 13,
     "metadata": {},
     "output_type": "execute_result"
    }
   ],
   "execution_count": 13
  },
  {
   "metadata": {
    "ExecuteTime": {
     "end_time": "2025-03-04T07:26:11.044437Z",
     "start_time": "2025-03-04T07:26:11.039689Z"
    }
   },
   "cell_type": "code",
   "source": [
    "phi1=0.2455\n",
    "phi2=0.4157\n",
    "theta=0.11545\n",
    "q1=0\n",
    "q2=1\n",
    "braket_Circuit().ms(q1, q2, phi1, phi2,theta).to_unitary()"
   ],
   "id": "49379cb71f296641",
   "outputs": [
    {
     "data": {
      "text/plain": [
       "array([[ 0.99833437+0.j        ,  0.        +0.j        ,\n",
       "         0.        +0.j        , -0.03542718-0.0455345j ],\n",
       "       [ 0.        +0.j        ,  0.99833437+0.j        ,\n",
       "         0.009772  -0.05685934j,  0.        +0.j        ],\n",
       "       [ 0.        +0.j        , -0.009772  -0.05685934j,\n",
       "         0.99833437+0.j        ,  0.        +0.j        ],\n",
       "       [ 0.03542718-0.0455345j ,  0.        +0.j        ,\n",
       "         0.        +0.j        ,  0.99833437+0.j        ]])"
      ]
     },
     "execution_count": 14,
     "metadata": {},
     "output_type": "execute_result"
    }
   ],
   "execution_count": 14
  },
  {
   "metadata": {
    "ExecuteTime": {
     "end_time": "2025-03-04T07:26:11.049988Z",
     "start_time": "2025-03-04T07:26:11.044437Z"
    }
   },
   "cell_type": "code",
   "source": [
    "phi0=phi1\n",
    "phi1=phi2\n",
    "\n",
    "cos_theta = np.cos(theta/2)\n",
    "sin_theta = np.sin(theta/2)\n",
    "\n",
    "e_pos = -1j * np.exp(1j * (phi0 + phi1))\n",
    "e_neg = -1j * np.exp(-1j * (phi0 + phi1))\n",
    "e_diff_pos = -1j * np.exp(1j * (phi0 - phi1))\n",
    "e_diff_neg = -1j * np.exp(-1j * (phi0 - phi1))\n",
    "\n",
    "np.array([\n",
    "    [cos_theta, 0, 0, e_neg * sin_theta],\n",
    "    [0, cos_theta, e_diff_neg * sin_theta, 0],\n",
    "    [0, e_diff_pos * sin_theta, cos_theta, 0],\n",
    "    [e_pos * sin_theta, 0, 0, cos_theta]\n",
    "])"
   ],
   "id": "e4099e3061c6081c",
   "outputs": [
    {
     "data": {
      "text/plain": [
       "array([[ 0.99833437+0.j        ,  0.        +0.j        ,\n",
       "         0.        +0.j        , -0.03542718-0.0455345j ],\n",
       "       [ 0.        +0.j        ,  0.99833437+0.j        ,\n",
       "         0.009772  -0.05685934j,  0.        +0.j        ],\n",
       "       [ 0.        +0.j        , -0.009772  -0.05685934j,\n",
       "         0.99833437+0.j        ,  0.        +0.j        ],\n",
       "       [ 0.03542718-0.0455345j ,  0.        +0.j        ,\n",
       "         0.        +0.j        ,  0.99833437+0.j        ]])"
      ]
     },
     "execution_count": 15,
     "metadata": {},
     "output_type": "execute_result"
    }
   ],
   "execution_count": 15
  },
  {
   "metadata": {
    "ExecuteTime": {
     "end_time": "2025-03-04T07:26:11.054035Z",
     "start_time": "2025-03-04T07:26:11.049988Z"
    }
   },
   "cell_type": "code",
   "source": "braket_Circuit().zz(0,1,np.pi).to_unitary()",
   "id": "1653b3ad1b98af09",
   "outputs": [
    {
     "data": {
      "text/plain": [
       "array([[6.123234e-17-1.j, 0.000000e+00+0.j, 0.000000e+00+0.j,\n",
       "        0.000000e+00+0.j],\n",
       "       [0.000000e+00+0.j, 6.123234e-17+1.j, 0.000000e+00+0.j,\n",
       "        0.000000e+00+0.j],\n",
       "       [0.000000e+00+0.j, 0.000000e+00+0.j, 6.123234e-17+1.j,\n",
       "        0.000000e+00+0.j],\n",
       "       [0.000000e+00+0.j, 0.000000e+00+0.j, 0.000000e+00+0.j,\n",
       "        6.123234e-17-1.j]])"
      ]
     },
     "execution_count": 16,
     "metadata": {},
     "output_type": "execute_result"
    }
   ],
   "execution_count": 16
  },
  {
   "metadata": {
    "ExecuteTime": {
     "end_time": "2025-03-04T07:23:04.829525Z",
     "start_time": "2025-03-04T07:23:04.826682Z"
    }
   },
   "cell_type": "code",
   "source": "",
   "id": "c87356affa8d0581",
   "outputs": [],
   "execution_count": 17
  },
  {
   "metadata": {},
   "cell_type": "code",
   "outputs": [],
   "execution_count": null,
   "source": "",
   "id": "aa6be7de65628c00"
  }
 ],
 "metadata": {
  "kernelspec": {
   "display_name": "Python 3",
   "language": "python",
   "name": "python3"
  },
  "language_info": {
   "codemirror_mode": {
    "name": "ipython",
    "version": 2
   },
   "file_extension": ".py",
   "mimetype": "text/x-python",
   "name": "python",
   "nbconvert_exporter": "python",
   "pygments_lexer": "ipython2",
   "version": "2.7.6"
  }
 },
 "nbformat": 4,
 "nbformat_minor": 5
}

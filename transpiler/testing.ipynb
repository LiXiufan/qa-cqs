{
 "cells": [
  {
   "metadata": {},
   "cell_type": "markdown",
   "source": "# IMPORT",
   "id": "3aa5ae233927d680"
  },
  {
   "metadata": {
    "ExecuteTime": {
     "end_time": "2025-03-05T06:12:05.210951Z",
     "start_time": "2025-03-05T06:12:02.277359Z"
    }
   },
   "cell_type": "code",
   "source": [
    "from __future__ import annotations\n",
    "from qiskit import QuantumCircuit\n",
    "from transpiler.qasm2_reader import load_qasm, from_qasm2_to_braket\n",
    "from bqskit.ext import bqskit_to_qiskit,qiskit_to_bqskit\n",
    "from qiskit_aer import AerSimulator\n",
    "from qiskit import transpile\n",
    "import pennylane as qml\n",
    "import numpy as np\n",
    "from braket.devices import LocalSimulator\n",
    "from braket.circuits import Circuit as braket_Circuit\n",
    "from transpiler.transpile import transpile_circuit as bqskit_transpiler\n",
    "from transpiler.transpile import get_noisy_counts\n",
    "from qiskit.circuit.random import random_circuit"
   ],
   "id": "5239e8e15a8ef487",
   "outputs": [],
   "execution_count": 1
  },
  {
   "metadata": {
    "ExecuteTime": {
     "end_time": "2025-03-05T06:16:39.634452Z",
     "start_time": "2025-03-05T06:16:39.586145Z"
    }
   },
   "cell_type": "code",
   "source": [
    "# Create a 4-qubit quantum circuit\n",
    "# Generate a random 4-qubit circuit with a depth of 5\n",
    "qc = random_circuit(4,max_operands=2, depth=3, measure=False)\n",
    "\n",
    "    \n",
    "qc_qiskit = qc\n",
    "qc_bqskit=qiskit_to_bqskit(qc)\n",
    "print(qc)\n",
    "\n",
    "# Initialize the latest AerSimulator\n",
    "simulator = AerSimulator(method=\"statevector\")\n",
    "\n",
    "# Transpile the circuit for the simulator\n",
    "qc_transpiled = transpile(qc_qiskit, simulator)\n",
    "\n",
    "# Add instruction to save statevector\n",
    "qc_transpiled.save_statevector()\n",
    "\n",
    "# Run the circuit in statevector mode\n",
    "result = simulator.run(qc_transpiled).result()\n",
    "\n",
    "# Get the statevector\n",
    "statevector = result.get_statevector()\n",
    "\n",
    "# Print the statevector\n",
    "print(\"Not transpiled result:\",np.abs(np.array(statevector))**2)#check"
   ],
   "id": "9e396da876811bda",
   "outputs": [
    {
     "name": "stdout",
     "output_type": "stream",
     "text": [
      "                 ┌────┐                       ┌───┐                  »\n",
      "q_0: ────────────┤ √X ├───────────────────────┤ H ├──────────────────»\n",
      "             ┌───┴────┴───┐        ┌──────────┴───┴──────────┐┌─────┐»\n",
      "q_1: ────────┤ Rx(1.7915) ├────────┤ U(1.2147,1.2307,4.1169) ├┤ Tdg ├»\n",
      "             └───┬───┬────┘        └──────┬────────────┬─────┘└─────┘»\n",
      "q_2: ────────────┤ S ├────────────────────┤ Rx(1.9395) ├─────────────»\n",
      "     ┌───────────┴───┴────────────┐       ├───────────┬┘       ┌───┐ »\n",
      "q_3: ┤ U3(5.0314,6.2677,0.014352) ├───────┤ P(5.2392) ├────────┤ Z ├─»\n",
      "     └────────────────────────────┘       └───────────┘        └───┘ »\n",
      "«                  \n",
      "«q_0: ─■───────────\n",
      "«      │           \n",
      "«q_1: ─┼───────────\n",
      "«      │ZZ(4.5347) \n",
      "«q_2: ─■───────────\n",
      "«                  \n",
      "«q_3: ─────────────\n",
      "«                  \n",
      "Not transpiled result: [0.0882542  0.0882542  0.01676195 0.01676195 0.18773259 0.18773259\n",
      " 0.03565568 0.03565568 0.04611397 0.04611397 0.00875833 0.00875833\n",
      " 0.09809272 0.09809272 0.01863056 0.01863056]\n"
     ]
    }
   ],
   "execution_count": 11
  },
  {
   "metadata": {
    "ExecuteTime": {
     "end_time": "2025-03-05T06:16:50.317749Z",
     "start_time": "2025-03-05T06:16:43.532072Z"
    }
   },
   "cell_type": "code",
   "source": [
    "# Step 3: Transpile the circuit to MS gates\n",
    "qc_qiskit_transpiled = bqskit_transpiler(qc_qiskit,device=\"Aria\",optimization_level=2,synthesis_epsilon=1e-4)\n",
    "print(qc_qiskit_transpiled)"
   ],
   "id": "cd5cbfe677b3c414",
   "outputs": [
    {
     "name": "stdout",
     "output_type": "stream",
     "text": [
      "      ┌─────────────┐ ┌─────────────┐                 »\n",
      "q_0: ─┤ Gpi(3.9897) ├─┤ Gpi(2.8905) ├─────────────────»\n",
      "     ┌┴─────────────┴┐├─────────────┴┐┌─────────────┐ »\n",
      "q_1: ┤ Gpi2(0.77019) ├┤ Gpi2(1.5922) ├┤ Gpi(3.7384) ├─»\n",
      "     └┬─────────────┬┘├──────────────┤├─────────────┤ »\n",
      "q_2: ─┤ Gpi(4.5998) ├─┤ Gpi2(2.9164) ├┤ Gpi(1.3404) ├─»\n",
      "      ├─────────────┤ ├──────────────┤├─────────────┴┐»\n",
      "q_3: ─┤ Gpi(3.5495) ├─┤ Gpi2(3.9718) ├┤ Gpi2(5.2236) ├»\n",
      "      └─────────────┘ └──────────────┘└──────────────┘»\n",
      "«     ┌───────────────────────────────────┐ ┌─────────────┐ ┌──────────────┐\n",
      "«q_0: ┤0                                  ├─┤ Gpi(4.3986) ├─┤ Gpi2(3.1416) ├\n",
      "«     │                                   │ └─────────────┘ └──────────────┘\n",
      "«q_1: ┤  Partialms(0.94326,3.2747,1.3931) ├─────────────────────────────────\n",
      "«     │                                   │┌───────────────┐┌──────────────┐\n",
      "«q_2: ┤1                                  ├┤ Gpi(0.066548) ├┤ Gpi2(4.7124) ├\n",
      "«     └───────────────────────────────────┘└───────────────┘└──────────────┘\n",
      "«q_3: ──────────────────────────────────────────────────────────────────────\n",
      "«                                                                           \n"
     ]
    }
   ],
   "execution_count": 12
  },
  {
   "metadata": {},
   "cell_type": "markdown",
   "source": "# Convert Qiskit circuit to PennyLane\n",
   "id": "1937f539446cabc7"
  },
  {
   "metadata": {
    "ExecuteTime": {
     "end_time": "2025-03-05T06:16:53.183659Z",
     "start_time": "2025-03-05T06:16:53.165173Z"
    }
   },
   "cell_type": "code",
   "source": [
    "qml_circuit = qml.from_qiskit(qc_qiskit_transpiled)\n",
    "print(\"Transpiled result\",np.abs(qml.matrix(qml_circuit, wire_order=list(range(qc_qiskit.num_qubits)))().T[0])**2)#check\n",
    "print(\"Not transpiled result:\",np.abs(np.array(statevector))**2)#check"
   ],
   "id": "ae7d446581b3ed1b",
   "outputs": [
    {
     "name": "stdout",
     "output_type": "stream",
     "text": [
      "Transpiled result [0.08825422 0.04611398 0.18773258 0.09809271 0.01676195 0.00875834\n",
      " 0.03565567 0.01863055 0.08825422 0.04611398 0.18773258 0.09809271\n",
      " 0.01676195 0.00875834 0.03565567 0.01863055]\n",
      "Not transpiled result: [0.0882542  0.0882542  0.01676195 0.01676195 0.18773259 0.18773259\n",
      " 0.03565568 0.03565568 0.04611397 0.04611397 0.00875833 0.00875833\n",
      " 0.09809272 0.09809272 0.01863056 0.01863056]\n"
     ]
    }
   ],
   "execution_count": 13
  },
  {
   "metadata": {},
   "cell_type": "markdown",
   "source": "# NOISE",
   "id": "35594a34321503b"
  },
  {
   "metadata": {
    "ExecuteTime": {
     "end_time": "2025-03-05T06:15:40.360547Z",
     "start_time": "2025-03-05T06:15:39.632110Z"
    }
   },
   "cell_type": "code",
   "source": [
    "print(\"Noise 0     simulation result:\", get_noisy_counts(qc_qiskit_transpiled,0.00,0.000,0.00))\n",
    "print(\"Noisy     simulation result:\", get_noisy_counts(qc_qiskit_transpiled,0.01,0.001,0.01))\n",
    "print(\"Noiseless simulation result:\",np.abs(qml.matrix(qml_circuit, wire_order=[0, 1])().T[0])**2)#check"
   ],
   "id": "ec026fb11c967378",
   "outputs": [
    {
     "name": "stdout",
     "output_type": "stream",
     "text": [
      "Noise 0     simulation result: [1. 0. 0. 0. 0. 0. 0. 0. 0. 0. 0. 0. 0. 0. 0. 0.]\n"
     ]
    },
    {
     "ename": "DeviceError",
     "evalue": "Shots must be a single non-negative integer or a sequence of non-negative integers.",
     "output_type": "error",
     "traceback": [
      "\u001B[1;31m---------------------------------------------------------------------------\u001B[0m",
      "\u001B[1;31mDeviceError\u001B[0m                               Traceback (most recent call last)",
      "Cell \u001B[1;32mIn[9], line 2\u001B[0m\n\u001B[0;32m      1\u001B[0m \u001B[38;5;28mprint\u001B[39m(\u001B[38;5;124m\"\u001B[39m\u001B[38;5;124mNoise 0     simulation result:\u001B[39m\u001B[38;5;124m\"\u001B[39m, get_noisy_counts(qc_qiskit_transpiled,\u001B[38;5;241m0.00\u001B[39m,\u001B[38;5;241m0.000\u001B[39m,\u001B[38;5;241m0.00\u001B[39m))\n\u001B[1;32m----> 2\u001B[0m \u001B[38;5;28mprint\u001B[39m(\u001B[38;5;124m\"\u001B[39m\u001B[38;5;124mNoisy     simulation result:\u001B[39m\u001B[38;5;124m\"\u001B[39m, \u001B[43mget_noisy_counts\u001B[49m\u001B[43m(\u001B[49m\u001B[43mqc_qiskit_transpiled\u001B[49m\u001B[43m,\u001B[49m\u001B[38;5;241;43m0.01\u001B[39;49m\u001B[43m,\u001B[49m\u001B[38;5;241;43m0.001\u001B[39;49m\u001B[43m,\u001B[49m\u001B[38;5;241;43m0.01\u001B[39;49m\u001B[43m)\u001B[49m)\n\u001B[0;32m      3\u001B[0m \u001B[38;5;28mprint\u001B[39m(\u001B[38;5;124m\"\u001B[39m\u001B[38;5;124mNoiseless simulation result:\u001B[39m\u001B[38;5;124m\"\u001B[39m,np\u001B[38;5;241m.\u001B[39mabs(qml\u001B[38;5;241m.\u001B[39mmatrix(qml_circuit, wire_order\u001B[38;5;241m=\u001B[39m[\u001B[38;5;241m0\u001B[39m, \u001B[38;5;241m1\u001B[39m])()\u001B[38;5;241m.\u001B[39mT[\u001B[38;5;241m0\u001B[39m])\u001B[38;5;241m*\u001B[39m\u001B[38;5;241m*\u001B[39m\u001B[38;5;241m2\u001B[39m)\u001B[38;5;66;03m#check\u001B[39;00m\n",
      "File \u001B[1;32m~\\PycharmProjects\\CQS_singapore\\transpiler\\transpile.py:88\u001B[0m, in \u001B[0;36mget_noisy_counts\u001B[1;34m(qc, shots, noise_level_two_qubit, noise_level_one_qubit, readout_error)\u001B[0m\n\u001B[0;32m     85\u001B[0m number_of_qubits \u001B[38;5;241m=\u001B[39m qc\u001B[38;5;241m.\u001B[39mnum_qubits\n\u001B[0;32m     87\u001B[0m \u001B[38;5;66;03m# Define a QNode using PennyLane's mixed-state simulator (supports noise)\u001B[39;00m\n\u001B[1;32m---> 88\u001B[0m \u001B[38;5;129m@qml\u001B[39m\u001B[38;5;241m.\u001B[39mqnode(\u001B[43mqml\u001B[49m\u001B[38;5;241;43m.\u001B[39;49m\u001B[43mdevice\u001B[49m\u001B[43m(\u001B[49m\u001B[38;5;124;43m\"\u001B[39;49m\u001B[38;5;124;43mdefault.mixed\u001B[39;49m\u001B[38;5;124;43m\"\u001B[39;49m\u001B[43m,\u001B[49m\u001B[43m \u001B[49m\u001B[43mwires\u001B[49m\u001B[38;5;241;43m=\u001B[39;49m\u001B[43mnumber_of_qubits\u001B[49m\u001B[43m,\u001B[49m\u001B[43m \u001B[49m\u001B[43mshots\u001B[49m\u001B[38;5;241;43m=\u001B[39;49m\u001B[43mshots\u001B[49m\u001B[43m)\u001B[49m)\n\u001B[0;32m     89\u001B[0m \u001B[38;5;28;01mdef\u001B[39;00m\u001B[38;5;250m \u001B[39m\u001B[38;5;21mnoisy_circuit\u001B[39m():\n\u001B[0;32m     90\u001B[0m     \u001B[38;5;66;03m# Convert the PennyLane circuit into a tape (sequence of operations)\u001B[39;00m\n\u001B[0;32m     91\u001B[0m     tape \u001B[38;5;241m=\u001B[39m qml\u001B[38;5;241m.\u001B[39mtransforms\u001B[38;5;241m.\u001B[39mmake_tape(qml_circuit)()\n\u001B[0;32m     93\u001B[0m     \u001B[38;5;66;03m# Iterate through all operations in the circuit\u001B[39;00m\n",
      "File \u001B[1;32m~\\AppData\\Local\\pypoetry\\Cache\\virtualenvs\\CQS_singapore\\Lib\\site-packages\\pennylane\\devices\\device_constructor.py:263\u001B[0m, in \u001B[0;36mdevice\u001B[1;34m(name, *args, **kwargs)\u001B[0m\n\u001B[0;32m    257\u001B[0m         \u001B[38;5;28;01mraise\u001B[39;00m qml\u001B[38;5;241m.\u001B[39mDeviceError(\n\u001B[0;32m    258\u001B[0m             \u001B[38;5;124mf\u001B[39m\u001B[38;5;124m\"\u001B[39m\u001B[38;5;124mThe \u001B[39m\u001B[38;5;132;01m{\u001B[39;00mname\u001B[38;5;132;01m}\u001B[39;00m\u001B[38;5;124m plugin requires PennyLane versions \u001B[39m\u001B[38;5;132;01m{\u001B[39;00mrequired_versions\u001B[38;5;132;01m}\u001B[39;00m\u001B[38;5;124m, \u001B[39m\u001B[38;5;124m\"\u001B[39m\n\u001B[0;32m    259\u001B[0m             \u001B[38;5;124mf\u001B[39m\u001B[38;5;124m\"\u001B[39m\u001B[38;5;124mhowever PennyLane version \u001B[39m\u001B[38;5;132;01m{\u001B[39;00mqml\u001B[38;5;241m.\u001B[39mversion()\u001B[38;5;132;01m}\u001B[39;00m\u001B[38;5;124m is installed.\u001B[39m\u001B[38;5;124m\"\u001B[39m\n\u001B[0;32m    260\u001B[0m         )\n\u001B[0;32m    262\u001B[0m \u001B[38;5;66;03m# Construct the device\u001B[39;00m\n\u001B[1;32m--> 263\u001B[0m dev \u001B[38;5;241m=\u001B[39m \u001B[43mplugin_device_class\u001B[49m\u001B[43m(\u001B[49m\u001B[38;5;241;43m*\u001B[39;49m\u001B[43margs\u001B[49m\u001B[43m,\u001B[49m\u001B[43m \u001B[49m\u001B[38;5;241;43m*\u001B[39;49m\u001B[38;5;241;43m*\u001B[39;49m\u001B[43moptions\u001B[49m\u001B[43m)\u001B[49m\n\u001B[0;32m    265\u001B[0m \u001B[38;5;66;03m# Once the device is constructed, we set its custom expansion function if\u001B[39;00m\n\u001B[0;32m    266\u001B[0m \u001B[38;5;66;03m# any custom decompositions were specified.\u001B[39;00m\n\u001B[0;32m    267\u001B[0m \u001B[38;5;28;01mif\u001B[39;00m custom_decomps \u001B[38;5;129;01mis\u001B[39;00m \u001B[38;5;129;01mnot\u001B[39;00m \u001B[38;5;28;01mNone\u001B[39;00m:\n",
      "File \u001B[1;32m~\\AppData\\Local\\pypoetry\\Cache\\virtualenvs\\CQS_singapore\\Lib\\site-packages\\pennylane\\logging\\decorators.py:65\u001B[0m, in \u001B[0;36mlog_string_debug_func.<locals>.wrapper_exit\u001B[1;34m(*args, **kwargs)\u001B[0m\n\u001B[0;32m     63\u001B[0m \u001B[38;5;129m@wraps\u001B[39m(func)\n\u001B[0;32m     64\u001B[0m \u001B[38;5;28;01mdef\u001B[39;00m\u001B[38;5;250m \u001B[39m\u001B[38;5;21mwrapper_exit\u001B[39m(\u001B[38;5;241m*\u001B[39margs, \u001B[38;5;241m*\u001B[39m\u001B[38;5;241m*\u001B[39mkwargs):\n\u001B[1;32m---> 65\u001B[0m     output \u001B[38;5;241m=\u001B[39m \u001B[43mfunc\u001B[49m\u001B[43m(\u001B[49m\u001B[38;5;241;43m*\u001B[39;49m\u001B[43margs\u001B[49m\u001B[43m,\u001B[49m\u001B[43m \u001B[49m\u001B[38;5;241;43m*\u001B[39;49m\u001B[38;5;241;43m*\u001B[39;49m\u001B[43mkwargs\u001B[49m\u001B[43m)\u001B[49m\n\u001B[0;32m     66\u001B[0m     \u001B[38;5;28;01mif\u001B[39;00m lgr\u001B[38;5;241m.\u001B[39misEnabledFor(log_level):  \u001B[38;5;66;03m# pragma: no cover\u001B[39;00m\n\u001B[0;32m     67\u001B[0m         f_string \u001B[38;5;241m=\u001B[39m _get_bound_signature(\u001B[38;5;241m*\u001B[39margs, \u001B[38;5;241m*\u001B[39m\u001B[38;5;241m*\u001B[39mkwargs)\n",
      "File \u001B[1;32m~\\AppData\\Local\\pypoetry\\Cache\\virtualenvs\\CQS_singapore\\Lib\\site-packages\\pennylane\\devices\\default_mixed.py:298\u001B[0m, in \u001B[0;36mDefaultMixed.__init__\u001B[1;34m(self, wires, r_dtype, c_dtype, shots, analytic, readout_prob)\u001B[0m\n\u001B[0;32m    295\u001B[0m         \u001B[38;5;28;01mraise\u001B[39;00m \u001B[38;5;167;01mValueError\u001B[39;00m(\u001B[38;5;124m\"\u001B[39m\u001B[38;5;124mThe readout error probability should be in the range [0,1].\u001B[39m\u001B[38;5;124m\"\u001B[39m)\n\u001B[0;32m    297\u001B[0m \u001B[38;5;66;03m# call QubitDevice init\u001B[39;00m\n\u001B[1;32m--> 298\u001B[0m \u001B[38;5;28;43msuper\u001B[39;49m\u001B[43m(\u001B[49m\u001B[43m)\u001B[49m\u001B[38;5;241;43m.\u001B[39;49m\u001B[38;5;21;43m__init__\u001B[39;49m\u001B[43m(\u001B[49m\u001B[43mwires\u001B[49m\u001B[43m,\u001B[49m\u001B[43m \u001B[49m\u001B[43mshots\u001B[49m\u001B[43m,\u001B[49m\u001B[43m \u001B[49m\u001B[43mr_dtype\u001B[49m\u001B[38;5;241;43m=\u001B[39;49m\u001B[43mr_dtype\u001B[49m\u001B[43m,\u001B[49m\u001B[43m \u001B[49m\u001B[43mc_dtype\u001B[49m\u001B[38;5;241;43m=\u001B[39;49m\u001B[43mc_dtype\u001B[49m\u001B[43m,\u001B[49m\u001B[43m \u001B[49m\u001B[43manalytic\u001B[49m\u001B[38;5;241;43m=\u001B[39;49m\u001B[43manalytic\u001B[49m\u001B[43m)\u001B[49m\n\u001B[0;32m    299\u001B[0m \u001B[38;5;28mself\u001B[39m\u001B[38;5;241m.\u001B[39m_debugger \u001B[38;5;241m=\u001B[39m \u001B[38;5;28;01mNone\u001B[39;00m\n\u001B[0;32m    301\u001B[0m \u001B[38;5;66;03m# Create the initial state.\u001B[39;00m\n",
      "File \u001B[1;32m~\\AppData\\Local\\pypoetry\\Cache\\virtualenvs\\CQS_singapore\\Lib\\site-packages\\pennylane\\devices\\_qubit_device.py:184\u001B[0m, in \u001B[0;36mQubitDevice.__init__\u001B[1;34m(self, wires, shots, r_dtype, c_dtype, analytic)\u001B[0m\n\u001B[0;32m    181\u001B[0m \u001B[38;5;28;01mdef\u001B[39;00m\u001B[38;5;250m \u001B[39m\u001B[38;5;21m__init__\u001B[39m(\n\u001B[0;32m    182\u001B[0m     \u001B[38;5;28mself\u001B[39m, wires\u001B[38;5;241m=\u001B[39m\u001B[38;5;241m1\u001B[39m, shots\u001B[38;5;241m=\u001B[39m\u001B[38;5;28;01mNone\u001B[39;00m, \u001B[38;5;241m*\u001B[39m, r_dtype\u001B[38;5;241m=\u001B[39mnp\u001B[38;5;241m.\u001B[39mfloat64, c_dtype\u001B[38;5;241m=\u001B[39mnp\u001B[38;5;241m.\u001B[39mcomplex128, analytic\u001B[38;5;241m=\u001B[39m\u001B[38;5;28;01mNone\u001B[39;00m\n\u001B[0;32m    183\u001B[0m ):\n\u001B[1;32m--> 184\u001B[0m     \u001B[38;5;28;43msuper\u001B[39;49m\u001B[43m(\u001B[49m\u001B[43m)\u001B[49m\u001B[38;5;241;43m.\u001B[39;49m\u001B[38;5;21;43m__init__\u001B[39;49m\u001B[43m(\u001B[49m\u001B[43mwires\u001B[49m\u001B[38;5;241;43m=\u001B[39;49m\u001B[43mwires\u001B[49m\u001B[43m,\u001B[49m\u001B[43m \u001B[49m\u001B[43mshots\u001B[49m\u001B[38;5;241;43m=\u001B[39;49m\u001B[43mshots\u001B[49m\u001B[43m,\u001B[49m\u001B[43m \u001B[49m\u001B[43manalytic\u001B[49m\u001B[38;5;241;43m=\u001B[39;49m\u001B[43manalytic\u001B[49m\u001B[43m)\u001B[49m\n\u001B[0;32m    186\u001B[0m     \u001B[38;5;28;01mif\u001B[39;00m \u001B[38;5;124m\"\u001B[39m\u001B[38;5;124mfloat\u001B[39m\u001B[38;5;124m\"\u001B[39m \u001B[38;5;129;01mnot\u001B[39;00m \u001B[38;5;129;01min\u001B[39;00m \u001B[38;5;28mstr\u001B[39m(r_dtype):\n\u001B[0;32m    187\u001B[0m         \u001B[38;5;28;01mraise\u001B[39;00m qml\u001B[38;5;241m.\u001B[39mDeviceError(\u001B[38;5;124m\"\u001B[39m\u001B[38;5;124mReal datatype must be a floating point type.\u001B[39m\u001B[38;5;124m\"\u001B[39m)\n",
      "File \u001B[1;32m~\\AppData\\Local\\pypoetry\\Cache\\virtualenvs\\CQS_singapore\\Lib\\site-packages\\pennylane\\devices\\_legacy_device.py:138\u001B[0m, in \u001B[0;36mDevice.__init__\u001B[1;34m(self, wires, shots, analytic)\u001B[0m\n\u001B[0;32m    137\u001B[0m \u001B[38;5;28;01mdef\u001B[39;00m\u001B[38;5;250m \u001B[39m\u001B[38;5;21m__init__\u001B[39m(\u001B[38;5;28mself\u001B[39m, wires\u001B[38;5;241m=\u001B[39m\u001B[38;5;241m1\u001B[39m, shots\u001B[38;5;241m=\u001B[39m\u001B[38;5;241m1000\u001B[39m, \u001B[38;5;241m*\u001B[39m, analytic\u001B[38;5;241m=\u001B[39m\u001B[38;5;28;01mNone\u001B[39;00m):\n\u001B[1;32m--> 138\u001B[0m     \u001B[38;5;28;43mself\u001B[39;49m\u001B[38;5;241;43m.\u001B[39;49m\u001B[43mshots\u001B[49m \u001B[38;5;241m=\u001B[39m shots\n\u001B[0;32m    140\u001B[0m     \u001B[38;5;28;01mif\u001B[39;00m analytic \u001B[38;5;129;01mis\u001B[39;00m \u001B[38;5;129;01mnot\u001B[39;00m \u001B[38;5;28;01mNone\u001B[39;00m:\n\u001B[0;32m    141\u001B[0m         msg \u001B[38;5;241m=\u001B[39m (\n\u001B[0;32m    142\u001B[0m             \u001B[38;5;124m\"\u001B[39m\u001B[38;5;124mThe analytic argument has been replaced by shots=None. \u001B[39m\u001B[38;5;124m\"\u001B[39m\n\u001B[0;32m    143\u001B[0m             \u001B[38;5;124m\"\u001B[39m\u001B[38;5;124mPlease use shots=None instead of analytic=True.\u001B[39m\u001B[38;5;124m\"\u001B[39m\n\u001B[0;32m    144\u001B[0m         )\n",
      "File \u001B[1;32m~\\AppData\\Local\\pypoetry\\Cache\\virtualenvs\\CQS_singapore\\Lib\\site-packages\\pennylane\\devices\\_legacy_device.py:287\u001B[0m, in \u001B[0;36mDevice.shots\u001B[1;34m(self, shots)\u001B[0m\n\u001B[0;32m    284\u001B[0m     \u001B[38;5;28mself\u001B[39m\u001B[38;5;241m.\u001B[39m_raw_shot_sequence \u001B[38;5;241m=\u001B[39m shots\n\u001B[0;32m    286\u001B[0m \u001B[38;5;28;01melse\u001B[39;00m:\n\u001B[1;32m--> 287\u001B[0m     \u001B[38;5;28;01mraise\u001B[39;00m qml\u001B[38;5;241m.\u001B[39mDeviceError(\n\u001B[0;32m    288\u001B[0m         \u001B[38;5;124m\"\u001B[39m\u001B[38;5;124mShots must be a single non-negative integer or a sequence of non-negative integers.\u001B[39m\u001B[38;5;124m\"\u001B[39m\n\u001B[0;32m    289\u001B[0m     )\n",
      "\u001B[1;31mDeviceError\u001B[0m: Shots must be a single non-negative integer or a sequence of non-negative integers."
     ]
    }
   ],
   "execution_count": 9
  },
  {
   "metadata": {},
   "cell_type": "markdown",
   "source": "# Vibratium",
   "id": "47ee7607c8c42166"
  },
  {
   "metadata": {
    "ExecuteTime": {
     "end_time": "2025-03-04T08:16:15.300113Z",
     "start_time": "2025-03-04T08:16:15.294592Z"
    }
   },
   "cell_type": "code",
   "source": "bracket_qc=from_qasm2_to_braket(\"circuit.qasm\")\n",
   "id": "caf64fc885ec272d",
   "outputs": [],
   "execution_count": 22
  },
  {
   "metadata": {
    "ExecuteTime": {
     "end_time": "2025-03-04T08:16:15.814433Z",
     "start_time": "2025-03-04T08:16:15.804780Z"
    }
   },
   "cell_type": "code",
   "source": "print(bracket_qc)",
   "id": "5859389cedf46b0c",
   "outputs": [
    {
     "name": "stdout",
     "output_type": "stream",
     "text": [
      "T  : │        0        │      1      │      2       │           3            │      4       │      5       │      6      │           7            │      8       │      9       │      10      │      11       │ 12  │\n",
      "                        ┌───────────┐ ┌────────────┐ ┌──────────────────────┐ ┌────────────┐ ┌────────────┐ ┌───────────┐ ┌──────────────────────┐ ┌────────────┐ ┌────────────┐ ┌────────────┐                 ┌───┐ \n",
      "q0 : ───StartVerbatim───┤ GPi(3.93) ├─┤ GPi2(3.14) ├─┤ MS(1.16, 3.06, 1.32) ├─┤ GPi2(0.64) ├─┤ GPi2(6.20) ├─┤ GPi(3.12) ├─┤ MS(1.61, 0.10, 1.37) ├─┤ GPi2(1.19) ├─┤ GPi2(1.24) ├─┤ GPi2(5.58) ├───EndVerbatim───┤ M ├─\n",
      "              ║         └───────────┘ └────────────┘ └──────────┬───────────┘ └────────────┘ └────────────┘ └───────────┘ └──────────┬───────────┘ └────────────┘ └────────────┘ └────────────┘        ║        └───┘ \n",
      "              ║         ┌───────────┐                ┌──────────┴───────────┐ ┌────────────┐                              ┌──────────┴───────────┐ ┌───────────┐  ┌────────────┐ ┌────────────┐        ║        ┌───┐ \n",
      "q1 : ─────────╨─────────┤ GPi(3.97) ├────────────────┤ MS(1.16, 3.06, 1.32) ├─┤ GPi2(1.01) ├──────────────────────────────┤ MS(1.61, 0.10, 1.37) ├─┤ GPi(0.22) ├──┤ GPi2(5.17) ├─┤ GPi2(4.20) ├────────╨────────┤ M ├─\n",
      "                        └───────────┘                └──────────────────────┘ └────────────┘                              └──────────────────────┘ └───────────┘  └────────────┘ └────────────┘                 └───┘ \n",
      "T  : │        0        │      1      │      2       │           3            │      4       │      5       │      6      │           7            │      8       │      9       │      10      │      11       │ 12  │\n"
     ]
    }
   ],
   "execution_count": 23
  },
  {
   "metadata": {
    "ExecuteTime": {
     "end_time": "2025-03-04T08:16:20.715818Z",
     "start_time": "2025-03-04T08:16:20.174699Z"
    }
   },
   "cell_type": "code",
   "source": [
    "device = LocalSimulator() # Choose the local simulator\n",
    "shots = 100000  # Number of times to execute the circuit\n",
    "\n",
    "result = device.run(bracket_qc, shots=shots).result()\n",
    "counts = result.measurement_probabilities  # Get the shot results\n",
    "\n",
    "print(counts)  # Dictionary {bitstring: counts}\n",
    "print(\"Noiseless simulation result:\",np.abs(qml.matrix(qml_circuit, wire_order=[0, 1])().T[0])**2)#check"
   ],
   "id": "1a606e1eb436590a",
   "outputs": [
    {
     "name": "stdout",
     "output_type": "stream",
     "text": [
      "{'11': 0.35773, '01': 0.123, '10': 0.41512, '00': 0.10415}\n",
      "Noiseless simulation result: [0.10533638 0.12272559 0.41539821 0.35653982]\n"
     ]
    }
   ],
   "execution_count": 24
  },
  {
   "metadata": {},
   "cell_type": "markdown",
   "source": "# GATE braket TEST",
   "id": "4a0b30a416242bb1"
  },
  {
   "metadata": {
    "ExecuteTime": {
     "end_time": "2025-03-04T08:15:37.823256Z",
     "start_time": "2025-03-04T08:15:37.818706Z"
    }
   },
   "cell_type": "code",
   "source": "print(braket_Circuit().gpi(0,1))",
   "id": "f395d8c4299bec35",
   "outputs": [
    {
     "name": "stdout",
     "output_type": "stream",
     "text": [
      "T  : │    0     │\n",
      "      ┌────────┐ \n",
      "q0 : ─┤ GPi(1) ├─\n",
      "      └────────┘ \n",
      "T  : │    0     │\n"
     ]
    }
   ],
   "execution_count": 17
  },
  {
   "metadata": {
    "ExecuteTime": {
     "end_time": "2025-03-04T08:15:37.830948Z",
     "start_time": "2025-03-04T08:15:37.824273Z"
    }
   },
   "cell_type": "code",
   "source": "braket_Circuit().gpi(0,0.445).to_unitary()",
   "id": "c99a89f7f1d914e3",
   "outputs": [
    {
     "data": {
      "text/plain": [
       "array([[0.        +0.j        , 0.90261067-0.43045788j],\n",
       "       [0.90261067+0.43045788j, 0.        +0.j        ]])"
      ]
     },
     "execution_count": 18,
     "metadata": {},
     "output_type": "execute_result"
    }
   ],
   "execution_count": 18
  },
  {
   "metadata": {
    "ExecuteTime": {
     "end_time": "2025-03-04T08:15:37.837332Z",
     "start_time": "2025-03-04T08:15:37.830948Z"
    }
   },
   "cell_type": "code",
   "source": [
    "phi=0.445\n",
    "np.array([\n",
    "            [0, np.exp(-1j * phi)],\n",
    "            [np.exp(1j * phi), 0]\n",
    "        ])"
   ],
   "id": "fd0a1497eece21b8",
   "outputs": [
    {
     "data": {
      "text/plain": [
       "array([[0.        +0.j        , 0.90261067-0.43045788j],\n",
       "       [0.90261067+0.43045788j, 0.        +0.j        ]])"
      ]
     },
     "execution_count": 19,
     "metadata": {},
     "output_type": "execute_result"
    }
   ],
   "execution_count": 19
  },
  {
   "metadata": {
    "ExecuteTime": {
     "end_time": "2025-03-04T08:15:37.842387Z",
     "start_time": "2025-03-04T08:15:37.837332Z"
    }
   },
   "cell_type": "code",
   "source": "braket_Circuit().gpi2(0,0.445).to_unitary()",
   "id": "a4371070e494559d",
   "outputs": [
    {
     "data": {
      "text/plain": [
       "array([[ 0.70710678+0.j        , -0.30437969-0.63824212j],\n",
       "       [ 0.30437969-0.63824212j,  0.70710678+0.j        ]])"
      ]
     },
     "execution_count": 20,
     "metadata": {},
     "output_type": "execute_result"
    }
   ],
   "execution_count": 20
  },
  {
   "metadata": {
    "ExecuteTime": {
     "end_time": "2025-03-04T07:26:11.039689Z",
     "start_time": "2025-03-04T07:26:11.033399Z"
    }
   },
   "cell_type": "code",
   "source": [
    " # Extract the phase parameter\n",
    "factor = 1 / np.sqrt(2)  # Normalization factor\n",
    "exp_pos = -1j * np.exp(1j * phi)\n",
    "exp_neg = -1j * np.exp(-1j * phi)\n",
    "\n",
    "factor * np.array([\n",
    "            [1, exp_neg],\n",
    "            [exp_pos, 1]\n",
    "        ])"
   ],
   "id": "3a67e617ed90723b",
   "outputs": [
    {
     "data": {
      "text/plain": [
       "array([[ 0.70710678+0.j        , -0.30437969-0.63824212j],\n",
       "       [ 0.30437969-0.63824212j,  0.70710678+0.j        ]])"
      ]
     },
     "execution_count": 13,
     "metadata": {},
     "output_type": "execute_result"
    }
   ],
   "execution_count": 13
  },
  {
   "metadata": {
    "ExecuteTime": {
     "end_time": "2025-03-04T07:26:11.044437Z",
     "start_time": "2025-03-04T07:26:11.039689Z"
    }
   },
   "cell_type": "code",
   "source": [
    "phi1=0.2455\n",
    "phi2=0.4157\n",
    "theta=0.11545\n",
    "q1=0\n",
    "q2=1\n",
    "braket_Circuit().ms(q1, q2, phi1, phi2,theta).to_unitary()"
   ],
   "id": "49379cb71f296641",
   "outputs": [
    {
     "data": {
      "text/plain": [
       "array([[ 0.99833437+0.j        ,  0.        +0.j        ,\n",
       "         0.        +0.j        , -0.03542718-0.0455345j ],\n",
       "       [ 0.        +0.j        ,  0.99833437+0.j        ,\n",
       "         0.009772  -0.05685934j,  0.        +0.j        ],\n",
       "       [ 0.        +0.j        , -0.009772  -0.05685934j,\n",
       "         0.99833437+0.j        ,  0.        +0.j        ],\n",
       "       [ 0.03542718-0.0455345j ,  0.        +0.j        ,\n",
       "         0.        +0.j        ,  0.99833437+0.j        ]])"
      ]
     },
     "execution_count": 14,
     "metadata": {},
     "output_type": "execute_result"
    }
   ],
   "execution_count": 14
  },
  {
   "metadata": {
    "ExecuteTime": {
     "end_time": "2025-03-04T07:26:11.049988Z",
     "start_time": "2025-03-04T07:26:11.044437Z"
    }
   },
   "cell_type": "code",
   "source": [
    "phi0=phi1\n",
    "phi1=phi2\n",
    "\n",
    "cos_theta = np.cos(theta/2)\n",
    "sin_theta = np.sin(theta/2)\n",
    "\n",
    "e_pos = -1j * np.exp(1j * (phi0 + phi1))\n",
    "e_neg = -1j * np.exp(-1j * (phi0 + phi1))\n",
    "e_diff_pos = -1j * np.exp(1j * (phi0 - phi1))\n",
    "e_diff_neg = -1j * np.exp(-1j * (phi0 - phi1))\n",
    "\n",
    "np.array([\n",
    "    [cos_theta, 0, 0, e_neg * sin_theta],\n",
    "    [0, cos_theta, e_diff_neg * sin_theta, 0],\n",
    "    [0, e_diff_pos * sin_theta, cos_theta, 0],\n",
    "    [e_pos * sin_theta, 0, 0, cos_theta]\n",
    "])"
   ],
   "id": "e4099e3061c6081c",
   "outputs": [
    {
     "data": {
      "text/plain": [
       "array([[ 0.99833437+0.j        ,  0.        +0.j        ,\n",
       "         0.        +0.j        , -0.03542718-0.0455345j ],\n",
       "       [ 0.        +0.j        ,  0.99833437+0.j        ,\n",
       "         0.009772  -0.05685934j,  0.        +0.j        ],\n",
       "       [ 0.        +0.j        , -0.009772  -0.05685934j,\n",
       "         0.99833437+0.j        ,  0.        +0.j        ],\n",
       "       [ 0.03542718-0.0455345j ,  0.        +0.j        ,\n",
       "         0.        +0.j        ,  0.99833437+0.j        ]])"
      ]
     },
     "execution_count": 15,
     "metadata": {},
     "output_type": "execute_result"
    }
   ],
   "execution_count": 15
  },
  {
   "metadata": {
    "ExecuteTime": {
     "end_time": "2025-03-04T07:26:11.054035Z",
     "start_time": "2025-03-04T07:26:11.049988Z"
    }
   },
   "cell_type": "code",
   "source": "braket_Circuit().zz(0,1,np.pi).to_unitary()",
   "id": "1653b3ad1b98af09",
   "outputs": [
    {
     "data": {
      "text/plain": [
       "array([[6.123234e-17-1.j, 0.000000e+00+0.j, 0.000000e+00+0.j,\n",
       "        0.000000e+00+0.j],\n",
       "       [0.000000e+00+0.j, 6.123234e-17+1.j, 0.000000e+00+0.j,\n",
       "        0.000000e+00+0.j],\n",
       "       [0.000000e+00+0.j, 0.000000e+00+0.j, 6.123234e-17+1.j,\n",
       "        0.000000e+00+0.j],\n",
       "       [0.000000e+00+0.j, 0.000000e+00+0.j, 0.000000e+00+0.j,\n",
       "        6.123234e-17-1.j]])"
      ]
     },
     "execution_count": 16,
     "metadata": {},
     "output_type": "execute_result"
    }
   ],
   "execution_count": 16
  },
  {
   "metadata": {
    "ExecuteTime": {
     "end_time": "2025-03-04T07:23:04.829525Z",
     "start_time": "2025-03-04T07:23:04.826682Z"
    }
   },
   "cell_type": "code",
   "source": "",
   "id": "c87356affa8d0581",
   "outputs": [],
   "execution_count": 17
  },
  {
   "metadata": {},
   "cell_type": "code",
   "outputs": [],
   "execution_count": null,
   "source": "",
   "id": "aa6be7de65628c00"
  }
 ],
 "metadata": {
  "kernelspec": {
   "display_name": "Python 3",
   "language": "python",
   "name": "python3"
  },
  "language_info": {
   "codemirror_mode": {
    "name": "ipython",
    "version": 2
   },
   "file_extension": ".py",
   "mimetype": "text/x-python",
   "name": "python",
   "nbconvert_exporter": "python",
   "pygments_lexer": "ipython2",
   "version": "2.7.6"
  }
 },
 "nbformat": 4,
 "nbformat_minor": 5
}

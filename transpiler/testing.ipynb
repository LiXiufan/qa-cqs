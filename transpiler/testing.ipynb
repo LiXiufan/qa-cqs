{
 "cells": [
  {
   "metadata": {},
   "cell_type": "markdown",
   "source": "# IMPORT",
   "id": "3aa5ae233927d680"
  },
  {
   "metadata": {
    "ExecuteTime": {
     "end_time": "2025-02-28T06:52:16.040532Z",
     "start_time": "2025-02-28T06:52:08.203758Z"
    }
   },
   "cell_type": "code",
   "source": [
    "from __future__ import annotations\n",
    "from bqskit import Circuit, compile\n",
    "from bqskit.compiler.machine import MachineModel\n",
    "from bqskit.ir.gates import RXXGate, RXGate, RZGate,RYGate,RZZGate,HGate,CNOTGate\n",
    "from transpiler.BQSkit_custom_gate_definitions import VirtualZGate, GPIGate, GPI2Gate,PartialMSGate,FullMSGate\n",
    "from transpiler.QASM2_reader import load_qasm\n",
    "from bqskit.ext import bqskit_to_qiskit\n",
    "from qiskit_aer import AerSimulator\n",
    "from qiskit_aer.noise import NoiseModel, depolarizing_error\n",
    "from qiskit import transpile\n",
    "from qiskit.transpiler import Target, InstructionProperties\n",
    "import pennylane as qml\n",
    "import numpy as np"
   ],
   "id": "5239e8e15a8ef487",
   "outputs": [],
   "execution_count": 1
  },
  {
   "metadata": {
    "ExecuteTime": {
     "end_time": "2025-02-28T06:52:55.566240Z",
     "start_time": "2025-02-28T06:52:16.041530Z"
    }
   },
   "cell_type": "code",
   "source": [
    "# Step 1: Define the MS-Gate Machine Model\n",
    "IONQ_gate_set={PartialMSGate(),GPIGate(),GPI2Gate()}\n",
    "def transpile_to_ms(circuit: Circuit) -> Circuit:\n",
    "    \"\"\"Transpile the given circuit to use only MS gates.\"\"\"\n",
    "    model = MachineModel(circuit.num_qudits, gate_set=IONQ_gate_set)\n",
    "    compiled_circuit = compile(circuit, model, optimization_level=2)\n",
    "    return compiled_circuit\n",
    "\n",
    "# Step 2: Create a simple quantum circuit\n",
    "qc = Circuit(2)\n",
    "qc.append_gate(HGate(), [0])\n",
    "qc.append_gate(HGate(), [1])\n",
    "qc.append_gate(CNOTGate(), [1,0])\n",
    "qc.append_gate(RXGate(), [1],params=[1.1561])\n",
    "qc.append_gate(HGate(), [0])\n",
    "qc.append_gate(RZZGate(), [0, 1],params=[1])\n",
    "qc.append_gate(RYGate(), [1],params=[3])\n",
    "qc.append_gate(RXXGate(), [0,1],params=[2.14584545])\n",
    "\n",
    "    \n",
    "qc_qiskit = bqskit_to_qiskit(qc)\n",
    "\n",
    "# Step 3: Transpile the circuit to MS gates\n",
    "ms_circuit = transpile_to_ms(qc)"
   ],
   "id": "9e396da876811bda",
   "outputs": [],
   "execution_count": 2
  },
  {
   "metadata": {
    "ExecuteTime": {
     "end_time": "2025-02-28T06:52:57.866758Z",
     "start_time": "2025-02-28T06:52:55.569234Z"
    }
   },
   "cell_type": "code",
   "source": [
    "#SAVE QASM\n",
    "ms_circuit.save(\"circuit.qasm\")\n",
    "print(qc_qiskit.draw(output='text'))\n",
    "\n",
    "# Initialize the latest AerSimulator\n",
    "simulator = AerSimulator(method=\"statevector\")\n",
    "\n",
    "# Transpile the circuit for the simulator\n",
    "qc_transpiled = transpile(qc_qiskit, simulator)\n",
    "\n",
    "# Add instruction to save statevector\n",
    "qc_transpiled.save_statevector()\n",
    "\n",
    "# Run the circuit in statevector mode\n",
    "result = simulator.run(qc_transpiled).result()\n",
    "\n",
    "# Get the statevector\n",
    "statevector = result.get_statevector()\n",
    "\n",
    "# Print the statevector\n",
    "np.abs(np.array(statevector))**2"
   ],
   "id": "c982255169fce72a",
   "outputs": [
    {
     "name": "stdout",
     "output_type": "stream",
     "text": [
      "     ┌───┐┌───┐    ┌───┐                      ┌──────────────┐\n",
      "q_0: ┤ H ├┤ X ├────┤ H ├──────■───────────────┤0             ├\n",
      "     ├───┤└─┬─┘┌───┴───┴────┐ │ZZ(1) ┌───────┐│  Rxx(2.1458) │\n",
      "q_1: ┤ H ├──■──┤ Rx(1.1561) ├─■──────┤ Ry(3) ├┤1             ├\n",
      "     └───┘     └────────────┘        └───────┘└──────────────┘\n"
     ]
    },
    {
     "data": {
      "text/plain": [
       "array([0.10533642, 0.41539816, 0.12272557, 0.35653985])"
      ]
     },
     "execution_count": 3,
     "metadata": {},
     "output_type": "execute_result"
    }
   ],
   "execution_count": 3
  },
  {
   "metadata": {
    "ExecuteTime": {
     "end_time": "2025-02-28T06:52:57.911450Z",
     "start_time": "2025-02-28T06:52:57.868757Z"
    }
   },
   "cell_type": "code",
   "source": [
    "# Step 4: Transform to qiskit and print\n",
    "qiskit_circuit = load_qasm(\"circuit.qasm\")\n",
    "print(qiskit_circuit.draw(output='text'))\n"
   ],
   "id": "bfcbc85ccfef032",
   "outputs": [
    {
     "name": "stdout",
     "output_type": "stream",
     "text": [
      "4.247180323249896\n",
      "2.676383996455\n",
      "1.1055876696601032\n",
      "1.1145330881601763\n",
      "     ┌──────────────┐┌─────────────┐ ┌──────────────┐»\n",
      "q_0: ┤ Gpi(0.10272) ├┤ Gpi2(3.347) ├─┤ Gpi2(1.7762) ├»\n",
      "     ├──────────────┤├─────────────┴┐└──────────────┘»\n",
      "q_1: ┤ Gpi2(3.3094) ├┤ Gpi2(2.3437) ├────────────────»\n",
      "     └──────────────┘└──────────────┘                »\n",
      "«     ┌──────────────────────────────────┐┌─────────────┐»\n",
      "«q_0: ┤0                                 ├┤ Gpi(4.4979) ├»\n",
      "«     │  Partialms(2.4756,4.8491,1.1056) │├─────────────┤»\n",
      "«q_1: ┤1                                 ├┤ Gpi(1.0211) ├»\n",
      "«     └──────────────────────────────────┘└─────────────┘»\n",
      "«     ┌──────────────────────────────────┐┌─────────────┐┌──────────────┐»\n",
      "«q_0: ┤0                                 ├┤ Gpi(2.8029) ├┤ Gpi2(3.1416) ├»\n",
      "«     │  Partialms(4.8211,5.1766,1.1145) │├─────────────┤├──────────────┤»\n",
      "«q_1: ┤1                                 ├┤ Gpi(5.4717) ├┤ Gpi2(1.8021) ├»\n",
      "«     └──────────────────────────────────┘└─────────────┘└──────────────┘»\n",
      "«                     \n",
      "«q_0: ────────────────\n",
      "«     ┌──────────────┐\n",
      "«q_1: ┤ Gpi2(1.5708) ├\n",
      "«     └──────────────┘\n"
     ]
    }
   ],
   "execution_count": 4
  },
  {
   "metadata": {},
   "cell_type": "markdown",
   "source": "",
   "id": "1937f539446cabc7"
  },
  {
   "metadata": {},
   "cell_type": "markdown",
   "source": "# NOISE",
   "id": "35594a34321503b"
  },
  {
   "metadata": {
    "ExecuteTime": {
     "end_time": "2025-02-28T06:54:36.151402Z",
     "start_time": "2025-02-28T06:54:36.129086Z"
    }
   },
   "cell_type": "code",
   "source": [
    "# Convert Qiskit circuit to PennyLane\n",
    "qml_circuit = qml.from_qiskit(qiskit_circuit)\n",
    "np.abs(qml.matrix(qml_circuit, wire_order=[0, 1])().T[0])**2#check"
   ],
   "id": "3a199d60fcd966bd",
   "outputs": [
    {
     "data": {
      "text/plain": [
       "array([0.10533645, 0.12272555, 0.41539815, 0.35653985])"
      ]
     },
     "execution_count": 8,
     "metadata": {},
     "output_type": "execute_result"
    }
   ],
   "execution_count": 8
  },
  {
   "metadata": {
    "ExecuteTime": {
     "end_time": "2025-02-28T06:57:47.790695Z",
     "start_time": "2025-02-28T06:57:47.748029Z"
    }
   },
   "cell_type": "code",
   "source": [
    "def get_noisy_counts(qiskit_qc, noise_level_two_qubit, noise_level_one_qubit, readout_error):\n",
    "    # Convert the Qiskit quantum circuit into a PennyLane circuit\n",
    "    qml_circuit = qml.from_qiskit(qiskit_qc)\n",
    "\n",
    "    # Compute the adjusted noise level for single-qubit depolarizing channels in 2Q noise\n",
    "    noise_level_two_qubit_single_channel = noise_level_two_qubit * 3 / 4\n",
    "\n",
    "    # Get the number of qubits in the circuit\n",
    "    number_of_qubits = qiskit_qc.num_qubits\n",
    "\n",
    "    # Define a QNode using PennyLane's mixed-state simulator (supports noise)\n",
    "    @qml.qnode(qml.device(\"default.mixed\", wires=number_of_qubits))\n",
    "    def noisy_circuit():\n",
    "        # Convert the PennyLane circuit into a tape (sequence of operations)\n",
    "        tape = qml.transforms.make_tape(qml_circuit)()\n",
    "\n",
    "        # Iterate through all operations in the circuit\n",
    "        for op in tape.operations:\n",
    "            # Apply each gate as a unitary operation\n",
    "            qml.QubitUnitary(op.parameters[0], wires=op.wires)\n",
    "\n",
    "            # Apply **1-qubit depolarizing noise** after every 1-qubit gate\n",
    "            if len(op.wires) == 1:\n",
    "                qml.DepolarizingChannel(noise_level_one_qubit, wires=op.wires[0])\n",
    "\n",
    "            # Apply **2-qubit depolarizing noise** after two-qubit (MS) gates\n",
    "            if len(op.wires) == 2:\n",
    "                for qubit in op.wires:\n",
    "                    qml.DepolarizingChannel(noise_level_two_qubit_single_channel, wires=qubit)  # Adjusted probability\n",
    "\n",
    "        # Apply **readout error (bit flip) before measurement**\n",
    "        for qubit in range(number_of_qubits):\n",
    "            qml.BitFlip(readout_error, wires=qubit)\n",
    "\n",
    "        # Return the probability distribution over computational basis states\n",
    "        return qml.probs(wires=range(number_of_qubits))\n",
    "\n",
    "    # Run the noisy circuit simulation and return the result\n",
    "    noisy_result = noisy_circuit()\n",
    "    return noisy_result\n",
    "print(\"Noisy     simulation result:\", get_noisy_counts(qiskit_circuit, noise_level_two_qubit=0.02, noise_level_one_qubit=0.001, readout_error=0.05))\n",
    "\n",
    "print(\"Noiseless simulation result:\",np.abs(qml.matrix(qml_circuit, wire_order=[0, 1])().T[0])**2)#check"
   ],
   "id": "ec026fb11c967378",
   "outputs": [
    {
     "name": "stdout",
     "output_type": "stream",
     "text": [
      "Noisy     simulation result: [0.12613542 0.14111787 0.38952243 0.34322429]\n",
      "Noiseless simulation result: [0.10533645 0.12272555 0.41539815 0.35653985]\n"
     ]
    }
   ],
   "execution_count": 26
  },
  {
   "metadata": {
    "ExecuteTime": {
     "end_time": "2025-02-28T06:54:51.336074Z",
     "start_time": "2025-02-28T06:54:51.274458Z"
    }
   },
   "cell_type": "code",
   "source": "",
   "id": "805dbeeedf9e5a1",
   "outputs": [
    {
     "ename": "UFuncTypeError",
     "evalue": "ufunc 'absolute' did not contain a loop with signature matching types <class 'numpy.dtypes.StrDType'> -> None",
     "output_type": "error",
     "traceback": [
      "\u001B[1;31m---------------------------------------------------------------------------\u001B[0m",
      "\u001B[1;31mUFuncTypeError\u001B[0m                            Traceback (most recent call last)",
      "Cell \u001B[1;32mIn[10], line 1\u001B[0m\n\u001B[1;32m----> 1\u001B[0m \u001B[43mnp\u001B[49m\u001B[38;5;241;43m.\u001B[39;49m\u001B[43mabs\u001B[49m\u001B[43m(\u001B[49m\u001B[38;5;124;43m\"\u001B[39;49m\u001B[38;5;124;43mNoiseless simulation result:\u001B[39;49m\u001B[38;5;124;43m\"\u001B[39;49m\u001B[43m,\u001B[49m\u001B[43mqml\u001B[49m\u001B[38;5;241;43m.\u001B[39;49m\u001B[43mmatrix\u001B[49m\u001B[43m(\u001B[49m\u001B[43mqml_circuit\u001B[49m\u001B[43m,\u001B[49m\u001B[43m \u001B[49m\u001B[43mwire_order\u001B[49m\u001B[38;5;241;43m=\u001B[39;49m\u001B[43m[\u001B[49m\u001B[38;5;241;43m0\u001B[39;49m\u001B[43m,\u001B[49m\u001B[43m \u001B[49m\u001B[38;5;241;43m1\u001B[39;49m\u001B[43m]\u001B[49m\u001B[43m)\u001B[49m\u001B[43m(\u001B[49m\u001B[43m)\u001B[49m\u001B[38;5;241;43m.\u001B[39;49m\u001B[43mT\u001B[49m\u001B[43m[\u001B[49m\u001B[38;5;241;43m0\u001B[39;49m\u001B[43m]\u001B[49m\u001B[43m)\u001B[49m\u001B[38;5;241m*\u001B[39m\u001B[38;5;241m*\u001B[39m\u001B[38;5;241m2\u001B[39m\u001B[38;5;66;03m#check\u001B[39;00m\n",
      "\u001B[1;31mUFuncTypeError\u001B[0m: ufunc 'absolute' did not contain a loop with signature matching types <class 'numpy.dtypes.StrDType'> -> None"
     ]
    }
   ],
   "execution_count": 10
  },
  {
   "metadata": {
    "ExecuteTime": {
     "end_time": "2025-02-28T06:52:59.256850Z",
     "start_time": "2025-02-28T06:52:59.253061Z"
    }
   },
   "cell_type": "code",
   "source": "",
   "id": "caf64fc885ec272d",
   "outputs": [],
   "execution_count": 6
  },
  {
   "metadata": {},
   "cell_type": "code",
   "source": "",
   "id": "31ba7c93ade43e67",
   "outputs": [],
   "execution_count": null
  },
  {
   "metadata": {},
   "cell_type": "code",
   "outputs": [],
   "execution_count": null,
   "source": "",
   "id": "352b0fa132839ca2"
  }
 ],
 "metadata": {
  "kernelspec": {
   "display_name": "Python 3",
   "language": "python",
   "name": "python3"
  },
  "language_info": {
   "codemirror_mode": {
    "name": "ipython",
    "version": 2
   },
   "file_extension": ".py",
   "mimetype": "text/x-python",
   "name": "python",
   "nbconvert_exporter": "python",
   "pygments_lexer": "ipython2",
   "version": "2.7.6"
  }
 },
 "nbformat": 4,
 "nbformat_minor": 5
}
